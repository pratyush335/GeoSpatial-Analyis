{
 "cells": [
  {
   "cell_type": "markdown",
   "metadata": {},
   "source": [
    "# 3: Projections and Transformations\n",
    "\n",
    "This is the third practical session and now we're going to get into more of the geography-specific technical details. While this topic may seem less-glamorous than something on analysis, it's possibly the most important one if we want to make sure our analyses are accurate. There are lots of opportunities for pitfalls and errors to creep into our work when we deal with geographic coordinates. Here we will look at different geographic and projected coordinate reference systems. Then we will see how those are implemented with GeoPandas so that we can reproject GeoDataFrames.\n",
    "\n",
    "Objectives:\n",
    "* Know were to find coordinate reference system information\n",
    "* Identify key projections for working with world and U.K.-based datasets\n",
    "* Understand the potential distortions caused by certain projections\n",
    "* View, define, and reproject geospatial vector data\n"
   ]
  },
  {
   "cell_type": "code",
   "execution_count": 1,
   "metadata": {},
   "outputs": [],
   "source": [
    "# ! pip install geopandas contextily matplotlib"
   ]
  },
  {
   "cell_type": "code",
   "execution_count": 2,
   "metadata": {},
   "outputs": [],
   "source": [
    "# load packages\n",
    "import pyproj # used internally by GeoPandas, but we'll use this for a few initial tests\n",
    "import geopandas as gpd\n",
    "import math"
   ]
  },
  {
   "cell_type": "markdown",
   "metadata": {},
   "source": [
    "## Key definitions\n",
    "\n",
    "Recall from the presentation:\n",
    "1. **Projection** - a systematic transformation of coordinates. Typically a map projection relates latitudes and longitudes from the globe (3D) to a plane (2D) surface.\n",
    "2. **Coordinate Reference System (CRS)** - defines how map coordinates relate to actual places on the earth.\n",
    "3. **Ellipspoid** - a model of the approximate shape of the earth\n",
    "4. **Datum** - a reference frame for an ellipsoid, locating the center of the earth\n",
    "\n",
    "Note, these concepts aren't just for earth! There are a large set of coordinate systems for mapping things on mars and other planets, too."
   ]
  },
  {
   "cell_type": "markdown",
   "metadata": {},
   "source": [
    "## Coordinate reference systems\n",
    "\n",
    "Let's begin by looking at the information stored in a CRS. There are many different possible options, and remember that [https://spatialreference.org/](https://spatialreference.org/) is a good reference for finding more examples.\n",
    "\n",
    "We can load a CRS using `pyproj`."
   ]
  },
  {
   "cell_type": "code",
   "execution_count": 3,
   "metadata": {
    "scrolled": true
   },
   "outputs": [
    {
     "data": {
      "text/plain": [
       "<Geographic 2D CRS: EPSG:4326>\n",
       "Name: WGS 84\n",
       "Axis Info [ellipsoidal]:\n",
       "- Lat[north]: Geodetic latitude (degree)\n",
       "- Lon[east]: Geodetic longitude (degree)\n",
       "Area of Use:\n",
       "- name: World.\n",
       "- bounds: (-180.0, -90.0, 180.0, 90.0)\n",
       "Datum: World Geodetic System 1984 ensemble\n",
       "- Ellipsoid: WGS 84\n",
       "- Prime Meridian: Greenwich"
      ]
     },
     "execution_count": 3,
     "metadata": {},
     "output_type": "execute_result"
    }
   ],
   "source": [
    "# load a global, latitude/longitude CRS\n",
    "crs1 = pyproj.CRS.from_epsg(4326)\n",
    "\n",
    "crs1"
   ]
  },
  {
   "cell_type": "markdown",
   "metadata": {},
   "source": [
    "There are few things to notice in the code above. First, we're using an *EPSG* code in the `.from_epsg` function. This is the European Petroleum Survey Group's code numbers to reference to geographic coordinate system, and over the years, they've become the standard for referring to spatial reference systems. You can find more about these here: [https://epsg.org/home.html](https://epsg.org/home.html)\n",
    "\n",
    "Second, when we print the CRS, we see several lines with names and what look like parameters. Take a moment to look over these. The EPSG code we are using is *4326*. This is also named *WGS 84*. This is one of the most common CRS and you will encounter it frequently when working with latitude and longitude coordinates. Most GPS units by default map locations using WGS84.\n",
    "\n",
    "Also note, WGS84 is the name for an Ellipsoid. The names that we see in this CRS are pointing to their own files with parameter values for things like the prime meridian used, the semi-major and semi-minor axes of a ellipse used to model the shape of the earth.\n",
    "\n",
    "We see that the *ellipsoid* is listed. It also suggests a bounds. Certain CRS are only appropriate for small areas of interest. As you see, this one is for the entire globe as the bounding box extends from (-180, -90) to (180, 90)."
   ]
  },
  {
   "cell_type": "markdown",
   "metadata": {},
   "source": [
    "If we want to see the details of the parameters, we can convert the CRS object into a well-known text format."
   ]
  },
  {
   "cell_type": "code",
   "execution_count": 4,
   "metadata": {
    "scrolled": true
   },
   "outputs": [
    {
     "data": {
      "text/plain": [
       "'GEOGCRS[\"WGS 84\",ENSEMBLE[\"World Geodetic System 1984 ensemble\",MEMBER[\"World Geodetic System 1984 (Transit)\"],MEMBER[\"World Geodetic System 1984 (G730)\"],MEMBER[\"World Geodetic System 1984 (G873)\"],MEMBER[\"World Geodetic System 1984 (G1150)\"],MEMBER[\"World Geodetic System 1984 (G1674)\"],MEMBER[\"World Geodetic System 1984 (G1762)\"],MEMBER[\"World Geodetic System 1984 (G2139)\"],ELLIPSOID[\"WGS 84\",6378137,298.257223563,LENGTHUNIT[\"metre\",1]],ENSEMBLEACCURACY[2.0]],PRIMEM[\"Greenwich\",0,ANGLEUNIT[\"degree\",0.0174532925199433]],CS[ellipsoidal,2],AXIS[\"geodetic latitude (Lat)\",north,ORDER[1],ANGLEUNIT[\"degree\",0.0174532925199433]],AXIS[\"geodetic longitude (Lon)\",east,ORDER[2],ANGLEUNIT[\"degree\",0.0174532925199433]],USAGE[SCOPE[\"Horizontal component of 3D system.\"],AREA[\"World.\"],BBOX[-90,-180,90,180]],ID[\"EPSG\",4326]]'"
      ]
     },
     "execution_count": 4,
     "metadata": {},
     "output_type": "execute_result"
    }
   ],
   "source": [
    "crs1.to_wkt()"
   ]
  },
  {
   "cell_type": "markdown",
   "metadata": {},
   "source": [
    "The WKT information is what is stored in the `.prj` file associated with a shapefile.\n",
    "\n",
    "Let's try inspecting a few more examples using common EPSG codes:"
   ]
  },
  {
   "cell_type": "code",
   "execution_count": 5,
   "metadata": {},
   "outputs": [
    {
     "data": {
      "text/plain": [
       "<Derived Projected CRS: EPSG:27700>\n",
       "Name: OSGB36 / British National Grid\n",
       "Axis Info [cartesian]:\n",
       "- E[east]: Easting (metre)\n",
       "- N[north]: Northing (metre)\n",
       "Area of Use:\n",
       "- name: United Kingdom (UK) - offshore to boundary of UKCS within 49°45'N to 61°N and 9°W to 2°E; onshore Great Britain (England, Wales and Scotland). Isle of Man onshore.\n",
       "- bounds: (-9.0, 49.75, 2.01, 61.01)\n",
       "Coordinate Operation:\n",
       "- name: British National Grid\n",
       "- method: Transverse Mercator\n",
       "Datum: Ordnance Survey of Great Britain 1936\n",
       "- Ellipsoid: Airy 1830\n",
       "- Prime Meridian: Greenwich"
      ]
     },
     "execution_count": 5,
     "metadata": {},
     "output_type": "execute_result"
    }
   ],
   "source": [
    "# a popular system for the UK\n",
    "crs2 = pyproj.CRS.from_epsg(27700)\n",
    "\n",
    "crs2"
   ]
  },
  {
   "cell_type": "markdown",
   "metadata": {},
   "source": [
    "Unlike WGS84, we now have a *projected* coordinate system. It is not designed for mapping points on a globe, but for projected coordinates on a flat map. EPSG:27700 is the Ordnance Survey National Grid reference.\n",
    "\n",
    "This CRS gives us some more detailed information that we didn't see before. There is a *datum* as well as an *ellipsoid* specified. And there is a much smaller suggested area of use.\n",
    "\n",
    "Note especially the \"Axis Info\" section. When we are using *projected* coordinates we no longer have latitude and longitude *degrees*. These now become *eastings* and *northings*. Those measurements specify a distance away from an origin point. These measurements also have defined units: metres.\n",
    "\n",
    "As we will see in a moment, projected CRS are what we should use for accurate measurements of things like area or distance. The units of the CRS determine the default units when calculating geometry-related measurements.\n",
    "\n",
    "Another one:"
   ]
  },
  {
   "cell_type": "code",
   "execution_count": 6,
   "metadata": {
    "scrolled": true
   },
   "outputs": [
    {
     "data": {
      "text/plain": [
       "<Derived Projected CRS: EPSG:3857>\n",
       "Name: WGS 84 / Pseudo-Mercator\n",
       "Axis Info [cartesian]:\n",
       "- X[east]: Easting (metre)\n",
       "- Y[north]: Northing (metre)\n",
       "Area of Use:\n",
       "- name: World between 85.06°S and 85.06°N.\n",
       "- bounds: (-180.0, -85.06, 180.0, 85.06)\n",
       "Coordinate Operation:\n",
       "- name: Popular Visualisation Pseudo-Mercator\n",
       "- method: Popular Visualisation Pseudo Mercator\n",
       "Datum: World Geodetic System 1984 ensemble\n",
       "- Ellipsoid: WGS 84\n",
       "- Prime Meridian: Greenwich"
      ]
     },
     "execution_count": 6,
     "metadata": {},
     "output_type": "execute_result"
    }
   ],
   "source": [
    "# used by many web-mapping systems (e.g. Google maps)\n",
    "crs3 = pyproj.CRS.from_epsg(3857)\n",
    "\n",
    "crs3"
   ]
  },
  {
   "cell_type": "markdown",
   "metadata": {},
   "source": [
    "EPSG 3857 is used by many of the tiled map services. Despite covering the whole world, notice that this is, in fact, a projected coordinate system. It has eastings and northings. Google maps, and other sites like that, aren't globes and they have a lot of distortions around the poles because of using this projection, as we will see.\n",
    "\n",
    "In later practicals when we want to overlay our geographic data with some basemap imagery or if we want to work with web mapping, we'll need to remember to use this (or similar) projections."
   ]
  },
  {
   "cell_type": "code",
   "execution_count": 7,
   "metadata": {},
   "outputs": [
    {
     "data": {
      "text/plain": [
       "<Derived Projected CRS: EPSG:32618>\n",
       "Name: WGS 84 / UTM zone 18N\n",
       "Axis Info [cartesian]:\n",
       "- E[east]: Easting (metre)\n",
       "- N[north]: Northing (metre)\n",
       "Area of Use:\n",
       "- name: Between 78°W and 72°W, northern hemisphere between equator and 84°N, onshore and offshore. Bahamas. Canada - Nunavut; Ontario; Quebec. Colombia. Cuba. Ecuador. Greenland. Haiti. Jamaica. Panama. Turks and Caicos Islands. United States (USA). Venezuela.\n",
       "- bounds: (-78.0, 0.0, -72.0, 84.0)\n",
       "Coordinate Operation:\n",
       "- name: UTM zone 18N\n",
       "- method: Transverse Mercator\n",
       "Datum: World Geodetic System 1984 ensemble\n",
       "- Ellipsoid: WGS 84\n",
       "- Prime Meridian: Greenwich"
      ]
     },
     "execution_count": 7,
     "metadata": {},
     "output_type": "execute_result"
    }
   ],
   "source": [
    "# a popular global measurement system - place-secific\n",
    "crs4 = pyproj.CRS.from_epsg(32618)\n",
    "\n",
    "crs4"
   ]
  },
  {
   "cell_type": "markdown",
   "metadata": {},
   "source": [
    "The third example is part of the *Universal Transverse Mercator* or UTM projection. We saw an example of this in the lecture materials. UTM has a set of *zones* covering the globe in order to create a local *meridian* to improve the accuracy of local maps. Also notice the line about the Datum. UTM are built referencing the same WGS84 ellipsoid that we saw in the first example. \n",
    "\n",
    "There isn't a single \"UTM\" zone or projection for the entire globe. You need to know where (roughly) you are in order to get your UTM zone and the correct projection."
   ]
  },
  {
   "cell_type": "markdown",
   "metadata": {},
   "source": [
    "### Side track: Finding your UTM zone\n",
    "\n",
    "One of my colleagues recently asked me, \"I have a longitude/latitude location, how do I know which UTM zone to use?\" \n",
    "\n",
    "Yes, you can look up on some of the maps of zones and eyeball which one to use and then look up the EPSG code on the websites. But UTM are actually incredibly regular, so you can identify the zone (and the EPSG) code with a simple calculation."
   ]
  },
  {
   "cell_type": "code",
   "execution_count": 8,
   "metadata": {},
   "outputs": [],
   "source": [
    "# function to return the UTM EPSG\n",
    "def get_utm_zone(lon, lat):\n",
    "    utm_band = str((math.floor((lon + 180) / 6) % 60) + 1)\n",
    "    if len(utm_band) == 1:\n",
    "        utm_band = '0' + utm_band\n",
    "    if lat >= 0:\n",
    "        epsg_code = '326' + utm_band\n",
    "    else:\n",
    "        epsg_code = '327' + utm_band\n",
    "    return epsg_code            "
   ]
  },
  {
   "cell_type": "markdown",
   "metadata": {},
   "source": [
    "UTM zones are 6 degrees wide at the equator and there are 60 of them covering the globe. Some careful rounding and then differentiating northern vs. southern hemisphere codes. You can try substituting different coordinates in the function, too."
   ]
  },
  {
   "cell_type": "code",
   "execution_count": 9,
   "metadata": {},
   "outputs": [
    {
     "data": {
      "text/plain": [
       "'32630'"
      ]
     },
     "execution_count": 9,
     "metadata": {},
     "output_type": "execute_result"
    }
   ],
   "source": [
    "# test UTM function for the location of the UoS Geography Building\n",
    "zn = get_utm_zone(-1.399073, 50.934358)\n",
    "zn"
   ]
  },
  {
   "cell_type": "markdown",
   "metadata": {},
   "source": [
    "So this tells us that the UTM zone for my CurrSouthampton is zone 30. The UK actually spans UTM zones 29 to 31.\n",
    "[http://dmap.co.uk/utmworld.htm](http://dmap.co.uk/utmworld.htm)."
   ]
  },
  {
   "cell_type": "code",
   "execution_count": 10,
   "metadata": {},
   "outputs": [
    {
     "data": {
      "text/plain": [
       "<Derived Projected CRS: EPSG:32630>\n",
       "Name: WGS 84 / UTM zone 30N\n",
       "Axis Info [cartesian]:\n",
       "- E[east]: Easting (metre)\n",
       "- N[north]: Northing (metre)\n",
       "Area of Use:\n",
       "- name: Between 6°W and 0°W, northern hemisphere between equator and 84°N, onshore and offshore. Algeria. Burkina Faso. Côte' Ivoire (Ivory Coast). Faroe Islands - offshore. France. Ghana. Gibraltar. Ireland - offshore Irish Sea. Mali. Mauritania. Morocco. Spain. United Kingdom (UK).\n",
       "- bounds: (-6.0, 0.0, 0.0, 84.0)\n",
       "Coordinate Operation:\n",
       "- name: UTM zone 30N\n",
       "- method: Transverse Mercator\n",
       "Datum: World Geodetic System 1984 ensemble\n",
       "- Ellipsoid: WGS 84\n",
       "- Prime Meridian: Greenwich"
      ]
     },
     "execution_count": 10,
     "metadata": {},
     "output_type": "execute_result"
    }
   ],
   "source": [
    "# print UTM zone 30 CRS info\n",
    "pyproj.CRS.from_epsg(zn)"
   ]
  },
  {
   "cell_type": "markdown",
   "metadata": {},
   "source": [
    "## Which CRS or projection to use?\n",
    "\n",
    "This is a common question for people starting out working with spatial data. There isn't one correct answer. Most of the time you will receive data and it will already have a CRS and/or projection defined. If you know you are working in a particular country (or state in the U.S.) you may want to re-project to a local system. It will depend on what sort of analyses you want to do.\n",
    "\n",
    "In much of the rest of this practical we will try to demonstrate the tradeoffs and decisions you will need to make in order to which CRS and projection to use."
   ]
  },
  {
   "cell_type": "markdown",
   "metadata": {},
   "source": [
    "## Reprojecting geographic data\n",
    "\n",
    "Let's imagine that we have some geographic data: a point with latitude and longitude coordinates. We're now going to see how these CRS files can be used to move between a geographic and a projected coordinate reference system.\n",
    "\n",
    "We will start by doing a coordinate transformation manually. Then we'll move on to using the tools in `pyproj`. Then it will be time to return to `GeoPandas` and bring in a full `GeoDataFrame` of data."
   ]
  },
  {
   "cell_type": "markdown",
   "metadata": {},
   "source": [
    "### Manual reprojection example\n",
    "\n",
    "Note: this is just a demonstration. Don't worry if the details of the functions aren't clear, and you won't need them to complete the practicals. To see more of this process explained, check out this reference: [http://fgg-web.fgg.uni-lj.si/~/mkuhar/Zalozba/TM_projection.pdf](http://fgg-web.fgg.uni-lj.si/~/mkuhar/Zalozba/TM_projection.pdf)\n",
    "\n",
    "First we'll define a few functions."
   ]
  },
  {
   "cell_type": "code",
   "execution_count": null,
   "metadata": {},
   "outputs": [],
   "source": [
    "# based on: https://scipython.com/book/chapter-2-the-core-python-language-i/additional-problems/converting-between-an-os-grid-reference-and-longitudelatitude/\n",
    "# initial parameter steps\n",
    "def fM(phi, a, b):\n",
    "    \"\"\"Return the parameter M for latitude phi using ellipsoid params a, b.\"\"\"\n",
    "\n",
    "    n = (a-b)/(a+b)\n",
    "    n2 = n**2\n",
    "    n3 = n * n2\n",
    "    dphi, sphi = phi - phi0, phi + phi0\n",
    "    M = b * F0 * (\n",
    "            (1 + n + 5/4 * (n2+n3)) * dphi\n",
    "          - (3*n + 3*n2 + 21/8 * n3) * math.sin(dphi) * math.cos(sphi)\n",
    "          + (15/8 * (n2 + n3)) * math.sin(2*dphi) * math.cos(2*sphi)\n",
    "          - (35/24 * n3 * math.sin(3*dphi) * math.cos(3*sphi))\n",
    "        )\n",
    "    return M\n",
    "\n",
    "# key parameters\n",
    "def get_prms(phi, a, F0, e2):\n",
    "    \"\"\"Calculate and return the parameters rho, nu, and eta2.\"\"\"\n",
    "\n",
    "    rho = a * F0 * (1-e2) * (1-e2*math.sin(phi)**2)**-1.5\n",
    "    nu = a * F0 / math.sqrt(1-e2*math.sin(phi)**2)\n",
    "    eta2 = nu/rho - 1\n",
    "    return rho, nu, eta2\n",
    "\n",
    "# main conversion function\n",
    "def ll_to_os(phi, lam, datum='osgb36'):\n",
    "    \"\"\"Convert from latitude and longitude to OS grid reference (E, N).\n",
    "\n",
    "    Latitude, phi, and longitude, lambda, are to be provided in degrees.\n",
    "\n",
    "    \"\"\"\n",
    "\n",
    "    phi, lam = math.radians(phi), math.radians(lam)\n",
    "    a, b = datum_ellipsoid[datum]['a'], datum_ellipsoid[datum]['b']\n",
    "    e2 = (a**2 - b**2)/a**2\n",
    "    rho, nu, eta2 = get_prms(phi, a, F0, e2)\n",
    "    M = fM(phi, a, b)\n",
    "\n",
    "    sin_phi = math.sin(phi)\n",
    "    cos_phi = math.cos(phi)\n",
    "    cos_phi2 = cos_phi**2\n",
    "    cos_phi3 = cos_phi2 * cos_phi\n",
    "    cos_phi5 = cos_phi3 * cos_phi2\n",
    "    tan_phi2 = math.tan(phi)**2\n",
    "    tan_phi4 = tan_phi2 * tan_phi2\n",
    "\n",
    "    a1 = M + N0\n",
    "    a2 = nu/2 * sin_phi * cos_phi\n",
    "    a3 = nu/24 * sin_phi * cos_phi3 * (5 - tan_phi2 + 9*eta2)\n",
    "    a4 = nu/720 * sin_phi * cos_phi5 * (61 - 58*tan_phi2 + tan_phi4)\n",
    "    b1 = nu * cos_phi\n",
    "    b2 = nu/6 * cos_phi3 * (nu/rho - tan_phi2)\n",
    "    b3 = nu/120 * cos_phi5 * (5 - 18*tan_phi2 + tan_phi4 + eta2*(14 -\n",
    "                              58*tan_phi2))\n",
    "    lml0 = lam - lambda0\n",
    "    lml02 = lml0**2\n",
    "    N = a1 + lml02 * (a2 + lml02*(a3 + a4*lml02))\n",
    "    E = E0 + lml0 * (b1 + lml02*(b2 + b3*lml02))\n",
    "    return E, N"
   ]
  },
  {
   "cell_type": "markdown",
   "metadata": {},
   "source": [
    "Next we need to define a few constants describing the different parameters of the Ellipsoids. This is the kind of information stored in those CRS files that are referenced by `pyproj`."
   ]
  },
  {
   "cell_type": "code",
   "execution_count": null,
   "metadata": {},
   "outputs": [],
   "source": [
    "# Ellipsoid parameters for different datums (m): semi-major axis, a, and\n",
    "# semi-minor axis, b.\n",
    "datum_ellipsoid = {\n",
    "    # Airy 1830 ellipsoid\n",
    "    'osgb36': {'a': 6.377563396e6,\n",
    "               'b': 6.356256909e6\n",
    "              },\n",
    "    # WGS84 ellipsoid parameters\n",
    "    'wgs84':  {'a': 6.378137e6,\n",
    "               'b': 6.3567523141e6\n",
    "              },\n",
    "    }\n",
    "\n",
    "# Transverse Mercator projection parameters: Map coordinates of true origin,\n",
    "# (E0, N0), scale factor on central meridian, F0, true origin (phi0, lambda0).\n",
    "N0 = -100000\n",
    "E0 = 400000\n",
    "F0 = 0.9996012717\n",
    "phi0 = math.radians(49)\n",
    "lambda0 = math.radians(-2)"
   ]
  },
  {
   "cell_type": "markdown",
   "metadata": {},
   "source": [
    "But these equations are **MISSING** something. To make them simpler they assume that the two CRS are using the same *datum*. Remember that Datums help to provide a reference for the ellipsoid model of the earth. By not including a datum transformation it means there will be slight inaccuracies when we move from something like WGS84 to the OS National Grid because they assume specific datum characteristics. Specifically, EPSG 27700 uses OSGB 1936 ellipsoid with Airy 1830 datum. \n",
    "\n",
    "Let's use the location of the UoS Geography building again to test our functions."
   ]
  },
  {
   "cell_type": "code",
   "execution_count": null,
   "metadata": {},
   "outputs": [],
   "source": [
    "# convert lat, lon (phi, lambda) to OS Eastings, Northings\n",
    "# note the order of the coordinates\n",
    "ll_to_os(50.934358, -1.399073)\n",
    "\n",
    "# remember, these units are now in metres"
   ]
  },
  {
   "cell_type": "markdown",
   "metadata": {},
   "source": [
    "### Reprojecting example with `pyproj`\n",
    "\n",
    "The previous example of calculating the transformation is complicated and there are lots of opportunities for us to make mistakes. There are also lots of small details to remember like datums and ellipsoids and transformations.\n",
    "\n",
    "Luckily, we rarely will ever need to do this kind of reprojection step manually and we have many tools to make this sort of thing easier. Let's now repeat this transformation using `pyproj`."
   ]
  },
  {
   "cell_type": "markdown",
   "metadata": {},
   "source": [
    "First, create a `pyproj.Transformer` that controls the reprojection between two defined CRS. Here we will EPSG codes that we've already seen before."
   ]
  },
  {
   "cell_type": "code",
   "execution_count": null,
   "metadata": {},
   "outputs": [],
   "source": [
    "from pyproj import Transformer\n",
    "# create a transformer object\n",
    "# using the EPSG codes again\n",
    "transformer = Transformer.from_crs(4326, 27700, always_xy=True)\n",
    "# the `always_xy` argument enforces lon, lat order \n",
    "\n",
    "# alternatively, we could have use the saved CRS objects from above, (e.g. crs3) instead of EPSG codes"
   ]
  },
  {
   "cell_type": "code",
   "execution_count": null,
   "metadata": {},
   "outputs": [],
   "source": [
    "# it's simple to use the transformer with a coordinate pair!\n",
    "# note the order of lon, lat which is different from our manual function\n",
    "transformer.transform(-1.399073, 50.934358)"
   ]
  },
  {
   "cell_type": "markdown",
   "metadata": {},
   "source": [
    "Compare this result with the manual calculation we just did. \n",
    "\n",
    "Very close! As noted above, the difference is coming mainly because `pyproj` knows to apply the correct transformation when switching the datums."
   ]
  },
  {
   "cell_type": "markdown",
   "metadata": {},
   "source": [
    "## Coordinate reference systems in `GeoPandas`\n",
    "\n",
    "The tools with `GeoPandas` makes working with coordinate reference systems relatively easy. When data are read into a `GeoDataFrame` the CRS information should automatically be added from the file."
   ]
  },
  {
   "cell_type": "code",
   "execution_count": null,
   "metadata": {},
   "outputs": [],
   "source": [
    "# read in a sample dataset\n",
    "world = gpd.read_file(gpd.datasets.get_path('naturalearth_lowres'))"
   ]
  },
  {
   "cell_type": "code",
   "execution_count": null,
   "metadata": {},
   "outputs": [],
   "source": [
    "# retrieve the CRS information\n",
    "world.crs"
   ]
  },
  {
   "cell_type": "markdown",
   "metadata": {},
   "source": [
    "In this example, we can access the CRS through the `.crs` attribute of a GeoDataFrame. These data happen to be in EPSG:4326, or WGS 1984, which we saw in the section above."
   ]
  },
  {
   "cell_type": "markdown",
   "metadata": {},
   "source": [
    "What if we tried to modify that attribute?"
   ]
  },
  {
   "cell_type": "code",
   "execution_count": null,
   "metadata": {},
   "outputs": [],
   "source": [
    "# create a (deep) copy\n",
    "world_cpy = world.copy()\n",
    "# set the `.crs` to something else\n",
    "world_cpy.crs = pyproj.CRS.from_epsg(3857)\n",
    "\n",
    "world_cpy.crs"
   ]
  },
  {
   "cell_type": "markdown",
   "metadata": {},
   "source": [
    "Python let's us do this, but **THIS IS INCORRECT**. The data have not been transformed, but GeoPandas now thinks the degrees of latitude and longitude are measurements taken in metres. We've shrunk the entire world!\n",
    "\n",
    "The only time you might need to do this kind of assignment of a CRS is if the data you receive are missing the .prj file."
   ]
  },
  {
   "cell_type": "markdown",
   "metadata": {},
   "source": [
    "Now let's try doing this coordinate transformation the correct way by reprojecting these data."
   ]
  },
  {
   "cell_type": "code",
   "execution_count": null,
   "metadata": {},
   "outputs": [],
   "source": [
    "# create a new GeoDataFrame to store the results so we can compare\n",
    "# project to Web Mercator (EPSG:3857)\n",
    "world_wm = world.to_crs(epsg=3857)  # can also use: .to_crs(\"EPSG:3857\")"
   ]
  },
  {
   "cell_type": "code",
   "execution_count": null,
   "metadata": {},
   "outputs": [],
   "source": [
    "# compare the results\n",
    "world_wm.crs"
   ]
  },
  {
   "cell_type": "code",
   "execution_count": null,
   "metadata": {},
   "outputs": [],
   "source": [
    "# Let's compare some of the coordinates\n",
    "print(world.geometry.head())"
   ]
  },
  {
   "cell_type": "code",
   "execution_count": null,
   "metadata": {
    "scrolled": true
   },
   "outputs": [],
   "source": [
    "# and after projections\n",
    "print(world_wm.geometry.head())"
   ]
  },
  {
   "cell_type": "markdown",
   "metadata": {},
   "source": [
    "Notice the numbers are completely different now. The decimal degrees of latitude/longitude have been transformed into metres. This is the basic fact why the CRS is so important - if you want to overlay two datasets or to interact with them, you have to consider how they map their location on earth. Otherwise there will be problems in your analyses."
   ]
  },
  {
   "cell_type": "markdown",
   "metadata": {},
   "source": [
    "The difference in these maps is even more apparent when we visualise them side-by-side. This also gives us an opportunity to test out how to manipulate multiple plots, which we will do more of later."
   ]
  },
  {
   "cell_type": "code",
   "execution_count": null,
   "metadata": {},
   "outputs": [],
   "source": [
    "%matplotlib inline\n",
    "import matplotlib.pyplot as plt\n",
    "\n",
    "# start sub-plots for side-by-side maps\n",
    "fig, (ax1, ax2) = plt.subplots(nrows=1, ncols=2, figsize=(12, 8))\n",
    "\n",
    "# plot the original data\n",
    "world.plot(ax=ax1)\n",
    "ax1.set_title(\"WGS 84\")\n",
    "\n",
    "# plot the reprojected data\n",
    "world_wm.plot(ax=ax2)\n",
    "ax2.set_title(\"Web Mercator\")\n",
    "\n",
    "# remove whitespace\n",
    "plt.tight_layout"
   ]
  },
  {
   "cell_type": "markdown",
   "metadata": {},
   "source": [
    "In the above figure, we start to see some of those distortions that are introduced by using projections."
   ]
  },
  {
   "cell_type": "markdown",
   "metadata": {},
   "source": [
    "### Testing different `CRS`\n",
    "\n",
    "Based on the examples above, try reprojecting and then plotting the `world` dataset into a few of the other CRS using `.to_crs`. Store the reprojected datasets in new GeoDataFrames so we can compare them in the next section. You can use the EPSG codes that we tested above, or look for some others."
   ]
  },
  {
   "cell_type": "code",
   "execution_count": null,
   "metadata": {},
   "outputs": [],
   "source": [
    "# Try some different options here\n",
    "\n",
    "#"
   ]
  },
  {
   "cell_type": "code",
   "execution_count": null,
   "metadata": {},
   "outputs": [],
   "source": [
    "# Try some different options here\n",
    "\n",
    "#"
   ]
  },
  {
   "cell_type": "markdown",
   "metadata": {},
   "source": [
    "Experiment 2: what happens when you use a local UTM projection on a global dataset? (absolutely huge distortion, globally. Great locally)"
   ]
  },
  {
   "cell_type": "code",
   "execution_count": null,
   "metadata": {},
   "outputs": [],
   "source": [
    "# use the UTM zone we calculated above for Southampton\n",
    "world_utm = world.to_crs(32630)\n",
    "\n",
    "world_utm.plot()"
   ]
  },
  {
   "cell_type": "markdown",
   "metadata": {},
   "source": [
    "## Distortions in projections\n",
    "\n",
    "We've already seen that the choice of projection can impact the appearance of the map. Certain projections distort parts of the globe, stretching them much larger than they are actually."
   ]
  },
  {
   "cell_type": "markdown",
   "metadata": {},
   "source": [
    "### Measuring areas\n",
    "\n",
    "The distortions also show up when we're trying to calculate certain attributes of the spatial datasets. Here we will look at the area measurements, and in a later lesson we'll look at distance in more detail.\n",
    "\n",
    "Remember that some projections are optimised to preserve certain properties, like area."
   ]
  },
  {
   "cell_type": "code",
   "execution_count": null,
   "metadata": {},
   "outputs": [],
   "source": [
    "# check the initial area estimates for the UK\n",
    "world.loc[world.name=='United Kingdom'].area"
   ]
  },
  {
   "cell_type": "code",
   "execution_count": null,
   "metadata": {
    "scrolled": true
   },
   "outputs": [],
   "source": [
    "# compare this with one of the projected coordinate systems\n",
    "world_wm.loc[world_wm.name=='United Kingdom'].area  # units in sq. m"
   ]
  },
  {
   "cell_type": "markdown",
   "metadata": {},
   "source": [
    "These area results will now be in the units of the CRS. Of course, if we want a really accurate area measurement then we also need to consider the scale of our data. These country shapes have been generalised - the edges are simplified - so they aren't the best data to use to make a really accurate area measurement. "
   ]
  },
  {
   "cell_type": "code",
   "execution_count": null,
   "metadata": {},
   "outputs": [],
   "source": [
    "# compare the area calculations with some of your projected datasets that you tested above.\n",
    "\n",
    "#"
   ]
  },
  {
   "cell_type": "markdown",
   "metadata": {},
   "source": [
    "### Global coordinate systems\n",
    "\n",
    "Thus far we have been most concerned about plotting 2D maps and the distortions in them. Is it possible to plot data so that it looks more 3D? \n",
    "\n",
    "For that we need something called an \"orthographic\" projection. An orthographic projection is one that adds perspective to a plot so that it appears more three-dimensional."
   ]
  },
  {
   "cell_type": "markdown",
   "metadata": {},
   "source": [
    "This example starts by defining a custom CRS using a `proj` string. WKT formats or EPSG codes are a more consistent and accurate way to get the correct CRS and are recommended for typical uses. This alternative allows us to specify some very specific parameters.\n",
    "\n",
    "For more information see the library site: [https://proj.org/](https://proj.org/)."
   ]
  },
  {
   "cell_type": "code",
   "execution_count": null,
   "metadata": {},
   "outputs": [],
   "source": [
    "# create a custom proj string\n",
    "# based on https://automating-gis-processes.github.io/site/notebooks/LS/projections.html\n",
    "ortho = pyproj.CRS.from_proj4(\"+proj=ortho +lat_0=50.00 +lon_0=-1.13 +x_0=0 +y_0=0 +a=6370997 +b=6370997 +units=m +no_defs\")\n",
    "# I have set the central point to be approximately over Southampton (50, -1.1)"
   ]
  },
  {
   "cell_type": "code",
   "execution_count": null,
   "metadata": {
    "scrolled": true
   },
   "outputs": [],
   "source": [
    "# reproject the world and plot\n",
    "world_ortho = world.to_crs(ortho)\n",
    "\n",
    "world_ortho.plot()\n",
    "\n",
    "plt.axis('off')\n",
    "plt.title(\"Orthographic\")"
   ]
  },
  {
   "cell_type": "markdown",
   "metadata": {},
   "source": [
    "Finished!"
   ]
  }
 ],
 "metadata": {
  "kernelspec": {
   "display_name": "Python 3",
   "language": "python",
   "name": "python3"
  },
  "language_info": {
   "codemirror_mode": {
    "name": "ipython",
    "version": 3
   },
   "file_extension": ".py",
   "mimetype": "text/x-python",
   "name": "python",
   "nbconvert_exporter": "python",
   "pygments_lexer": "ipython3",
   "version": "3.8.8"
  }
 },
 "nbformat": 4,
 "nbformat_minor": 4
}
