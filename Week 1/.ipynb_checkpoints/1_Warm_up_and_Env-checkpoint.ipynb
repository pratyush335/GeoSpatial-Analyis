{
 "cells": [
  {
   "cell_type": "markdown",
   "metadata": {
    "id": "_gmIzVzQSxbL"
   },
   "source": [
    "#  1: Warm-up and Env\n",
    "\n",
    "This first practical is designed to give you a quick introduction to the set-up of our practicals. It will use a few, small spatial datasets to show what is possible in just a few short lines of Python code. It's also designed to do a \"shake down\" of the system and make sure your environments and data paths are all working correctly. \n",
    "\n",
    "There will be less of an emphasis on the details of the code during this practical, but we will revisit some of these steps later in the workshop when we talk about spatial operations and analysis techniques."
   ]
  },
  {
   "cell_type": "markdown",
   "metadata": {
    "id": "MwlwX7YjSxbU"
   },
   "source": [
    "## Import/Install the core packages"
   ]
  },
  {
   "cell_type": "code",
   "execution_count": null,
   "metadata": {
    "id": "051yDvp7SxbV"
   },
   "outputs": [],
   "source": [
    "! pip install geopandas contextily matplotlib"
   ]
  },
  {
   "cell_type": "markdown",
   "metadata": {
    "id": "pIIZS3KHSxbZ"
   },
   "source": [
    "## Load a sample dataset provided by GeoPandas"
   ]
  },
  {
   "cell_type": "code",
   "execution_count": null,
   "metadata": {
    "id": "R4ZXdItPSxbb"
   },
   "outputs": [],
   "source": [
    "import geopandas as gpd\n",
    "import contextily as ctx\n",
    "import matplotlib.pyplot as plt"
   ]
  },
  {
   "cell_type": "code",
   "execution_count": null,
   "metadata": {
    "id": "5eXrMci7Sxbc",
    "scrolled": true
   },
   "outputs": [],
   "source": [
    "# if you have GeoPandas installed correctly, this should load without error\n",
    "nyc = gpd.read_file(gpd.datasets.get_path('nybb'))"
   ]
  },
  {
   "cell_type": "code",
   "execution_count": null,
   "metadata": {
    "id": "krGjrJBoSxbd"
   },
   "outputs": [],
   "source": [
    "# examine the data - this a special type of Dataframe\n",
    "type(nyc)"
   ]
  },
  {
   "cell_type": "code",
   "execution_count": null,
   "metadata": {
    "id": "qOAusOr1Sxbf"
   },
   "outputs": [],
   "source": [
    "# examine the initial table of data\n",
    "nyc.head()"
   ]
  },
  {
   "cell_type": "code",
   "execution_count": null,
   "metadata": {
    "id": "emPVkMRySxbg"
   },
   "outputs": [],
   "source": [
    "# the spatial projection information\n",
    "# we have a whole practical on this, so for now just understand that a crs (coordinate reference system)attribute exists\n",
    "nyc.crs\n",
    "\n",
    "#WGS84 aka EPSG:4326"
   ]
  },
  {
   "cell_type": "code",
   "execution_count": null,
   "metadata": {
    "id": "6j8GZ9UKSxbi"
   },
   "outputs": [],
   "source": [
    "# examine a basic plot of the shapes\n",
    "nyc.plot()  # one line to make a simple map!"
   ]
  },
  {
   "cell_type": "markdown",
   "metadata": {
    "id": "5Z_t-OO9Sxbk"
   },
   "source": [
    "### What is visible in these outputs?\n",
    "\n",
    "We started off with what, at first, looks and feels like a normal `DataFrame` - a table of data with observations in the rows and different types of values in the columns. We can see, however, that we have a slightly different kind of `DataFrame` now. This is a GeoPandas `GeoDataFrame` with a few added, important **attributes**. It has all the functionality of a `pandas` DataFrame and extends it in a few new ways. The most notable extension is by adding a column called **'geometry'**.\n",
    "\n",
    "As we just saw, we can make a quick plot of that geometry information with `.plot()`. "
   ]
  },
  {
   "cell_type": "markdown",
   "metadata": {
    "id": "MSswMDVlSxbl"
   },
   "source": [
    "## Improving the map\n",
    "\n",
    "Let's now take a few steps to enhance that simple plot and see what else we can do with with map of NYC.\n",
    "\n",
    "The code below will download a few tiles from internet, so it may take a couple moments to load."
   ]
  },
  {
   "cell_type": "code",
   "execution_count": null,
   "metadata": {
    "id": "UnBE5sZuSxbm"
   },
   "outputs": [],
   "source": [
    "# reproject to align with tiles\n",
    "# we will return and explain this in another practical\n",
    "nyc_merc = nyc.to_crs(epsg=3857)\n",
    "\n",
    "# create the axis object and start a plot\n",
    "ax = nyc_merc.plot(color='None', \n",
    "                   edgecolor='red',\n",
    "                   linewidth=2,\n",
    "                   figsize=(10,10))\n",
    "# add basemap imagery\n",
    "ctx.add_basemap(ax,\n",
    "                source=ctx.providers.Stamen.Toner)"
   ]
  },
  {
   "cell_type": "markdown",
   "metadata": {
    "id": "5v1UkJHCSxbo"
   },
   "source": [
    "This is an example of a relatively simple and quick map that can be produced. We **overlayed** a set of polygon data on top of tiles of a pre-made basemap which gives a nice background and context for our data."
   ]
  },
  {
   "cell_type": "markdown",
   "metadata": {
    "id": "N61_EI-JSxbp"
   },
   "source": [
    "## Recap and Summary\n",
    "What did we find?\n",
    "\n",
    "* introduced the core data structure that we will use (**GeoDataFrame**)\n",
    "* saw how to access some of the key attributes of data and make a simple plot\n",
    "* improved our plotting with just a few more lines of code and using the `contextily` package\n",
    "\n",
    "We're going to explore these basic steps in the next practicals and work towards supporting you to analyse your own datasets."
   ]
  },
  {
   "cell_type": "code",
   "execution_count": null,
   "metadata": {
    "id": "-EX8eOJNSxbq"
   },
   "outputs": [],
   "source": []
  }
 ],
 "metadata": {
  "colab": {
   "provenance": []
  },
  "kernelspec": {
   "display_name": "Python 3",
   "language": "python",
   "name": "python3"
  },
  "language_info": {
   "codemirror_mode": {
    "name": "ipython",
    "version": 3
   },
   "file_extension": ".py",
   "mimetype": "text/x-python",
   "name": "python",
   "nbconvert_exporter": "python",
   "pygments_lexer": "ipython3",
   "version": "3.8.8"
  }
 },
 "nbformat": 4,
 "nbformat_minor": 1
}
