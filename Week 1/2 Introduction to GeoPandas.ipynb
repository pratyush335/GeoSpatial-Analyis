{
 "cells": [
  {
   "cell_type": "markdown",
   "metadata": {},
   "source": [
    "# 2: Python GeoPandas and Geospatial Vector Data\n",
    "\n",
    "In this second practical session we will begin more hands-on work with geospatial *vector* data (i.e. points, lines, and polygons). We will also introduce the `GeoPandas` package and explore some of its key features for working with this type of data.\n",
    "\n",
    "Objectives:\n",
    "* Read/write spatial vector datasets in different formats\n",
    "* Create/convert/view geometry data\n",
    "* Produce basic plots of spatial data\n",
    "\n",
    "Let's get started."
   ]
  },
  {
   "cell_type": "code",
   "execution_count": 1,
   "metadata": {},
   "outputs": [],
   "source": [
    "# ! pip install geopandas contextily matplotlib"
   ]
  },
  {
   "cell_type": "code",
   "execution_count": 2,
   "metadata": {},
   "outputs": [],
   "source": [
    "# load main packages\n",
    "import geopandas as gpd\n",
    "import pandas as pd"
   ]
  },
  {
   "cell_type": "markdown",
   "metadata": {},
   "source": [
    "## Overview and helpful links\n",
    "\n",
    "Remember that GeoPandas is a developing project that makes dealing with geospatial data in Python much easier. It leverages components from several other projects, including `pandas`, `shapely`, and `fiona`. \n",
    "\n",
    "To learn more and to find the documentation to these projects following these links:\n",
    "* GeoPandas\n",
    "    * [https://geopandas.org/](https://geopandas.org/)\n",
    "    * [https://geopandas.readthedocs.io/en/latest/](https://geopandas.readthedocs.io/en/latest/)\n",
    "* pandas - for DataFrames\n",
    "    * [https://pandas.pydata.org/](https://pandas.pydata.org/)\n",
    "* shapely - for geometry\n",
    "    * [https://shapely.readthedocs.io/en/latest/](https://shapely.readthedocs.io/en/latest/)\n",
    "* fiona - for file I/O\n",
    "    * [https://fiona.readthedocs.io/en/latest/](https://fiona.readthedocs.io/en/latest/)\n",
    "\n",
    "Under the hood, these packages rely on other libraries like GDAL/OGR ([https://www.osgeo.org/projects/gdal/](https://www.osgeo.org/projects/gdal/)) and proj ([https://www.osgeo.org/projects/proj/](https://www.osgeo.org/projects/proj/)).\n",
    "\n",
    "Refer back to the documentation as you explore the practicals during this workshop. There are many helpful features and we won't be able to cover everything.\n"
   ]
  },
  {
   "cell_type": "markdown",
   "metadata": {},
   "source": [
    "### Background on working with tabular data\n",
    "\n",
    "The practicals will try to give enough guidance and examples of working with different data types, but if you have less experience with `pandas` you may want to refer back to some of the other tutorials for additional help along the way.\n",
    "\n",
    "* [https://pandas.pydata.org/pandas-docs/stable/getting_started/tutorials.html](https://pandas.pydata.org/pandas-docs/stable/getting_started/tutorials.html)"
   ]
  },
  {
   "cell_type": "markdown",
   "metadata": {},
   "source": [
    "## Geospatial vector data\n",
    "\n",
    "There are different mathematical data models that can be used to represent objects, surfaces, or other geographic phenomena. These specify how data are defined, organised, updated, and queried. The *vector* data model is one example and, as we discussed in the lecture, it is usually contrasted with the *raster* data model.\n",
    "\n",
    "Vector data represent features whose geometry can consist of:\n",
    "* Points - a vertex or position in space with X, Y, and optionally Z coordinates\n",
    "\n",
    "* Lines - sets of vertices linked by paths where the start and ending point are not linked\n",
    "\n",
    "* Polygons - a closed shape formed by a set of vertices and paths in a set order, where the start and ending point are the same\n",
    "\n",
    "Don't confuse the data model with a specific file format. There are now several different file formats that can be used to store geospatial vector data (see also: [https://en.wikipedia.org/wiki/GIS_file_formats](https://en.wikipedia.org/wiki/GIS_file_formats)).\n",
    "\n",
    "The *shapefile* is still a well-known and common file format because it is used by a major GIS software company (ESRI). Other common formats you're likely to encounter are: *geopackages* and *GeoJSON* files. You might notice that the files we're using in the `\\data` directory are usually compressed (&ast;.zip). This is mostly for convenience of storing them on Github. Working with your own data you may want to leave them unzipped.\n",
    "\n",
    "Try unzipping one of the shapefiles (&ast;.shp.zip) on your computer. You will see that it isn't just one file, but a collection of several files. These contain either the geometry, the attributes, a spatial index, coordinate information. And you have to keep them all together and named the same.\n",
    "\n",
    "If you open one of the geopackages (&ast;.gpkg) and inspect it, you will see that inside is actually a SQLite database (which adhere to certain standards: [https://www.geopackage.org/](https://www.geopackage.org/)). There are many ways to work with vector data files, and we're going to focus on using `GeoPandas` within Python.\n",
    "\n",
    "Regardless of the file format of the vector data, `fiona` makes it easy to read into GeoPandas using the `geopandas.read_file` command.\n"
   ]
  },
  {
   "cell_type": "code",
   "execution_count": 9,
   "metadata": {},
   "outputs": [],
   "source": [
    "# load an example of vector data\n",
    "# we will use a set of US states from the US Census Bureau\n",
    "gdf = gpd.read_file('C:\\\\Users\\\\HP\\\\Documents\\\\GitHub\\\\GeoSpatial Analyis\\\\Week 1\\\\data\\\\cb_2018_us_state_500k.shp.zip')  # note the use of zip:// + relative path\n",
    "# paths may need to be changed if you are running the notebook locally\n",
    "\n",
    "# if we have an uncompressed shapefile instead, point towards the *.shp file: gpd.read_file('\\path\\to\\data.shp')"
   ]
  },
  {
   "cell_type": "markdown",
   "metadata": {},
   "source": [
    "## Linking place and attributes\n",
    "\n",
    "The key idea and the real power of geospatial data comes from linking information about a feature to a location in space or in the real-world. This may seem obvious and straight-forward, but it (as we will see) opens up many possibilities for how to integrate many different kinds of data and what questions we can start to ask and answer.\n",
    "\n",
    "In GeoPandas this central idea of linking attributes to places is operationalised with the core data structure of the `GeoDataFrame`.\n",
    "\n",
    "The data we just loaded is an example of a `GeoDataFrame`."
   ]
  },
  {
   "cell_type": "code",
   "execution_count": 10,
   "metadata": {
    "scrolled": true
   },
   "outputs": [
    {
     "data": {
      "text/plain": [
       "geopandas.geodataframe.GeoDataFrame"
      ]
     },
     "execution_count": 10,
     "metadata": {},
     "output_type": "execute_result"
    }
   ],
   "source": [
    "type(gdf)"
   ]
  },
  {
   "cell_type": "code",
   "execution_count": 11,
   "metadata": {},
   "outputs": [
    {
     "data": {
      "text/plain": [
       "(56, 10)"
      ]
     },
     "execution_count": 11,
     "metadata": {},
     "output_type": "execute_result"
    }
   ],
   "source": [
    "# get the dimensions (rows, cols)\n",
    "gdf.shape"
   ]
  },
  {
   "cell_type": "code",
   "execution_count": 12,
   "metadata": {},
   "outputs": [
    {
     "data": {
      "text/html": [
       "<div>\n",
       "<style scoped>\n",
       "    .dataframe tbody tr th:only-of-type {\n",
       "        vertical-align: middle;\n",
       "    }\n",
       "\n",
       "    .dataframe tbody tr th {\n",
       "        vertical-align: top;\n",
       "    }\n",
       "\n",
       "    .dataframe thead th {\n",
       "        text-align: right;\n",
       "    }\n",
       "</style>\n",
       "<table border=\"1\" class=\"dataframe\">\n",
       "  <thead>\n",
       "    <tr style=\"text-align: right;\">\n",
       "      <th></th>\n",
       "      <th>STATEFP</th>\n",
       "      <th>STATENS</th>\n",
       "      <th>AFFGEOID</th>\n",
       "      <th>GEOID</th>\n",
       "      <th>STUSPS</th>\n",
       "      <th>NAME</th>\n",
       "      <th>LSAD</th>\n",
       "      <th>ALAND</th>\n",
       "      <th>AWATER</th>\n",
       "      <th>geometry</th>\n",
       "    </tr>\n",
       "  </thead>\n",
       "  <tbody>\n",
       "    <tr>\n",
       "      <th>0</th>\n",
       "      <td>28</td>\n",
       "      <td>01779790</td>\n",
       "      <td>0400000US28</td>\n",
       "      <td>28</td>\n",
       "      <td>MS</td>\n",
       "      <td>Mississippi</td>\n",
       "      <td>00</td>\n",
       "      <td>121533519481</td>\n",
       "      <td>3926919758</td>\n",
       "      <td>MULTIPOLYGON (((-88.50297 30.21523, -88.49176 ...</td>\n",
       "    </tr>\n",
       "    <tr>\n",
       "      <th>1</th>\n",
       "      <td>37</td>\n",
       "      <td>01027616</td>\n",
       "      <td>0400000US37</td>\n",
       "      <td>37</td>\n",
       "      <td>NC</td>\n",
       "      <td>North Carolina</td>\n",
       "      <td>00</td>\n",
       "      <td>125923656064</td>\n",
       "      <td>13466071395</td>\n",
       "      <td>MULTIPOLYGON (((-75.72681 35.93584, -75.71827 ...</td>\n",
       "    </tr>\n",
       "    <tr>\n",
       "      <th>2</th>\n",
       "      <td>40</td>\n",
       "      <td>01102857</td>\n",
       "      <td>0400000US40</td>\n",
       "      <td>40</td>\n",
       "      <td>OK</td>\n",
       "      <td>Oklahoma</td>\n",
       "      <td>00</td>\n",
       "      <td>177662925723</td>\n",
       "      <td>3374587997</td>\n",
       "      <td>POLYGON ((-103.00257 36.52659, -103.00219 36.6...</td>\n",
       "    </tr>\n",
       "    <tr>\n",
       "      <th>3</th>\n",
       "      <td>51</td>\n",
       "      <td>01779803</td>\n",
       "      <td>0400000US51</td>\n",
       "      <td>51</td>\n",
       "      <td>VA</td>\n",
       "      <td>Virginia</td>\n",
       "      <td>00</td>\n",
       "      <td>102257717110</td>\n",
       "      <td>8528531774</td>\n",
       "      <td>MULTIPOLYGON (((-75.74241 37.80835, -75.74151 ...</td>\n",
       "    </tr>\n",
       "    <tr>\n",
       "      <th>4</th>\n",
       "      <td>54</td>\n",
       "      <td>01779805</td>\n",
       "      <td>0400000US54</td>\n",
       "      <td>54</td>\n",
       "      <td>WV</td>\n",
       "      <td>West Virginia</td>\n",
       "      <td>00</td>\n",
       "      <td>62266474513</td>\n",
       "      <td>489028543</td>\n",
       "      <td>POLYGON ((-82.64320 38.16909, -82.64300 38.169...</td>\n",
       "    </tr>\n",
       "  </tbody>\n",
       "</table>\n",
       "</div>"
      ],
      "text/plain": [
       "  STATEFP   STATENS     AFFGEOID GEOID STUSPS            NAME LSAD  \\\n",
       "0      28  01779790  0400000US28    28     MS     Mississippi   00   \n",
       "1      37  01027616  0400000US37    37     NC  North Carolina   00   \n",
       "2      40  01102857  0400000US40    40     OK        Oklahoma   00   \n",
       "3      51  01779803  0400000US51    51     VA        Virginia   00   \n",
       "4      54  01779805  0400000US54    54     WV   West Virginia   00   \n",
       "\n",
       "          ALAND       AWATER  \\\n",
       "0  121533519481   3926919758   \n",
       "1  125923656064  13466071395   \n",
       "2  177662925723   3374587997   \n",
       "3  102257717110   8528531774   \n",
       "4   62266474513    489028543   \n",
       "\n",
       "                                            geometry  \n",
       "0  MULTIPOLYGON (((-88.50297 30.21523, -88.49176 ...  \n",
       "1  MULTIPOLYGON (((-75.72681 35.93584, -75.71827 ...  \n",
       "2  POLYGON ((-103.00257 36.52659, -103.00219 36.6...  \n",
       "3  MULTIPOLYGON (((-75.74241 37.80835, -75.74151 ...  \n",
       "4  POLYGON ((-82.64320 38.16909, -82.64300 38.169...  "
      ]
     },
     "execution_count": 12,
     "metadata": {},
     "output_type": "execute_result"
    }
   ],
   "source": [
    "gdf.head()"
   ]
  },
  {
   "cell_type": "markdown",
   "metadata": {},
   "source": [
    "We saw some of these basic operations in the first practical, but let's look at the results in a bit more detail this time.\n",
    "\n",
    "* `.head()` shows the first rows of the dataset (from Pandas)\n",
    "* each row is an observation or a feature to be represented\n",
    "* the **attributes** of the observations in the `GeoDataFrame` are columns of data (in a `DataFrame`)\n",
    "* there is the additional **'geometry'** column\n",
    "* in this example, the geometry is using polygons\n",
    "    * in fact, there are **multipolygons**. We will discuss these a bit more in a later section, but for now understand that they have multiple parts, each a polygon which describe a single, real-world feature\n"
   ]
  },
  {
   "cell_type": "markdown",
   "metadata": {},
   "source": [
    "Because the `gdf` is still (also) a **DataFrame** from pandas, we can work with the attribute columns as we might with a \"normal\" or non-spatial DataFrame."
   ]
  },
  {
   "cell_type": "code",
   "execution_count": 13,
   "metadata": {},
   "outputs": [
    {
     "data": {
      "text/plain": [
       "9159859051207"
      ]
     },
     "execution_count": 13,
     "metadata": {},
     "output_type": "execute_result"
    }
   ],
   "source": [
    "# Calculate the total area of land in the US\n",
    "gdf['ALAND'].sum()"
   ]
  },
  {
   "cell_type": "code",
   "execution_count": 14,
   "metadata": {},
   "outputs": [
    {
     "name": "stderr",
     "output_type": "stream",
     "text": [
      "<ipython-input-14-6cbad770c5b6>:3: UserWarning: Geometry is in a geographic CRS. Results from 'area' are likely incorrect. Use 'GeoSeries.to_crs()' to re-project geometries to a projected CRS before this operation.\n",
      "\n",
      "  gdf.area.head()\n"
     ]
    },
    {
     "data": {
      "text/plain": [
       "0    11.885417\n",
       "1    12.782192\n",
       "2    18.005001\n",
       "3    10.685779\n",
       "4     6.493880\n",
       "dtype: float64"
      ]
     },
     "execution_count": 14,
     "metadata": {},
     "output_type": "execute_result"
    }
   ],
   "source": [
    "# GeoPandas has another way to quickly get the area of polygon shapes\n",
    "# examine just the beginning\n",
    "gdf.area.head()"
   ]
  },
  {
   "cell_type": "markdown",
   "metadata": {},
   "source": [
    "But what units are those area measurements in? The first seems really big... and the second result seems so different...\n",
    "\n",
    "We will spend a whole practical looking at how to accurately measure things like area (and perimeter, distance, etc.). Generally, you want to be very careful using something pre-calculated like this because often the process for how the calculations were done isn't clear. \n",
    "\n",
    "And, as you can see in the `Warning` message, the coordinate reference system used can have a big impact on the answer. This is telling us that we should \"re-project\" our data in order to get a more accurate answer. We'll do that later."
   ]
  },
  {
   "cell_type": "markdown",
   "metadata": {},
   "source": [
    "### Side track: `pandas` reminders\n",
    "\n",
    "We can select a subset of attributes and even convert the `GeoDataFrame` back into a pandas `DataFrame` by removing the geometry attribute if we really want to."
   ]
  },
  {
   "cell_type": "code",
   "execution_count": 15,
   "metadata": {},
   "outputs": [],
   "source": [
    "gdfSub = gdf.loc[:,['NAME', 'GEOID', 'ALAND']]"
   ]
  },
  {
   "cell_type": "code",
   "execution_count": 16,
   "metadata": {},
   "outputs": [
    {
     "data": {
      "text/plain": [
       "pandas.core.frame.DataFrame"
      ]
     },
     "execution_count": 16,
     "metadata": {},
     "output_type": "execute_result"
    }
   ],
   "source": [
    "# we didn't keep the Geometry column but...\n",
    "type(gdfSub)  # quirky. it's still a GeoDF"
   ]
  },
  {
   "cell_type": "code",
   "execution_count": 17,
   "metadata": {
    "scrolled": true
   },
   "outputs": [
    {
     "data": {
      "text/html": [
       "<div>\n",
       "<style scoped>\n",
       "    .dataframe tbody tr th:only-of-type {\n",
       "        vertical-align: middle;\n",
       "    }\n",
       "\n",
       "    .dataframe tbody tr th {\n",
       "        vertical-align: top;\n",
       "    }\n",
       "\n",
       "    .dataframe thead th {\n",
       "        text-align: right;\n",
       "    }\n",
       "</style>\n",
       "<table border=\"1\" class=\"dataframe\">\n",
       "  <thead>\n",
       "    <tr style=\"text-align: right;\">\n",
       "      <th></th>\n",
       "      <th>NAME</th>\n",
       "      <th>GEOID</th>\n",
       "      <th>ALAND</th>\n",
       "    </tr>\n",
       "  </thead>\n",
       "  <tbody>\n",
       "    <tr>\n",
       "      <th>0</th>\n",
       "      <td>Mississippi</td>\n",
       "      <td>28</td>\n",
       "      <td>121533519481</td>\n",
       "    </tr>\n",
       "    <tr>\n",
       "      <th>1</th>\n",
       "      <td>North Carolina</td>\n",
       "      <td>37</td>\n",
       "      <td>125923656064</td>\n",
       "    </tr>\n",
       "    <tr>\n",
       "      <th>2</th>\n",
       "      <td>Oklahoma</td>\n",
       "      <td>40</td>\n",
       "      <td>177662925723</td>\n",
       "    </tr>\n",
       "    <tr>\n",
       "      <th>3</th>\n",
       "      <td>Virginia</td>\n",
       "      <td>51</td>\n",
       "      <td>102257717110</td>\n",
       "    </tr>\n",
       "    <tr>\n",
       "      <th>4</th>\n",
       "      <td>West Virginia</td>\n",
       "      <td>54</td>\n",
       "      <td>62266474513</td>\n",
       "    </tr>\n",
       "  </tbody>\n",
       "</table>\n",
       "</div>"
      ],
      "text/plain": [
       "             NAME GEOID         ALAND\n",
       "0     Mississippi    28  121533519481\n",
       "1  North Carolina    37  125923656064\n",
       "2        Oklahoma    40  177662925723\n",
       "3        Virginia    51  102257717110\n",
       "4   West Virginia    54   62266474513"
      ]
     },
     "execution_count": 17,
     "metadata": {},
     "output_type": "execute_result"
    }
   ],
   "source": [
    "gdfSub.head()"
   ]
  },
  {
   "cell_type": "code",
   "execution_count": 18,
   "metadata": {},
   "outputs": [
    {
     "data": {
      "text/plain": [
       "pandas.core.frame.DataFrame"
      ]
     },
     "execution_count": 18,
     "metadata": {},
     "output_type": "execute_result"
    }
   ],
   "source": [
    "# we can make a `pandas` DataFrame and avoid making a copy of the data\n",
    "pdSub = pd.DataFrame(gdf[['NAME', 'GEOID', 'ALAND']])\n",
    "\n",
    "type(pdSub)"
   ]
  },
  {
   "cell_type": "code",
   "execution_count": 19,
   "metadata": {},
   "outputs": [
    {
     "data": {
      "text/html": [
       "<div>\n",
       "<style scoped>\n",
       "    .dataframe tbody tr th:only-of-type {\n",
       "        vertical-align: middle;\n",
       "    }\n",
       "\n",
       "    .dataframe tbody tr th {\n",
       "        vertical-align: top;\n",
       "    }\n",
       "\n",
       "    .dataframe thead th {\n",
       "        text-align: right;\n",
       "    }\n",
       "</style>\n",
       "<table border=\"1\" class=\"dataframe\">\n",
       "  <thead>\n",
       "    <tr style=\"text-align: right;\">\n",
       "      <th></th>\n",
       "      <th>NAME</th>\n",
       "      <th>GEOID</th>\n",
       "      <th>ALAND</th>\n",
       "    </tr>\n",
       "  </thead>\n",
       "  <tbody>\n",
       "    <tr>\n",
       "      <th>0</th>\n",
       "      <td>Mississippi</td>\n",
       "      <td>28</td>\n",
       "      <td>121533519481</td>\n",
       "    </tr>\n",
       "    <tr>\n",
       "      <th>1</th>\n",
       "      <td>North Carolina</td>\n",
       "      <td>37</td>\n",
       "      <td>125923656064</td>\n",
       "    </tr>\n",
       "    <tr>\n",
       "      <th>2</th>\n",
       "      <td>Oklahoma</td>\n",
       "      <td>40</td>\n",
       "      <td>177662925723</td>\n",
       "    </tr>\n",
       "    <tr>\n",
       "      <th>3</th>\n",
       "      <td>Virginia</td>\n",
       "      <td>51</td>\n",
       "      <td>102257717110</td>\n",
       "    </tr>\n",
       "    <tr>\n",
       "      <th>4</th>\n",
       "      <td>West Virginia</td>\n",
       "      <td>54</td>\n",
       "      <td>62266474513</td>\n",
       "    </tr>\n",
       "  </tbody>\n",
       "</table>\n",
       "</div>"
      ],
      "text/plain": [
       "             NAME GEOID         ALAND\n",
       "0     Mississippi    28  121533519481\n",
       "1  North Carolina    37  125923656064\n",
       "2        Oklahoma    40  177662925723\n",
       "3        Virginia    51  102257717110\n",
       "4   West Virginia    54   62266474513"
      ]
     },
     "execution_count": 19,
     "metadata": {},
     "output_type": "execute_result"
    }
   ],
   "source": [
    "pdSub.head()"
   ]
  },
  {
   "cell_type": "markdown",
   "metadata": {},
   "source": [
    "It's easy to create new columns in a DataFrame. Here we're adding a row index."
   ]
  },
  {
   "cell_type": "code",
   "execution_count": 20,
   "metadata": {},
   "outputs": [
    {
     "data": {
      "text/html": [
       "<div>\n",
       "<style scoped>\n",
       "    .dataframe tbody tr th:only-of-type {\n",
       "        vertical-align: middle;\n",
       "    }\n",
       "\n",
       "    .dataframe tbody tr th {\n",
       "        vertical-align: top;\n",
       "    }\n",
       "\n",
       "    .dataframe thead th {\n",
       "        text-align: right;\n",
       "    }\n",
       "</style>\n",
       "<table border=\"1\" class=\"dataframe\">\n",
       "  <thead>\n",
       "    <tr style=\"text-align: right;\">\n",
       "      <th></th>\n",
       "      <th>NAME</th>\n",
       "      <th>GEOID</th>\n",
       "      <th>ALAND</th>\n",
       "      <th>uid</th>\n",
       "    </tr>\n",
       "  </thead>\n",
       "  <tbody>\n",
       "    <tr>\n",
       "      <th>0</th>\n",
       "      <td>Mississippi</td>\n",
       "      <td>28</td>\n",
       "      <td>121533519481</td>\n",
       "      <td>1</td>\n",
       "    </tr>\n",
       "    <tr>\n",
       "      <th>1</th>\n",
       "      <td>North Carolina</td>\n",
       "      <td>37</td>\n",
       "      <td>125923656064</td>\n",
       "      <td>2</td>\n",
       "    </tr>\n",
       "    <tr>\n",
       "      <th>2</th>\n",
       "      <td>Oklahoma</td>\n",
       "      <td>40</td>\n",
       "      <td>177662925723</td>\n",
       "      <td>3</td>\n",
       "    </tr>\n",
       "    <tr>\n",
       "      <th>3</th>\n",
       "      <td>Virginia</td>\n",
       "      <td>51</td>\n",
       "      <td>102257717110</td>\n",
       "      <td>4</td>\n",
       "    </tr>\n",
       "    <tr>\n",
       "      <th>4</th>\n",
       "      <td>West Virginia</td>\n",
       "      <td>54</td>\n",
       "      <td>62266474513</td>\n",
       "      <td>5</td>\n",
       "    </tr>\n",
       "  </tbody>\n",
       "</table>\n",
       "</div>"
      ],
      "text/plain": [
       "             NAME GEOID         ALAND  uid\n",
       "0     Mississippi    28  121533519481    1\n",
       "1  North Carolina    37  125923656064    2\n",
       "2        Oklahoma    40  177662925723    3\n",
       "3        Virginia    51  102257717110    4\n",
       "4   West Virginia    54   62266474513    5"
      ]
     },
     "execution_count": 20,
     "metadata": {},
     "output_type": "execute_result"
    }
   ],
   "source": [
    "pdSub['uid'] = range(1, len(pdSub)+1)\n",
    "\n",
    "pdSub.head()"
   ]
  },
  {
   "cell_type": "markdown",
   "metadata": {},
   "source": [
    "Back to the `GeoDataFrame`...\n",
    "\n",
    "We can subset rows of the dataframe into a new GeoDataFrame based on conditions."
   ]
  },
  {
   "cell_type": "code",
   "execution_count": 21,
   "metadata": {},
   "outputs": [
    {
     "data": {
      "text/html": [
       "<div>\n",
       "<style scoped>\n",
       "    .dataframe tbody tr th:only-of-type {\n",
       "        vertical-align: middle;\n",
       "    }\n",
       "\n",
       "    .dataframe tbody tr th {\n",
       "        vertical-align: top;\n",
       "    }\n",
       "\n",
       "    .dataframe thead th {\n",
       "        text-align: right;\n",
       "    }\n",
       "</style>\n",
       "<table border=\"1\" class=\"dataframe\">\n",
       "  <thead>\n",
       "    <tr style=\"text-align: right;\">\n",
       "      <th></th>\n",
       "      <th>STATEFP</th>\n",
       "      <th>STATENS</th>\n",
       "      <th>AFFGEOID</th>\n",
       "      <th>GEOID</th>\n",
       "      <th>STUSPS</th>\n",
       "      <th>NAME</th>\n",
       "      <th>LSAD</th>\n",
       "      <th>ALAND</th>\n",
       "      <th>AWATER</th>\n",
       "      <th>geometry</th>\n",
       "    </tr>\n",
       "  </thead>\n",
       "  <tbody>\n",
       "    <tr>\n",
       "      <th>1</th>\n",
       "      <td>37</td>\n",
       "      <td>01027616</td>\n",
       "      <td>0400000US37</td>\n",
       "      <td>37</td>\n",
       "      <td>NC</td>\n",
       "      <td>North Carolina</td>\n",
       "      <td>00</td>\n",
       "      <td>125923656064</td>\n",
       "      <td>13466071395</td>\n",
       "      <td>MULTIPOLYGON (((-75.72681 35.93584, -75.71827 ...</td>\n",
       "    </tr>\n",
       "  </tbody>\n",
       "</table>\n",
       "</div>"
      ],
      "text/plain": [
       "  STATEFP   STATENS     AFFGEOID GEOID STUSPS            NAME LSAD  \\\n",
       "1      37  01027616  0400000US37    37     NC  North Carolina   00   \n",
       "\n",
       "          ALAND       AWATER  \\\n",
       "1  125923656064  13466071395   \n",
       "\n",
       "                                            geometry  \n",
       "1  MULTIPOLYGON (((-75.72681 35.93584, -75.71827 ...  "
      ]
     },
     "execution_count": 21,
     "metadata": {},
     "output_type": "execute_result"
    }
   ],
   "source": [
    "# Extract just North Carolina into a new GeoDataFrame\n",
    "nc = gdf[gdf['NAME'] == 'North Carolina']\n",
    "\n",
    "nc"
   ]
  },
  {
   "cell_type": "code",
   "execution_count": 22,
   "metadata": {},
   "outputs": [
    {
     "data": {
      "text/plain": [
       "<AxesSubplot:>"
      ]
     },
     "execution_count": 22,
     "metadata": {},
     "output_type": "execute_result"
    },
    {
     "data": {
      "image/png": "[encoded data removed]",
      "text/plain": [
       "<Figure size 432x288 with 1 Axes>"
      ]
     },
     "metadata": {
      "needs_background": "light"
     },
     "output_type": "display_data"
    }
   ],
   "source": [
    "# make a simple map\n",
    "nc.plot()"
   ]
  },
  {
   "cell_type": "markdown",
   "metadata": {},
   "source": [
    "The geometry column deserves a bit more attention."
   ]
  },
  {
   "cell_type": "code",
   "execution_count": 23,
   "metadata": {},
   "outputs": [],
   "source": [
    "# extract just the geometry attribute\n",
    "gs = gdf.geometry"
   ]
  },
  {
   "cell_type": "code",
   "execution_count": 24,
   "metadata": {},
   "outputs": [
    {
     "data": {
      "text/plain": [
       "geopandas.geoseries.GeoSeries"
      ]
     },
     "execution_count": 24,
     "metadata": {},
     "output_type": "execute_result"
    }
   ],
   "source": [
    "# inspect the column (now extracted into its own vector)\n",
    "type(gs)"
   ]
  },
  {
   "cell_type": "code",
   "execution_count": 25,
   "metadata": {
    "scrolled": true
   },
   "outputs": [
    {
     "data": {
      "text/plain": [
       "0    MULTIPOLYGON (((-88.50297 30.21523, -88.49176 ...\n",
       "1    MULTIPOLYGON (((-75.72681 35.93584, -75.71827 ...\n",
       "2    POLYGON ((-103.00257 36.52659, -103.00219 36.6...\n",
       "3    MULTIPOLYGON (((-75.74241 37.80835, -75.74151 ...\n",
       "4    POLYGON ((-82.64320 38.16909, -82.64300 38.169...\n",
       "Name: geometry, dtype: geometry"
      ]
     },
     "execution_count": 25,
     "metadata": {},
     "output_type": "execute_result"
    }
   ],
   "source": [
    "gs.head()"
   ]
  },
  {
   "cell_type": "markdown",
   "metadata": {},
   "source": [
    "This column is a unique attribute for spatial dataframes. In GeoPandas it is called a `GeoSeries` and it is a set of shapes for each observation in the DataFrame. It is made up of `shapely` objects. Because of this, the `GeoSeries` allows us to use most of the methods and attributes from `shapely`."
   ]
  },
  {
   "cell_type": "markdown",
   "metadata": {},
   "source": [
    "We can also access and work with invidual elements of the geometry series within the `GeoDataFrame`, though in practice we may not often do this."
   ]
  },
  {
   "cell_type": "code",
   "execution_count": 26,
   "metadata": {},
   "outputs": [
    {
     "data": {
      "image/svg+xml": [
       "<svg xmlns=\"http://www.w3.org/2000/svg\" xmlns:xlink=\"http://www.w3.org/1999/xlink\" width=\"100.0\" height=\"100.0\" viewBox=\"-91.84789335999999 29.981058639999997 3.9428897199999824 5.207877720000003\" preserveAspectRatio=\"xMinYMin meet\"><g transform=\"matrix(1,0,0,-1,0,65.169995)\"><g><path fill-rule=\"evenodd\" fill=\"#66cc99\" stroke=\"#555555\" stroke-width=\"0.10415755440000005\" opacity=\"0.6\" d=\"M -88.502966,30.215235 L -88.491759,30.209014 L -88.468668,30.203730999999998 L -88.45344399999999,30.201235999999998 L -88.4491297949387,30.201667020672495 L -88.44265399999999,30.202313999999998 L -88.43033199999999,30.208548 L -88.420121,30.209097999999997 L -88.41308699999999,30.206343999999998 L -88.42925,30.200387 L -88.44885549161519,30.1973317760772 L -88.453654,30.196583999999998 L -88.493523,30.205945 L -88.502752,30.210506 L -88.506999,30.214347999999998 L -88.502966,30.215235 z\" /><path fill-rule=\"evenodd\" fill=\"#66cc99\" stroke=\"#555555\" stroke-width=\"0.10415755440000005\" opacity=\"0.6\" d=\"M -88.58458999999999,30.337358 L -88.583963,30.338137999999997 L -88.582703,30.338759 L -88.58103799999999,30.338371 L -88.579509,30.338836999999998 L -88.578744,30.338836999999998 L -88.576449,30.338371 L -88.575594,30.338176999999998 L -88.574469,30.33938 L -88.57177,30.340856 L -88.56988,30.341321999999998 L -88.5697,30.33907 L -88.569025,30.337011999999998 L -88.56871,30.335884999999998 L -88.568395,30.333478 L -88.568125,30.332894999999997 L -88.56817,30.330292999999998 L -88.56776599999999,30.329556 L -88.568395,30.328857 L -88.56934,30.328818 L -88.572895,30.328895 L -88.575594,30.329323 L -88.579509,30.329866 L -88.582568,30.331342 L -88.584053,30.334059999999997 L -88.584773,30.335769 L -88.58458999999999,30.337358 z\" /><path fill-rule=\"evenodd\" fill=\"#66cc99\" stroke=\"#555555\" stroke-width=\"0.10415755440000005\" opacity=\"0.6\" d=\"M -88.770082,30.242898999999998 L -88.75083,30.245952 L -88.73254999999999,30.246322 L -88.718104,30.252931 L -88.710719,30.250798999999997 L -88.68830799999999,30.243797999999998 L -88.68018599999999,30.243009999999998 L -88.66784121102019,30.238229839217198 L -88.656804,30.233956 L -88.649326,30.234517999999998 L -88.6466894850649,30.2337766213357 L -88.635318,30.230579 L -88.59638,30.225614999999998 L -88.58683099999999,30.221542999999997 L -88.60049699999999,30.221183 L -88.633743,30.226342 L -88.64676477441819,30.2282439958564 L -88.652906,30.229141 L -88.665857,30.228847 L -88.6681032293126,30.2293943611759 L -88.68701999999999,30.234004 L -88.69841799999999,30.238713999999998 L -88.714941,30.243720999999997 L -88.730628,30.241462 L -88.752782,30.238802999999997 L -88.76366499999999,30.240025 L -88.770082,30.242898999999998 z\" /><path fill-rule=\"evenodd\" fill=\"#66cc99\" stroke=\"#555555\" stroke-width=\"0.10415755440000005\" opacity=\"0.6\" d=\"M -88.871763,30.385658999999997 L -88.865652,30.383291999999997 L -88.859556,30.381332999999998 L -88.85392999999999,30.378557999999998 L -88.849814,30.378666 L -88.837918,30.374087999999997 L -88.83616599999999,30.374066 L -88.82991299999999,30.371641999999998 L -88.82437399999999,30.367907 L -88.821243,30.364264 L -88.81855999999999,30.361871999999998 L -88.81876199999999,30.36059 L -88.826743,30.364786 L -88.83672,30.369412999999998 L -88.840087,30.370058999999998 L -88.85169499999999,30.375280999999998 L -88.86702799999999,30.382434999999997 L -88.874382,30.385120999999998 L -88.871763,30.385658999999997 z\" /><path fill-rule=\"evenodd\" fill=\"#66cc99\" stroke=\"#555555\" stroke-width=\"0.10415755440000005\" opacity=\"0.6\" d=\"M -88.89290299999999,30.235096 L -88.888982,30.239306 L -88.883515,30.242078 L -88.879356,30.242489 L -88.88125699999999,30.239818999999997 L -88.88815,30.235609999999998 L -88.893498,30.232222 L -88.89290299999999,30.235096 z\" /><path fill-rule=\"evenodd\" fill=\"#66cc99\" stroke=\"#555555\" stroke-width=\"0.10415755440000005\" opacity=\"0.6\" d=\"M -88.982219,30.211627 L -88.976811,30.210987 L -88.971819,30.212439 L -88.966518,30.212823999999998 L -88.951774,30.213447 L -88.949123,30.212622 L -88.953259,30.209781 L -88.95864499999999,30.208510999999998 L -88.974672,30.207390999999998 L -88.980239,30.207962 L -88.98424899999999,30.21032 L -88.982219,30.211627 z\" /><path fill-rule=\"evenodd\" fill=\"#66cc99\" stroke=\"#555555\" stroke-width=\"0.10415755440000005\" opacity=\"0.6\" d=\"M -89.121303,30.231738 L -89.11695499999999,30.230735 L -89.0983232673887,30.230751763089298 L -89.095837,30.230753999999997 L -89.077514,30.230397 L -89.07234199999999,30.238678 L -89.067128,30.250199 L -89.065713,30.24569 L -89.06861099999999,30.235851999999998 L -89.074615,30.225835 L -89.07885999999999,30.22011 L -89.085071,30.213222 L -89.08838399999999,30.210091 L -89.090558,30.211522 L -89.087659,30.213133 L -89.08838399999999,30.214654 L -89.092007,30.215995 L -89.0985194506541,30.214477336746498 L -89.10122,30.213848 L -89.104119,30.214921999999998 L -89.108053,30.214116999999998 L -89.110433,30.215010999999997 L -89.110123,30.217783999999998 L -89.110537,30.222614999999998 L -89.11457399999999,30.224404 L -89.15673799999999,30.230698999999998 L -89.121303,30.231738 z\" /><path fill-rule=\"evenodd\" fill=\"#66cc99\" stroke=\"#555555\" stroke-width=\"0.10415755440000005\" opacity=\"0.6\" d=\"M -91.65500899999999,31.251814999999997 L -91.654027,31.255753 L -91.651369,31.259528 L -91.648669,31.262238 L -91.64125299999999,31.266917 L -91.637672,31.26768 L -91.621358,31.267811 L -91.60667199999999,31.265900000000002 L -91.587749,31.262563 L -91.57449299999999,31.261288999999998 L -91.56419199999999,31.261633 L -91.553905,31.26305 L -91.537734,31.267369 L -91.51857799999999,31.275282999999998 L -91.515614,31.278209999999998 L -91.512085,31.284177 L -91.50885799999999,31.291643999999998 L -91.508296,31.295828999999998 L -91.507977,31.312942999999997 L -91.50865999999999,31.315130999999997 L -91.510049,31.316822 L -91.518509,31.323331999999997 L -91.531657,31.331801 L -91.53320599999999,31.333225 L -91.53606099999999,31.338355 L -91.545617,31.343761999999998 L -91.54896699999999,31.347254999999997 L -91.54889399999999,31.353997999999997 L -91.55086899999999,31.360574 L -91.551002,31.363644999999998 L -91.549915,31.376314999999998 L -91.546607,31.381197999999998 L -91.546207,31.382479999999997 L -91.552432,31.385658 L -91.55568,31.386412999999997 L -91.560524,31.384559 L -91.56255499999999,31.383218999999997 L -91.568953,31.377629 L -91.57123399999999,31.384663999999997 L -91.573931,31.390886 L -91.578334,31.399067 L -91.578246,31.403858999999997 L -91.57626499999999,31.410497999999997 L -91.570092,31.419487 L -91.565179,31.423447 L -91.554805,31.428569999999997 L -91.55274999999999,31.430691999999997 L -91.548465,31.432668 L -91.545013,31.433025999999998 L -91.541626,31.431706 L -91.54064699999999,31.430757999999997 L -91.537137,31.424160999999998 L -91.537002,31.423184 L -91.539504,31.41791 L -91.539458,31.414020999999998 L -91.532336,31.390275 L -91.52695,31.380854999999997 L -91.521836,31.375169999999997 L -91.51597799999999,31.370286 L -91.50807499999999,31.366276 L -91.50416299999999,31.36495 L -91.47887,31.364955 L -91.472465,31.371326 L -91.471098,31.376917 L -91.471992,31.382143 L -91.47201837791289,31.383704001204297 L -91.472149,31.391434 L -91.472065,31.395925 L -91.47692599999999,31.397796 L -91.48022999999999,31.404390999999997 L -91.49004,31.412716 L -91.500046,31.42052 L -91.506423,31.431459999999998 L -91.510356,31.438927999999997 L -91.51336599999999,31.444395999999998 L -91.51513,31.449206 L -91.516999,31.460573999999998 L -91.518148,31.483483 L -91.51714,31.498393999999998 L -91.515157,31.50338 L -91.514917,31.510112999999997 L -91.516759,31.511771999999997 L -91.520579,31.513206999999998 L -91.52286199999999,31.517492999999998 L -91.52292,31.519841 L -91.522536,31.522077999999997 L -91.521445,31.523912 L -91.5180421394486,31.5281282861348 L -91.51581,31.530894 L -91.51396299999999,31.532083999999998 L -91.511217,31.532612 L -91.50671899999999,31.532966 L -91.500118,31.532615999999997 L -91.489618,31.534266 L -91.483918,31.532566 L -91.481318,31.530666 L -91.47971799999999,31.530365999999997 L -91.4552374776405,31.538031360019602 L -91.4504327116009,31.539535832063297 L -91.450017,31.539665999999997 L -91.443916,31.542465999999997 L -91.43761599999999,31.546166 L -91.42641599999999,31.554565999999998 L -91.4228560395115,31.556918464978004 L -91.4198689883791,31.5588923445195 L -91.4198546253413,31.5589018357887 L -91.414915,31.562165999999998 L -91.407915,31.569366 L -91.4077734,31.5696492 L -91.406615,31.571966 L -91.40541499999999,31.576466 L -91.4043098523501,31.5862649758289 L -91.403915,31.589765999999997 L -91.413015,31.595364999999997 L -91.417115,31.596265 L -91.422716,31.597064999999997 L -91.43071599999999,31.596465 L -91.43631599999999,31.594965 L -91.4516770489488,31.589604101873796 L -91.457517,31.587566 L -91.46631699999999,31.586066 L -91.4671464203883,31.5860280141796 L -91.479418,31.585466 L -91.48521799999999,31.586166 L -91.488618,31.587466 L -91.494118,31.590165 L -91.502783,31.595727 L -91.51301,31.606885 L -91.5148155315998,31.6093889885807 L -91.516567,31.611818 L -91.51723299999999,31.61346 L -91.517921,31.618641999999998 L -91.51665899999999,31.627332 L -91.515462,31.630371999999998 L -91.51233599999999,31.634722 L -91.50730999999999,31.639067999999998 L -91.49927799999999,31.644658 L -91.497665,31.645370999999997 L -91.494478,31.645013 L -91.49274799999999,31.644278999999997 L -91.490027,31.641000000000002 L -91.487518,31.637065 L -91.482618,31.631565 L -91.479818,31.628964999999997 L -91.474318,31.625365 L -91.46381699999999,31.620365 L -91.43671599999999,31.612665 L -91.429616,31.611365 L -91.421116,31.611565 L -91.41649799999999,31.613132999999998 L -91.401015,31.620365 L -91.398315,31.626265 L -91.3963998609334,31.637581730848297 L -91.396115,31.639264999999998 L -91.395715,31.644164999999997 L -91.398015,31.662664999999997 L -91.400115,31.688163999999997 L -91.400015,31.697864 L -91.397915,31.709363999999997 L -91.397115,31.711364 L -91.380915,31.732464 L -91.3802389538171,31.7332419242873 L -91.371804,31.742948 L -91.365034,31.748184 L -91.356394,31.749105999999998 L -91.338663,31.750004999999998 L -91.31981599999999,31.749989 L -91.31786142917309,31.749791433823 L -91.310734,31.749070999999997 L -91.29172299999999,31.74526 L -91.275545,31.745514999999997 L -91.26340599999999,31.754468 L -91.25961099999999,31.76129 L -91.263043,31.766994999999998 L -91.2662786530318,31.7682446294555 L -91.27387399999999,31.771178 L -91.286045,31.772062 L -91.301315,31.766748 L -91.31351593061801,31.7641562052649 L -91.32597299999999,31.761509999999998 L -91.35521399999999,31.758063 L -91.365529,31.761627999999998 L -91.363714,31.780362999999998 L -91.35951399999999,31.799362 L -91.3462849723467,31.8410612372385 L -91.345714,31.842861 L -91.343014,31.846860999999997 L -91.338414,31.851260999999997 L -91.33381399999999,31.853261 L -91.326914,31.854961 L -91.294713,31.86046 L -91.293413,31.860159999999997 L -91.289312,31.846860999999997 L -91.29013499999999,31.833658 L -91.289412,31.828661 L -91.287812,31.824161 L -91.28491199999999,31.818361999999997 L -91.282212,31.814761999999998 L -91.28021199999999,31.813162 L -91.27671199999999,31.811362 L -91.269212,31.809161999999997 L -91.262011,31.809362 L -91.255611,31.812662 L -91.25011099999999,31.817762 L -91.247367,31.822322999999997 L -91.245047,31.831446999999997 L -91.24562399999999,31.833164999999997 L -91.261144,31.846118999999998 L -91.266612,31.851160999999998 L -91.268112,31.853061 L -91.268812,31.855161 L -91.26901199999999,31.858660999999998 L -91.26771199999999,31.862659999999998 L -91.26695732,31.86366624 L -91.26651199999999,31.864259999999998 L -91.264412,31.86546 L -91.248144,31.869847999999998 L -91.234899,31.876863 L -91.226951,31.885105 L -91.20881,31.900458999999998 L -91.20510999999999,31.904159 L -91.20281,31.907958999999998 L -91.20101,31.909159 L -91.19751,31.908659 L -91.19381,31.909558999999998 L -91.19261,31.910159 L -91.19198550466851,31.9111304371823 L -91.19081,31.912958999999997 L -91.18921,31.914258999999998 L -91.1861958745166,31.9152134730697 L -91.18321,31.916158999999997 L -91.181227656,31.917531392 L -91.18061,31.917959 L -91.18110999999999,31.920059 L -91.18491,31.923758999999997 L -91.1846256046064,31.9259865269207 L -91.18370999999999,31.933158 L -91.18471,31.935057999999998 L -91.19111,31.934158 L -91.19291,31.934957999999998 L -91.19321,31.935658 L -91.18951,31.946358 L -91.18880999999999,31.953158 L -91.18911,31.957458 L -91.18831,31.960957999999998 L -91.18481,31.965556999999997 L -91.180485274378,31.970057052336298 L -91.17741,31.973257 L -91.17021,31.979056999999997 L -91.16440999999999,31.982557 L -91.117409,31.987057 L -91.104108,31.990357 L -91.096108,31.994857 L -91.090105,32.000157 L -91.075908,32.016828 L -91.079928,32.018316 L -91.08080799999999,32.023455999999996 L -91.082608,32.028656 L -91.084408,32.031456 L -91.08810799999999,32.034455 L -91.095508,32.037455 L -91.125109,32.042854999999996 L -91.14511,32.046555 L -91.15141,32.049254999999995 L -91.15630999999999,32.052655 L -91.15901,32.055955 L -91.16131,32.059754999999996 L -91.16201,32.062355 L -91.16201,32.065354 L -91.16161,32.067754 L -91.16031,32.070354 L -91.15581,32.075554 L -91.14881,32.080154 L -91.14511,32.081354 L -91.139309,32.081754 L -91.134909,32.080354 L -91.128609,32.076554 L -91.12410899999999,32.071854 L -91.11430899999999,32.058254999999996 L -91.103708,32.050255 L -91.098708,32.048355 L -91.082308,32.047554999999996 L -91.080208,32.048355 L -91.07910799999999,32.050255 L -91.08170799999999,32.075753999999996 L -91.081508,32.077754 L -91.08000799999999,32.079153999999996 L -91.066679,32.08533 L -91.038607,32.098254 L -91.034707,32.101053 L -91.030507,32.108153 L -91.0307064962793,32.114336885917304 L -91.030907,32.120551999999996 L -91.0307991898912,32.1205658494524 L -91.027007,32.121052999999996 L -91.020006,32.123553 L -91.017606,32.125153 L -91.01180599999999,32.131153 L -91.006406,32.139952 L -91.005006,32.142852 L -91.004106,32.146152 L -91.002906,32.162051999999996 L -91.016606,32.160852 L -91.025007,32.162552 L -91.03190699999999,32.167851 L -91.04180699999999,32.174551 L -91.050207,32.178450999999995 L -91.058307,32.180951 L -91.05890699999999,32.171251 L -91.055707,32.163751999999995 L -91.049707,32.157351999999996 L -91.048507,32.150152 L -91.050207,32.145252 L -91.05120699999999,32.144152 L -91.053175,32.124237 L -91.061555,32.126906999999996 L -91.069081,32.131478 L -91.07704299999999,32.133493 L -91.08162999999999,32.133992 L -91.091656,32.133604 L -91.101181,32.131136 L -91.103696,32.130007 L -91.111294,32.125036 L -91.11317397554708,32.1255440027236 L -91.113866,32.125731 L -91.13140299999999,32.126213 L -91.136566,32.127371 L -91.1444,32.13039 L -91.15504299999999,32.132242999999995 L -91.16282199999999,32.132694 L -91.165452,32.13429 L -91.1656436337104,32.1345953874809 L -91.171702,32.14425 L -91.173495,32.149009 L -91.17455199999999,32.154978 L -91.173664,32.164231 L -91.17104599999999,32.176525999999996 L -91.16807299999999,32.186634999999995 L -91.164171,32.196888 L -91.16206199999999,32.199035 L -91.15802599999999,32.201955999999996 L -91.13358699999999,32.213432 L -91.130197,32.213665999999996 L -91.128495,32.213169 L -91.124043,32.211104 L -91.11726999999999,32.206668 L -91.11408399999999,32.206697 L -91.11300899999999,32.20655 L -91.108509,32.208149999999996 L -91.100409,32.21785 L -91.092108,32.22385 L -91.083708,32.22645 L -91.075108,32.22705 L -91.071108,32.22605 L -91.061408,32.21865 L -91.05510699999999,32.22475 L -91.053107,32.22795 L -91.051807,32.234449 L -91.0503836512323,32.2377701471247 L -91.05030699999999,32.237949 L -91.04650699999999,32.241149 L -91.039007,32.242349 L -91.034307,32.241549 L -91.026607,32.238749 L -91.021507,32.236149 L -91.00960599999999,32.22615 L -91.002906,32.22305 L -91.00433699999999,32.218125 L -91.00450699999999,32.212516 L -91.002467,32.195859999999996 L -91.001108,32.1928 L -90.998542,32.191578 L -90.995159,32.192119999999996 L -90.99328899999999,32.194500000000005 L -90.99282223865819,32.195246774206 L -90.98904,32.201298 L -90.98377099999999,32.210646 L -90.983434,32.221305 L -90.98313499999999,32.231370999999996 L -90.98029,32.243601 L -90.97613899999999,32.248092 L -90.970016,32.25168 L -90.969403,32.25252 L -90.971344,32.257742 L -90.979663,32.265252 L -90.981028,32.266732999999995 L -90.982985,32.270294 L -90.984077,32.279954 L -90.980747,32.29141 L -90.979475,32.293701999999996 L -90.976199,32.29645 L -90.97460199999999,32.297122 L -90.971643,32.297497 L -90.96414899999999,32.296872 L -90.963079,32.296285 L -90.961171,32.293288 L -90.955405,32.286241 L -90.953008,32.284043 L -90.951351,32.283198999999996 L -90.947834,32.283485999999996 L -90.9345267477263,32.29007762239689 L -90.93399099999999,32.290343 L -90.9234496740595,32.297779295918495 L -90.922231,32.298639 L -90.916157,32.303582 L -90.9065484299256,32.3140049891148 L -90.90517299999999,32.315497 L -90.902558,32.319587 L -90.90124,32.323386 L -90.90071999999999,32.330379 L -90.89636407339519,32.3367566924205 L -90.8879188953814,32.349121627070396 L -90.88645397951801,32.3512664710144 L -90.88252979332908,32.3570120344237 L -90.882161,32.357552 L -90.8765213811194,32.3704048037031 L -90.875631,32.372434 L -90.878289,32.374548 L -90.8888123894195,32.373262444265 L -90.888947,32.373246 L -90.89206,32.370579 L -90.897762,32.35436 L -90.90775599999999,32.343610999999996 L -90.912363,32.339453999999996 L -90.92116999999999,32.342073 L -90.93489699999999,32.344967 L -90.94298099999999,32.345956 L -90.954583,32.345859 L -90.986672,32.35176 L -90.993625,32.354047 L -91.000106,32.357695 L -91.003506,32.362145 L -91.00450599999999,32.364744 L -91.00450599999999,32.368144 L -91.00060599999999,32.381644 L -90.996237,32.388061 L -90.994686,32.392277 L -90.99378,32.396778 L -90.99408,32.403862 L -90.980723,32.408243 L -90.97446099999999,32.412001 L -90.971141,32.414636 L -90.967767,32.418279 L -90.96625499999999,32.421026999999995 L -90.965986,32.424806 L -90.96645699999999,32.433868 L -90.966869,32.435499 L -90.96856,32.438083999999996 L -90.96959,32.43949 L -90.97854699999999,32.447032 L -90.983423,32.449076999999996 L -90.99386299999999,32.450849999999996 L -90.99897399999999,32.450165 L -91.004806,32.445741 L -91.01650599999999,32.440342 L -91.02630599999999,32.434442 L -91.029606,32.433541999999996 L -91.05290699999999,32.438442 L -91.070207,32.445141 L -91.081807,32.450441 L -91.095308,32.458740999999996 L -91.108808,32.47204 L -91.11210799999999,32.47614 L -91.116008,32.48314 L -91.117308,32.495039 L -91.116708,32.500139 L -91.106985,32.514934 L -91.101304,32.525599 L -91.098756,32.532968 L -91.097949,32.537214 L -91.097878,32.544751999999995 L -91.093741,32.549127999999996 L -91.074817,32.533467 L -91.070467,32.528171 L -91.06051599999999,32.512361 L -91.050907,32.500139 L -91.045807,32.495539 L -91.038106,32.49044 L -91.033906,32.48854 L -91.02410599999999,32.48524 L -91.017106,32.48374 L -91.004206,32.48214 L -90.999223,32.482614999999996 L -90.996388,32.483925 L -90.990703,32.487749 L -90.988278,32.491189999999996 L -90.987579,32.492387 L -90.987202,32.495663 L -90.988784,32.500841 L -90.994867,32.508611 L -91.007075,32.516371 L -91.018469,32.521018999999995 L -91.05116799999999,32.53089 L -91.061685,32.536448 L -91.075373,32.546718 L -91.080398,32.556442 L -91.0697862054881,32.562793318519 L -91.06935399999999,32.563052 L -91.049312,32.573623999999995 L -91.0434509306581,32.576269553442096 L -91.03617,32.579556 L -91.030991,32.583346999999996 L -91.022943,32.591848 L -91.01623099999999,32.596953 L -91.013723,32.598419 L -91.010228,32.601926999999996 L -91.004599,32.60978 L -91.002997,32.614678 L -91.002962,32.622555 L -91.0035,32.624845 L -91.00681999999999,32.631261 L -91.014286,32.640482 L -91.019115,32.643845 L -91.025769,32.646573 L -91.030181,32.644052 L -91.038415,32.636443 L -91.040401,32.632521 L -91.041448,32.625135 L -91.043263,32.620779 L -91.0489,32.613555999999996 L -91.049796,32.607188 L -91.061354,32.605371999999996 L -91.079506,32.60068 L -91.087784,32.597069999999995 L -91.105704,32.590879 L -91.112764,32.590185999999996 L -91.118641,32.585139 L -91.11985399999999,32.584795 L -91.125108,32.585187 L -91.127912,32.586493 L -91.13528,32.591651 L -91.141148,32.597209 L -91.14407399999999,32.600612999999996 L -91.146204,32.604144 L -91.15131799999999,32.615919 L -91.153556,32.626180999999995 L -91.15364868477079,32.627965094400295 L -91.153821,32.631282 L -91.15374399999999,32.635228 L -91.152699,32.640757 L -91.152081,32.641508 L -91.14975299999999,32.644041 L -91.144347,32.648029 L -91.142038,32.649265 L -91.138712,32.649774 L -91.137638,32.650621 L -91.130928,32.65887 L -91.12772299999999,32.665343 L -91.118258,32.674075 L -91.10444299999999,32.682434 L -91.098762,32.685291 L -91.08114499999999,32.691127 L -91.076061,32.693751 L -91.063946,32.702926 L -91.057043,32.712576 L -91.054749,32.719229 L -91.0545136340063,32.7218900408994 L -91.054481,32.722259 L -91.05699899999999,32.72558 L -91.060766,32.727494 L -91.077176,32.732534 L -91.09057299999999,32.7361 L -91.113652,32.73997 L -91.12315199999999,32.742798 L -91.13169099999999,32.743107 L -91.150244,32.741786 L -91.154461,32.742339 L -91.15861,32.743449 L -91.163389,32.747009 L -91.165328,32.751301 L -91.165814,32.757842 L -91.164968,32.761984 L -91.157614,32.776033 L -91.15691799999999,32.780343 L -91.158583,32.781096 L -91.164397,32.785821 L -91.1630557060552,32.7921940559525 L -91.161412,32.800004 L -91.1615150883724,32.805002382133104 L -91.1615835115222,32.8083199730676 L -91.16166899999999,32.812464999999996 L -91.15833599999999,32.822303999999995 L -91.15715499999999,32.823823 L -91.152174,32.826673 L -91.149704,32.83122 L -91.14500199999999,32.84287 L -91.143559,32.844739 L -91.13789,32.848974999999996 L -91.12788599999999,32.855059 L -91.124725,32.854861 L -91.116091,32.855641 L -91.105631,32.858396 L -91.086683,32.873391999999996 L -91.070602,32.888659 L -91.068186,32.891929 L -91.064449,32.901064 L -91.06380899999999,32.903709 L -91.0637985738819,32.903930450747694 L -91.063684,32.906363999999996 L -91.064854,32.91652 L -91.064624248363,32.917968444436504 L -91.063875,32.922692 L -91.0642106228094,32.9240547225371 L -91.064804,32.926463999999996 L -91.07054699999999,32.936036 L -91.072075,32.937832 L -91.08043099999999,32.943205999999996 L -91.081913,32.944767999999996 L -91.083084,32.947908999999996 L -91.081892,32.949435 L -91.080507,32.950123 L -91.078904,32.951817999999996 L -91.080355,32.962793999999995 L -91.08680199999999,32.976265999999995 L -91.090887,32.981173999999996 L -91.094265,32.984370999999996 L -91.09693,32.986412 L -91.10658099999999,32.988938 L -91.111757,32.988361 L -91.125107,32.984669 L -91.13441399999999,32.980533 L -91.135517,32.979656999999996 L -91.13858499999999,32.971351999999996 L -91.137524,32.96955 L -91.13305,32.966541 L -91.13094699999999,32.963815 L -91.130721,32.962257 L -91.131243,32.960927999999996 L -91.133335,32.959056 L -91.136628,32.957349 L -91.13716699999999,32.95652 L -91.137863,32.952756 L -91.13550699999999,32.946163999999996 L -91.131289,32.930049 L -91.131304,32.926919 L -91.132115,32.923122 L -91.134041,32.917676 L -91.14507599999999,32.905494 L -91.15169,32.901935 L -91.159975,32.899879 L -91.17023499999999,32.899391 L -91.175405,32.899998 L -91.181631,32.901446 L -91.19678499999999,32.906784 L -91.199775,32.908512 L -91.208263,32.915354 L -91.211597,32.919624 L -91.212837,32.922104 L -91.213972,32.927198 L -91.214027,32.93032 L -91.21282,32.936076 L -91.21070499999999,32.939845 L -91.20743999999999,32.944393 L -91.199415,32.952314 L -91.20119,32.954982 L -91.20203,32.957332 L -91.201842,32.961211999999996 L -91.199646,32.963561 L -91.19743299999999,32.964819999999996 L -91.186983,32.976194 L -91.182158,32.978639 L -91.17330799999999,32.986087999999995 L -91.168973,32.992132 L -91.166195,33.002238 L -91.166073,33.004106 L -91.166282,33.011331 L -91.162363,33.019684 L -91.15616,33.023579999999995 L -91.14975799999999,33.026312 L -91.14242399999999,33.027231 L -91.137439,33.028735999999995 L -91.129088,33.033553999999995 L -91.12565599999999,33.038275999999996 L -91.123441,33.046577 L -91.120379,33.05453 L -91.12029299999999,33.055921 L -91.121195,33.059166 L -91.124639,33.064127 L -91.149823,33.081603 L -91.16065599999999,33.085595999999995 L -91.16591799999999,33.086174 L -91.171514,33.087818 L -91.173546,33.089318 L -91.174723,33.09164 L -91.180836,33.098364 L -91.1863465782448,33.1006229834877 L -91.195953,33.104561 L -91.200167,33.10693 L -91.20112499999999,33.108185 L -91.20146199999999,33.109638 L -91.202089,33.121249 L -91.20178,33.125121 L -91.195296,33.134730999999995 L -91.193174,33.136734 L -91.188718,33.139811 L -91.183662,33.141691 L -91.169406,33.142638999999996 L -91.16165099999999,33.141781 L -91.160298,33.141216 L -91.153015,33.135093 L -91.151853,33.131802 L -91.150362,33.130694999999996 L -91.143334,33.129785 L -91.131659,33.129101 L -91.114087,33.129833999999995 L -91.104317,33.131598 L -91.093201,33.136725999999996 L -91.089862,33.139655 L -91.087589,33.145177 L -91.0869117647879,33.1487335707116 L -91.085562,33.155822 L -91.08488899999999,33.1618 L -91.084366,33.180856 L -91.086963,33.198509 L -91.08990899999999,33.210194 L -91.09171099999999,33.220813 L -91.085984,33.221644 L -91.082878,33.221621 L -91.079635,33.223225 L -91.07922699999999,33.223889 L -91.07922699999999,33.2265 L -91.07767299999999,33.227485 L -91.074103,33.226821 L -91.070697,33.227302 L -91.071079,33.230095999999996 L -91.068708,33.232935999999995 L -91.065629,33.232982 L -91.063912,33.237356 L -91.054126,33.246105 L -91.05040699999999,33.251202 L -91.047648,33.259989 L -91.045191,33.265404 L -91.04398499999999,33.269835 L -91.043624,33.274636 L -91.045141,33.279015 L -91.04814999999999,33.282796 L -91.052369,33.285415 L -91.05873,33.286901 L -91.06703499999999,33.28718 L -91.07256699999999,33.285885 L -91.07853,33.283305999999996 L -91.081244,33.28125 L -91.083694,33.278557 L -91.086137,33.273652 L -91.09034199999999,33.257325 L -91.091489,33.254838 L -91.094748,33.250499 L -91.096931,33.241628 L -91.099093,33.238172999999996 L -91.1001,33.238125 L -91.10614199999999,33.241799 L -91.11056099999999,33.24593 L -91.114325,33.252953 L -91.115184048026,33.2552449804476 L -91.117223,33.260684999999995 L -91.118208,33.262071 L -91.128078,33.268502 L -91.125528,33.274732 L -91.12553899999999,33.280255 L -91.140057,33.296617999999995 L -91.141615,33.299538999999996 L -91.1415885699783,33.3023290663642 L -91.141475,33.314318 L -91.143667,33.328398 L -91.1434008294615,33.3301967703273 L -91.14335299999999,33.33052 L -91.141893,33.332963 L -91.14178845675389,33.333361959631 L -91.140968,33.336493 L -91.142219,33.348988999999996 L -91.14179299999999,33.350076 L -91.140192,33.351452 L -91.1303188483801,33.357111847657 L -91.125108,33.360099 L -91.120409,33.363808999999996 L -91.106758,33.381141 L -91.101456,33.38719 L -91.090852,33.395781 L -91.08427585764059,33.4000857760094 L -91.0810374507895,33.402205653493695 L -91.075293,33.405966 L -91.07003408479049,33.4121383142545 L -91.062281,33.421237999999995 L -91.05917607179339,33.4268530396994 L -91.05815199999999,33.428705 L -91.057621,33.445341 L -91.0580133125203,33.4462148596964 L -91.059828,33.450257 L -91.064701,33.453775 L -91.067623,33.455104 L -91.07455499999999,33.455811 L -91.07781399999999,33.455648 L -91.081834,33.454188 L -91.08649799999999,33.451575999999996 L -91.091566,33.446318999999995 L -91.094279,33.442671 L -91.096723,33.437602999999996 L -91.09753099999999,33.433724999999995 L -91.09747399999999,33.431733 L -91.09533499999999,33.425684 L -91.09521099999999,33.417488 L -91.099277,33.408243999999996 L -91.10717,33.399077999999996 L -91.11376399999999,33.393124 L -91.123623,33.387526 L -91.14093799999999,33.380477 L -91.154017,33.378914 L -91.166304,33.379709 L -91.17196799999999,33.381029999999996 L -91.176942,33.382841 L -91.191127,33.389634 L -91.1930386834362,33.3909227138944 L -91.204758,33.398823 L -91.208113,33.402007 L -91.209032,33.403633 L -91.20922,33.40629 L -91.208702,33.408719 L -91.205272,33.414231 L -91.20258,33.416832 L -91.199354,33.418321 L -91.19197299999999,33.417728 L -91.184427,33.419576 L -91.179368,33.417151 L -91.17627999999999,33.416979 L -91.163387,33.422157 L -91.147663,33.427172 L -91.144877,33.427706 L -91.13915,33.426955 L -91.131885,33.430063 L -91.130561,33.4319 L -91.130552,33.433263 L -91.12858899999999,33.436284 L -91.1211,33.443563 L -91.118495,33.449116 L -91.117975,33.453807 L -91.11896443620039,33.4575629980587 L -91.11966699999999,33.460229999999996 L -91.125109,33.472842 L -91.136656,33.481322999999996 L -91.157319,33.492923 L -91.160142,33.494828999999996 L -91.164019,33.497448 L -91.167403,33.498304 L -91.172213,33.496691 L -91.175488,33.49077 L -91.177148,33.48617 L -91.17698399999999,33.478899 L -91.175635,33.471761 L -91.171799,33.462342 L -91.16936,33.452629 L -91.17729299999999,33.443638 L -91.181787,33.44078 L -91.186979,33.438592 L -91.19465799999999,33.436358 L -91.206807,33.433845999999996 L -91.210275,33.433796 L -91.21737399999999,33.434699 L -91.235181,33.438972 L -91.235928,33.440611 L -91.23431,33.4423 L -91.2336971298595,33.443499513856004 L -91.23342199999999,33.444038 L -91.232587,33.453958 L -91.231661,33.457100000000004 L -91.223338,33.462764 L -91.220192,33.463045 L -91.215508,33.46478 L -91.208535,33.468606 L -91.20675299999999,33.470307999999996 L -91.20566099999999,33.473552999999995 L -91.199593,33.483125 L -91.195634,33.488468 L -91.189375,33.493005 L -91.185637,33.496399 L -91.18307,33.498613 L -91.182901,33.502379 L -91.184612,33.507363999999995 L -91.187367,33.510552 L -91.215671,33.529423 L -91.219297,33.532364 L -91.226325,33.5412 L -91.229834,33.547047 L -91.232295,33.552788 L -91.232537,33.557454 L -91.23141799999999,33.560593 L -91.2308579778816,33.56137194507 L -91.228489,33.564667 L -91.224121,33.567369 L -91.22146599999999,33.568166 L -91.20315099999999,33.570758 L -91.198285,33.572061 L -91.188942,33.576225 L -91.181068,33.58152 L -91.17822,33.582606999999996 L -91.175979,33.582968 L -91.160755,33.581351999999995 L -91.157429,33.581372 L -91.152148,33.582721 L -91.138418,33.590896 L -91.13404299999999,33.594488999999996 L -91.13244999999999,33.596989 L -91.131588,33.59945 L -91.130445,33.606034 L -91.13090199999999,33.610918999999996 L -91.1329605860014,33.6159919651592 L -91.134389,33.619512 L -91.139209,33.625658 L -91.150499,33.633013 L -91.16421199999999,33.643277999999995 L -91.171168,33.647766 L -91.178311,33.651109 L -91.18545499999999,33.653604 L -91.21128399999999,33.658526 L -91.219048,33.661502999999996 L -91.223001,33.664794 L -91.226537,33.668665 L -91.228228,33.671326 L -91.22901499999999,33.677543 L -91.227857,33.683073 L -91.225279,33.687749 L -91.22485081812859,33.6882194635809 L -91.22057,33.692923 L -91.212077,33.698249 L -91.205377,33.700818999999996 L -91.200712,33.701535 L -91.190113,33.701859999999996 L -91.17573,33.703116 L -91.165846,33.705133 L -91.162464,33.70684 L -91.160866,33.707096 L -91.144188,33.689596 L -91.133416,33.67679 L -91.13045,33.674521999999996 L -91.10097999999999,33.660551 L -91.09403999999999,33.658350999999996 L -91.088202,33.657387 L -91.084126,33.657322 L -91.078507,33.658283 L -91.06711,33.662689 L -91.05918199999999,33.6664 L -91.050523,33.668064 L -91.04641199999999,33.668272 L -91.03684,33.671316 L -91.034565,33.673018 L -91.03380495550819,33.6742722569971 L -91.03146,33.678142 L -91.030332,33.681622 L -91.030402,33.687765999999996 L -91.033366,33.688773 L -91.03612,33.689113 L -91.03715,33.692907 L -91.039025,33.696594999999995 L -91.04126099999999,33.699933 L -91.04677799999999,33.706313 L -91.055562,33.712486 L -91.059891,33.714816 L -91.063752,33.715892 L -91.06828999999999,33.716477 L -91.075389,33.714403 L -91.089873,33.707364 L -91.101101,33.705007 L -91.107646,33.704679 L -91.117733,33.705342 L -91.12552699999999,33.70878 L -91.13233799999999,33.714245999999996 L -91.14473199999999,33.726803 L -91.145792,33.728924 L -91.14661799999999,33.732456 L -91.146523,33.736503 L -91.143287,33.747141 L -91.144539,33.749338 L -91.144571,33.751607 L -91.141553,33.755956999999995 L -91.140756,33.759735 L -91.14130399999999,33.760835 L -91.14363399999999,33.762094999999995 L -91.144812,33.763996 L -91.145112,33.76734 L -91.14201,33.77382 L -91.13986899999999,33.777117 L -91.137351,33.779923 L -91.133854,33.782814 L -91.13218499999999,33.78342 L -91.128222,33.783446999999995 L -91.123466,33.782106 L -91.117836,33.779026 L -91.11403215048959,33.7763521493035 L -91.111494,33.774567999999995 L -91.10731799999999,33.770618999999996 L -91.088996,33.775801 L -91.08551,33.77641 L -91.060524,33.77764 L -91.05388599999999,33.778701 L -91.026782,33.763642 L -91.023285,33.762991 L -91.01276999999999,33.764675 L -91.000106,33.769165 L -90.993842,33.773601 L -90.99122,33.776790999999996 L -90.98944399999999,33.780575999999996 L -90.988466,33.78453 L -90.9890693438216,33.7870549178418 L -90.989299,33.788016 L -90.99174699999999,33.792597 L -91.000107,33.799549 L -91.007767,33.802591 L -91.02009799999999,33.804446999999996 L -91.02254101166159,33.8051719607019 L -91.025173,33.805952999999995 L -91.042448,33.812855 L -91.046849,33.815365 L -91.049679,33.818729 L -91.052819,33.824180999999996 L -91.056692,33.828935 L -91.064977,33.837126 L -91.067511,33.840443 L -91.07119499999999,33.849539 L -91.073011,33.857448999999995 L -91.07279799999999,33.862396 L -91.070883,33.866714 L -91.061247,33.877505 L -91.055309,33.883035 L -91.0394007245812,33.8962635825537 L -91.03667399999999,33.898531 L -91.026382,33.90798 L -91.01748099999999,33.919083 L -91.010831,33.925551999999996 L -91.01003999999999,33.927003 L -91.0101898469778,33.9282691530609 L -91.010318,33.929352 L -91.01299399999999,33.932276 L -91.02009699999999,33.937127 L -91.035961,33.943757999999995 L -91.046725,33.947406 L -91.078496,33.95406 L -91.0790048351099,33.954252573959295 L -91.08409499999999,33.956179 L -91.08675799999999,33.95827 L -91.088696,33.961334 L -91.089787,33.966004 L -91.089756,33.969721 L -91.089119,33.972653 L -91.087921,33.975335 L -91.083187,33.979865 L -91.07925399999999,33.982101 L -91.075378,33.983585999999995 L -91.071203,33.984473 L -91.062264,33.985082999999996 L -91.048367,33.985078 L -91.042751,33.986810999999996 L -91.03958899999999,33.989297 L -91.033765,33.995323 L -91.01889,34.003150999999995 L -91.01361,33.994495 L -91.004981,33.977011 L -91.00298599999999,33.970901999999995 L -91.000108,33.966428 L -90.994856,33.963118 L -90.987653,33.960792999999995 L -90.983359,33.960186 L -90.97686399999999,33.960502999999996 L -90.970856,33.961867999999996 L -90.967632,33.963324 L -90.965187,33.965461 L -90.96372,33.967687999999995 L -90.96122199999999,33.976151 L -90.961548,33.979945 L -90.970947,33.991884999999996 L -90.97748899999999,33.996553999999996 L -90.979945,34.000105999999995 L -90.987948,34.019038 L -90.982742,34.020469 L -90.976918,34.021335 L -90.970726,34.02162 L -90.958456,34.020254 L -90.950311,34.017821999999995 L -90.942662,34.018049999999995 L -90.934896,34.019262 L -90.923745,34.023143 L -90.922017,34.023216 L -90.914642,34.021885 L -90.899467,34.023796 L -90.89242,34.02686 L -90.888956,34.029787999999996 L -90.887413,34.032505 L -90.886991,34.035094 L -90.887394,34.039845 L -90.88905799999999,34.046361999999995 L -90.888627,34.052419 L -90.88783699999999,34.055403 L -90.88635099999999,34.058564 L -90.882115,34.063902999999996 L -90.874541,34.072041 L -90.87194,34.076361999999996 L -90.87177887623109,34.0768360142606 L -90.870528,34.080515999999996 L -90.87046099999999,34.082739 L -90.871923,34.086652 L -90.876606,34.092911 L -90.878912,34.094573 L -90.882628,34.096615 L -90.88808499999999,34.097809999999996 L -90.893526,34.097795 L -90.90113,34.094667 L -90.91406599999999,34.092756 L -90.91839499999999,34.093053999999995 L -90.921273,34.093958 L -90.94632299999999,34.109373999999995 L -90.948514,34.111269 L -90.95500367987549,34.1189731025439 L -90.955974,34.120125 L -90.958467,34.125105 L -90.959317,34.13035 L -90.9543,34.138498 L -90.938064,34.148754 L -90.91001,34.165507999999996 L -90.903577,34.164332 L -90.894385,34.160953 L -90.883073,34.151502 L -90.876836,34.14813 L -90.86788,34.142146 L -90.86457999999999,34.140555 L -90.853471,34.137510999999996 L -90.847168,34.136884 L -90.83609899999999,34.137876 L -90.83028499999999,34.139813 L -90.82570799999999,34.142011 L -90.822593,34.144054 L -90.815878,34.149879 L -90.810884,34.155902999999995 L -90.807813,34.161474 L -90.807164,34.16746 L -90.808685,34.175878 L -90.8092482325233,34.176960879058804 L -90.81001599999999,34.178436999999995 L -90.81237399999999,34.180766999999996 L -90.816572,34.183023 L -90.82838799999999,34.184784 L -90.838205,34.183803999999995 L -90.84710799999999,34.186053 L -90.85560000000001,34.186879999999995 L -90.859087,34.186288 L -90.864566,34.183882 L -90.86965099999999,34.182964999999996 L -90.87383,34.18322 L -90.87747499999999,34.185632999999996 L -90.882701,34.184363999999995 L -90.887884,34.181979999999996 L -90.891871,34.184765999999996 L -90.9118,34.193897 L -90.91604799999999,34.196916 L -90.93267999999999,34.214824 L -90.93522,34.219049999999996 L -90.936988,34.227041 L -90.937152,34.23411 L -90.936404,34.236698 L -90.933511,34.240218 L -90.92901499999999,34.244541 L -90.923152,34.24653 L -90.912396,34.245931999999996 L -90.907082,34.244492 L -90.905934,34.243528999999995 L -90.904279,34.24096 L -90.900078,34.229621 L -90.898286,34.227253 L -90.89456,34.22438 L -90.87912,34.21545 L -90.867064,34.212140999999995 L -90.856708,34.211597999999995 L -90.852764,34.209403 L -90.847808,34.20653 L -90.844824,34.210999 L -90.842151,34.216879999999996 L -90.840009,34.223076999999996 L -90.83950899999999,34.226200999999996 L -90.84012799999999,34.230104 L -90.839981,34.236114 L -90.836972,34.250104 L -90.8335284493208,34.2632196660809 L -90.83240699999999,34.267491 L -90.830612,34.271245 L -90.828267,34.273649999999996 L -90.824478,34.27624 L -90.82091899999999,34.27784 L -90.812829,34.279438 L -90.802928,34.282465 L -90.797569,34.282402 L -90.7767231943719,34.280376159742296 L -90.772266,34.279942999999996 L -90.765165,34.280524 L -90.755271,34.286848 L -90.752681,34.289266 L -90.743082,34.302257 L -90.740889,34.306537999999996 L -90.74060999999999,34.313469 L -90.742694,34.320263 L -90.74471299999999,34.324872 L -90.748942,34.331044999999996 L -90.765174,34.342818 L -90.767108,34.345264 L -90.767732,34.346872 L -90.768445,34.353469 L -90.767061,34.360271 L -90.76576399999999,34.362109 L -90.762085,34.364754 L -90.756197,34.367256 L -90.750107,34.367919 L -90.741616,34.367225 L -90.7336653420393,34.3653024500294 L -90.729131,34.364205999999996 L -90.724909,34.363659 L -90.71301772823419,34.3637944126572 L -90.712088,34.363805 L -90.700147,34.365854999999996 L -90.690497,34.368606 L -90.678603,34.371122 L -90.676245,34.371111 L -90.676159,34.369558 L -90.68162,34.35291 L -90.69155099999999,34.338618 L -90.693686,34.329679999999996 L -90.693129,34.32257 L -90.690005,34.318584 L -90.686003,34.315771 L -90.678097,34.313030999999995 L -90.669343,34.31302 L -90.661395,34.315398 L -90.657488,34.322230999999995 L -90.657371,34.327287 L -90.660404,34.33576 L -90.66087440465779,34.336693015370294 L -90.666862,34.348569 L -90.666788,34.35582 L -90.655346,34.371846 L -90.658542,34.375704999999996 L -90.641398,34.383869 L -90.63494,34.386362999999996 L -90.631586,34.387192999999996 L -90.61847999999999,34.388767 L -90.61394399999999,34.390723 L -90.580677,34.410554 L -90.5801849857429,34.41097756891109 L -90.575336,34.415152 L -90.571145,34.420319 L -90.56984868416879,34.422435183704 L -90.56839699999999,34.424805 L -90.56650499999999,34.429528 L -90.565826,34.434379 L -90.5666737771211,34.437763344305395 L -90.56733,34.440383 L -90.573959,34.451875 L -90.576893,34.454350999999996 L -90.583717,34.458829 L -90.585477,34.461247 L -90.588346,34.470562 L -90.58992099999999,34.484792999999996 L -90.588942,34.491096999999996 L -90.587490456876,34.4965056046236 L -90.586525,34.500102999999996 L -90.58353,34.504084999999996 L -90.581062,34.512817999999996 L -90.5797559867619,34.5145861253569 L -90.578493,34.516296 L -90.569347,34.524867 L -90.55527599999999,34.531012 L -90.545728,34.537749999999996 L -90.543633,34.540378 L -90.541282,34.545331 L -90.540736,34.548085 L -90.54095099999999,34.550853 L -90.545891,34.563257 L -90.549244,34.568101 L -90.557666,34.576929 L -90.564866,34.582602 L -90.570133,34.587457 L -90.574787,34.595242999999996 L -90.581693,34.604227 L -90.58722399999999,34.615732 L -90.58825499999999,34.626616 L -90.5834403324521,34.641389257845596 L -90.58301999999999,34.642679 L -90.58308799999999,34.643609999999995 L -90.585031,34.647072 L -90.586336,34.651689 L -90.587323,34.665407 L -90.58853599999999,34.668645999999995 L -90.588419,34.670963 L -90.58200599999999,34.680234999999996 L -90.578745,34.683844 L -90.573106,34.686425 L -90.567334,34.693371 L -90.563391,34.695876 L -90.5556919806313,34.6979286751794 L -90.555627,34.697946 L -90.552317,34.697086999999996 L -90.54985599999999,34.695478 L -90.548071,34.693169 L -90.542761,34.688781 L -90.54007399999999,34.684981 L -90.538856,34.682463 L -90.538061,34.673232 L -90.53940899999999,34.670902 L -90.550158,34.663444999999996 L -90.55264199999999,34.659707 L -90.553962,34.655018 L -90.555104,34.646236 L -90.55412899999999,34.640871 L -90.551761,34.636483999999996 L -90.547614,34.631656 L -90.543696,34.629559 L -90.537165,34.627767 L -90.53218799999999,34.627486999999995 L -90.524481,34.628504 L -90.517168,34.630928 L -90.5081,34.636682 L -90.503061,34.640789999999996 L -90.496639,34.648117 L -90.48789,34.654880999999996 L -90.47971799999999,34.659934 L -90.469821,34.669436 L -90.46604099999999,34.674312 L -90.46369317848409,34.681418801128004 L -90.46281599999999,34.684073999999995 L -90.462552,34.687576 L -90.463734,34.691092999999995 L -90.467064,34.695643 L -90.46997982090849,34.6980649497622 L -90.47118499999999,34.699066 L -90.475194,34.700826 L -90.480041,34.701515 L -90.486966,34.701477 L -90.496552,34.700578 L -90.509847,34.698003 L -90.52208399999999,34.696605 L -90.52921099999999,34.696819 L -90.538974,34.698783 L -90.546053,34.702076 L -90.5555247323095,34.7112499429407 L -90.565646,34.721053 L -90.567482,34.723292 L -90.56808099999999,34.724802 L -90.56817199999999,34.727384 L -90.5680615163688,34.7281046330409 L -90.56724,34.733463 L -90.565437,34.736536 L -90.563544,34.738671 L -90.559895,34.740787999999995 L -90.556308,34.741541 L -90.550119,34.741952999999995 L -90.546425,34.743078 L -90.53880099999999,34.745642 L -90.53540799999999,34.750062 L -90.536667,34.754947 L -90.540634,34.760478 L -90.542631,34.764396 L -90.54622499999999,34.773443 L -90.547859,34.779194 L -90.54817,34.78189 L -90.547612,34.784589 L -90.544067,34.791159 L -90.540222,34.795767999999995 L -90.53650999999999,34.798572 L -90.53133,34.800584 L -90.522892,34.802265 L -90.5167816771734,34.8018940214458 L -90.51470599999999,34.801767999999996 L -90.512761,34.796488 L -90.50367899999999,34.780136 L -90.50152299999999,34.774795 L -90.50099399999999,34.771187 L -90.501325,34.769931 L -90.505494,34.764568 L -90.516522,34.758333 L -90.52243399999999,34.753952999999996 L -90.524852,34.750079 L -90.524354,34.742079 L -90.523929,34.738417 L -90.520181,34.731902 L -90.511364,34.727604 L -90.501667,34.724236 L -90.48886499999999,34.723731 L -90.479704,34.724793 L -90.46989699999999,34.72703 L -90.45795,34.732946 L -90.454968,34.735557 L -90.452479,34.739898 L -90.4518770228971,34.7421576309091 L -90.451257,34.744485 L -90.45116999999999,34.747786999999995 L -90.45303799999999,34.753352 L -90.458883,34.764267 L -90.470411,34.780877 L -90.47352699999999,34.788835 L -90.47458999999999,34.7932 L -90.473877,34.798398999999996 L -90.47228,34.802465 L -90.47054399999999,34.805036 L -90.465367,34.810592 L -90.459024,34.81444 L -90.456761,34.820395 L -90.456935,34.823383 L -90.46379499999999,34.834922999999996 L -90.474403,34.849495 L -90.481955,34.857805 L -90.483876,34.861333 L -90.485038,34.869251999999996 L -90.48455799999999,34.875096 L -90.483969,34.877176 L -90.479872,34.883264 L -90.475686,34.88631 L -90.46615399999999,34.890989 L -90.459819,34.891946 L -90.45391599999999,34.891121999999996 L -90.444806,34.887994 L -90.441254,34.886313 L -90.438313,34.884581 L -90.436561,34.882731 L -90.43009599999999,34.871212 L -90.42898,34.867168 L -90.429115,34.865086999999995 L -90.431722,34.858913 L -90.431741,34.855050999999996 L -90.43082799999999,34.848982 L -90.428754,34.8414 L -90.423879,34.834606 L -90.422355,34.833675 L -90.414864,34.831846 L -90.41066599999999,34.832028 L -90.4079908833418,34.832998481267495 L -90.40163299999999,34.835305 L -90.379837,34.845931 L -90.35217399999999,34.853196 L -90.348218,34.855112999999996 L -90.34038,34.860357 L -90.33577206438409,34.8558944521077 L -90.332298,34.85253 L -90.323067,34.846391 L -90.319198,34.844854 L -90.311312,34.844223 L -90.307384,34.846195 L -90.303944,34.850516999999996 L -90.302669,34.854366 L -90.302523,34.856471 L -90.303698,34.859704 L -90.3044193945795,34.8605888851081 L -90.313476,34.871697999999995 L -90.31000499999999,34.875097 L -90.301957,34.880053 L -90.279364,34.890077 L -90.250095,34.90732 L -90.248308,34.909739 L -90.246546,34.914168 L -90.244725,34.921031 L -90.24447599999999,34.937596 L -90.246116,34.944316 L -90.247832,34.947916 L -90.2495204334623,34.9504061356819 L -90.250056,34.951195999999996 L -90.253969,34.954988 L -90.25966299999999,34.957792999999995 L -90.27824,34.965077 L -90.282234,34.967661 L -90.287239,34.972531 L -90.293083,34.974574 L -90.29642199999999,34.976346 L -90.302471,34.982077 L -90.304425,34.984939 L -90.309297,34.995694 L -90.3026450463283,34.9956725996129 L -90.13745238930879,34.9951411487056 L -90.12760563119531,34.9951094701272 L -90.1269475389888,34.9951073529405 L -90.0963372057652,34.9950088746566 L -90.0607842992266,34.994894495332694 L -90.04303640730011,34.994837397557006 L -90.0313291971037,34.99479973361 L -90.0250722522122,34.9947796040286 L -90.0250168365057,34.9947794257475 L -90.00815475867739,34.9947251777759 L -90.008136877334,34.994725120248795 L -90.0025384419794,34.994707109196696 L -90.00226495154101,34.9947062293347 L -89.9899073593362,34.99466647300589 L -89.98990067128989,34.994666451489394 L -89.97219550889899,34.9946094911814 L -89.95589828023449,34.994557060419005 L -89.9367552242117,34.9944954741798 L -89.9367527187411,34.994495466119304 L -89.91887881498529,34.9944379629436 L -89.9014606033329,34.9943819258016 L -89.893449449911,34.99435615265389 L -89.893402,34.994355999999996 L -89.8837478802462,34.994264623953704 L -89.883365,34.994261 L -89.8783097856676,34.9942511438032 L -89.8617990449356,34.99421895266379 L -89.84848799999999,34.994192999999996 L -89.84838459511829,34.994193194001795 L -89.8377794635948,34.9942130906857 L -89.8307644094975,34.9942262518911 L -89.83068949042689,34.9942263924496 L -89.8131287302322,34.9942593388487 L -89.7953564909701,34.994292682011604 L -89.795187,34.994293 L -89.75961578200929,34.9948931585598 L -89.75961233055601,34.994893216792796 L -89.7419450298609,34.9951912999718 L -89.741785,34.995194 L -89.7243244282036,34.995211728650496 L -89.7066059367629,34.9952297191806 L -89.64428199999999,34.995293 L -89.6440499795058,34.9952920623604 L -89.61794057187709,34.9951865492017 L -89.59101607378369,34.995077742105 L -89.5825900861135,34.9950436910615 L -89.5822270839594,34.9950422240997 L -89.5717770727674,34.9949999935863 L -89.56505951050359,34.994972846619795 L -89.52874829939559,34.994826106003 L -89.511153,34.994755 L -89.51113322718871,34.9947545526308 L -89.49373899999999,34.994361 L -89.486897,34.993975 L -89.48446201429579,34.9939646399546 L -89.4410170689412,34.9937797963198 L -89.43495399999999,34.993753999999996 L -89.40572016978702,34.9938850355527 L -89.38112804033739,34.9939952654901 L -89.35268016441019,34.9941227781396 L -89.23319005545419,34.9946583717431 L -89.217433,34.994729 L -89.19828799999999,34.994484 L -89.1584880355985,34.9939483549327 L -89.15682699999999,34.993926 L -89.139136,34.994307 L -89.13899699999999,34.99433 L -89.02654,34.994956 L -89.0171270872889,34.9949454068841 L -88.9936842139341,34.99491902471289 L -88.93112498467029,34.9948486217263 L -88.925241,34.994842 L -88.8937681261162,34.995685948790005 L -88.886979,34.995868 L -88.8582329321065,34.9952417640877 L -88.85103699999999,34.995084999999996 L -88.8230487339323,34.9951575501037 L -88.78661199999999,34.995252 L -88.71968852525829,34.99541701881309 L -88.6844382883445,34.9955039382727 L -88.6058652359321,34.9956976824245 L -88.58498971194459,34.9957491569513 L -88.5638643532817,34.9958012475163 L -88.5316851494129,34.9958805944727 L -88.53104614590069,34.9958821701171 L -88.5284971515357,34.9958884553859 L -88.51421417673279,34.9959236741123 L -88.5142131311916,34.995923676690396 L -88.5054084601072,34.9959453871048 L -88.50483317952289,34.995946805622296 L -88.47883399999999,34.9960109139754 L -88.474158525998,34.996022442683 L -88.469877,34.996033 L -88.46980099999999,34.996052 L -88.4628193195682,34.9960174407092 L -88.38050799999999,34.99561 L -88.3635308623519,34.99558961029079 L -88.258111,34.995463 L -88.25382499999999,34.995553 L -88.2516572426499,34.9955562660915 L -88.2516091346036,34.9955563385744 L -88.20034100539779,34.9956335826447 L -88.200064,34.995633999999995 L -88.19881099999999,34.991192 L -88.187429,34.974909 L -88.17997299999999,34.967466 L -88.17610599999999,34.962519 L -88.172102,34.955213 L -88.161594,34.933456 L -88.154617,34.922391999999995 L -88.146335,34.914373999999995 L -88.139721,34.909631 L -88.136692,34.907592 L -88.13318600882819,34.9059779925659 L -88.12503799999999,34.902226999999996 L -88.099999,34.894095 L -88.097888,34.892202 L -88.104828239252,34.8343853294572 L -88.10755999999999,34.811628 L -88.116418,34.746303 L -88.11840699999999,34.724292 L -88.120809790864,34.708890862191595 L -88.1229228444128,34.6953468499391 L -88.1308067668013,34.6448133736411 L -88.13426299999999,34.622659999999996 L -88.1343641919509,34.621900492639696 L -88.138719,34.589214999999996 L -88.139246,34.587795 L -88.139988,34.581703 L -88.1525090963558,34.4907061779864 L -88.1560500936445,34.464972049690495 L -88.156292,34.463214 L -88.15655206473149,34.4609838238307 L -88.15675103972801,34.4592775205854 L -88.1586659845225,34.4428559772994 L -88.1594297785128,34.4363060881802 L -88.1613748286655,34.4196263774296 L -88.165634,34.383102 L -88.1656733734431,34.3827915774924 L -88.16591,34.380925999999995 L -88.173632,34.321054 L -88.175867,34.302171 L -88.176889,34.293858 L -88.17710617074539,34.292238747559196 L -88.1774959379743,34.289332593991105 L -88.186667,34.220952 L -88.18762,34.204778 L -88.19067799999999,34.190123 L -88.192128,34.175351 L -88.20019599999999,34.115947999999996 L -88.2037840638383,34.0865542422802 L -88.20600529627859,34.0683576964181 L -88.207229,34.058333 L -88.210741,34.029199 L -88.21174683554689,34.0217404155568 L -88.2132700197265,34.0104455295678 L -88.222135875909,33.9447024394569 L -88.226428,33.912875 L -88.226517,33.911665 L -88.226517,33.911550999999996 L -88.22893187253071,33.8942371038877 L -88.22924906832169,33.8919629072572 L -88.229252650117,33.891937226882 L -88.2294613585972,33.8904408510291 L -88.23098695974831,33.8795027582299 L -88.235492,33.847203 L -88.240054,33.810879 L -88.24159929706839,33.8029735909988 L -88.2416094387383,33.8029217083864 L -88.243025,33.79568 L -88.244142,33.781673 L -88.2460218415259,33.767286363158895 L -88.2489373465952,33.744973677721305 L -88.252257,33.719567999999995 L -88.25444499999999,33.698779 L -88.254622,33.69578 L -88.256131,33.68286 L -88.256343,33.682052999999996 L -88.262002140265,33.6354380745981 L -88.26237072685801,33.6324019885971 L -88.2623713027984,33.632397244516696 L -88.267005,33.594229 L -88.26714799999999,33.591989 L -88.26816,33.58504 L -88.269076,33.576929 L -88.269532,33.572894 L -88.27005,33.570819 L -88.270781740705,33.564923594639005 L -88.2713779363513,33.560120233305 L -88.27414078427691,33.537860834095305 L -88.274619,33.534008 L -88.276805,33.516463 L -88.27742099999999,33.512436 L -88.27834801921169,33.504739977004704 L -88.2801043139762,33.4901593893276 L -88.2859481129665,33.4416447406107 L -88.2910782508144,33.3990548370265 L -88.29301654948,33.3829632707304 L -88.2970970227493,33.349087580004394 L -88.30049884097339,33.32084601721 L -88.3005000457713,33.3208360150958 L -88.30274373083179,33.3022091607627 L -88.30441698708259,33.2883179507206 L -88.30809041634369,33.2578214996127 L -88.3114725832984,33.2297430797382 L -88.312535,33.220923 L -88.315235,33.203323 L -88.317135,33.184123 L -88.3218542065997,33.14616209746001 L -88.3222722892766,33.1427990754313 L -88.330934,33.073125 L -88.3310076496119,33.072489727510394 L -88.34043199999999,32.991199 L -88.3478500256084,32.929077584824 L -88.354292,32.87513 L -88.3666091107452,32.763433949980005 L -88.36818559513,32.7491378149249 L -88.368349,32.747656 L -88.3690552109757,32.74258399248949 L -88.37333799999999,32.711825 L -88.38298499999999,32.626954 L -88.383039,32.626678999999996 L -88.38537792631818,32.607159528893895 L -88.3855823489929,32.6054535228254 L -88.3861753483959,32.6005046560645 L -88.3888572465182,32.5781229194103 L -88.39996599999999,32.485414999999996 L -88.3999703119346,32.4853749259647 L -88.4033142007722,32.4542976645469 L -88.40378899999999,32.449885 L -88.40378899999999,32.44977 L -88.40391242456269,32.448781795875895 L -88.4039163853966,32.448750083286896 L -88.4100961455102,32.3992715654218 L -88.41250000000001,32.380024999999996 L -88.41381899999999,32.373922 L -88.4144532827107,32.3685012674077 L -88.41471435859509,32.3662700501098 L -88.4149186209757,32.36452437467909 L -88.421453,32.308679999999995 L -88.4240705677077,32.2862295148856 L -88.42794114332119,32.2530321691437 L -88.42827799999999,32.250143 L -88.43129401638389,32.2276546024792 L -88.4338373824385,32.2086904392936 L -88.43581075890519,32.1939763035621 L -88.43865,32.172806 L -88.43871,32.172078 L -88.4418791405619,32.146430371089295 L -88.4428468074689,32.1385991117127 L -88.443049750597,32.1369567074276 L -88.4534176891327,32.0530497191012 L -88.45388348887829,32.049280034926895 L -88.454959,32.040576 L -88.455039,32.039719 L -88.46866,31.933173 L -88.4688742551621,31.9303250695125 L -88.4688743843865,31.9303233518312 L -88.468879,31.930262 L -88.473227,31.893856 L -88.472642,31.875152999999997 L -88.47121399999999,31.851384999999997 L -88.47110599999999,31.850949 L -88.4698254016609,31.819300827588197 L -88.46905353307841,31.8002251898712 L -88.46866899999999,31.790722 L -88.46819722538001,31.7816613313433 L -88.46510699999999,31.722312 L -88.46442697928089,31.697951902948798 L -88.46442499999999,31.697881 L -88.4638529086848,31.688894069471097 L -88.4606299357415,31.6382646801284 L -88.459722,31.624001999999997 L -88.45947799999999,31.621651999999997 L -88.45777164245409,31.589586730776197 L -88.4563306535853,31.562508176143897 L -88.4536095981131,31.511375061341003 L -88.4535741066828,31.5107081188993 L -88.45329067959149,31.505382056955696 L -88.453013,31.500163999999998 L -88.45157499999999,31.481533 L -88.451045,31.459448 L -88.4495695963996,31.4358347375977 L -88.449569225455,31.435828800772597 L -88.44865999999999,31.421277 L -88.448686,31.420887999999998 L -88.44520899999999,31.355968999999998 L -88.445182,31.355855 L -88.44415645047549,31.3393230199194 L -88.44380823874289,31.333709805452198 L -88.4403875099455,31.2785672511538 L -88.43970863275949,31.267623670323697 L -88.4391512235642,31.258638167924197 L -88.43878,31.252654 L -88.43898,31.246896 L -88.438211,31.231251999999998 L -88.438104,31.230059999999998 L -88.43350769620758,31.1427912908627 L -88.432007,31.114297999999998 L -88.4304196826215,31.0853230573691 L -88.42580699999999,31.001123 L -88.42572899999999,31.000183 L -88.4256361537673,30.9983011286609 L -88.4220230007208,30.925067256218597 L -88.419562,30.875186 L -88.41863,30.866528 L -88.4184764744795,30.863275069407297 L -88.41825377027149,30.858556366425802 L -88.4181272847116,30.8558763641312 L -88.4148111125415,30.785612619929296 L -88.41245060127909,30.7355976173844 L -88.41226999999999,30.731771 L -88.41220899999999,30.730394999999998 L -88.41154999999999,30.712956 L -88.411339,30.706334 L -88.409571,30.668730999999998 L -88.40807,30.636969999999998 L -88.40806433481309,30.6369204575682 L -88.407462,30.631653 L -88.407484,30.622736 L -88.4060104917735,30.589761 L -88.404676680269,30.559912212208598 L -88.40418841075069,30.5489854409314 L -88.40401299999999,30.54506 L -88.4040045380663,30.5448844664734 L -88.403931,30.543359 L -88.40354699999999,30.5331 L -88.402283,30.510852 L -88.40196548524719,30.5046667163986 L -88.4004035205078,30.4742391699529 L -88.4004023553571,30.4742164724636 L -88.4003178648367,30.472570571522397 L -88.39958105438029,30.458217280556003 L -88.395023,30.369425 L -88.39723599999999,30.367689 L -88.399062,30.360744 L -88.397082,30.354785 L -88.39415,30.352493 L -88.390746,30.352075 L -88.39398,30.349307 L -88.401181,30.344382 L -88.409927,30.342115 L -88.40880899999999,30.349203 L -88.412374,30.358022 L -88.418554,30.357612 L -88.420548,30.353941 L -88.43091299999999,30.355560999999998 L -88.436618,30.357816999999997 L -88.44327299999999,30.355971999999998 L -88.4464506716358,30.357251090826797 L -88.446838,30.357407 L -88.44873899999999,30.3531 L -88.446495,30.347752999999997 L -88.446625,30.337671 L -88.45380999999999,30.329625999999998 L -88.471875,30.32002 L -88.48011699999999,30.318344999999997 L -88.504119,30.320072999999997 L -88.506226,30.322392999999998 L -88.506334,30.327398 L -88.5139233961846,30.3320155187343 L -88.5140289004294,30.3320797093254 L -88.521945,30.336896 L -88.522494,30.340092 L -88.52693599999999,30.342433999999997 L -88.536214,30.343299 L -88.5430995963863,30.343440788957004 L -88.54662750675121,30.343513436074698 L -88.550696,30.343597214934498 L -88.564687783629,30.3438853352796 L -88.579483,30.344189999999998 L -88.582177,30.356354 L -88.586356,30.358843 L -88.584454,30.364379999999997 L -88.586052,30.367518999999998 L -88.588194,30.368751 L -88.590514,30.365592999999997 L -88.59281399999999,30.36124 L -88.595559,30.359474 L -88.59943899999999,30.35951 L -88.60001,30.356575 L -88.605406,30.355290999999998 L -88.6069447673403,30.3544391370469 L -88.607225,30.354284 L -88.61075799999999,30.355064 L -88.61139899999999,30.353887 L -88.613006,30.353963999999998 L -88.611578,30.358354 L -88.612381,30.365053999999997 L -88.610953,30.371677 L -88.611131,30.37314 L -88.611408934753,30.373204573180196 L -88.612263,30.373403 L -88.61820499999999,30.372583 L -88.625503,30.3686 L -88.63146642123039,30.3643198734944 L -88.637697,30.359848 L -88.6453766032459,30.360509745852497 L -88.66382,30.362098999999997 L -88.6643858625917,30.3618695302381 L -88.66443023623529,30.361851535746897 L -88.6646058785009,30.3617803089342 L -88.6646214935596,30.361773976683498 L -88.66465682091139,30.3617596506631 L -88.6697165469578,30.3597078201515 L -88.679575,30.35571 L -88.69216399999999,30.347302 L -88.700587,30.343688999999998 L -88.71407699999999,30.342185999999998 L -88.728893,30.342671 L -88.746945,30.347621999999998 L -88.7488592402935,30.348994630022197 L -88.7490527901102,30.3491334173469 L -88.77174199999999,30.365402999999997 L -88.7843441162664,30.371567363746397 L -88.8080074747104,30.3831423679621 L -88.8104489204807,30.3843366086338 L -88.81161499999999,30.384907 L -88.81262199999999,30.386702999999997 L -88.80203499999999,30.384991999999997 L -88.8008993713624,30.384702363982896 L -88.79598899999999,30.38345 L -88.790523,30.384065 L -88.7900243557591,30.385642757934896 L -88.78981,30.386321 L -88.79394966600479,30.3916779871441 L -88.794088,30.391856999999998 L -88.79990867458321,30.391699353541398 L -88.801694,30.391651 L -88.810227,30.394697999999998 L -88.823724,30.402376 L -88.82417111678589,30.4025594286201 L -88.8279904609452,30.404126305666097 L -88.84132799999999,30.409598 L -88.84160445066809,30.4102964251719 L -88.845665,30.420555 L -88.85327,30.423014 L -88.8550555672792,30.425850505682195 L -88.8577763347166,30.4301726459825 L -88.85778599999999,30.430187999999998 L -88.85785737411129,30.4301591444396 L -88.8650279702007,30.427260172184198 L -88.8651674769563,30.4272037715434 L -88.865392,30.427113 L -88.87014599999999,30.424243999999998 L -88.87085959588819,30.419471170238197 L -88.871096,30.41789 L -88.869908,30.409077 L -88.8686292330705,30.408795398832098 L -88.8676879924732,30.4085881253678 L -88.85873699999999,30.406616999999997 L -88.85951899999999,30.396922999999997 L -88.857828,30.392898 L -88.856764,30.390687999999997 L -88.8569159903486,30.3902832109653 L -88.85774099999999,30.388085999999998 L -88.8654760880292,30.390505690510896 L -88.8668744471578,30.390943125263004 L -88.8674300433541,30.3911169268848 L -88.868482,30.391446 L -88.8830914961481,30.3919393285541 L -88.884829,30.391997999999997 L -88.8921243982953,30.3931202456448 L -88.8924485085598,30.393170103283598 L -88.89393,30.393397999999998 L -88.90081204986821,30.393495961636496 L -88.902129,30.3935147075905 L -88.9172960921799,30.3937306015755 L -88.92203099999999,30.393798 L -88.92700073705919,30.393464831072297 L -88.93429336583469,30.3929759365331 L -88.95993399999999,30.391257 L -88.96154299999999,30.387501999999998 L -88.96331599999999,30.387960999999997 L -88.9636311525467,30.3884364854735 L -88.96386269718609,30.388785827764 L -88.965431,30.391151999999998 L -88.971233,30.390798 L -88.9728057708046,30.390603314973198 L -88.998902,30.387373 L -89.0010189282735,30.386950998752198 L -89.001334,30.3868881904543 L -89.016334,30.383898 L -89.02693169802379,30.3816017741269 L -89.02792781822369,30.3813859426349 L -89.0438481125902,30.3779364584404 L -89.04871854227359,30.376881172035098 L -89.05420248491708,30.375692954465897 L -89.0569590512734,30.375095683344 L -89.062039,30.373994999999997 L -89.08513099999999,30.367421999999998 L -89.084295,30.361714 L -89.08785999999999,30.359662999999998 L -89.085229,30.353581 L -89.0873204783851,30.3518263995084 L -89.091425,30.348383 L -89.09244263902579,30.3503375896768 L -89.0965732621699,30.3582713197628 L -89.09880299999999,30.362554 L -89.1014243489219,30.3616203885673 L -89.12421691995868,30.353502657759798 L -89.1242629454475,30.3534862654657 L -89.1243361131973,30.3534602062688 L -89.1253276145815,30.353107076237198 L -89.140748,30.347614999999998 L -89.141,30.343667999999997 L -89.142485,30.343583 L -89.145735,30.344945 L -89.153881,30.342937 L -89.18683999999999,30.331197 L -89.19655313134609,30.3286821424704 L -89.22044199999999,30.322497 L -89.24,30.316025 L -89.245075,30.312797 L -89.245314,30.310957 L -89.249832,30.310667 L -89.25201,30.311754999999998 L -89.271833,30.305491 L -89.2792914293484,30.304207448863497 L -89.2851359584202,30.303201640323596 L -89.285744,30.303096999999998 L -89.291444,30.303296 L -89.2930400074627,30.305583610696498 L -89.294444,30.307596 L -89.2930427009818,30.309048573970696 L -89.290126,30.312071999999997 L -89.291844,30.328096 L -89.2883538809651,30.3325459017694 L -89.28784399999999,30.333195999999997 L -89.2850603623825,30.332657002652397 L -89.2823273363707,30.332127805259 L -89.281564,30.331979999999998 L -89.272775,30.334024 L -89.268734,30.340588 L -89.26906518038801,30.340955403242898 L -89.27023104272719,30.3422487817755 L -89.27206199999999,30.344279999999998 L -89.27981799999999,30.34979 L -89.284978,30.353845999999997 L -89.291314,30.361303999999997 L -89.29249899999999,30.365634999999997 L -89.29725599999999,30.367046 L -89.30605,30.365816 L -89.30866499999999,30.361508999999998 L -89.312219,30.360571 L -89.30968899999999,30.373396999999997 L -89.315067,30.375408 L -89.335942,30.374015999999997 L -89.340947,30.372896406886298 L -89.34886120316901,30.3711260397798 L -89.349447,30.370994999999997 L -89.353248,30.368795 L -89.3579905315615,30.363694541528197 L -89.3621296409916,30.3592430464807 L -89.36384799999999,30.357395 L -89.365285,30.353102 L -89.3601642160846,30.350580375798096 L -89.35368280788889,30.3473887402911 L -89.345934,30.343573 L -89.338847,30.342995 L -89.3354097438749,30.340212900930396 L -89.332546,30.337895 L -89.32242158451669,30.319435632920797 L -89.322345,30.319295999999998 L -89.32254499999999,30.314895999999997 L -89.3258751775438,30.3094964417613 L -89.3260036041186,30.3092882105902 L -89.32968825561188,30.3033139073986 L -89.32994599999999,30.302895999999997 L -89.34377804178921,30.2938304050436 L -89.344746,30.293196 L -89.3553530068196,30.2898909181649 L -89.3554309904552,30.2898666189161 L -89.35854599999999,30.288895999999998 L -89.3587095618304,30.2888051449352 L -89.3617501893466,30.287116142009896 L -89.36188451324578,30.2870415279846 L -89.365747,30.284896 L -89.36754670023389,30.2830050106238 L -89.3686444134483,30.281851616304298 L -89.3719308318901,30.2783984954778 L -89.3770906582278,30.2729769388186 L -89.37932219593701,30.270632207167598 L -89.379547,30.270395999999998 L -89.383747,30.267795999999997 L -89.3874022718841,30.2664123747111 L -89.38770663616289,30.266297164098397 L -89.3966710586695,30.2629038729634 L -89.39683794466279,30.262840701826498 L -89.4050019273148,30.2597504001435 L -89.4059354402093,30.2593970387276 L -89.419348,30.25432 L -89.424624,30.245390999999998 L -89.424493,30.239092 L -89.4237523818092,30.238672503992596 L -89.42173,30.237527 L -89.420136,30.234479999999998 L -89.420749,30.229429 L -89.43042799999999,30.223218 L -89.434753,30.218753 L -89.436835,30.213645 L -89.44039699999999,30.212925 L -89.44455099999999,30.208636 L -89.447465,30.205098 L -89.448765,30.202120999999998 L -89.44771,30.194224 L -89.444307,30.187779 L -89.455519,30.181124999999998 L -89.461275,30.174744999999998 L -89.463595,30.173942999999998 L -89.469792,30.176278 L -89.462919,30.178199 L -89.459829,30.182924 L -89.46078,30.189909999999998 L -89.468148,30.193813 L -89.475824,30.191561 L -89.48021399999999,30.193751 L -89.486657,30.191164999999998 L -89.490099,30.187676999999997 L -89.492391,30.18313 L -89.497346,30.181517999999997 L -89.503231,30.18299 L -89.51424999999999,30.184268999999997 L -89.517584,30.182577 L -89.522814,30.183014999999997 L -89.524504,30.180753 L -89.527952,30.188696999999998 L -89.530452,30.192197 L -89.533352,30.194796999999998 L -89.538652,30.195797 L -89.54145299999999,30.195397 L -89.546953,30.193096999999998 L -89.549053,30.191596999999998 L -89.55085299999999,30.189197 L -89.554653,30.185796999999997 L -89.562253,30.182396999999998 L -89.570154,30.180297 L -89.574454,30.181697 L -89.580754,30.186197 L -89.585754,30.192096 L -89.58735399999999,30.195196 L -89.588854,30.200295999999998 L -89.5923148031011,30.205397812032096 L -89.59564316988019,30.210304390414297 L -89.596655,30.211796 L -89.601255,30.216096 L -89.607655,30.217095999999998 L -89.610655,30.218096 L -89.612556,30.219496 L -89.615856,30.223194999999997 L -89.616956,30.225595 L -89.61705599999999,30.227494999999998 L -89.615856,30.235294999999997 L -89.6147608502879,30.2390671823416 L -89.61405599999999,30.241494999999997 L -89.614156,30.244595 L -89.61615599999999,30.247394999999997 L -89.6165074108941,30.247509094446098 L -89.62385599999999,30.249895 L -89.626922,30.251745 L -89.631789,30.256923999999998 L -89.63222499999999,30.260137 L -89.631215,30.261703999999998 L -89.63064899999999,30.262083999999998 L -89.62619699999999,30.262335999999998 L -89.625305,30.263531999999998 L -89.625892,30.265912999999998 L -89.62960799999999,30.267308999999997 L -89.630859,30.267328 L -89.632316,30.268604 L -89.632369,30.271511 L -89.63051999999999,30.276562 L -89.631411,30.279662 L -89.6325886870199,30.2806761403619 L -89.637647,30.285031999999998 L -89.638504,30.288121999999998 L -89.64344,30.287682 L -89.647178,30.289367 L -89.647399,30.291293999999997 L -89.645324,30.292555999999998 L -89.640434,30.295503 L -89.6416348790883,30.3033413107134 L -89.64164793613519,30.303426535938097 L -89.641705,30.303798999999998 L -89.640401,30.306755 L -89.639872,30.307281 L -89.634208,30.308256 L -89.631643,30.309331999999998 L -89.626221,30.314255 L -89.626606,30.315457 L -89.629877,30.321016999999998 L -89.630399,30.332932999999997 L -89.629727,30.339287 L -89.636299,30.34397 L -89.64519899999999,30.348125999999997 L -89.645617,30.351314 L -89.64670000000001,30.352500000000003 L -89.652693,30.355535999999997 L -89.657191,30.356514999999998 L -89.660274,30.363487 L -89.662204,30.371267 L -89.67013399999999,30.382429 L -89.67107216649849,30.3848733021368 L -89.67276199999999,30.389276 L -89.679153,30.399991 L -89.6815402880308,30.4030887339946 L -89.683686,30.405873 L -89.684118,30.412646 L -89.68231999999999,30.412990999999998 L -89.681165,30.411492 L -89.680134,30.4114 L -89.67851399999999,30.414012 L -89.680515,30.428924 L -89.681946,30.434072999999998 L -89.683521,30.434959 L -89.684816,30.439511 L -89.682829,30.445809999999998 L -89.68341,30.451793 L -89.6897794685397,30.4592779821573 L -89.690102,30.459657 L -89.6945614954128,30.462452504587098 L -89.6953416546353,30.4629415596221 L -89.695864,30.463269 L -89.69839589450059,30.4640565109095 L -89.701799,30.465114999999997 L -89.70553799999999,30.47235 L -89.70955099999999,30.477853 L -89.71016399999999,30.478308 L -89.712493,30.47751 L -89.715886,30.477797 L -89.719652,30.483165999999997 L -89.721181,30.488608 L -89.7214350091729,30.488851724502002 L -89.724614,30.491902 L -89.7246380002795,30.4919122546649 L -89.726154,30.492559999999997 L -89.73461499999999,30.494722999999997 L -89.742396,30.497315999999998 L -89.74281599999999,30.498704 L -89.74643499999999,30.502619 L -89.75293099999999,30.502492999999998 L -89.758133,30.505404 L -89.758575,30.505941999999997 L -89.758862,30.513061999999998 L -89.76057,30.515760999999998 L -89.76813299999999,30.51502 L -89.76999599999999,30.521895999999998 L -89.770744,30.527818999999997 L -89.771643,30.530248999999998 L -89.77535499999999,30.538847999999998 L -89.77956499999999,30.544345 L -89.78024599999999,30.544607 L -89.78399399999999,30.544075 L -89.78854199999999,30.544463999999998 L -89.791046,30.545046 L -89.793818,30.545935 L -89.79969299999999,30.547065 L -89.803919,30.549349 L -89.80298599999999,30.550946999999997 L -89.797981,30.549118 L -89.793989,30.548282999999998 L -89.79195999999999,30.548788 L -89.791664,30.551523999999997 L -89.79453199999999,30.556554 L -89.80278899999999,30.557903 L -89.803831,30.558888 L -89.80388699999999,30.560581 L -89.80283299999999,30.562879 L -89.80149399999999,30.563703 L -89.800277,30.563695 L -89.796697,30.561718 L -89.791254,30.561369 L -89.787719,30.566430999999998 L -89.78686499999999,30.569053 L -89.7886095247504,30.5698975563414 L -89.789604,30.570379 L -89.7907719014103,30.5697641093523 L -89.79139699999999,30.569435 L -89.79143499999999,30.565464 L -89.793308,30.565158999999998 L -89.79433499999999,30.565327999999997 L -89.79568499999999,30.565652999999998 L -89.793978,30.567231 L -89.794495,30.569653 L -89.79994699999999,30.569350999999997 L -89.803753,30.568147999999997 L -89.80618199999999,30.567542999999997 L -89.808027,30.567998 L -89.808184,30.568794999999998 L -89.806843,30.572039 L -89.80723078950129,30.5731656506665 L -89.8074224002749,30.5737223403271 L -89.80968399999999,30.580292999999998 L -89.81292499999999,30.581654999999998 L -89.813681983386,30.582716223863898 L -89.815122,30.584735 L -89.813735,30.586038 L -89.8120710339305,30.5854866759069 L -89.809739,30.584713999999998 L -89.807762,30.585825 L -89.807118,30.587336999999998 L -89.8095573359544,30.586943358028197 L -89.811431,30.586641 L -89.81210899999999,30.591472999999997 L -89.8124617126992,30.591487233565896 L -89.8140234198428,30.591550255571 L -89.816396,30.591645999999997 L -89.81852699999999,30.592688 L -89.81983799999999,30.59534 L -89.819696,30.596784999999997 L -89.81443,30.596504 L -89.8143239360782,30.5970719463987 L -89.8141897790341,30.5977903246064 L -89.81404099999999,30.598587 L -89.817202,30.600890999999997 L -89.819969,30.602081 L -89.822334,30.604642 L -89.818117,30.604954 L -89.81456299999999,30.606151999999998 L -89.81392,30.607720999999998 L -89.81537999999999,30.608566 L -89.81690499999999,30.60862 L -89.821286,30.607129999999998 L -89.823278,30.60823 L -89.822389,30.614462 L -89.82086799999999,30.618254 L -89.821424,30.619815 L -89.825271,30.618271999999997 L -89.828155,30.617931 L -89.82990199999999,30.616705999999997 L -89.83082499999999,30.617649 L -89.83052692075329,30.618950042613598 L -89.830337,30.619778999999998 L -89.829948,30.622221 L -89.82624799999999,30.621259 L -89.823261,30.622802999999998 L -89.8226517562371,30.6248276021069 L -89.82227999999999,30.626063 L -89.820571,30.628355 L -89.82006799999999,30.632807999999997 L -89.81808099999999,30.634019 L -89.81385,30.636795 L -89.813977,30.63818 L -89.815788,30.639215 L -89.820469,30.638261999999997 L -89.823448,30.639871 L -89.82341799999999,30.642840999999997 L -89.82058699999999,30.644758 L -89.82137999999999,30.646528 L -89.825744,30.645273 L -89.824986,30.649423 L -89.833261,30.657515999999998 L -89.836047,30.657297999999997 L -89.840988,30.658514999999998 L -89.851889,30.661199 L -89.852263,30.662934 L -89.85055,30.664780999999998 L -89.848879,30.665201999999997 L -89.84691699999999,30.663952 L -89.845642,30.663569 L -89.843355,30.663698999999998 L -89.8417869041958,30.665556526803 L -89.838804,30.669089999999997 L -89.83789399999999,30.672514 L -89.83886799999999,30.673731 L -89.840597,30.67288 L -89.84134999999999,30.671962999999998 L -89.842344,30.669724 L -89.84381599999999,30.668761 L -89.845807,30.668930999999997 L -89.847201,30.670037999999998 L -89.844965,30.674691 L -89.83679699999999,30.690572999999997 L -89.835478,30.691166 L -89.8357974621526,30.698409156751897 L -89.835848,30.699555 L -89.838065,30.704036 L -89.83931199999999,30.704143 L -89.84173,30.702713 L -89.843605,30.702510999999998 L -89.84592599999999,30.704157 L -89.8461928375923,30.7049993857529 L -89.846576,30.706208999999998 L -89.845801,30.707314 L -89.83625699999999,30.716185 L -89.83196099999999,30.715384 L -89.83005999999999,30.71631 L -89.82806099999999,30.725018 L -89.83306499999999,30.726758999999998 L -89.836331,30.727197 L -89.836945,30.728201 L -89.83686999999999,30.734661 L -89.83580066478609,30.7358542079603 L -89.835437,30.736259999999998 L -89.833818,30.736971999999998 L -89.82741399999999,30.736199 L -89.821535,30.736618 L -89.81747999999999,30.737305 L -89.816499,30.737945999999997 L -89.816075,30.739365999999997 L -89.81676399999999,30.740076 L -89.819548,30.740671 L -89.822969,30.740074999999997 L -89.826351,30.738364999999998 L -89.82775,30.738364999999998 L -89.82869699999999,30.739451 L -89.82510099999999,30.742079 L -89.825774,30.747304999999997 L -89.822459,30.754628 L -89.824227,30.755157999999998 L -89.82656999999999,30.753137 L -89.829349,30.751317999999998 L -89.83316699999999,30.753314 L -89.83264899999999,30.755993999999998 L -89.82688,30.756066999999998 L -89.826121,30.759013999999997 L -89.829314,30.760590999999998 L -89.8303205727095,30.76186597041 L -89.832408,30.764509999999998 L -89.8322358941349,30.7651225467069 L -89.8321274187491,30.7655086244292 L -89.831537,30.767609999999998 L -89.828756,30.768735999999997 L -89.82781899999999,30.771223 L -89.82765599999999,30.774815 L -89.830418,30.779842 L -89.82805499999999,30.783416 L -89.824395,30.779629 L -89.820087,30.782390999999997 L -89.819024,30.784371 L -89.82113,30.788608999999997 L -89.821486,30.791183 L -89.8212752774948,30.791875078816098 L -89.821078,30.792523 L -89.819164,30.795229 L -89.817559,30.796053999999998 L -89.816418,30.796053999999998 L -89.813946,30.793782 L -89.813535,30.792035 L -89.81260999999999,30.789876 L -89.812096,30.788437 L -89.81065699999999,30.788026 L -89.80676299999999,30.789068999999998 L -89.80510699999999,30.790595999999997 L -89.80469599999999,30.791624 L -89.804901,30.792548999999998 L -89.806237,30.793370999999997 L -89.807071,30.793908 L -89.808601,30.794912999999998 L -89.810863,30.797379 L -89.81147899999999,30.797995999999998 L -89.811171,30.798921 L -89.81065095991019,30.799388934905696 L -89.810143,30.799846 L -89.80817599999999,30.800562 L -89.804632,30.802511 L -89.804065,30.803247 L -89.80425199999999,30.806934 L -89.800422,30.810425 L -89.799027,30.811339 L -89.79742499999999,30.811453999999998 L -89.797156,30.811753 L -89.797809,30.813195999999998 L -89.799673,30.815171999999997 L -89.800049,30.819077999999998 L -89.798654,30.820854999999998 L -89.797491,30.821478 L -89.796634,30.821648 L -89.795497,30.820753999999997 L -89.79614699999999,30.818937 L -89.796184,30.818098 L -89.795327,30.817227 L -89.79452599999999,30.817404999999997 L -89.793959,30.817922 L -89.79348499999999,30.819657999999997 L -89.79276,30.820297 L -89.79174499999999,30.820387 L -89.785894,30.815962 L -89.782404,30.817974999999997 L -89.781168,30.820123 L -89.782202,30.82122 L -89.78452899999999,30.820902999999998 L -89.78638199999999,30.82124 L -89.787454,30.822587 L -89.787493,30.824192999999998 L -89.7856618889136,30.8258591649338 L -89.783985,30.827385 L -89.78225599999999,30.831260999999998 L -89.78235,30.832552 L -89.784092,30.832888999999998 L -89.78683699999999,30.830641999999997 L -89.78942599999999,30.83047 L -89.790432,30.830985 L -89.79080499999999,30.832130999999997 L -89.790121,30.837982999999998 L -89.78750000000001,30.844112 L -89.78936499999999,30.847064 L -89.791872,30.848692 L -89.79247,30.850386 L -89.791027,30.851533999999997 L -89.789509,30.851381999999997 L -89.78743999999999,30.84952 L -89.785977,30.849175 L -89.785603,30.847523 L -89.784717,30.84623 L -89.78264899999999,30.845264 L -89.7806,30.845508 L -89.780228,30.846235 L -89.780947,30.848542 L -89.783791,30.852131 L -89.784416,30.853744 L -89.78407299999999,30.855269999999997 L -89.783384,30.856022 L -89.781643,30.856613 L -89.77875499999999,30.855800000000002 L -89.774739,30.853254 L -89.772587,30.853659999999998 L -89.771722,30.854677 L -89.767955,30.863857999999997 L -89.767789,30.865577 L -89.768237,30.866391999999998 L -89.778005,30.873410999999997 L -89.77919399999999,30.875185 L -89.778583,30.878902999999998 L -89.77808610760741,30.8796400739157 L -89.77711,30.881088 L -89.775458,30.881497 L -89.770027,30.882254 L -89.77201099999999,30.89024 L -89.77355299999999,30.896862 L -89.773099,30.898338 L -89.771986,30.899127 L -89.770269,30.89939 L -89.765101,30.896918999999997 L -89.760701,30.896306 L -89.758719,30.897319 L -89.757024,30.898947 L -89.756671,30.901069 L -89.75980299999999,30.906215999999997 L -89.76159299999999,30.906591 L -89.763622,30.907732 L -89.764451,30.910276 L -89.764202,30.911906 L -89.7626,30.913736 L -89.75940299999999,30.915134 L -89.75741699999999,30.914993 L -89.754086,30.9128 L -89.750073,30.91293 L -89.746718,30.915805 L -89.744789,30.918933 L -89.74444799999999,30.920576999999998 L -89.745161,30.922416 L -89.74820799999999,30.923368999999997 L -89.75074099999999,30.923246 L -89.75281199999999,30.925413 L -89.752549,30.928157 L -89.750073,30.929814999999998 L -89.748851,30.932816 L -89.748897,30.933888 L -89.750073,30.935762999999998 L -89.75583499999999,30.939542999999997 L -89.756554,30.941948999999997 L -89.756333,30.943497999999998 L -89.751196,30.951438999999997 L -89.74359199999999,30.958482 L -89.743134,30.959992999999997 L -89.735686,30.966573 L -89.733933,30.966918999999997 L -89.731393,30.96613 L -89.729327,30.966241999999998 L -89.72804099999999,30.966517999999997 L -89.72707199999999,30.967395 L -89.727086,30.969707 L -89.728382,30.971141 L -89.736086,30.974446 L -89.737149,30.976080999999997 L -89.73688299999999,30.977121999999998 L -89.735912,30.977864999999998 L -89.732168,30.978088 L -89.73050099999999,30.979706999999998 L -89.72993,30.98209 L -89.72769799999999,30.993329 L -89.728563,30.994396 L -89.732035,30.994408999999997 L -89.73422699999999,30.995601999999998 L -89.73554,30.999715 L -89.73,30.999748999999998 L -89.72812599999999,31.000956 L -89.7281451296188,31.002299627985096 L -89.72814699999999,31.002430999999998 L -89.729616,31.003926999999997 L -89.73250399999999,31.004831 L -89.741821,31.003441 L -89.745215,31.002252 L -89.74722899999999,31.000183999999997 L -89.749189,30.999554999999997 L -89.751481,30.999689999999998 L -89.752133,31.000183 L -89.752642,31.001852999999997 L -89.79978278373939,31.002023716933596 L -89.816429,31.002084 L -89.82461699999999,31.00206 L -89.83554199999999,31.002059 L -89.83590796037879,31.002059274641898 L -89.85686199999999,31.002074999999998 L -89.8636983943507,31.002014733844398 L -89.892708,31.001759 L -89.897516,31.001913 L -89.923119,31.001445999999998 L -89.927161,31.001437 L -89.941012221834,31.001423343310098 L -89.972802,31.001392 L -89.9753988023263,31.0016884386217 L -89.97543,31.001692 L -90.005332,31.001364 L -90.022185,31.001302 L -90.0292018746201,31.0011956405525 L -90.029574,31.001189999999998 L -90.05070599999999,31.001215 L -90.0675448715494,31.0011785916291 L -90.0731210153755,31.0011665351019 L -90.0731269103186,31.001166522356097 L -90.0974700040835,31.0011138886398 L -90.128406,31.001047 L -90.131395,31.000923999999998 L -90.1484288842297,31.000976319505696 L -90.164278,31.001025 L -90.164676,31.00098 L -90.1873440248678,31.0009028693861 L -90.1943924283431,31.0008788863664 L -90.2595549256981,31.0006571633247 L -90.2950404148182,31.0005364197851 L -90.346007,31.000363 L -90.34723,31.000359 L -90.3472409612406,31.0003589881184 L -90.3556049999152,31.0003499218193 L -90.369371,31.000335 L -90.38053599999999,30.999872 L -90.422117,30.99981 L -90.42684899999999,30.999775999999997 L -90.43735099999999,30.99973 L -90.44172499999999,30.999729 L -90.44247899999999,30.999722 L -90.4566267908343,30.9997560101883 L -90.4568848974875,30.9997566306566 L -90.4569817623398,30.999756863512197 L -90.45698294025209,30.999756866343798 L -90.4633242254013,30.9997721102999 L -90.474094,30.999798 L -90.475928,30.99974 L -90.477284,30.999716999999997 L -90.48112823746679,30.9997272906729 L -90.48587599999999,30.99974 L -90.48674899999999,30.999692999999997 L -90.54761548218009,30.9997232645164 L -90.567195,30.999733 L -90.583518,30.999698 L -90.584448,30.999698 L -90.587373,30.999603999999998 L -90.58867599999999,30.99965 L -90.648721,30.999485999999997 L -90.64966099877469,30.9994951262017 L -90.65119299999999,30.999509999999997 L -90.66766823174801,30.999451442500003 L -90.734473,30.999214 L -90.734552,30.999222 L -90.7534178744156,30.999503161733198 L -90.758775,30.999582999999998 L -90.76933299999999,30.999374 L -90.775981,30.999491 L -90.77985799999999,30.999457 L -90.783745,30.999447 L -90.8258293654941,30.9993604066554 L -90.826027,30.99936 L -90.8349414503027,30.9993950334277 L -90.85255127820119,30.9994642393362 L -90.89473,30.99963 L -90.9702367367615,30.999321081116097 L -90.9802978056479,30.9992799185086 L -91.0421723672845,30.999026772612797 L -91.0602129522528,30.9989529636044 L -91.06827,30.99892 L -91.08081399999999,30.998908999999998 L -91.108114,30.998856999999997 L -91.108291,30.99888 L -91.17613975227569,30.9991437308313 L -91.176209,30.999143999999998 L -91.224068,30.999183 L -91.224839,30.999183 L -91.23153100075601,30.999272943754097 L -91.24649,30.999474 L -91.3481523174901,30.9991927700878 L -91.3482344274821,30.999192542945796 L -91.37489515433539,30.9991187909986 L -91.39651504144929,30.999058983597898 L -91.4146279968947,30.9990088774721 L -91.423621,30.998984 L -91.425749,30.999007 L -91.48731499963901,30.9990061406318 L -91.49739,30.999005999999998 L -91.50011599999999,30.998690999999997 L -91.5386610327368,30.999386809168797 L -91.538727,30.999388 L -91.625118,30.999167 L -91.63694199999999,30.999416 L -91.625118,31.005374 L -91.60649,31.011215999999997 L -91.590463,31.01727 L -91.578413,31.02403 L -91.57169499999999,31.029781999999997 L -91.564397,31.038964999999997 L -91.56123199999999,31.046225 L -91.56036499999999,31.049508 L -91.559907,31.054119 L -91.56128299999999,31.060906 L -91.56415,31.06683 L -91.56764799999999,31.070186 L -91.59469299999999,31.091444 L -91.609523,31.101557 L -91.614763,31.104357 L -91.61856999999999,31.107328 L -91.621535,31.110256999999997 L -91.62599399999999,31.116895999999997 L -91.626476,31.119124999999997 L -91.62570699999999,31.128763 L -91.625118,31.131878999999998 L -91.624217,31.133729 L -91.62167099999999,31.13687 L -91.604197,31.154545 L -91.59973199999999,31.159592 L -91.597062,31.163491999999998 L -91.59150199999999,31.173118 L -91.589046,31.178586 L -91.588695,31.181024999999998 L -91.588939,31.188958999999997 L -91.5894512930811,31.1911399311563 L -91.590051,31.193693 L -91.595029,31.201969 L -91.60161599999999,31.208572999999998 L -91.625119,31.226070999999997 L -91.644356,31.234413999999997 L -91.652019,31.242690999999997 L -91.654907,31.250175 L -91.65500899999999,31.251814999999997 z\" /></g></g></svg>"
      ],
      "text/plain": [
       "<shapely.geometry.multipolygon.MultiPolygon at 0x25214434670>"
      ]
     },
     "execution_count": 26,
     "metadata": {},
     "output_type": "execute_result"
    }
   ],
   "source": [
    "# get the first record and plot its geometry\n",
    "gdf.loc[0, 'geometry']"
   ]
  },
  {
   "cell_type": "code",
   "execution_count": 27,
   "metadata": {
    "scrolled": true
   },
   "outputs": [
    {
     "data": {
      "image/svg+xml": [
       "<svg xmlns=\"http://www.w3.org/2000/svg\" xmlns:xlink=\"http://www.w3.org/1999/xlink\" width=\"100.0\" height=\"100.0\" viewBox=\"-91.84789335999999 29.981058639999997 3.9428897199999824 5.207877720000003\" preserveAspectRatio=\"xMinYMin meet\"><g transform=\"matrix(1,0,0,-1,0,65.169995)\"><g><path fill-rule=\"evenodd\" fill=\"#66cc99\" stroke=\"#555555\" stroke-width=\"0.10415755440000005\" opacity=\"0.6\" d=\"M -88.502966,30.215235 L -88.491759,30.209014 L -88.468668,30.203730999999998 L -88.45344399999999,30.201235999999998 L -88.4491297949387,30.201667020672495 L -88.44265399999999,30.202313999999998 L -88.43033199999999,30.208548 L -88.420121,30.209097999999997 L -88.41308699999999,30.206343999999998 L -88.42925,30.200387 L -88.44885549161519,30.1973317760772 L -88.453654,30.196583999999998 L -88.493523,30.205945 L -88.502752,30.210506 L -88.506999,30.214347999999998 L -88.502966,30.215235 z\" /><path fill-rule=\"evenodd\" fill=\"#66cc99\" stroke=\"#555555\" stroke-width=\"0.10415755440000005\" opacity=\"0.6\" d=\"M -88.58458999999999,30.337358 L -88.583963,30.338137999999997 L -88.582703,30.338759 L -88.58103799999999,30.338371 L -88.579509,30.338836999999998 L -88.578744,30.338836999999998 L -88.576449,30.338371 L -88.575594,30.338176999999998 L -88.574469,30.33938 L -88.57177,30.340856 L -88.56988,30.341321999999998 L -88.5697,30.33907 L -88.569025,30.337011999999998 L -88.56871,30.335884999999998 L -88.568395,30.333478 L -88.568125,30.332894999999997 L -88.56817,30.330292999999998 L -88.56776599999999,30.329556 L -88.568395,30.328857 L -88.56934,30.328818 L -88.572895,30.328895 L -88.575594,30.329323 L -88.579509,30.329866 L -88.582568,30.331342 L -88.584053,30.334059999999997 L -88.584773,30.335769 L -88.58458999999999,30.337358 z\" /><path fill-rule=\"evenodd\" fill=\"#66cc99\" stroke=\"#555555\" stroke-width=\"0.10415755440000005\" opacity=\"0.6\" d=\"M -88.770082,30.242898999999998 L -88.75083,30.245952 L -88.73254999999999,30.246322 L -88.718104,30.252931 L -88.710719,30.250798999999997 L -88.68830799999999,30.243797999999998 L -88.68018599999999,30.243009999999998 L -88.66784121102019,30.238229839217198 L -88.656804,30.233956 L -88.649326,30.234517999999998 L -88.6466894850649,30.2337766213357 L -88.635318,30.230579 L -88.59638,30.225614999999998 L -88.58683099999999,30.221542999999997 L -88.60049699999999,30.221183 L -88.633743,30.226342 L -88.64676477441819,30.2282439958564 L -88.652906,30.229141 L -88.665857,30.228847 L -88.6681032293126,30.2293943611759 L -88.68701999999999,30.234004 L -88.69841799999999,30.238713999999998 L -88.714941,30.243720999999997 L -88.730628,30.241462 L -88.752782,30.238802999999997 L -88.76366499999999,30.240025 L -88.770082,30.242898999999998 z\" /><path fill-rule=\"evenodd\" fill=\"#66cc99\" stroke=\"#555555\" stroke-width=\"0.10415755440000005\" opacity=\"0.6\" d=\"M -88.871763,30.385658999999997 L -88.865652,30.383291999999997 L -88.859556,30.381332999999998 L -88.85392999999999,30.378557999999998 L -88.849814,30.378666 L -88.837918,30.374087999999997 L -88.83616599999999,30.374066 L -88.82991299999999,30.371641999999998 L -88.82437399999999,30.367907 L -88.821243,30.364264 L -88.81855999999999,30.361871999999998 L -88.81876199999999,30.36059 L -88.826743,30.364786 L -88.83672,30.369412999999998 L -88.840087,30.370058999999998 L -88.85169499999999,30.375280999999998 L -88.86702799999999,30.382434999999997 L -88.874382,30.385120999999998 L -88.871763,30.385658999999997 z\" /><path fill-rule=\"evenodd\" fill=\"#66cc99\" stroke=\"#555555\" stroke-width=\"0.10415755440000005\" opacity=\"0.6\" d=\"M -88.89290299999999,30.235096 L -88.888982,30.239306 L -88.883515,30.242078 L -88.879356,30.242489 L -88.88125699999999,30.239818999999997 L -88.88815,30.235609999999998 L -88.893498,30.232222 L -88.89290299999999,30.235096 z\" /><path fill-rule=\"evenodd\" fill=\"#66cc99\" stroke=\"#555555\" stroke-width=\"0.10415755440000005\" opacity=\"0.6\" d=\"M -88.982219,30.211627 L -88.976811,30.210987 L -88.971819,30.212439 L -88.966518,30.212823999999998 L -88.951774,30.213447 L -88.949123,30.212622 L -88.953259,30.209781 L -88.95864499999999,30.208510999999998 L -88.974672,30.207390999999998 L -88.980239,30.207962 L -88.98424899999999,30.21032 L -88.982219,30.211627 z\" /><path fill-rule=\"evenodd\" fill=\"#66cc99\" stroke=\"#555555\" stroke-width=\"0.10415755440000005\" opacity=\"0.6\" d=\"M -89.121303,30.231738 L -89.11695499999999,30.230735 L -89.0983232673887,30.230751763089298 L -89.095837,30.230753999999997 L -89.077514,30.230397 L -89.07234199999999,30.238678 L -89.067128,30.250199 L -89.065713,30.24569 L -89.06861099999999,30.235851999999998 L -89.074615,30.225835 L -89.07885999999999,30.22011 L -89.085071,30.213222 L -89.08838399999999,30.210091 L -89.090558,30.211522 L -89.087659,30.213133 L -89.08838399999999,30.214654 L -89.092007,30.215995 L -89.0985194506541,30.214477336746498 L -89.10122,30.213848 L -89.104119,30.214921999999998 L -89.108053,30.214116999999998 L -89.110433,30.215010999999997 L -89.110123,30.217783999999998 L -89.110537,30.222614999999998 L -89.11457399999999,30.224404 L -89.15673799999999,30.230698999999998 L -89.121303,30.231738 z\" /><path fill-rule=\"evenodd\" fill=\"#66cc99\" stroke=\"#555555\" stroke-width=\"0.10415755440000005\" opacity=\"0.6\" d=\"M -91.65500899999999,31.251814999999997 L -91.654027,31.255753 L -91.651369,31.259528 L -91.648669,31.262238 L -91.64125299999999,31.266917 L -91.637672,31.26768 L -91.621358,31.267811 L -91.60667199999999,31.265900000000002 L -91.587749,31.262563 L -91.57449299999999,31.261288999999998 L -91.56419199999999,31.261633 L -91.553905,31.26305 L -91.537734,31.267369 L -91.51857799999999,31.275282999999998 L -91.515614,31.278209999999998 L -91.512085,31.284177 L -91.50885799999999,31.291643999999998 L -91.508296,31.295828999999998 L -91.507977,31.312942999999997 L -91.50865999999999,31.315130999999997 L -91.510049,31.316822 L -91.518509,31.323331999999997 L -91.531657,31.331801 L -91.53320599999999,31.333225 L -91.53606099999999,31.338355 L -91.545617,31.343761999999998 L -91.54896699999999,31.347254999999997 L -91.54889399999999,31.353997999999997 L -91.55086899999999,31.360574 L -91.551002,31.363644999999998 L -91.549915,31.376314999999998 L -91.546607,31.381197999999998 L -91.546207,31.382479999999997 L -91.552432,31.385658 L -91.55568,31.386412999999997 L -91.560524,31.384559 L -91.56255499999999,31.383218999999997 L -91.568953,31.377629 L -91.57123399999999,31.384663999999997 L -91.573931,31.390886 L -91.578334,31.399067 L -91.578246,31.403858999999997 L -91.57626499999999,31.410497999999997 L -91.570092,31.419487 L -91.565179,31.423447 L -91.554805,31.428569999999997 L -91.55274999999999,31.430691999999997 L -91.548465,31.432668 L -91.545013,31.433025999999998 L -91.541626,31.431706 L -91.54064699999999,31.430757999999997 L -91.537137,31.424160999999998 L -91.537002,31.423184 L -91.539504,31.41791 L -91.539458,31.414020999999998 L -91.532336,31.390275 L -91.52695,31.380854999999997 L -91.521836,31.375169999999997 L -91.51597799999999,31.370286 L -91.50807499999999,31.366276 L -91.50416299999999,31.36495 L -91.47887,31.364955 L -91.472465,31.371326 L -91.471098,31.376917 L -91.471992,31.382143 L -91.47201837791289,31.383704001204297 L -91.472149,31.391434 L -91.472065,31.395925 L -91.47692599999999,31.397796 L -91.48022999999999,31.404390999999997 L -91.49004,31.412716 L -91.500046,31.42052 L -91.506423,31.431459999999998 L -91.510356,31.438927999999997 L -91.51336599999999,31.444395999999998 L -91.51513,31.449206 L -91.516999,31.460573999999998 L -91.518148,31.483483 L -91.51714,31.498393999999998 L -91.515157,31.50338 L -91.514917,31.510112999999997 L -91.516759,31.511771999999997 L -91.520579,31.513206999999998 L -91.52286199999999,31.517492999999998 L -91.52292,31.519841 L -91.522536,31.522077999999997 L -91.521445,31.523912 L -91.5180421394486,31.5281282861348 L -91.51581,31.530894 L -91.51396299999999,31.532083999999998 L -91.511217,31.532612 L -91.50671899999999,31.532966 L -91.500118,31.532615999999997 L -91.489618,31.534266 L -91.483918,31.532566 L -91.481318,31.530666 L -91.47971799999999,31.530365999999997 L -91.4552374776405,31.538031360019602 L -91.4504327116009,31.539535832063297 L -91.450017,31.539665999999997 L -91.443916,31.542465999999997 L -91.43761599999999,31.546166 L -91.42641599999999,31.554565999999998 L -91.4228560395115,31.556918464978004 L -91.4198689883791,31.5588923445195 L -91.4198546253413,31.5589018357887 L -91.414915,31.562165999999998 L -91.407915,31.569366 L -91.4077734,31.5696492 L -91.406615,31.571966 L -91.40541499999999,31.576466 L -91.4043098523501,31.5862649758289 L -91.403915,31.589765999999997 L -91.413015,31.595364999999997 L -91.417115,31.596265 L -91.422716,31.597064999999997 L -91.43071599999999,31.596465 L -91.43631599999999,31.594965 L -91.4516770489488,31.589604101873796 L -91.457517,31.587566 L -91.46631699999999,31.586066 L -91.4671464203883,31.5860280141796 L -91.479418,31.585466 L -91.48521799999999,31.586166 L -91.488618,31.587466 L -91.494118,31.590165 L -91.502783,31.595727 L -91.51301,31.606885 L -91.5148155315998,31.6093889885807 L -91.516567,31.611818 L -91.51723299999999,31.61346 L -91.517921,31.618641999999998 L -91.51665899999999,31.627332 L -91.515462,31.630371999999998 L -91.51233599999999,31.634722 L -91.50730999999999,31.639067999999998 L -91.49927799999999,31.644658 L -91.497665,31.645370999999997 L -91.494478,31.645013 L -91.49274799999999,31.644278999999997 L -91.490027,31.641000000000002 L -91.487518,31.637065 L -91.482618,31.631565 L -91.479818,31.628964999999997 L -91.474318,31.625365 L -91.46381699999999,31.620365 L -91.43671599999999,31.612665 L -91.429616,31.611365 L -91.421116,31.611565 L -91.41649799999999,31.613132999999998 L -91.401015,31.620365 L -91.398315,31.626265 L -91.3963998609334,31.637581730848297 L -91.396115,31.639264999999998 L -91.395715,31.644164999999997 L -91.398015,31.662664999999997 L -91.400115,31.688163999999997 L -91.400015,31.697864 L -91.397915,31.709363999999997 L -91.397115,31.711364 L -91.380915,31.732464 L -91.3802389538171,31.7332419242873 L -91.371804,31.742948 L -91.365034,31.748184 L -91.356394,31.749105999999998 L -91.338663,31.750004999999998 L -91.31981599999999,31.749989 L -91.31786142917309,31.749791433823 L -91.310734,31.749070999999997 L -91.29172299999999,31.74526 L -91.275545,31.745514999999997 L -91.26340599999999,31.754468 L -91.25961099999999,31.76129 L -91.263043,31.766994999999998 L -91.2662786530318,31.7682446294555 L -91.27387399999999,31.771178 L -91.286045,31.772062 L -91.301315,31.766748 L -91.31351593061801,31.7641562052649 L -91.32597299999999,31.761509999999998 L -91.35521399999999,31.758063 L -91.365529,31.761627999999998 L -91.363714,31.780362999999998 L -91.35951399999999,31.799362 L -91.3462849723467,31.8410612372385 L -91.345714,31.842861 L -91.343014,31.846860999999997 L -91.338414,31.851260999999997 L -91.33381399999999,31.853261 L -91.326914,31.854961 L -91.294713,31.86046 L -91.293413,31.860159999999997 L -91.289312,31.846860999999997 L -91.29013499999999,31.833658 L -91.289412,31.828661 L -91.287812,31.824161 L -91.28491199999999,31.818361999999997 L -91.282212,31.814761999999998 L -91.28021199999999,31.813162 L -91.27671199999999,31.811362 L -91.269212,31.809161999999997 L -91.262011,31.809362 L -91.255611,31.812662 L -91.25011099999999,31.817762 L -91.247367,31.822322999999997 L -91.245047,31.831446999999997 L -91.24562399999999,31.833164999999997 L -91.261144,31.846118999999998 L -91.266612,31.851160999999998 L -91.268112,31.853061 L -91.268812,31.855161 L -91.26901199999999,31.858660999999998 L -91.26771199999999,31.862659999999998 L -91.26695732,31.86366624 L -91.26651199999999,31.864259999999998 L -91.264412,31.86546 L -91.248144,31.869847999999998 L -91.234899,31.876863 L -91.226951,31.885105 L -91.20881,31.900458999999998 L -91.20510999999999,31.904159 L -91.20281,31.907958999999998 L -91.20101,31.909159 L -91.19751,31.908659 L -91.19381,31.909558999999998 L -91.19261,31.910159 L -91.19198550466851,31.9111304371823 L -91.19081,31.912958999999997 L -91.18921,31.914258999999998 L -91.1861958745166,31.9152134730697 L -91.18321,31.916158999999997 L -91.181227656,31.917531392 L -91.18061,31.917959 L -91.18110999999999,31.920059 L -91.18491,31.923758999999997 L -91.1846256046064,31.9259865269207 L -91.18370999999999,31.933158 L -91.18471,31.935057999999998 L -91.19111,31.934158 L -91.19291,31.934957999999998 L -91.19321,31.935658 L -91.18951,31.946358 L -91.18880999999999,31.953158 L -91.18911,31.957458 L -91.18831,31.960957999999998 L -91.18481,31.965556999999997 L -91.180485274378,31.970057052336298 L -91.17741,31.973257 L -91.17021,31.979056999999997 L -91.16440999999999,31.982557 L -91.117409,31.987057 L -91.104108,31.990357 L -91.096108,31.994857 L -91.090105,32.000157 L -91.075908,32.016828 L -91.079928,32.018316 L -91.08080799999999,32.023455999999996 L -91.082608,32.028656 L -91.084408,32.031456 L -91.08810799999999,32.034455 L -91.095508,32.037455 L -91.125109,32.042854999999996 L -91.14511,32.046555 L -91.15141,32.049254999999995 L -91.15630999999999,32.052655 L -91.15901,32.055955 L -91.16131,32.059754999999996 L -91.16201,32.062355 L -91.16201,32.065354 L -91.16161,32.067754 L -91.16031,32.070354 L -91.15581,32.075554 L -91.14881,32.080154 L -91.14511,32.081354 L -91.139309,32.081754 L -91.134909,32.080354 L -91.128609,32.076554 L -91.12410899999999,32.071854 L -91.11430899999999,32.058254999999996 L -91.103708,32.050255 L -91.098708,32.048355 L -91.082308,32.047554999999996 L -91.080208,32.048355 L -91.07910799999999,32.050255 L -91.08170799999999,32.075753999999996 L -91.081508,32.077754 L -91.08000799999999,32.079153999999996 L -91.066679,32.08533 L -91.038607,32.098254 L -91.034707,32.101053 L -91.030507,32.108153 L -91.0307064962793,32.114336885917304 L -91.030907,32.120551999999996 L -91.0307991898912,32.1205658494524 L -91.027007,32.121052999999996 L -91.020006,32.123553 L -91.017606,32.125153 L -91.01180599999999,32.131153 L -91.006406,32.139952 L -91.005006,32.142852 L -91.004106,32.146152 L -91.002906,32.162051999999996 L -91.016606,32.160852 L -91.025007,32.162552 L -91.03190699999999,32.167851 L -91.04180699999999,32.174551 L -91.050207,32.178450999999995 L -91.058307,32.180951 L -91.05890699999999,32.171251 L -91.055707,32.163751999999995 L -91.049707,32.157351999999996 L -91.048507,32.150152 L -91.050207,32.145252 L -91.05120699999999,32.144152 L -91.053175,32.124237 L -91.061555,32.126906999999996 L -91.069081,32.131478 L -91.07704299999999,32.133493 L -91.08162999999999,32.133992 L -91.091656,32.133604 L -91.101181,32.131136 L -91.103696,32.130007 L -91.111294,32.125036 L -91.11317397554708,32.1255440027236 L -91.113866,32.125731 L -91.13140299999999,32.126213 L -91.136566,32.127371 L -91.1444,32.13039 L -91.15504299999999,32.132242999999995 L -91.16282199999999,32.132694 L -91.165452,32.13429 L -91.1656436337104,32.1345953874809 L -91.171702,32.14425 L -91.173495,32.149009 L -91.17455199999999,32.154978 L -91.173664,32.164231 L -91.17104599999999,32.176525999999996 L -91.16807299999999,32.186634999999995 L -91.164171,32.196888 L -91.16206199999999,32.199035 L -91.15802599999999,32.201955999999996 L -91.13358699999999,32.213432 L -91.130197,32.213665999999996 L -91.128495,32.213169 L -91.124043,32.211104 L -91.11726999999999,32.206668 L -91.11408399999999,32.206697 L -91.11300899999999,32.20655 L -91.108509,32.208149999999996 L -91.100409,32.21785 L -91.092108,32.22385 L -91.083708,32.22645 L -91.075108,32.22705 L -91.071108,32.22605 L -91.061408,32.21865 L -91.05510699999999,32.22475 L -91.053107,32.22795 L -91.051807,32.234449 L -91.0503836512323,32.2377701471247 L -91.05030699999999,32.237949 L -91.04650699999999,32.241149 L -91.039007,32.242349 L -91.034307,32.241549 L -91.026607,32.238749 L -91.021507,32.236149 L -91.00960599999999,32.22615 L -91.002906,32.22305 L -91.00433699999999,32.218125 L -91.00450699999999,32.212516 L -91.002467,32.195859999999996 L -91.001108,32.1928 L -90.998542,32.191578 L -90.995159,32.192119999999996 L -90.99328899999999,32.194500000000005 L -90.99282223865819,32.195246774206 L -90.98904,32.201298 L -90.98377099999999,32.210646 L -90.983434,32.221305 L -90.98313499999999,32.231370999999996 L -90.98029,32.243601 L -90.97613899999999,32.248092 L -90.970016,32.25168 L -90.969403,32.25252 L -90.971344,32.257742 L -90.979663,32.265252 L -90.981028,32.266732999999995 L -90.982985,32.270294 L -90.984077,32.279954 L -90.980747,32.29141 L -90.979475,32.293701999999996 L -90.976199,32.29645 L -90.97460199999999,32.297122 L -90.971643,32.297497 L -90.96414899999999,32.296872 L -90.963079,32.296285 L -90.961171,32.293288 L -90.955405,32.286241 L -90.953008,32.284043 L -90.951351,32.283198999999996 L -90.947834,32.283485999999996 L -90.9345267477263,32.29007762239689 L -90.93399099999999,32.290343 L -90.9234496740595,32.297779295918495 L -90.922231,32.298639 L -90.916157,32.303582 L -90.9065484299256,32.3140049891148 L -90.90517299999999,32.315497 L -90.902558,32.319587 L -90.90124,32.323386 L -90.90071999999999,32.330379 L -90.89636407339519,32.3367566924205 L -90.8879188953814,32.349121627070396 L -90.88645397951801,32.3512664710144 L -90.88252979332908,32.3570120344237 L -90.882161,32.357552 L -90.8765213811194,32.3704048037031 L -90.875631,32.372434 L -90.878289,32.374548 L -90.8888123894195,32.373262444265 L -90.888947,32.373246 L -90.89206,32.370579 L -90.897762,32.35436 L -90.90775599999999,32.343610999999996 L -90.912363,32.339453999999996 L -90.92116999999999,32.342073 L -90.93489699999999,32.344967 L -90.94298099999999,32.345956 L -90.954583,32.345859 L -90.986672,32.35176 L -90.993625,32.354047 L -91.000106,32.357695 L -91.003506,32.362145 L -91.00450599999999,32.364744 L -91.00450599999999,32.368144 L -91.00060599999999,32.381644 L -90.996237,32.388061 L -90.994686,32.392277 L -90.99378,32.396778 L -90.99408,32.403862 L -90.980723,32.408243 L -90.97446099999999,32.412001 L -90.971141,32.414636 L -90.967767,32.418279 L -90.96625499999999,32.421026999999995 L -90.965986,32.424806 L -90.96645699999999,32.433868 L -90.966869,32.435499 L -90.96856,32.438083999999996 L -90.96959,32.43949 L -90.97854699999999,32.447032 L -90.983423,32.449076999999996 L -90.99386299999999,32.450849999999996 L -90.99897399999999,32.450165 L -91.004806,32.445741 L -91.01650599999999,32.440342 L -91.02630599999999,32.434442 L -91.029606,32.433541999999996 L -91.05290699999999,32.438442 L -91.070207,32.445141 L -91.081807,32.450441 L -91.095308,32.458740999999996 L -91.108808,32.47204 L -91.11210799999999,32.47614 L -91.116008,32.48314 L -91.117308,32.495039 L -91.116708,32.500139 L -91.106985,32.514934 L -91.101304,32.525599 L -91.098756,32.532968 L -91.097949,32.537214 L -91.097878,32.544751999999995 L -91.093741,32.549127999999996 L -91.074817,32.533467 L -91.070467,32.528171 L -91.06051599999999,32.512361 L -91.050907,32.500139 L -91.045807,32.495539 L -91.038106,32.49044 L -91.033906,32.48854 L -91.02410599999999,32.48524 L -91.017106,32.48374 L -91.004206,32.48214 L -90.999223,32.482614999999996 L -90.996388,32.483925 L -90.990703,32.487749 L -90.988278,32.491189999999996 L -90.987579,32.492387 L -90.987202,32.495663 L -90.988784,32.500841 L -90.994867,32.508611 L -91.007075,32.516371 L -91.018469,32.521018999999995 L -91.05116799999999,32.53089 L -91.061685,32.536448 L -91.075373,32.546718 L -91.080398,32.556442 L -91.0697862054881,32.562793318519 L -91.06935399999999,32.563052 L -91.049312,32.573623999999995 L -91.0434509306581,32.576269553442096 L -91.03617,32.579556 L -91.030991,32.583346999999996 L -91.022943,32.591848 L -91.01623099999999,32.596953 L -91.013723,32.598419 L -91.010228,32.601926999999996 L -91.004599,32.60978 L -91.002997,32.614678 L -91.002962,32.622555 L -91.0035,32.624845 L -91.00681999999999,32.631261 L -91.014286,32.640482 L -91.019115,32.643845 L -91.025769,32.646573 L -91.030181,32.644052 L -91.038415,32.636443 L -91.040401,32.632521 L -91.041448,32.625135 L -91.043263,32.620779 L -91.0489,32.613555999999996 L -91.049796,32.607188 L -91.061354,32.605371999999996 L -91.079506,32.60068 L -91.087784,32.597069999999995 L -91.105704,32.590879 L -91.112764,32.590185999999996 L -91.118641,32.585139 L -91.11985399999999,32.584795 L -91.125108,32.585187 L -91.127912,32.586493 L -91.13528,32.591651 L -91.141148,32.597209 L -91.14407399999999,32.600612999999996 L -91.146204,32.604144 L -91.15131799999999,32.615919 L -91.153556,32.626180999999995 L -91.15364868477079,32.627965094400295 L -91.153821,32.631282 L -91.15374399999999,32.635228 L -91.152699,32.640757 L -91.152081,32.641508 L -91.14975299999999,32.644041 L -91.144347,32.648029 L -91.142038,32.649265 L -91.138712,32.649774 L -91.137638,32.650621 L -91.130928,32.65887 L -91.12772299999999,32.665343 L -91.118258,32.674075 L -91.10444299999999,32.682434 L -91.098762,32.685291 L -91.08114499999999,32.691127 L -91.076061,32.693751 L -91.063946,32.702926 L -91.057043,32.712576 L -91.054749,32.719229 L -91.0545136340063,32.7218900408994 L -91.054481,32.722259 L -91.05699899999999,32.72558 L -91.060766,32.727494 L -91.077176,32.732534 L -91.09057299999999,32.7361 L -91.113652,32.73997 L -91.12315199999999,32.742798 L -91.13169099999999,32.743107 L -91.150244,32.741786 L -91.154461,32.742339 L -91.15861,32.743449 L -91.163389,32.747009 L -91.165328,32.751301 L -91.165814,32.757842 L -91.164968,32.761984 L -91.157614,32.776033 L -91.15691799999999,32.780343 L -91.158583,32.781096 L -91.164397,32.785821 L -91.1630557060552,32.7921940559525 L -91.161412,32.800004 L -91.1615150883724,32.805002382133104 L -91.1615835115222,32.8083199730676 L -91.16166899999999,32.812464999999996 L -91.15833599999999,32.822303999999995 L -91.15715499999999,32.823823 L -91.152174,32.826673 L -91.149704,32.83122 L -91.14500199999999,32.84287 L -91.143559,32.844739 L -91.13789,32.848974999999996 L -91.12788599999999,32.855059 L -91.124725,32.854861 L -91.116091,32.855641 L -91.105631,32.858396 L -91.086683,32.873391999999996 L -91.070602,32.888659 L -91.068186,32.891929 L -91.064449,32.901064 L -91.06380899999999,32.903709 L -91.0637985738819,32.903930450747694 L -91.063684,32.906363999999996 L -91.064854,32.91652 L -91.064624248363,32.917968444436504 L -91.063875,32.922692 L -91.0642106228094,32.9240547225371 L -91.064804,32.926463999999996 L -91.07054699999999,32.936036 L -91.072075,32.937832 L -91.08043099999999,32.943205999999996 L -91.081913,32.944767999999996 L -91.083084,32.947908999999996 L -91.081892,32.949435 L -91.080507,32.950123 L -91.078904,32.951817999999996 L -91.080355,32.962793999999995 L -91.08680199999999,32.976265999999995 L -91.090887,32.981173999999996 L -91.094265,32.984370999999996 L -91.09693,32.986412 L -91.10658099999999,32.988938 L -91.111757,32.988361 L -91.125107,32.984669 L -91.13441399999999,32.980533 L -91.135517,32.979656999999996 L -91.13858499999999,32.971351999999996 L -91.137524,32.96955 L -91.13305,32.966541 L -91.13094699999999,32.963815 L -91.130721,32.962257 L -91.131243,32.960927999999996 L -91.133335,32.959056 L -91.136628,32.957349 L -91.13716699999999,32.95652 L -91.137863,32.952756 L -91.13550699999999,32.946163999999996 L -91.131289,32.930049 L -91.131304,32.926919 L -91.132115,32.923122 L -91.134041,32.917676 L -91.14507599999999,32.905494 L -91.15169,32.901935 L -91.159975,32.899879 L -91.17023499999999,32.899391 L -91.175405,32.899998 L -91.181631,32.901446 L -91.19678499999999,32.906784 L -91.199775,32.908512 L -91.208263,32.915354 L -91.211597,32.919624 L -91.212837,32.922104 L -91.213972,32.927198 L -91.214027,32.93032 L -91.21282,32.936076 L -91.21070499999999,32.939845 L -91.20743999999999,32.944393 L -91.199415,32.952314 L -91.20119,32.954982 L -91.20203,32.957332 L -91.201842,32.961211999999996 L -91.199646,32.963561 L -91.19743299999999,32.964819999999996 L -91.186983,32.976194 L -91.182158,32.978639 L -91.17330799999999,32.986087999999995 L -91.168973,32.992132 L -91.166195,33.002238 L -91.166073,33.004106 L -91.166282,33.011331 L -91.162363,33.019684 L -91.15616,33.023579999999995 L -91.14975799999999,33.026312 L -91.14242399999999,33.027231 L -91.137439,33.028735999999995 L -91.129088,33.033553999999995 L -91.12565599999999,33.038275999999996 L -91.123441,33.046577 L -91.120379,33.05453 L -91.12029299999999,33.055921 L -91.121195,33.059166 L -91.124639,33.064127 L -91.149823,33.081603 L -91.16065599999999,33.085595999999995 L -91.16591799999999,33.086174 L -91.171514,33.087818 L -91.173546,33.089318 L -91.174723,33.09164 L -91.180836,33.098364 L -91.1863465782448,33.1006229834877 L -91.195953,33.104561 L -91.200167,33.10693 L -91.20112499999999,33.108185 L -91.20146199999999,33.109638 L -91.202089,33.121249 L -91.20178,33.125121 L -91.195296,33.134730999999995 L -91.193174,33.136734 L -91.188718,33.139811 L -91.183662,33.141691 L -91.169406,33.142638999999996 L -91.16165099999999,33.141781 L -91.160298,33.141216 L -91.153015,33.135093 L -91.151853,33.131802 L -91.150362,33.130694999999996 L -91.143334,33.129785 L -91.131659,33.129101 L -91.114087,33.129833999999995 L -91.104317,33.131598 L -91.093201,33.136725999999996 L -91.089862,33.139655 L -91.087589,33.145177 L -91.0869117647879,33.1487335707116 L -91.085562,33.155822 L -91.08488899999999,33.1618 L -91.084366,33.180856 L -91.086963,33.198509 L -91.08990899999999,33.210194 L -91.09171099999999,33.220813 L -91.085984,33.221644 L -91.082878,33.221621 L -91.079635,33.223225 L -91.07922699999999,33.223889 L -91.07922699999999,33.2265 L -91.07767299999999,33.227485 L -91.074103,33.226821 L -91.070697,33.227302 L -91.071079,33.230095999999996 L -91.068708,33.232935999999995 L -91.065629,33.232982 L -91.063912,33.237356 L -91.054126,33.246105 L -91.05040699999999,33.251202 L -91.047648,33.259989 L -91.045191,33.265404 L -91.04398499999999,33.269835 L -91.043624,33.274636 L -91.045141,33.279015 L -91.04814999999999,33.282796 L -91.052369,33.285415 L -91.05873,33.286901 L -91.06703499999999,33.28718 L -91.07256699999999,33.285885 L -91.07853,33.283305999999996 L -91.081244,33.28125 L -91.083694,33.278557 L -91.086137,33.273652 L -91.09034199999999,33.257325 L -91.091489,33.254838 L -91.094748,33.250499 L -91.096931,33.241628 L -91.099093,33.238172999999996 L -91.1001,33.238125 L -91.10614199999999,33.241799 L -91.11056099999999,33.24593 L -91.114325,33.252953 L -91.115184048026,33.2552449804476 L -91.117223,33.260684999999995 L -91.118208,33.262071 L -91.128078,33.268502 L -91.125528,33.274732 L -91.12553899999999,33.280255 L -91.140057,33.296617999999995 L -91.141615,33.299538999999996 L -91.1415885699783,33.3023290663642 L -91.141475,33.314318 L -91.143667,33.328398 L -91.1434008294615,33.3301967703273 L -91.14335299999999,33.33052 L -91.141893,33.332963 L -91.14178845675389,33.333361959631 L -91.140968,33.336493 L -91.142219,33.348988999999996 L -91.14179299999999,33.350076 L -91.140192,33.351452 L -91.1303188483801,33.357111847657 L -91.125108,33.360099 L -91.120409,33.363808999999996 L -91.106758,33.381141 L -91.101456,33.38719 L -91.090852,33.395781 L -91.08427585764059,33.4000857760094 L -91.0810374507895,33.402205653493695 L -91.075293,33.405966 L -91.07003408479049,33.4121383142545 L -91.062281,33.421237999999995 L -91.05917607179339,33.4268530396994 L -91.05815199999999,33.428705 L -91.057621,33.445341 L -91.0580133125203,33.4462148596964 L -91.059828,33.450257 L -91.064701,33.453775 L -91.067623,33.455104 L -91.07455499999999,33.455811 L -91.07781399999999,33.455648 L -91.081834,33.454188 L -91.08649799999999,33.451575999999996 L -91.091566,33.446318999999995 L -91.094279,33.442671 L -91.096723,33.437602999999996 L -91.09753099999999,33.433724999999995 L -91.09747399999999,33.431733 L -91.09533499999999,33.425684 L -91.09521099999999,33.417488 L -91.099277,33.408243999999996 L -91.10717,33.399077999999996 L -91.11376399999999,33.393124 L -91.123623,33.387526 L -91.14093799999999,33.380477 L -91.154017,33.378914 L -91.166304,33.379709 L -91.17196799999999,33.381029999999996 L -91.176942,33.382841 L -91.191127,33.389634 L -91.1930386834362,33.3909227138944 L -91.204758,33.398823 L -91.208113,33.402007 L -91.209032,33.403633 L -91.20922,33.40629 L -91.208702,33.408719 L -91.205272,33.414231 L -91.20258,33.416832 L -91.199354,33.418321 L -91.19197299999999,33.417728 L -91.184427,33.419576 L -91.179368,33.417151 L -91.17627999999999,33.416979 L -91.163387,33.422157 L -91.147663,33.427172 L -91.144877,33.427706 L -91.13915,33.426955 L -91.131885,33.430063 L -91.130561,33.4319 L -91.130552,33.433263 L -91.12858899999999,33.436284 L -91.1211,33.443563 L -91.118495,33.449116 L -91.117975,33.453807 L -91.11896443620039,33.4575629980587 L -91.11966699999999,33.460229999999996 L -91.125109,33.472842 L -91.136656,33.481322999999996 L -91.157319,33.492923 L -91.160142,33.494828999999996 L -91.164019,33.497448 L -91.167403,33.498304 L -91.172213,33.496691 L -91.175488,33.49077 L -91.177148,33.48617 L -91.17698399999999,33.478899 L -91.175635,33.471761 L -91.171799,33.462342 L -91.16936,33.452629 L -91.17729299999999,33.443638 L -91.181787,33.44078 L -91.186979,33.438592 L -91.19465799999999,33.436358 L -91.206807,33.433845999999996 L -91.210275,33.433796 L -91.21737399999999,33.434699 L -91.235181,33.438972 L -91.235928,33.440611 L -91.23431,33.4423 L -91.2336971298595,33.443499513856004 L -91.23342199999999,33.444038 L -91.232587,33.453958 L -91.231661,33.457100000000004 L -91.223338,33.462764 L -91.220192,33.463045 L -91.215508,33.46478 L -91.208535,33.468606 L -91.20675299999999,33.470307999999996 L -91.20566099999999,33.473552999999995 L -91.199593,33.483125 L -91.195634,33.488468 L -91.189375,33.493005 L -91.185637,33.496399 L -91.18307,33.498613 L -91.182901,33.502379 L -91.184612,33.507363999999995 L -91.187367,33.510552 L -91.215671,33.529423 L -91.219297,33.532364 L -91.226325,33.5412 L -91.229834,33.547047 L -91.232295,33.552788 L -91.232537,33.557454 L -91.23141799999999,33.560593 L -91.2308579778816,33.56137194507 L -91.228489,33.564667 L -91.224121,33.567369 L -91.22146599999999,33.568166 L -91.20315099999999,33.570758 L -91.198285,33.572061 L -91.188942,33.576225 L -91.181068,33.58152 L -91.17822,33.582606999999996 L -91.175979,33.582968 L -91.160755,33.581351999999995 L -91.157429,33.581372 L -91.152148,33.582721 L -91.138418,33.590896 L -91.13404299999999,33.594488999999996 L -91.13244999999999,33.596989 L -91.131588,33.59945 L -91.130445,33.606034 L -91.13090199999999,33.610918999999996 L -91.1329605860014,33.6159919651592 L -91.134389,33.619512 L -91.139209,33.625658 L -91.150499,33.633013 L -91.16421199999999,33.643277999999995 L -91.171168,33.647766 L -91.178311,33.651109 L -91.18545499999999,33.653604 L -91.21128399999999,33.658526 L -91.219048,33.661502999999996 L -91.223001,33.664794 L -91.226537,33.668665 L -91.228228,33.671326 L -91.22901499999999,33.677543 L -91.227857,33.683073 L -91.225279,33.687749 L -91.22485081812859,33.6882194635809 L -91.22057,33.692923 L -91.212077,33.698249 L -91.205377,33.700818999999996 L -91.200712,33.701535 L -91.190113,33.701859999999996 L -91.17573,33.703116 L -91.165846,33.705133 L -91.162464,33.70684 L -91.160866,33.707096 L -91.144188,33.689596 L -91.133416,33.67679 L -91.13045,33.674521999999996 L -91.10097999999999,33.660551 L -91.09403999999999,33.658350999999996 L -91.088202,33.657387 L -91.084126,33.657322 L -91.078507,33.658283 L -91.06711,33.662689 L -91.05918199999999,33.6664 L -91.050523,33.668064 L -91.04641199999999,33.668272 L -91.03684,33.671316 L -91.034565,33.673018 L -91.03380495550819,33.6742722569971 L -91.03146,33.678142 L -91.030332,33.681622 L -91.030402,33.687765999999996 L -91.033366,33.688773 L -91.03612,33.689113 L -91.03715,33.692907 L -91.039025,33.696594999999995 L -91.04126099999999,33.699933 L -91.04677799999999,33.706313 L -91.055562,33.712486 L -91.059891,33.714816 L -91.063752,33.715892 L -91.06828999999999,33.716477 L -91.075389,33.714403 L -91.089873,33.707364 L -91.101101,33.705007 L -91.107646,33.704679 L -91.117733,33.705342 L -91.12552699999999,33.70878 L -91.13233799999999,33.714245999999996 L -91.14473199999999,33.726803 L -91.145792,33.728924 L -91.14661799999999,33.732456 L -91.146523,33.736503 L -91.143287,33.747141 L -91.144539,33.749338 L -91.144571,33.751607 L -91.141553,33.755956999999995 L -91.140756,33.759735 L -91.14130399999999,33.760835 L -91.14363399999999,33.762094999999995 L -91.144812,33.763996 L -91.145112,33.76734 L -91.14201,33.77382 L -91.13986899999999,33.777117 L -91.137351,33.779923 L -91.133854,33.782814 L -91.13218499999999,33.78342 L -91.128222,33.783446999999995 L -91.123466,33.782106 L -91.117836,33.779026 L -91.11403215048959,33.7763521493035 L -91.111494,33.774567999999995 L -91.10731799999999,33.770618999999996 L -91.088996,33.775801 L -91.08551,33.77641 L -91.060524,33.77764 L -91.05388599999999,33.778701 L -91.026782,33.763642 L -91.023285,33.762991 L -91.01276999999999,33.764675 L -91.000106,33.769165 L -90.993842,33.773601 L -90.99122,33.776790999999996 L -90.98944399999999,33.780575999999996 L -90.988466,33.78453 L -90.9890693438216,33.7870549178418 L -90.989299,33.788016 L -90.99174699999999,33.792597 L -91.000107,33.799549 L -91.007767,33.802591 L -91.02009799999999,33.804446999999996 L -91.02254101166159,33.8051719607019 L -91.025173,33.805952999999995 L -91.042448,33.812855 L -91.046849,33.815365 L -91.049679,33.818729 L -91.052819,33.824180999999996 L -91.056692,33.828935 L -91.064977,33.837126 L -91.067511,33.840443 L -91.07119499999999,33.849539 L -91.073011,33.857448999999995 L -91.07279799999999,33.862396 L -91.070883,33.866714 L -91.061247,33.877505 L -91.055309,33.883035 L -91.0394007245812,33.8962635825537 L -91.03667399999999,33.898531 L -91.026382,33.90798 L -91.01748099999999,33.919083 L -91.010831,33.925551999999996 L -91.01003999999999,33.927003 L -91.0101898469778,33.9282691530609 L -91.010318,33.929352 L -91.01299399999999,33.932276 L -91.02009699999999,33.937127 L -91.035961,33.943757999999995 L -91.046725,33.947406 L -91.078496,33.95406 L -91.0790048351099,33.954252573959295 L -91.08409499999999,33.956179 L -91.08675799999999,33.95827 L -91.088696,33.961334 L -91.089787,33.966004 L -91.089756,33.969721 L -91.089119,33.972653 L -91.087921,33.975335 L -91.083187,33.979865 L -91.07925399999999,33.982101 L -91.075378,33.983585999999995 L -91.071203,33.984473 L -91.062264,33.985082999999996 L -91.048367,33.985078 L -91.042751,33.986810999999996 L -91.03958899999999,33.989297 L -91.033765,33.995323 L -91.01889,34.003150999999995 L -91.01361,33.994495 L -91.004981,33.977011 L -91.00298599999999,33.970901999999995 L -91.000108,33.966428 L -90.994856,33.963118 L -90.987653,33.960792999999995 L -90.983359,33.960186 L -90.97686399999999,33.960502999999996 L -90.970856,33.961867999999996 L -90.967632,33.963324 L -90.965187,33.965461 L -90.96372,33.967687999999995 L -90.96122199999999,33.976151 L -90.961548,33.979945 L -90.970947,33.991884999999996 L -90.97748899999999,33.996553999999996 L -90.979945,34.000105999999995 L -90.987948,34.019038 L -90.982742,34.020469 L -90.976918,34.021335 L -90.970726,34.02162 L -90.958456,34.020254 L -90.950311,34.017821999999995 L -90.942662,34.018049999999995 L -90.934896,34.019262 L -90.923745,34.023143 L -90.922017,34.023216 L -90.914642,34.021885 L -90.899467,34.023796 L -90.89242,34.02686 L -90.888956,34.029787999999996 L -90.887413,34.032505 L -90.886991,34.035094 L -90.887394,34.039845 L -90.88905799999999,34.046361999999995 L -90.888627,34.052419 L -90.88783699999999,34.055403 L -90.88635099999999,34.058564 L -90.882115,34.063902999999996 L -90.874541,34.072041 L -90.87194,34.076361999999996 L -90.87177887623109,34.0768360142606 L -90.870528,34.080515999999996 L -90.87046099999999,34.082739 L -90.871923,34.086652 L -90.876606,34.092911 L -90.878912,34.094573 L -90.882628,34.096615 L -90.88808499999999,34.097809999999996 L -90.893526,34.097795 L -90.90113,34.094667 L -90.91406599999999,34.092756 L -90.91839499999999,34.093053999999995 L -90.921273,34.093958 L -90.94632299999999,34.109373999999995 L -90.948514,34.111269 L -90.95500367987549,34.1189731025439 L -90.955974,34.120125 L -90.958467,34.125105 L -90.959317,34.13035 L -90.9543,34.138498 L -90.938064,34.148754 L -90.91001,34.165507999999996 L -90.903577,34.164332 L -90.894385,34.160953 L -90.883073,34.151502 L -90.876836,34.14813 L -90.86788,34.142146 L -90.86457999999999,34.140555 L -90.853471,34.137510999999996 L -90.847168,34.136884 L -90.83609899999999,34.137876 L -90.83028499999999,34.139813 L -90.82570799999999,34.142011 L -90.822593,34.144054 L -90.815878,34.149879 L -90.810884,34.155902999999995 L -90.807813,34.161474 L -90.807164,34.16746 L -90.808685,34.175878 L -90.8092482325233,34.176960879058804 L -90.81001599999999,34.178436999999995 L -90.81237399999999,34.180766999999996 L -90.816572,34.183023 L -90.82838799999999,34.184784 L -90.838205,34.183803999999995 L -90.84710799999999,34.186053 L -90.85560000000001,34.186879999999995 L -90.859087,34.186288 L -90.864566,34.183882 L -90.86965099999999,34.182964999999996 L -90.87383,34.18322 L -90.87747499999999,34.185632999999996 L -90.882701,34.184363999999995 L -90.887884,34.181979999999996 L -90.891871,34.184765999999996 L -90.9118,34.193897 L -90.91604799999999,34.196916 L -90.93267999999999,34.214824 L -90.93522,34.219049999999996 L -90.936988,34.227041 L -90.937152,34.23411 L -90.936404,34.236698 L -90.933511,34.240218 L -90.92901499999999,34.244541 L -90.923152,34.24653 L -90.912396,34.245931999999996 L -90.907082,34.244492 L -90.905934,34.243528999999995 L -90.904279,34.24096 L -90.900078,34.229621 L -90.898286,34.227253 L -90.89456,34.22438 L -90.87912,34.21545 L -90.867064,34.212140999999995 L -90.856708,34.211597999999995 L -90.852764,34.209403 L -90.847808,34.20653 L -90.844824,34.210999 L -90.842151,34.216879999999996 L -90.840009,34.223076999999996 L -90.83950899999999,34.226200999999996 L -90.84012799999999,34.230104 L -90.839981,34.236114 L -90.836972,34.250104 L -90.8335284493208,34.2632196660809 L -90.83240699999999,34.267491 L -90.830612,34.271245 L -90.828267,34.273649999999996 L -90.824478,34.27624 L -90.82091899999999,34.27784 L -90.812829,34.279438 L -90.802928,34.282465 L -90.797569,34.282402 L -90.7767231943719,34.280376159742296 L -90.772266,34.279942999999996 L -90.765165,34.280524 L -90.755271,34.286848 L -90.752681,34.289266 L -90.743082,34.302257 L -90.740889,34.306537999999996 L -90.74060999999999,34.313469 L -90.742694,34.320263 L -90.74471299999999,34.324872 L -90.748942,34.331044999999996 L -90.765174,34.342818 L -90.767108,34.345264 L -90.767732,34.346872 L -90.768445,34.353469 L -90.767061,34.360271 L -90.76576399999999,34.362109 L -90.762085,34.364754 L -90.756197,34.367256 L -90.750107,34.367919 L -90.741616,34.367225 L -90.7336653420393,34.3653024500294 L -90.729131,34.364205999999996 L -90.724909,34.363659 L -90.71301772823419,34.3637944126572 L -90.712088,34.363805 L -90.700147,34.365854999999996 L -90.690497,34.368606 L -90.678603,34.371122 L -90.676245,34.371111 L -90.676159,34.369558 L -90.68162,34.35291 L -90.69155099999999,34.338618 L -90.693686,34.329679999999996 L -90.693129,34.32257 L -90.690005,34.318584 L -90.686003,34.315771 L -90.678097,34.313030999999995 L -90.669343,34.31302 L -90.661395,34.315398 L -90.657488,34.322230999999995 L -90.657371,34.327287 L -90.660404,34.33576 L -90.66087440465779,34.336693015370294 L -90.666862,34.348569 L -90.666788,34.35582 L -90.655346,34.371846 L -90.658542,34.375704999999996 L -90.641398,34.383869 L -90.63494,34.386362999999996 L -90.631586,34.387192999999996 L -90.61847999999999,34.388767 L -90.61394399999999,34.390723 L -90.580677,34.410554 L -90.5801849857429,34.41097756891109 L -90.575336,34.415152 L -90.571145,34.420319 L -90.56984868416879,34.422435183704 L -90.56839699999999,34.424805 L -90.56650499999999,34.429528 L -90.565826,34.434379 L -90.5666737771211,34.437763344305395 L -90.56733,34.440383 L -90.573959,34.451875 L -90.576893,34.454350999999996 L -90.583717,34.458829 L -90.585477,34.461247 L -90.588346,34.470562 L -90.58992099999999,34.484792999999996 L -90.588942,34.491096999999996 L -90.587490456876,34.4965056046236 L -90.586525,34.500102999999996 L -90.58353,34.504084999999996 L -90.581062,34.512817999999996 L -90.5797559867619,34.5145861253569 L -90.578493,34.516296 L -90.569347,34.524867 L -90.55527599999999,34.531012 L -90.545728,34.537749999999996 L -90.543633,34.540378 L -90.541282,34.545331 L -90.540736,34.548085 L -90.54095099999999,34.550853 L -90.545891,34.563257 L -90.549244,34.568101 L -90.557666,34.576929 L -90.564866,34.582602 L -90.570133,34.587457 L -90.574787,34.595242999999996 L -90.581693,34.604227 L -90.58722399999999,34.615732 L -90.58825499999999,34.626616 L -90.5834403324521,34.641389257845596 L -90.58301999999999,34.642679 L -90.58308799999999,34.643609999999995 L -90.585031,34.647072 L -90.586336,34.651689 L -90.587323,34.665407 L -90.58853599999999,34.668645999999995 L -90.588419,34.670963 L -90.58200599999999,34.680234999999996 L -90.578745,34.683844 L -90.573106,34.686425 L -90.567334,34.693371 L -90.563391,34.695876 L -90.5556919806313,34.6979286751794 L -90.555627,34.697946 L -90.552317,34.697086999999996 L -90.54985599999999,34.695478 L -90.548071,34.693169 L -90.542761,34.688781 L -90.54007399999999,34.684981 L -90.538856,34.682463 L -90.538061,34.673232 L -90.53940899999999,34.670902 L -90.550158,34.663444999999996 L -90.55264199999999,34.659707 L -90.553962,34.655018 L -90.555104,34.646236 L -90.55412899999999,34.640871 L -90.551761,34.636483999999996 L -90.547614,34.631656 L -90.543696,34.629559 L -90.537165,34.627767 L -90.53218799999999,34.627486999999995 L -90.524481,34.628504 L -90.517168,34.630928 L -90.5081,34.636682 L -90.503061,34.640789999999996 L -90.496639,34.648117 L -90.48789,34.654880999999996 L -90.47971799999999,34.659934 L -90.469821,34.669436 L -90.46604099999999,34.674312 L -90.46369317848409,34.681418801128004 L -90.46281599999999,34.684073999999995 L -90.462552,34.687576 L -90.463734,34.691092999999995 L -90.467064,34.695643 L -90.46997982090849,34.6980649497622 L -90.47118499999999,34.699066 L -90.475194,34.700826 L -90.480041,34.701515 L -90.486966,34.701477 L -90.496552,34.700578 L -90.509847,34.698003 L -90.52208399999999,34.696605 L -90.52921099999999,34.696819 L -90.538974,34.698783 L -90.546053,34.702076 L -90.5555247323095,34.7112499429407 L -90.565646,34.721053 L -90.567482,34.723292 L -90.56808099999999,34.724802 L -90.56817199999999,34.727384 L -90.5680615163688,34.7281046330409 L -90.56724,34.733463 L -90.565437,34.736536 L -90.563544,34.738671 L -90.559895,34.740787999999995 L -90.556308,34.741541 L -90.550119,34.741952999999995 L -90.546425,34.743078 L -90.53880099999999,34.745642 L -90.53540799999999,34.750062 L -90.536667,34.754947 L -90.540634,34.760478 L -90.542631,34.764396 L -90.54622499999999,34.773443 L -90.547859,34.779194 L -90.54817,34.78189 L -90.547612,34.784589 L -90.544067,34.791159 L -90.540222,34.795767999999995 L -90.53650999999999,34.798572 L -90.53133,34.800584 L -90.522892,34.802265 L -90.5167816771734,34.8018940214458 L -90.51470599999999,34.801767999999996 L -90.512761,34.796488 L -90.50367899999999,34.780136 L -90.50152299999999,34.774795 L -90.50099399999999,34.771187 L -90.501325,34.769931 L -90.505494,34.764568 L -90.516522,34.758333 L -90.52243399999999,34.753952999999996 L -90.524852,34.750079 L -90.524354,34.742079 L -90.523929,34.738417 L -90.520181,34.731902 L -90.511364,34.727604 L -90.501667,34.724236 L -90.48886499999999,34.723731 L -90.479704,34.724793 L -90.46989699999999,34.72703 L -90.45795,34.732946 L -90.454968,34.735557 L -90.452479,34.739898 L -90.4518770228971,34.7421576309091 L -90.451257,34.744485 L -90.45116999999999,34.747786999999995 L -90.45303799999999,34.753352 L -90.458883,34.764267 L -90.470411,34.780877 L -90.47352699999999,34.788835 L -90.47458999999999,34.7932 L -90.473877,34.798398999999996 L -90.47228,34.802465 L -90.47054399999999,34.805036 L -90.465367,34.810592 L -90.459024,34.81444 L -90.456761,34.820395 L -90.456935,34.823383 L -90.46379499999999,34.834922999999996 L -90.474403,34.849495 L -90.481955,34.857805 L -90.483876,34.861333 L -90.485038,34.869251999999996 L -90.48455799999999,34.875096 L -90.483969,34.877176 L -90.479872,34.883264 L -90.475686,34.88631 L -90.46615399999999,34.890989 L -90.459819,34.891946 L -90.45391599999999,34.891121999999996 L -90.444806,34.887994 L -90.441254,34.886313 L -90.438313,34.884581 L -90.436561,34.882731 L -90.43009599999999,34.871212 L -90.42898,34.867168 L -90.429115,34.865086999999995 L -90.431722,34.858913 L -90.431741,34.855050999999996 L -90.43082799999999,34.848982 L -90.428754,34.8414 L -90.423879,34.834606 L -90.422355,34.833675 L -90.414864,34.831846 L -90.41066599999999,34.832028 L -90.4079908833418,34.832998481267495 L -90.40163299999999,34.835305 L -90.379837,34.845931 L -90.35217399999999,34.853196 L -90.348218,34.855112999999996 L -90.34038,34.860357 L -90.33577206438409,34.8558944521077 L -90.332298,34.85253 L -90.323067,34.846391 L -90.319198,34.844854 L -90.311312,34.844223 L -90.307384,34.846195 L -90.303944,34.850516999999996 L -90.302669,34.854366 L -90.302523,34.856471 L -90.303698,34.859704 L -90.3044193945795,34.8605888851081 L -90.313476,34.871697999999995 L -90.31000499999999,34.875097 L -90.301957,34.880053 L -90.279364,34.890077 L -90.250095,34.90732 L -90.248308,34.909739 L -90.246546,34.914168 L -90.244725,34.921031 L -90.24447599999999,34.937596 L -90.246116,34.944316 L -90.247832,34.947916 L -90.2495204334623,34.9504061356819 L -90.250056,34.951195999999996 L -90.253969,34.954988 L -90.25966299999999,34.957792999999995 L -90.27824,34.965077 L -90.282234,34.967661 L -90.287239,34.972531 L -90.293083,34.974574 L -90.29642199999999,34.976346 L -90.302471,34.982077 L -90.304425,34.984939 L -90.309297,34.995694 L -90.3026450463283,34.9956725996129 L -90.13745238930879,34.9951411487056 L -90.12760563119531,34.9951094701272 L -90.1269475389888,34.9951073529405 L -90.0963372057652,34.9950088746566 L -90.0607842992266,34.994894495332694 L -90.04303640730011,34.994837397557006 L -90.0313291971037,34.99479973361 L -90.0250722522122,34.9947796040286 L -90.0250168365057,34.9947794257475 L -90.00815475867739,34.9947251777759 L -90.008136877334,34.994725120248795 L -90.0025384419794,34.994707109196696 L -90.00226495154101,34.9947062293347 L -89.9899073593362,34.99466647300589 L -89.98990067128989,34.994666451489394 L -89.97219550889899,34.9946094911814 L -89.95589828023449,34.994557060419005 L -89.9367552242117,34.9944954741798 L -89.9367527187411,34.994495466119304 L -89.91887881498529,34.9944379629436 L -89.9014606033329,34.9943819258016 L -89.893449449911,34.99435615265389 L -89.893402,34.994355999999996 L -89.8837478802462,34.994264623953704 L -89.883365,34.994261 L -89.8783097856676,34.9942511438032 L -89.8617990449356,34.99421895266379 L -89.84848799999999,34.994192999999996 L -89.84838459511829,34.994193194001795 L -89.8377794635948,34.9942130906857 L -89.8307644094975,34.9942262518911 L -89.83068949042689,34.9942263924496 L -89.8131287302322,34.9942593388487 L -89.7953564909701,34.994292682011604 L -89.795187,34.994293 L -89.75961578200929,34.9948931585598 L -89.75961233055601,34.994893216792796 L -89.7419450298609,34.9951912999718 L -89.741785,34.995194 L -89.7243244282036,34.995211728650496 L -89.7066059367629,34.9952297191806 L -89.64428199999999,34.995293 L -89.6440499795058,34.9952920623604 L -89.61794057187709,34.9951865492017 L -89.59101607378369,34.995077742105 L -89.5825900861135,34.9950436910615 L -89.5822270839594,34.9950422240997 L -89.5717770727674,34.9949999935863 L -89.56505951050359,34.994972846619795 L -89.52874829939559,34.994826106003 L -89.511153,34.994755 L -89.51113322718871,34.9947545526308 L -89.49373899999999,34.994361 L -89.486897,34.993975 L -89.48446201429579,34.9939646399546 L -89.4410170689412,34.9937797963198 L -89.43495399999999,34.993753999999996 L -89.40572016978702,34.9938850355527 L -89.38112804033739,34.9939952654901 L -89.35268016441019,34.9941227781396 L -89.23319005545419,34.9946583717431 L -89.217433,34.994729 L -89.19828799999999,34.994484 L -89.1584880355985,34.9939483549327 L -89.15682699999999,34.993926 L -89.139136,34.994307 L -89.13899699999999,34.99433 L -89.02654,34.994956 L -89.0171270872889,34.9949454068841 L -88.9936842139341,34.99491902471289 L -88.93112498467029,34.9948486217263 L -88.925241,34.994842 L -88.8937681261162,34.995685948790005 L -88.886979,34.995868 L -88.8582329321065,34.9952417640877 L -88.85103699999999,34.995084999999996 L -88.8230487339323,34.9951575501037 L -88.78661199999999,34.995252 L -88.71968852525829,34.99541701881309 L -88.6844382883445,34.9955039382727 L -88.6058652359321,34.9956976824245 L -88.58498971194459,34.9957491569513 L -88.5638643532817,34.9958012475163 L -88.5316851494129,34.9958805944727 L -88.53104614590069,34.9958821701171 L -88.5284971515357,34.9958884553859 L -88.51421417673279,34.9959236741123 L -88.5142131311916,34.995923676690396 L -88.5054084601072,34.9959453871048 L -88.50483317952289,34.995946805622296 L -88.47883399999999,34.9960109139754 L -88.474158525998,34.996022442683 L -88.469877,34.996033 L -88.46980099999999,34.996052 L -88.4628193195682,34.9960174407092 L -88.38050799999999,34.99561 L -88.3635308623519,34.99558961029079 L -88.258111,34.995463 L -88.25382499999999,34.995553 L -88.2516572426499,34.9955562660915 L -88.2516091346036,34.9955563385744 L -88.20034100539779,34.9956335826447 L -88.200064,34.995633999999995 L -88.19881099999999,34.991192 L -88.187429,34.974909 L -88.17997299999999,34.967466 L -88.17610599999999,34.962519 L -88.172102,34.955213 L -88.161594,34.933456 L -88.154617,34.922391999999995 L -88.146335,34.914373999999995 L -88.139721,34.909631 L -88.136692,34.907592 L -88.13318600882819,34.9059779925659 L -88.12503799999999,34.902226999999996 L -88.099999,34.894095 L -88.097888,34.892202 L -88.104828239252,34.8343853294572 L -88.10755999999999,34.811628 L -88.116418,34.746303 L -88.11840699999999,34.724292 L -88.120809790864,34.708890862191595 L -88.1229228444128,34.6953468499391 L -88.1308067668013,34.6448133736411 L -88.13426299999999,34.622659999999996 L -88.1343641919509,34.621900492639696 L -88.138719,34.589214999999996 L -88.139246,34.587795 L -88.139988,34.581703 L -88.1525090963558,34.4907061779864 L -88.1560500936445,34.464972049690495 L -88.156292,34.463214 L -88.15655206473149,34.4609838238307 L -88.15675103972801,34.4592775205854 L -88.1586659845225,34.4428559772994 L -88.1594297785128,34.4363060881802 L -88.1613748286655,34.4196263774296 L -88.165634,34.383102 L -88.1656733734431,34.3827915774924 L -88.16591,34.380925999999995 L -88.173632,34.321054 L -88.175867,34.302171 L -88.176889,34.293858 L -88.17710617074539,34.292238747559196 L -88.1774959379743,34.289332593991105 L -88.186667,34.220952 L -88.18762,34.204778 L -88.19067799999999,34.190123 L -88.192128,34.175351 L -88.20019599999999,34.115947999999996 L -88.2037840638383,34.0865542422802 L -88.20600529627859,34.0683576964181 L -88.207229,34.058333 L -88.210741,34.029199 L -88.21174683554689,34.0217404155568 L -88.2132700197265,34.0104455295678 L -88.222135875909,33.9447024394569 L -88.226428,33.912875 L -88.226517,33.911665 L -88.226517,33.911550999999996 L -88.22893187253071,33.8942371038877 L -88.22924906832169,33.8919629072572 L -88.229252650117,33.891937226882 L -88.2294613585972,33.8904408510291 L -88.23098695974831,33.8795027582299 L -88.235492,33.847203 L -88.240054,33.810879 L -88.24159929706839,33.8029735909988 L -88.2416094387383,33.8029217083864 L -88.243025,33.79568 L -88.244142,33.781673 L -88.2460218415259,33.767286363158895 L -88.2489373465952,33.744973677721305 L -88.252257,33.719567999999995 L -88.25444499999999,33.698779 L -88.254622,33.69578 L -88.256131,33.68286 L -88.256343,33.682052999999996 L -88.262002140265,33.6354380745981 L -88.26237072685801,33.6324019885971 L -88.2623713027984,33.632397244516696 L -88.267005,33.594229 L -88.26714799999999,33.591989 L -88.26816,33.58504 L -88.269076,33.576929 L -88.269532,33.572894 L -88.27005,33.570819 L -88.270781740705,33.564923594639005 L -88.2713779363513,33.560120233305 L -88.27414078427691,33.537860834095305 L -88.274619,33.534008 L -88.276805,33.516463 L -88.27742099999999,33.512436 L -88.27834801921169,33.504739977004704 L -88.2801043139762,33.4901593893276 L -88.2859481129665,33.4416447406107 L -88.2910782508144,33.3990548370265 L -88.29301654948,33.3829632707304 L -88.2970970227493,33.349087580004394 L -88.30049884097339,33.32084601721 L -88.3005000457713,33.3208360150958 L -88.30274373083179,33.3022091607627 L -88.30441698708259,33.2883179507206 L -88.30809041634369,33.2578214996127 L -88.3114725832984,33.2297430797382 L -88.312535,33.220923 L -88.315235,33.203323 L -88.317135,33.184123 L -88.3218542065997,33.14616209746001 L -88.3222722892766,33.1427990754313 L -88.330934,33.073125 L -88.3310076496119,33.072489727510394 L -88.34043199999999,32.991199 L -88.3478500256084,32.929077584824 L -88.354292,32.87513 L -88.3666091107452,32.763433949980005 L -88.36818559513,32.7491378149249 L -88.368349,32.747656 L -88.3690552109757,32.74258399248949 L -88.37333799999999,32.711825 L -88.38298499999999,32.626954 L -88.383039,32.626678999999996 L -88.38537792631818,32.607159528893895 L -88.3855823489929,32.6054535228254 L -88.3861753483959,32.6005046560645 L -88.3888572465182,32.5781229194103 L -88.39996599999999,32.485414999999996 L -88.3999703119346,32.4853749259647 L -88.4033142007722,32.4542976645469 L -88.40378899999999,32.449885 L -88.40378899999999,32.44977 L -88.40391242456269,32.448781795875895 L -88.4039163853966,32.448750083286896 L -88.4100961455102,32.3992715654218 L -88.41250000000001,32.380024999999996 L -88.41381899999999,32.373922 L -88.4144532827107,32.3685012674077 L -88.41471435859509,32.3662700501098 L -88.4149186209757,32.36452437467909 L -88.421453,32.308679999999995 L -88.4240705677077,32.2862295148856 L -88.42794114332119,32.2530321691437 L -88.42827799999999,32.250143 L -88.43129401638389,32.2276546024792 L -88.4338373824385,32.2086904392936 L -88.43581075890519,32.1939763035621 L -88.43865,32.172806 L -88.43871,32.172078 L -88.4418791405619,32.146430371089295 L -88.4428468074689,32.1385991117127 L -88.443049750597,32.1369567074276 L -88.4534176891327,32.0530497191012 L -88.45388348887829,32.049280034926895 L -88.454959,32.040576 L -88.455039,32.039719 L -88.46866,31.933173 L -88.4688742551621,31.9303250695125 L -88.4688743843865,31.9303233518312 L -88.468879,31.930262 L -88.473227,31.893856 L -88.472642,31.875152999999997 L -88.47121399999999,31.851384999999997 L -88.47110599999999,31.850949 L -88.4698254016609,31.819300827588197 L -88.46905353307841,31.8002251898712 L -88.46866899999999,31.790722 L -88.46819722538001,31.7816613313433 L -88.46510699999999,31.722312 L -88.46442697928089,31.697951902948798 L -88.46442499999999,31.697881 L -88.4638529086848,31.688894069471097 L -88.4606299357415,31.6382646801284 L -88.459722,31.624001999999997 L -88.45947799999999,31.621651999999997 L -88.45777164245409,31.589586730776197 L -88.4563306535853,31.562508176143897 L -88.4536095981131,31.511375061341003 L -88.4535741066828,31.5107081188993 L -88.45329067959149,31.505382056955696 L -88.453013,31.500163999999998 L -88.45157499999999,31.481533 L -88.451045,31.459448 L -88.4495695963996,31.4358347375977 L -88.449569225455,31.435828800772597 L -88.44865999999999,31.421277 L -88.448686,31.420887999999998 L -88.44520899999999,31.355968999999998 L -88.445182,31.355855 L -88.44415645047549,31.3393230199194 L -88.44380823874289,31.333709805452198 L -88.4403875099455,31.2785672511538 L -88.43970863275949,31.267623670323697 L -88.4391512235642,31.258638167924197 L -88.43878,31.252654 L -88.43898,31.246896 L -88.438211,31.231251999999998 L -88.438104,31.230059999999998 L -88.43350769620758,31.1427912908627 L -88.432007,31.114297999999998 L -88.4304196826215,31.0853230573691 L -88.42580699999999,31.001123 L -88.42572899999999,31.000183 L -88.4256361537673,30.9983011286609 L -88.4220230007208,30.925067256218597 L -88.419562,30.875186 L -88.41863,30.866528 L -88.4184764744795,30.863275069407297 L -88.41825377027149,30.858556366425802 L -88.4181272847116,30.8558763641312 L -88.4148111125415,30.785612619929296 L -88.41245060127909,30.7355976173844 L -88.41226999999999,30.731771 L -88.41220899999999,30.730394999999998 L -88.41154999999999,30.712956 L -88.411339,30.706334 L -88.409571,30.668730999999998 L -88.40807,30.636969999999998 L -88.40806433481309,30.6369204575682 L -88.407462,30.631653 L -88.407484,30.622736 L -88.4060104917735,30.589761 L -88.404676680269,30.559912212208598 L -88.40418841075069,30.5489854409314 L -88.40401299999999,30.54506 L -88.4040045380663,30.5448844664734 L -88.403931,30.543359 L -88.40354699999999,30.5331 L -88.402283,30.510852 L -88.40196548524719,30.5046667163986 L -88.4004035205078,30.4742391699529 L -88.4004023553571,30.4742164724636 L -88.4003178648367,30.472570571522397 L -88.39958105438029,30.458217280556003 L -88.395023,30.369425 L -88.39723599999999,30.367689 L -88.399062,30.360744 L -88.397082,30.354785 L -88.39415,30.352493 L -88.390746,30.352075 L -88.39398,30.349307 L -88.401181,30.344382 L -88.409927,30.342115 L -88.40880899999999,30.349203 L -88.412374,30.358022 L -88.418554,30.357612 L -88.420548,30.353941 L -88.43091299999999,30.355560999999998 L -88.436618,30.357816999999997 L -88.44327299999999,30.355971999999998 L -88.4464506716358,30.357251090826797 L -88.446838,30.357407 L -88.44873899999999,30.3531 L -88.446495,30.347752999999997 L -88.446625,30.337671 L -88.45380999999999,30.329625999999998 L -88.471875,30.32002 L -88.48011699999999,30.318344999999997 L -88.504119,30.320072999999997 L -88.506226,30.322392999999998 L -88.506334,30.327398 L -88.5139233961846,30.3320155187343 L -88.5140289004294,30.3320797093254 L -88.521945,30.336896 L -88.522494,30.340092 L -88.52693599999999,30.342433999999997 L -88.536214,30.343299 L -88.5430995963863,30.343440788957004 L -88.54662750675121,30.343513436074698 L -88.550696,30.343597214934498 L -88.564687783629,30.3438853352796 L -88.579483,30.344189999999998 L -88.582177,30.356354 L -88.586356,30.358843 L -88.584454,30.364379999999997 L -88.586052,30.367518999999998 L -88.588194,30.368751 L -88.590514,30.365592999999997 L -88.59281399999999,30.36124 L -88.595559,30.359474 L -88.59943899999999,30.35951 L -88.60001,30.356575 L -88.605406,30.355290999999998 L -88.6069447673403,30.3544391370469 L -88.607225,30.354284 L -88.61075799999999,30.355064 L -88.61139899999999,30.353887 L -88.613006,30.353963999999998 L -88.611578,30.358354 L -88.612381,30.365053999999997 L -88.610953,30.371677 L -88.611131,30.37314 L -88.611408934753,30.373204573180196 L -88.612263,30.373403 L -88.61820499999999,30.372583 L -88.625503,30.3686 L -88.63146642123039,30.3643198734944 L -88.637697,30.359848 L -88.6453766032459,30.360509745852497 L -88.66382,30.362098999999997 L -88.6643858625917,30.3618695302381 L -88.66443023623529,30.361851535746897 L -88.6646058785009,30.3617803089342 L -88.6646214935596,30.361773976683498 L -88.66465682091139,30.3617596506631 L -88.6697165469578,30.3597078201515 L -88.679575,30.35571 L -88.69216399999999,30.347302 L -88.700587,30.343688999999998 L -88.71407699999999,30.342185999999998 L -88.728893,30.342671 L -88.746945,30.347621999999998 L -88.7488592402935,30.348994630022197 L -88.7490527901102,30.3491334173469 L -88.77174199999999,30.365402999999997 L -88.7843441162664,30.371567363746397 L -88.8080074747104,30.3831423679621 L -88.8104489204807,30.3843366086338 L -88.81161499999999,30.384907 L -88.81262199999999,30.386702999999997 L -88.80203499999999,30.384991999999997 L -88.8008993713624,30.384702363982896 L -88.79598899999999,30.38345 L -88.790523,30.384065 L -88.7900243557591,30.385642757934896 L -88.78981,30.386321 L -88.79394966600479,30.3916779871441 L -88.794088,30.391856999999998 L -88.79990867458321,30.391699353541398 L -88.801694,30.391651 L -88.810227,30.394697999999998 L -88.823724,30.402376 L -88.82417111678589,30.4025594286201 L -88.8279904609452,30.404126305666097 L -88.84132799999999,30.409598 L -88.84160445066809,30.4102964251719 L -88.845665,30.420555 L -88.85327,30.423014 L -88.8550555672792,30.425850505682195 L -88.8577763347166,30.4301726459825 L -88.85778599999999,30.430187999999998 L -88.85785737411129,30.4301591444396 L -88.8650279702007,30.427260172184198 L -88.8651674769563,30.4272037715434 L -88.865392,30.427113 L -88.87014599999999,30.424243999999998 L -88.87085959588819,30.419471170238197 L -88.871096,30.41789 L -88.869908,30.409077 L -88.8686292330705,30.408795398832098 L -88.8676879924732,30.4085881253678 L -88.85873699999999,30.406616999999997 L -88.85951899999999,30.396922999999997 L -88.857828,30.392898 L -88.856764,30.390687999999997 L -88.8569159903486,30.3902832109653 L -88.85774099999999,30.388085999999998 L -88.8654760880292,30.390505690510896 L -88.8668744471578,30.390943125263004 L -88.8674300433541,30.3911169268848 L -88.868482,30.391446 L -88.8830914961481,30.3919393285541 L -88.884829,30.391997999999997 L -88.8921243982953,30.3931202456448 L -88.8924485085598,30.393170103283598 L -88.89393,30.393397999999998 L -88.90081204986821,30.393495961636496 L -88.902129,30.3935147075905 L -88.9172960921799,30.3937306015755 L -88.92203099999999,30.393798 L -88.92700073705919,30.393464831072297 L -88.93429336583469,30.3929759365331 L -88.95993399999999,30.391257 L -88.96154299999999,30.387501999999998 L -88.96331599999999,30.387960999999997 L -88.9636311525467,30.3884364854735 L -88.96386269718609,30.388785827764 L -88.965431,30.391151999999998 L -88.971233,30.390798 L -88.9728057708046,30.390603314973198 L -88.998902,30.387373 L -89.0010189282735,30.386950998752198 L -89.001334,30.3868881904543 L -89.016334,30.383898 L -89.02693169802379,30.3816017741269 L -89.02792781822369,30.3813859426349 L -89.0438481125902,30.3779364584404 L -89.04871854227359,30.376881172035098 L -89.05420248491708,30.375692954465897 L -89.0569590512734,30.375095683344 L -89.062039,30.373994999999997 L -89.08513099999999,30.367421999999998 L -89.084295,30.361714 L -89.08785999999999,30.359662999999998 L -89.085229,30.353581 L -89.0873204783851,30.3518263995084 L -89.091425,30.348383 L -89.09244263902579,30.3503375896768 L -89.0965732621699,30.3582713197628 L -89.09880299999999,30.362554 L -89.1014243489219,30.3616203885673 L -89.12421691995868,30.353502657759798 L -89.1242629454475,30.3534862654657 L -89.1243361131973,30.3534602062688 L -89.1253276145815,30.353107076237198 L -89.140748,30.347614999999998 L -89.141,30.343667999999997 L -89.142485,30.343583 L -89.145735,30.344945 L -89.153881,30.342937 L -89.18683999999999,30.331197 L -89.19655313134609,30.3286821424704 L -89.22044199999999,30.322497 L -89.24,30.316025 L -89.245075,30.312797 L -89.245314,30.310957 L -89.249832,30.310667 L -89.25201,30.311754999999998 L -89.271833,30.305491 L -89.2792914293484,30.304207448863497 L -89.2851359584202,30.303201640323596 L -89.285744,30.303096999999998 L -89.291444,30.303296 L -89.2930400074627,30.305583610696498 L -89.294444,30.307596 L -89.2930427009818,30.309048573970696 L -89.290126,30.312071999999997 L -89.291844,30.328096 L -89.2883538809651,30.3325459017694 L -89.28784399999999,30.333195999999997 L -89.2850603623825,30.332657002652397 L -89.2823273363707,30.332127805259 L -89.281564,30.331979999999998 L -89.272775,30.334024 L -89.268734,30.340588 L -89.26906518038801,30.340955403242898 L -89.27023104272719,30.3422487817755 L -89.27206199999999,30.344279999999998 L -89.27981799999999,30.34979 L -89.284978,30.353845999999997 L -89.291314,30.361303999999997 L -89.29249899999999,30.365634999999997 L -89.29725599999999,30.367046 L -89.30605,30.365816 L -89.30866499999999,30.361508999999998 L -89.312219,30.360571 L -89.30968899999999,30.373396999999997 L -89.315067,30.375408 L -89.335942,30.374015999999997 L -89.340947,30.372896406886298 L -89.34886120316901,30.3711260397798 L -89.349447,30.370994999999997 L -89.353248,30.368795 L -89.3579905315615,30.363694541528197 L -89.3621296409916,30.3592430464807 L -89.36384799999999,30.357395 L -89.365285,30.353102 L -89.3601642160846,30.350580375798096 L -89.35368280788889,30.3473887402911 L -89.345934,30.343573 L -89.338847,30.342995 L -89.3354097438749,30.340212900930396 L -89.332546,30.337895 L -89.32242158451669,30.319435632920797 L -89.322345,30.319295999999998 L -89.32254499999999,30.314895999999997 L -89.3258751775438,30.3094964417613 L -89.3260036041186,30.3092882105902 L -89.32968825561188,30.3033139073986 L -89.32994599999999,30.302895999999997 L -89.34377804178921,30.2938304050436 L -89.344746,30.293196 L -89.3553530068196,30.2898909181649 L -89.3554309904552,30.2898666189161 L -89.35854599999999,30.288895999999998 L -89.3587095618304,30.2888051449352 L -89.3617501893466,30.287116142009896 L -89.36188451324578,30.2870415279846 L -89.365747,30.284896 L -89.36754670023389,30.2830050106238 L -89.3686444134483,30.281851616304298 L -89.3719308318901,30.2783984954778 L -89.3770906582278,30.2729769388186 L -89.37932219593701,30.270632207167598 L -89.379547,30.270395999999998 L -89.383747,30.267795999999997 L -89.3874022718841,30.2664123747111 L -89.38770663616289,30.266297164098397 L -89.3966710586695,30.2629038729634 L -89.39683794466279,30.262840701826498 L -89.4050019273148,30.2597504001435 L -89.4059354402093,30.2593970387276 L -89.419348,30.25432 L -89.424624,30.245390999999998 L -89.424493,30.239092 L -89.4237523818092,30.238672503992596 L -89.42173,30.237527 L -89.420136,30.234479999999998 L -89.420749,30.229429 L -89.43042799999999,30.223218 L -89.434753,30.218753 L -89.436835,30.213645 L -89.44039699999999,30.212925 L -89.44455099999999,30.208636 L -89.447465,30.205098 L -89.448765,30.202120999999998 L -89.44771,30.194224 L -89.444307,30.187779 L -89.455519,30.181124999999998 L -89.461275,30.174744999999998 L -89.463595,30.173942999999998 L -89.469792,30.176278 L -89.462919,30.178199 L -89.459829,30.182924 L -89.46078,30.189909999999998 L -89.468148,30.193813 L -89.475824,30.191561 L -89.48021399999999,30.193751 L -89.486657,30.191164999999998 L -89.490099,30.187676999999997 L -89.492391,30.18313 L -89.497346,30.181517999999997 L -89.503231,30.18299 L -89.51424999999999,30.184268999999997 L -89.517584,30.182577 L -89.522814,30.183014999999997 L -89.524504,30.180753 L -89.527952,30.188696999999998 L -89.530452,30.192197 L -89.533352,30.194796999999998 L -89.538652,30.195797 L -89.54145299999999,30.195397 L -89.546953,30.193096999999998 L -89.549053,30.191596999999998 L -89.55085299999999,30.189197 L -89.554653,30.185796999999997 L -89.562253,30.182396999999998 L -89.570154,30.180297 L -89.574454,30.181697 L -89.580754,30.186197 L -89.585754,30.192096 L -89.58735399999999,30.195196 L -89.588854,30.200295999999998 L -89.5923148031011,30.205397812032096 L -89.59564316988019,30.210304390414297 L -89.596655,30.211796 L -89.601255,30.216096 L -89.607655,30.217095999999998 L -89.610655,30.218096 L -89.612556,30.219496 L -89.615856,30.223194999999997 L -89.616956,30.225595 L -89.61705599999999,30.227494999999998 L -89.615856,30.235294999999997 L -89.6147608502879,30.2390671823416 L -89.61405599999999,30.241494999999997 L -89.614156,30.244595 L -89.61615599999999,30.247394999999997 L -89.6165074108941,30.247509094446098 L -89.62385599999999,30.249895 L -89.626922,30.251745 L -89.631789,30.256923999999998 L -89.63222499999999,30.260137 L -89.631215,30.261703999999998 L -89.63064899999999,30.262083999999998 L -89.62619699999999,30.262335999999998 L -89.625305,30.263531999999998 L -89.625892,30.265912999999998 L -89.62960799999999,30.267308999999997 L -89.630859,30.267328 L -89.632316,30.268604 L -89.632369,30.271511 L -89.63051999999999,30.276562 L -89.631411,30.279662 L -89.6325886870199,30.2806761403619 L -89.637647,30.285031999999998 L -89.638504,30.288121999999998 L -89.64344,30.287682 L -89.647178,30.289367 L -89.647399,30.291293999999997 L -89.645324,30.292555999999998 L -89.640434,30.295503 L -89.6416348790883,30.3033413107134 L -89.64164793613519,30.303426535938097 L -89.641705,30.303798999999998 L -89.640401,30.306755 L -89.639872,30.307281 L -89.634208,30.308256 L -89.631643,30.309331999999998 L -89.626221,30.314255 L -89.626606,30.315457 L -89.629877,30.321016999999998 L -89.630399,30.332932999999997 L -89.629727,30.339287 L -89.636299,30.34397 L -89.64519899999999,30.348125999999997 L -89.645617,30.351314 L -89.64670000000001,30.352500000000003 L -89.652693,30.355535999999997 L -89.657191,30.356514999999998 L -89.660274,30.363487 L -89.662204,30.371267 L -89.67013399999999,30.382429 L -89.67107216649849,30.3848733021368 L -89.67276199999999,30.389276 L -89.679153,30.399991 L -89.6815402880308,30.4030887339946 L -89.683686,30.405873 L -89.684118,30.412646 L -89.68231999999999,30.412990999999998 L -89.681165,30.411492 L -89.680134,30.4114 L -89.67851399999999,30.414012 L -89.680515,30.428924 L -89.681946,30.434072999999998 L -89.683521,30.434959 L -89.684816,30.439511 L -89.682829,30.445809999999998 L -89.68341,30.451793 L -89.6897794685397,30.4592779821573 L -89.690102,30.459657 L -89.6945614954128,30.462452504587098 L -89.6953416546353,30.4629415596221 L -89.695864,30.463269 L -89.69839589450059,30.4640565109095 L -89.701799,30.465114999999997 L -89.70553799999999,30.47235 L -89.70955099999999,30.477853 L -89.71016399999999,30.478308 L -89.712493,30.47751 L -89.715886,30.477797 L -89.719652,30.483165999999997 L -89.721181,30.488608 L -89.7214350091729,30.488851724502002 L -89.724614,30.491902 L -89.7246380002795,30.4919122546649 L -89.726154,30.492559999999997 L -89.73461499999999,30.494722999999997 L -89.742396,30.497315999999998 L -89.74281599999999,30.498704 L -89.74643499999999,30.502619 L -89.75293099999999,30.502492999999998 L -89.758133,30.505404 L -89.758575,30.505941999999997 L -89.758862,30.513061999999998 L -89.76057,30.515760999999998 L -89.76813299999999,30.51502 L -89.76999599999999,30.521895999999998 L -89.770744,30.527818999999997 L -89.771643,30.530248999999998 L -89.77535499999999,30.538847999999998 L -89.77956499999999,30.544345 L -89.78024599999999,30.544607 L -89.78399399999999,30.544075 L -89.78854199999999,30.544463999999998 L -89.791046,30.545046 L -89.793818,30.545935 L -89.79969299999999,30.547065 L -89.803919,30.549349 L -89.80298599999999,30.550946999999997 L -89.797981,30.549118 L -89.793989,30.548282999999998 L -89.79195999999999,30.548788 L -89.791664,30.551523999999997 L -89.79453199999999,30.556554 L -89.80278899999999,30.557903 L -89.803831,30.558888 L -89.80388699999999,30.560581 L -89.80283299999999,30.562879 L -89.80149399999999,30.563703 L -89.800277,30.563695 L -89.796697,30.561718 L -89.791254,30.561369 L -89.787719,30.566430999999998 L -89.78686499999999,30.569053 L -89.7886095247504,30.5698975563414 L -89.789604,30.570379 L -89.7907719014103,30.5697641093523 L -89.79139699999999,30.569435 L -89.79143499999999,30.565464 L -89.793308,30.565158999999998 L -89.79433499999999,30.565327999999997 L -89.79568499999999,30.565652999999998 L -89.793978,30.567231 L -89.794495,30.569653 L -89.79994699999999,30.569350999999997 L -89.803753,30.568147999999997 L -89.80618199999999,30.567542999999997 L -89.808027,30.567998 L -89.808184,30.568794999999998 L -89.806843,30.572039 L -89.80723078950129,30.5731656506665 L -89.8074224002749,30.5737223403271 L -89.80968399999999,30.580292999999998 L -89.81292499999999,30.581654999999998 L -89.813681983386,30.582716223863898 L -89.815122,30.584735 L -89.813735,30.586038 L -89.8120710339305,30.5854866759069 L -89.809739,30.584713999999998 L -89.807762,30.585825 L -89.807118,30.587336999999998 L -89.8095573359544,30.586943358028197 L -89.811431,30.586641 L -89.81210899999999,30.591472999999997 L -89.8124617126992,30.591487233565896 L -89.8140234198428,30.591550255571 L -89.816396,30.591645999999997 L -89.81852699999999,30.592688 L -89.81983799999999,30.59534 L -89.819696,30.596784999999997 L -89.81443,30.596504 L -89.8143239360782,30.5970719463987 L -89.8141897790341,30.5977903246064 L -89.81404099999999,30.598587 L -89.817202,30.600890999999997 L -89.819969,30.602081 L -89.822334,30.604642 L -89.818117,30.604954 L -89.81456299999999,30.606151999999998 L -89.81392,30.607720999999998 L -89.81537999999999,30.608566 L -89.81690499999999,30.60862 L -89.821286,30.607129999999998 L -89.823278,30.60823 L -89.822389,30.614462 L -89.82086799999999,30.618254 L -89.821424,30.619815 L -89.825271,30.618271999999997 L -89.828155,30.617931 L -89.82990199999999,30.616705999999997 L -89.83082499999999,30.617649 L -89.83052692075329,30.618950042613598 L -89.830337,30.619778999999998 L -89.829948,30.622221 L -89.82624799999999,30.621259 L -89.823261,30.622802999999998 L -89.8226517562371,30.6248276021069 L -89.82227999999999,30.626063 L -89.820571,30.628355 L -89.82006799999999,30.632807999999997 L -89.81808099999999,30.634019 L -89.81385,30.636795 L -89.813977,30.63818 L -89.815788,30.639215 L -89.820469,30.638261999999997 L -89.823448,30.639871 L -89.82341799999999,30.642840999999997 L -89.82058699999999,30.644758 L -89.82137999999999,30.646528 L -89.825744,30.645273 L -89.824986,30.649423 L -89.833261,30.657515999999998 L -89.836047,30.657297999999997 L -89.840988,30.658514999999998 L -89.851889,30.661199 L -89.852263,30.662934 L -89.85055,30.664780999999998 L -89.848879,30.665201999999997 L -89.84691699999999,30.663952 L -89.845642,30.663569 L -89.843355,30.663698999999998 L -89.8417869041958,30.665556526803 L -89.838804,30.669089999999997 L -89.83789399999999,30.672514 L -89.83886799999999,30.673731 L -89.840597,30.67288 L -89.84134999999999,30.671962999999998 L -89.842344,30.669724 L -89.84381599999999,30.668761 L -89.845807,30.668930999999997 L -89.847201,30.670037999999998 L -89.844965,30.674691 L -89.83679699999999,30.690572999999997 L -89.835478,30.691166 L -89.8357974621526,30.698409156751897 L -89.835848,30.699555 L -89.838065,30.704036 L -89.83931199999999,30.704143 L -89.84173,30.702713 L -89.843605,30.702510999999998 L -89.84592599999999,30.704157 L -89.8461928375923,30.7049993857529 L -89.846576,30.706208999999998 L -89.845801,30.707314 L -89.83625699999999,30.716185 L -89.83196099999999,30.715384 L -89.83005999999999,30.71631 L -89.82806099999999,30.725018 L -89.83306499999999,30.726758999999998 L -89.836331,30.727197 L -89.836945,30.728201 L -89.83686999999999,30.734661 L -89.83580066478609,30.7358542079603 L -89.835437,30.736259999999998 L -89.833818,30.736971999999998 L -89.82741399999999,30.736199 L -89.821535,30.736618 L -89.81747999999999,30.737305 L -89.816499,30.737945999999997 L -89.816075,30.739365999999997 L -89.81676399999999,30.740076 L -89.819548,30.740671 L -89.822969,30.740074999999997 L -89.826351,30.738364999999998 L -89.82775,30.738364999999998 L -89.82869699999999,30.739451 L -89.82510099999999,30.742079 L -89.825774,30.747304999999997 L -89.822459,30.754628 L -89.824227,30.755157999999998 L -89.82656999999999,30.753137 L -89.829349,30.751317999999998 L -89.83316699999999,30.753314 L -89.83264899999999,30.755993999999998 L -89.82688,30.756066999999998 L -89.826121,30.759013999999997 L -89.829314,30.760590999999998 L -89.8303205727095,30.76186597041 L -89.832408,30.764509999999998 L -89.8322358941349,30.7651225467069 L -89.8321274187491,30.7655086244292 L -89.831537,30.767609999999998 L -89.828756,30.768735999999997 L -89.82781899999999,30.771223 L -89.82765599999999,30.774815 L -89.830418,30.779842 L -89.82805499999999,30.783416 L -89.824395,30.779629 L -89.820087,30.782390999999997 L -89.819024,30.784371 L -89.82113,30.788608999999997 L -89.821486,30.791183 L -89.8212752774948,30.791875078816098 L -89.821078,30.792523 L -89.819164,30.795229 L -89.817559,30.796053999999998 L -89.816418,30.796053999999998 L -89.813946,30.793782 L -89.813535,30.792035 L -89.81260999999999,30.789876 L -89.812096,30.788437 L -89.81065699999999,30.788026 L -89.80676299999999,30.789068999999998 L -89.80510699999999,30.790595999999997 L -89.80469599999999,30.791624 L -89.804901,30.792548999999998 L -89.806237,30.793370999999997 L -89.807071,30.793908 L -89.808601,30.794912999999998 L -89.810863,30.797379 L -89.81147899999999,30.797995999999998 L -89.811171,30.798921 L -89.81065095991019,30.799388934905696 L -89.810143,30.799846 L -89.80817599999999,30.800562 L -89.804632,30.802511 L -89.804065,30.803247 L -89.80425199999999,30.806934 L -89.800422,30.810425 L -89.799027,30.811339 L -89.79742499999999,30.811453999999998 L -89.797156,30.811753 L -89.797809,30.813195999999998 L -89.799673,30.815171999999997 L -89.800049,30.819077999999998 L -89.798654,30.820854999999998 L -89.797491,30.821478 L -89.796634,30.821648 L -89.795497,30.820753999999997 L -89.79614699999999,30.818937 L -89.796184,30.818098 L -89.795327,30.817227 L -89.79452599999999,30.817404999999997 L -89.793959,30.817922 L -89.79348499999999,30.819657999999997 L -89.79276,30.820297 L -89.79174499999999,30.820387 L -89.785894,30.815962 L -89.782404,30.817974999999997 L -89.781168,30.820123 L -89.782202,30.82122 L -89.78452899999999,30.820902999999998 L -89.78638199999999,30.82124 L -89.787454,30.822587 L -89.787493,30.824192999999998 L -89.7856618889136,30.8258591649338 L -89.783985,30.827385 L -89.78225599999999,30.831260999999998 L -89.78235,30.832552 L -89.784092,30.832888999999998 L -89.78683699999999,30.830641999999997 L -89.78942599999999,30.83047 L -89.790432,30.830985 L -89.79080499999999,30.832130999999997 L -89.790121,30.837982999999998 L -89.78750000000001,30.844112 L -89.78936499999999,30.847064 L -89.791872,30.848692 L -89.79247,30.850386 L -89.791027,30.851533999999997 L -89.789509,30.851381999999997 L -89.78743999999999,30.84952 L -89.785977,30.849175 L -89.785603,30.847523 L -89.784717,30.84623 L -89.78264899999999,30.845264 L -89.7806,30.845508 L -89.780228,30.846235 L -89.780947,30.848542 L -89.783791,30.852131 L -89.784416,30.853744 L -89.78407299999999,30.855269999999997 L -89.783384,30.856022 L -89.781643,30.856613 L -89.77875499999999,30.855800000000002 L -89.774739,30.853254 L -89.772587,30.853659999999998 L -89.771722,30.854677 L -89.767955,30.863857999999997 L -89.767789,30.865577 L -89.768237,30.866391999999998 L -89.778005,30.873410999999997 L -89.77919399999999,30.875185 L -89.778583,30.878902999999998 L -89.77808610760741,30.8796400739157 L -89.77711,30.881088 L -89.775458,30.881497 L -89.770027,30.882254 L -89.77201099999999,30.89024 L -89.77355299999999,30.896862 L -89.773099,30.898338 L -89.771986,30.899127 L -89.770269,30.89939 L -89.765101,30.896918999999997 L -89.760701,30.896306 L -89.758719,30.897319 L -89.757024,30.898947 L -89.756671,30.901069 L -89.75980299999999,30.906215999999997 L -89.76159299999999,30.906591 L -89.763622,30.907732 L -89.764451,30.910276 L -89.764202,30.911906 L -89.7626,30.913736 L -89.75940299999999,30.915134 L -89.75741699999999,30.914993 L -89.754086,30.9128 L -89.750073,30.91293 L -89.746718,30.915805 L -89.744789,30.918933 L -89.74444799999999,30.920576999999998 L -89.745161,30.922416 L -89.74820799999999,30.923368999999997 L -89.75074099999999,30.923246 L -89.75281199999999,30.925413 L -89.752549,30.928157 L -89.750073,30.929814999999998 L -89.748851,30.932816 L -89.748897,30.933888 L -89.750073,30.935762999999998 L -89.75583499999999,30.939542999999997 L -89.756554,30.941948999999997 L -89.756333,30.943497999999998 L -89.751196,30.951438999999997 L -89.74359199999999,30.958482 L -89.743134,30.959992999999997 L -89.735686,30.966573 L -89.733933,30.966918999999997 L -89.731393,30.96613 L -89.729327,30.966241999999998 L -89.72804099999999,30.966517999999997 L -89.72707199999999,30.967395 L -89.727086,30.969707 L -89.728382,30.971141 L -89.736086,30.974446 L -89.737149,30.976080999999997 L -89.73688299999999,30.977121999999998 L -89.735912,30.977864999999998 L -89.732168,30.978088 L -89.73050099999999,30.979706999999998 L -89.72993,30.98209 L -89.72769799999999,30.993329 L -89.728563,30.994396 L -89.732035,30.994408999999997 L -89.73422699999999,30.995601999999998 L -89.73554,30.999715 L -89.73,30.999748999999998 L -89.72812599999999,31.000956 L -89.7281451296188,31.002299627985096 L -89.72814699999999,31.002430999999998 L -89.729616,31.003926999999997 L -89.73250399999999,31.004831 L -89.741821,31.003441 L -89.745215,31.002252 L -89.74722899999999,31.000183999999997 L -89.749189,30.999554999999997 L -89.751481,30.999689999999998 L -89.752133,31.000183 L -89.752642,31.001852999999997 L -89.79978278373939,31.002023716933596 L -89.816429,31.002084 L -89.82461699999999,31.00206 L -89.83554199999999,31.002059 L -89.83590796037879,31.002059274641898 L -89.85686199999999,31.002074999999998 L -89.8636983943507,31.002014733844398 L -89.892708,31.001759 L -89.897516,31.001913 L -89.923119,31.001445999999998 L -89.927161,31.001437 L -89.941012221834,31.001423343310098 L -89.972802,31.001392 L -89.9753988023263,31.0016884386217 L -89.97543,31.001692 L -90.005332,31.001364 L -90.022185,31.001302 L -90.0292018746201,31.0011956405525 L -90.029574,31.001189999999998 L -90.05070599999999,31.001215 L -90.0675448715494,31.0011785916291 L -90.0731210153755,31.0011665351019 L -90.0731269103186,31.001166522356097 L -90.0974700040835,31.0011138886398 L -90.128406,31.001047 L -90.131395,31.000923999999998 L -90.1484288842297,31.000976319505696 L -90.164278,31.001025 L -90.164676,31.00098 L -90.1873440248678,31.0009028693861 L -90.1943924283431,31.0008788863664 L -90.2595549256981,31.0006571633247 L -90.2950404148182,31.0005364197851 L -90.346007,31.000363 L -90.34723,31.000359 L -90.3472409612406,31.0003589881184 L -90.3556049999152,31.0003499218193 L -90.369371,31.000335 L -90.38053599999999,30.999872 L -90.422117,30.99981 L -90.42684899999999,30.999775999999997 L -90.43735099999999,30.99973 L -90.44172499999999,30.999729 L -90.44247899999999,30.999722 L -90.4566267908343,30.9997560101883 L -90.4568848974875,30.9997566306566 L -90.4569817623398,30.999756863512197 L -90.45698294025209,30.999756866343798 L -90.4633242254013,30.9997721102999 L -90.474094,30.999798 L -90.475928,30.99974 L -90.477284,30.999716999999997 L -90.48112823746679,30.9997272906729 L -90.48587599999999,30.99974 L -90.48674899999999,30.999692999999997 L -90.54761548218009,30.9997232645164 L -90.567195,30.999733 L -90.583518,30.999698 L -90.584448,30.999698 L -90.587373,30.999603999999998 L -90.58867599999999,30.99965 L -90.648721,30.999485999999997 L -90.64966099877469,30.9994951262017 L -90.65119299999999,30.999509999999997 L -90.66766823174801,30.999451442500003 L -90.734473,30.999214 L -90.734552,30.999222 L -90.7534178744156,30.999503161733198 L -90.758775,30.999582999999998 L -90.76933299999999,30.999374 L -90.775981,30.999491 L -90.77985799999999,30.999457 L -90.783745,30.999447 L -90.8258293654941,30.9993604066554 L -90.826027,30.99936 L -90.8349414503027,30.9993950334277 L -90.85255127820119,30.9994642393362 L -90.89473,30.99963 L -90.9702367367615,30.999321081116097 L -90.9802978056479,30.9992799185086 L -91.0421723672845,30.999026772612797 L -91.0602129522528,30.9989529636044 L -91.06827,30.99892 L -91.08081399999999,30.998908999999998 L -91.108114,30.998856999999997 L -91.108291,30.99888 L -91.17613975227569,30.9991437308313 L -91.176209,30.999143999999998 L -91.224068,30.999183 L -91.224839,30.999183 L -91.23153100075601,30.999272943754097 L -91.24649,30.999474 L -91.3481523174901,30.9991927700878 L -91.3482344274821,30.999192542945796 L -91.37489515433539,30.9991187909986 L -91.39651504144929,30.999058983597898 L -91.4146279968947,30.9990088774721 L -91.423621,30.998984 L -91.425749,30.999007 L -91.48731499963901,30.9990061406318 L -91.49739,30.999005999999998 L -91.50011599999999,30.998690999999997 L -91.5386610327368,30.999386809168797 L -91.538727,30.999388 L -91.625118,30.999167 L -91.63694199999999,30.999416 L -91.625118,31.005374 L -91.60649,31.011215999999997 L -91.590463,31.01727 L -91.578413,31.02403 L -91.57169499999999,31.029781999999997 L -91.564397,31.038964999999997 L -91.56123199999999,31.046225 L -91.56036499999999,31.049508 L -91.559907,31.054119 L -91.56128299999999,31.060906 L -91.56415,31.06683 L -91.56764799999999,31.070186 L -91.59469299999999,31.091444 L -91.609523,31.101557 L -91.614763,31.104357 L -91.61856999999999,31.107328 L -91.621535,31.110256999999997 L -91.62599399999999,31.116895999999997 L -91.626476,31.119124999999997 L -91.62570699999999,31.128763 L -91.625118,31.131878999999998 L -91.624217,31.133729 L -91.62167099999999,31.13687 L -91.604197,31.154545 L -91.59973199999999,31.159592 L -91.597062,31.163491999999998 L -91.59150199999999,31.173118 L -91.589046,31.178586 L -91.588695,31.181024999999998 L -91.588939,31.188958999999997 L -91.5894512930811,31.1911399311563 L -91.590051,31.193693 L -91.595029,31.201969 L -91.60161599999999,31.208572999999998 L -91.625119,31.226070999999997 L -91.644356,31.234413999999997 L -91.652019,31.242690999999997 L -91.654907,31.250175 L -91.65500899999999,31.251814999999997 z\" /></g></g></svg>"
      ],
      "text/plain": [
       "<shapely.geometry.multipolygon.MultiPolygon at 0x25214434670>"
      ]
     },
     "execution_count": 27,
     "metadata": {},
     "output_type": "execute_result"
    }
   ],
   "source": [
    "# or as an alternative\n",
    "gdf.geometry[0]"
   ]
  },
  {
   "cell_type": "markdown",
   "metadata": {},
   "source": [
    "In a section above we talked about having a **multipolygon** instead of just a polygon. At this *scale* of the map, the state looks like one shape, but it is, in fact, a multi-part polygon. Together these polygon pieces make up the geometric representation for this one object."
   ]
  },
  {
   "cell_type": "code",
   "execution_count": 28,
   "metadata": {},
   "outputs": [
    {
     "name": "stderr",
     "output_type": "stream",
     "text": [
      "<ipython-input-28-ac382ec89f19>:2: ShapelyDeprecationWarning: __len__ for multi-part geometries is deprecated and will be removed in Shapely 2.0. Check the length of the `geoms` property instead to get the  number of parts of a multi-part geometry.\n",
      "  len(gdf.geometry[0])\n"
     ]
    },
    {
     "data": {
      "text/plain": [
       "8"
      ]
     },
     "execution_count": 28,
     "metadata": {},
     "output_type": "execute_result"
    }
   ],
   "source": [
    "# how many \"parts\" are there in the geometry\n",
    "len(gdf.geometry[0])\n",
    "\n",
    "# note, you can also run `print(gdf.geometry[0])` to see the whole, long string"
   ]
  },
  {
   "cell_type": "code",
   "execution_count": 29,
   "metadata": {},
   "outputs": [
    {
     "name": "stderr",
     "output_type": "stream",
     "text": [
      "<ipython-input-29-824b2846ae1c>:3: ShapelyDeprecationWarning: __getitem__ for multi-part geometries is deprecated and will be removed in Shapely 2.0. Use the `geoms` property to access the constituent parts of a multi-part geometry.\n",
      "  gdf.geometry[0][0]\n"
     ]
    },
    {
     "data": {
      "image/svg+xml": [
       "<svg xmlns=\"http://www.w3.org/2000/svg\" xmlns:xlink=\"http://www.w3.org/1999/xlink\" width=\"100.0\" height=\"100.0\" viewBox=\"-88.51075548 30.192827519999998 0.101424960000017 0.02616396000000165\" preserveAspectRatio=\"xMinYMin meet\"><g transform=\"matrix(1,0,0,-1,0,60.411818999999994)\"><path fill-rule=\"evenodd\" fill=\"#66cc99\" stroke=\"#555555\" stroke-width=\"0.00202849920000034\" opacity=\"0.6\" d=\"M -88.502966,30.215235 L -88.491759,30.209014 L -88.468668,30.203730999999998 L -88.45344399999999,30.201235999999998 L -88.4491297949387,30.201667020672495 L -88.44265399999999,30.202313999999998 L -88.43033199999999,30.208548 L -88.420121,30.209097999999997 L -88.41308699999999,30.206343999999998 L -88.42925,30.200387 L -88.44885549161519,30.1973317760772 L -88.453654,30.196583999999998 L -88.493523,30.205945 L -88.502752,30.210506 L -88.506999,30.214347999999998 L -88.502966,30.215235 z\" /></g></svg>"
      ],
      "text/plain": [
       "<shapely.geometry.polygon.Polygon at 0x25216c9a5e0>"
      ]
     },
     "execution_count": 29,
     "metadata": {},
     "output_type": "execute_result"
    }
   ],
   "source": [
    "# inspect the first part (of the first state)\n",
    "# the default behavior is to plot the object\n",
    "gdf.geometry[0][0]"
   ]
  },
  {
   "cell_type": "code",
   "execution_count": 34,
   "metadata": {},
   "outputs": [
    {
     "name": "stderr",
     "output_type": "stream",
     "text": [
      "<ipython-input-34-91bc1c1b846d>:2: ShapelyDeprecationWarning: __getitem__ for multi-part geometries is deprecated and will be removed in Shapely 2.0. Use the `geoms` property to access the constituent parts of a multi-part geometry.\n",
      "  gdf.geometry[0][7]\n"
     ]
    },
    {
     "data": {
      "image/svg+xml": [
       "<svg xmlns=\"http://www.w3.org/2000/svg\" xmlns:xlink=\"http://www.w3.org/1999/xlink\" width=\"100.0\" height=\"100.0\" viewBox=\"-91.84789335999999 29.981058639999997 3.9428897199999824 5.207877720000003\" preserveAspectRatio=\"xMinYMin meet\"><g transform=\"matrix(1,0,0,-1,0,65.169995)\"><path fill-rule=\"evenodd\" fill=\"#66cc99\" stroke=\"#555555\" stroke-width=\"0.10415755440000005\" opacity=\"0.6\" d=\"M -91.65500899999999,31.251814999999997 L -91.654027,31.255753 L -91.651369,31.259528 L -91.648669,31.262238 L -91.64125299999999,31.266917 L -91.637672,31.26768 L -91.621358,31.267811 L -91.60667199999999,31.265900000000002 L -91.587749,31.262563 L -91.57449299999999,31.261288999999998 L -91.56419199999999,31.261633 L -91.553905,31.26305 L -91.537734,31.267369 L -91.51857799999999,31.275282999999998 L -91.515614,31.278209999999998 L -91.512085,31.284177 L -91.50885799999999,31.291643999999998 L -91.508296,31.295828999999998 L -91.507977,31.312942999999997 L -91.50865999999999,31.315130999999997 L -91.510049,31.316822 L -91.518509,31.323331999999997 L -91.531657,31.331801 L -91.53320599999999,31.333225 L -91.53606099999999,31.338355 L -91.545617,31.343761999999998 L -91.54896699999999,31.347254999999997 L -91.54889399999999,31.353997999999997 L -91.55086899999999,31.360574 L -91.551002,31.363644999999998 L -91.549915,31.376314999999998 L -91.546607,31.381197999999998 L -91.546207,31.382479999999997 L -91.552432,31.385658 L -91.55568,31.386412999999997 L -91.560524,31.384559 L -91.56255499999999,31.383218999999997 L -91.568953,31.377629 L -91.57123399999999,31.384663999999997 L -91.573931,31.390886 L -91.578334,31.399067 L -91.578246,31.403858999999997 L -91.57626499999999,31.410497999999997 L -91.570092,31.419487 L -91.565179,31.423447 L -91.554805,31.428569999999997 L -91.55274999999999,31.430691999999997 L -91.548465,31.432668 L -91.545013,31.433025999999998 L -91.541626,31.431706 L -91.54064699999999,31.430757999999997 L -91.537137,31.424160999999998 L -91.537002,31.423184 L -91.539504,31.41791 L -91.539458,31.414020999999998 L -91.532336,31.390275 L -91.52695,31.380854999999997 L -91.521836,31.375169999999997 L -91.51597799999999,31.370286 L -91.50807499999999,31.366276 L -91.50416299999999,31.36495 L -91.47887,31.364955 L -91.472465,31.371326 L -91.471098,31.376917 L -91.471992,31.382143 L -91.47201837791289,31.383704001204297 L -91.472149,31.391434 L -91.472065,31.395925 L -91.47692599999999,31.397796 L -91.48022999999999,31.404390999999997 L -91.49004,31.412716 L -91.500046,31.42052 L -91.506423,31.431459999999998 L -91.510356,31.438927999999997 L -91.51336599999999,31.444395999999998 L -91.51513,31.449206 L -91.516999,31.460573999999998 L -91.518148,31.483483 L -91.51714,31.498393999999998 L -91.515157,31.50338 L -91.514917,31.510112999999997 L -91.516759,31.511771999999997 L -91.520579,31.513206999999998 L -91.52286199999999,31.517492999999998 L -91.52292,31.519841 L -91.522536,31.522077999999997 L -91.521445,31.523912 L -91.5180421394486,31.5281282861348 L -91.51581,31.530894 L -91.51396299999999,31.532083999999998 L -91.511217,31.532612 L -91.50671899999999,31.532966 L -91.500118,31.532615999999997 L -91.489618,31.534266 L -91.483918,31.532566 L -91.481318,31.530666 L -91.47971799999999,31.530365999999997 L -91.4552374776405,31.538031360019602 L -91.4504327116009,31.539535832063297 L -91.450017,31.539665999999997 L -91.443916,31.542465999999997 L -91.43761599999999,31.546166 L -91.42641599999999,31.554565999999998 L -91.4228560395115,31.556918464978004 L -91.4198689883791,31.5588923445195 L -91.4198546253413,31.5589018357887 L -91.414915,31.562165999999998 L -91.407915,31.569366 L -91.4077734,31.5696492 L -91.406615,31.571966 L -91.40541499999999,31.576466 L -91.4043098523501,31.5862649758289 L -91.403915,31.589765999999997 L -91.413015,31.595364999999997 L -91.417115,31.596265 L -91.422716,31.597064999999997 L -91.43071599999999,31.596465 L -91.43631599999999,31.594965 L -91.4516770489488,31.589604101873796 L -91.457517,31.587566 L -91.46631699999999,31.586066 L -91.4671464203883,31.5860280141796 L -91.479418,31.585466 L -91.48521799999999,31.586166 L -91.488618,31.587466 L -91.494118,31.590165 L -91.502783,31.595727 L -91.51301,31.606885 L -91.5148155315998,31.6093889885807 L -91.516567,31.611818 L -91.51723299999999,31.61346 L -91.517921,31.618641999999998 L -91.51665899999999,31.627332 L -91.515462,31.630371999999998 L -91.51233599999999,31.634722 L -91.50730999999999,31.639067999999998 L -91.49927799999999,31.644658 L -91.497665,31.645370999999997 L -91.494478,31.645013 L -91.49274799999999,31.644278999999997 L -91.490027,31.641000000000002 L -91.487518,31.637065 L -91.482618,31.631565 L -91.479818,31.628964999999997 L -91.474318,31.625365 L -91.46381699999999,31.620365 L -91.43671599999999,31.612665 L -91.429616,31.611365 L -91.421116,31.611565 L -91.41649799999999,31.613132999999998 L -91.401015,31.620365 L -91.398315,31.626265 L -91.3963998609334,31.637581730848297 L -91.396115,31.639264999999998 L -91.395715,31.644164999999997 L -91.398015,31.662664999999997 L -91.400115,31.688163999999997 L -91.400015,31.697864 L -91.397915,31.709363999999997 L -91.397115,31.711364 L -91.380915,31.732464 L -91.3802389538171,31.7332419242873 L -91.371804,31.742948 L -91.365034,31.748184 L -91.356394,31.749105999999998 L -91.338663,31.750004999999998 L -91.31981599999999,31.749989 L -91.31786142917309,31.749791433823 L -91.310734,31.749070999999997 L -91.29172299999999,31.74526 L -91.275545,31.745514999999997 L -91.26340599999999,31.754468 L -91.25961099999999,31.76129 L -91.263043,31.766994999999998 L -91.2662786530318,31.7682446294555 L -91.27387399999999,31.771178 L -91.286045,31.772062 L -91.301315,31.766748 L -91.31351593061801,31.7641562052649 L -91.32597299999999,31.761509999999998 L -91.35521399999999,31.758063 L -91.365529,31.761627999999998 L -91.363714,31.780362999999998 L -91.35951399999999,31.799362 L -91.3462849723467,31.8410612372385 L -91.345714,31.842861 L -91.343014,31.846860999999997 L -91.338414,31.851260999999997 L -91.33381399999999,31.853261 L -91.326914,31.854961 L -91.294713,31.86046 L -91.293413,31.860159999999997 L -91.289312,31.846860999999997 L -91.29013499999999,31.833658 L -91.289412,31.828661 L -91.287812,31.824161 L -91.28491199999999,31.818361999999997 L -91.282212,31.814761999999998 L -91.28021199999999,31.813162 L -91.27671199999999,31.811362 L -91.269212,31.809161999999997 L -91.262011,31.809362 L -91.255611,31.812662 L -91.25011099999999,31.817762 L -91.247367,31.822322999999997 L -91.245047,31.831446999999997 L -91.24562399999999,31.833164999999997 L -91.261144,31.846118999999998 L -91.266612,31.851160999999998 L -91.268112,31.853061 L -91.268812,31.855161 L -91.26901199999999,31.858660999999998 L -91.26771199999999,31.862659999999998 L -91.26695732,31.86366624 L -91.26651199999999,31.864259999999998 L -91.264412,31.86546 L -91.248144,31.869847999999998 L -91.234899,31.876863 L -91.226951,31.885105 L -91.20881,31.900458999999998 L -91.20510999999999,31.904159 L -91.20281,31.907958999999998 L -91.20101,31.909159 L -91.19751,31.908659 L -91.19381,31.909558999999998 L -91.19261,31.910159 L -91.19198550466851,31.9111304371823 L -91.19081,31.912958999999997 L -91.18921,31.914258999999998 L -91.1861958745166,31.9152134730697 L -91.18321,31.916158999999997 L -91.181227656,31.917531392 L -91.18061,31.917959 L -91.18110999999999,31.920059 L -91.18491,31.923758999999997 L -91.1846256046064,31.9259865269207 L -91.18370999999999,31.933158 L -91.18471,31.935057999999998 L -91.19111,31.934158 L -91.19291,31.934957999999998 L -91.19321,31.935658 L -91.18951,31.946358 L -91.18880999999999,31.953158 L -91.18911,31.957458 L -91.18831,31.960957999999998 L -91.18481,31.965556999999997 L -91.180485274378,31.970057052336298 L -91.17741,31.973257 L -91.17021,31.979056999999997 L -91.16440999999999,31.982557 L -91.117409,31.987057 L -91.104108,31.990357 L -91.096108,31.994857 L -91.090105,32.000157 L -91.075908,32.016828 L -91.079928,32.018316 L -91.08080799999999,32.023455999999996 L -91.082608,32.028656 L -91.084408,32.031456 L -91.08810799999999,32.034455 L -91.095508,32.037455 L -91.125109,32.042854999999996 L -91.14511,32.046555 L -91.15141,32.049254999999995 L -91.15630999999999,32.052655 L -91.15901,32.055955 L -91.16131,32.059754999999996 L -91.16201,32.062355 L -91.16201,32.065354 L -91.16161,32.067754 L -91.16031,32.070354 L -91.15581,32.075554 L -91.14881,32.080154 L -91.14511,32.081354 L -91.139309,32.081754 L -91.134909,32.080354 L -91.128609,32.076554 L -91.12410899999999,32.071854 L -91.11430899999999,32.058254999999996 L -91.103708,32.050255 L -91.098708,32.048355 L -91.082308,32.047554999999996 L -91.080208,32.048355 L -91.07910799999999,32.050255 L -91.08170799999999,32.075753999999996 L -91.081508,32.077754 L -91.08000799999999,32.079153999999996 L -91.066679,32.08533 L -91.038607,32.098254 L -91.034707,32.101053 L -91.030507,32.108153 L -91.0307064962793,32.114336885917304 L -91.030907,32.120551999999996 L -91.0307991898912,32.1205658494524 L -91.027007,32.121052999999996 L -91.020006,32.123553 L -91.017606,32.125153 L -91.01180599999999,32.131153 L -91.006406,32.139952 L -91.005006,32.142852 L -91.004106,32.146152 L -91.002906,32.162051999999996 L -91.016606,32.160852 L -91.025007,32.162552 L -91.03190699999999,32.167851 L -91.04180699999999,32.174551 L -91.050207,32.178450999999995 L -91.058307,32.180951 L -91.05890699999999,32.171251 L -91.055707,32.163751999999995 L -91.049707,32.157351999999996 L -91.048507,32.150152 L -91.050207,32.145252 L -91.05120699999999,32.144152 L -91.053175,32.124237 L -91.061555,32.126906999999996 L -91.069081,32.131478 L -91.07704299999999,32.133493 L -91.08162999999999,32.133992 L -91.091656,32.133604 L -91.101181,32.131136 L -91.103696,32.130007 L -91.111294,32.125036 L -91.11317397554708,32.1255440027236 L -91.113866,32.125731 L -91.13140299999999,32.126213 L -91.136566,32.127371 L -91.1444,32.13039 L -91.15504299999999,32.132242999999995 L -91.16282199999999,32.132694 L -91.165452,32.13429 L -91.1656436337104,32.1345953874809 L -91.171702,32.14425 L -91.173495,32.149009 L -91.17455199999999,32.154978 L -91.173664,32.164231 L -91.17104599999999,32.176525999999996 L -91.16807299999999,32.186634999999995 L -91.164171,32.196888 L -91.16206199999999,32.199035 L -91.15802599999999,32.201955999999996 L -91.13358699999999,32.213432 L -91.130197,32.213665999999996 L -91.128495,32.213169 L -91.124043,32.211104 L -91.11726999999999,32.206668 L -91.11408399999999,32.206697 L -91.11300899999999,32.20655 L -91.108509,32.208149999999996 L -91.100409,32.21785 L -91.092108,32.22385 L -91.083708,32.22645 L -91.075108,32.22705 L -91.071108,32.22605 L -91.061408,32.21865 L -91.05510699999999,32.22475 L -91.053107,32.22795 L -91.051807,32.234449 L -91.0503836512323,32.2377701471247 L -91.05030699999999,32.237949 L -91.04650699999999,32.241149 L -91.039007,32.242349 L -91.034307,32.241549 L -91.026607,32.238749 L -91.021507,32.236149 L -91.00960599999999,32.22615 L -91.002906,32.22305 L -91.00433699999999,32.218125 L -91.00450699999999,32.212516 L -91.002467,32.195859999999996 L -91.001108,32.1928 L -90.998542,32.191578 L -90.995159,32.192119999999996 L -90.99328899999999,32.194500000000005 L -90.99282223865819,32.195246774206 L -90.98904,32.201298 L -90.98377099999999,32.210646 L -90.983434,32.221305 L -90.98313499999999,32.231370999999996 L -90.98029,32.243601 L -90.97613899999999,32.248092 L -90.970016,32.25168 L -90.969403,32.25252 L -90.971344,32.257742 L -90.979663,32.265252 L -90.981028,32.266732999999995 L -90.982985,32.270294 L -90.984077,32.279954 L -90.980747,32.29141 L -90.979475,32.293701999999996 L -90.976199,32.29645 L -90.97460199999999,32.297122 L -90.971643,32.297497 L -90.96414899999999,32.296872 L -90.963079,32.296285 L -90.961171,32.293288 L -90.955405,32.286241 L -90.953008,32.284043 L -90.951351,32.283198999999996 L -90.947834,32.283485999999996 L -90.9345267477263,32.29007762239689 L -90.93399099999999,32.290343 L -90.9234496740595,32.297779295918495 L -90.922231,32.298639 L -90.916157,32.303582 L -90.9065484299256,32.3140049891148 L -90.90517299999999,32.315497 L -90.902558,32.319587 L -90.90124,32.323386 L -90.90071999999999,32.330379 L -90.89636407339519,32.3367566924205 L -90.8879188953814,32.349121627070396 L -90.88645397951801,32.3512664710144 L -90.88252979332908,32.3570120344237 L -90.882161,32.357552 L -90.8765213811194,32.3704048037031 L -90.875631,32.372434 L -90.878289,32.374548 L -90.8888123894195,32.373262444265 L -90.888947,32.373246 L -90.89206,32.370579 L -90.897762,32.35436 L -90.90775599999999,32.343610999999996 L -90.912363,32.339453999999996 L -90.92116999999999,32.342073 L -90.93489699999999,32.344967 L -90.94298099999999,32.345956 L -90.954583,32.345859 L -90.986672,32.35176 L -90.993625,32.354047 L -91.000106,32.357695 L -91.003506,32.362145 L -91.00450599999999,32.364744 L -91.00450599999999,32.368144 L -91.00060599999999,32.381644 L -90.996237,32.388061 L -90.994686,32.392277 L -90.99378,32.396778 L -90.99408,32.403862 L -90.980723,32.408243 L -90.97446099999999,32.412001 L -90.971141,32.414636 L -90.967767,32.418279 L -90.96625499999999,32.421026999999995 L -90.965986,32.424806 L -90.96645699999999,32.433868 L -90.966869,32.435499 L -90.96856,32.438083999999996 L -90.96959,32.43949 L -90.97854699999999,32.447032 L -90.983423,32.449076999999996 L -90.99386299999999,32.450849999999996 L -90.99897399999999,32.450165 L -91.004806,32.445741 L -91.01650599999999,32.440342 L -91.02630599999999,32.434442 L -91.029606,32.433541999999996 L -91.05290699999999,32.438442 L -91.070207,32.445141 L -91.081807,32.450441 L -91.095308,32.458740999999996 L -91.108808,32.47204 L -91.11210799999999,32.47614 L -91.116008,32.48314 L -91.117308,32.495039 L -91.116708,32.500139 L -91.106985,32.514934 L -91.101304,32.525599 L -91.098756,32.532968 L -91.097949,32.537214 L -91.097878,32.544751999999995 L -91.093741,32.549127999999996 L -91.074817,32.533467 L -91.070467,32.528171 L -91.06051599999999,32.512361 L -91.050907,32.500139 L -91.045807,32.495539 L -91.038106,32.49044 L -91.033906,32.48854 L -91.02410599999999,32.48524 L -91.017106,32.48374 L -91.004206,32.48214 L -90.999223,32.482614999999996 L -90.996388,32.483925 L -90.990703,32.487749 L -90.988278,32.491189999999996 L -90.987579,32.492387 L -90.987202,32.495663 L -90.988784,32.500841 L -90.994867,32.508611 L -91.007075,32.516371 L -91.018469,32.521018999999995 L -91.05116799999999,32.53089 L -91.061685,32.536448 L -91.075373,32.546718 L -91.080398,32.556442 L -91.0697862054881,32.562793318519 L -91.06935399999999,32.563052 L -91.049312,32.573623999999995 L -91.0434509306581,32.576269553442096 L -91.03617,32.579556 L -91.030991,32.583346999999996 L -91.022943,32.591848 L -91.01623099999999,32.596953 L -91.013723,32.598419 L -91.010228,32.601926999999996 L -91.004599,32.60978 L -91.002997,32.614678 L -91.002962,32.622555 L -91.0035,32.624845 L -91.00681999999999,32.631261 L -91.014286,32.640482 L -91.019115,32.643845 L -91.025769,32.646573 L -91.030181,32.644052 L -91.038415,32.636443 L -91.040401,32.632521 L -91.041448,32.625135 L -91.043263,32.620779 L -91.0489,32.613555999999996 L -91.049796,32.607188 L -91.061354,32.605371999999996 L -91.079506,32.60068 L -91.087784,32.597069999999995 L -91.105704,32.590879 L -91.112764,32.590185999999996 L -91.118641,32.585139 L -91.11985399999999,32.584795 L -91.125108,32.585187 L -91.127912,32.586493 L -91.13528,32.591651 L -91.141148,32.597209 L -91.14407399999999,32.600612999999996 L -91.146204,32.604144 L -91.15131799999999,32.615919 L -91.153556,32.626180999999995 L -91.15364868477079,32.627965094400295 L -91.153821,32.631282 L -91.15374399999999,32.635228 L -91.152699,32.640757 L -91.152081,32.641508 L -91.14975299999999,32.644041 L -91.144347,32.648029 L -91.142038,32.649265 L -91.138712,32.649774 L -91.137638,32.650621 L -91.130928,32.65887 L -91.12772299999999,32.665343 L -91.118258,32.674075 L -91.10444299999999,32.682434 L -91.098762,32.685291 L -91.08114499999999,32.691127 L -91.076061,32.693751 L -91.063946,32.702926 L -91.057043,32.712576 L -91.054749,32.719229 L -91.0545136340063,32.7218900408994 L -91.054481,32.722259 L -91.05699899999999,32.72558 L -91.060766,32.727494 L -91.077176,32.732534 L -91.09057299999999,32.7361 L -91.113652,32.73997 L -91.12315199999999,32.742798 L -91.13169099999999,32.743107 L -91.150244,32.741786 L -91.154461,32.742339 L -91.15861,32.743449 L -91.163389,32.747009 L -91.165328,32.751301 L -91.165814,32.757842 L -91.164968,32.761984 L -91.157614,32.776033 L -91.15691799999999,32.780343 L -91.158583,32.781096 L -91.164397,32.785821 L -91.1630557060552,32.7921940559525 L -91.161412,32.800004 L -91.1615150883724,32.805002382133104 L -91.1615835115222,32.8083199730676 L -91.16166899999999,32.812464999999996 L -91.15833599999999,32.822303999999995 L -91.15715499999999,32.823823 L -91.152174,32.826673 L -91.149704,32.83122 L -91.14500199999999,32.84287 L -91.143559,32.844739 L -91.13789,32.848974999999996 L -91.12788599999999,32.855059 L -91.124725,32.854861 L -91.116091,32.855641 L -91.105631,32.858396 L -91.086683,32.873391999999996 L -91.070602,32.888659 L -91.068186,32.891929 L -91.064449,32.901064 L -91.06380899999999,32.903709 L -91.0637985738819,32.903930450747694 L -91.063684,32.906363999999996 L -91.064854,32.91652 L -91.064624248363,32.917968444436504 L -91.063875,32.922692 L -91.0642106228094,32.9240547225371 L -91.064804,32.926463999999996 L -91.07054699999999,32.936036 L -91.072075,32.937832 L -91.08043099999999,32.943205999999996 L -91.081913,32.944767999999996 L -91.083084,32.947908999999996 L -91.081892,32.949435 L -91.080507,32.950123 L -91.078904,32.951817999999996 L -91.080355,32.962793999999995 L -91.08680199999999,32.976265999999995 L -91.090887,32.981173999999996 L -91.094265,32.984370999999996 L -91.09693,32.986412 L -91.10658099999999,32.988938 L -91.111757,32.988361 L -91.125107,32.984669 L -91.13441399999999,32.980533 L -91.135517,32.979656999999996 L -91.13858499999999,32.971351999999996 L -91.137524,32.96955 L -91.13305,32.966541 L -91.13094699999999,32.963815 L -91.130721,32.962257 L -91.131243,32.960927999999996 L -91.133335,32.959056 L -91.136628,32.957349 L -91.13716699999999,32.95652 L -91.137863,32.952756 L -91.13550699999999,32.946163999999996 L -91.131289,32.930049 L -91.131304,32.926919 L -91.132115,32.923122 L -91.134041,32.917676 L -91.14507599999999,32.905494 L -91.15169,32.901935 L -91.159975,32.899879 L -91.17023499999999,32.899391 L -91.175405,32.899998 L -91.181631,32.901446 L -91.19678499999999,32.906784 L -91.199775,32.908512 L -91.208263,32.915354 L -91.211597,32.919624 L -91.212837,32.922104 L -91.213972,32.927198 L -91.214027,32.93032 L -91.21282,32.936076 L -91.21070499999999,32.939845 L -91.20743999999999,32.944393 L -91.199415,32.952314 L -91.20119,32.954982 L -91.20203,32.957332 L -91.201842,32.961211999999996 L -91.199646,32.963561 L -91.19743299999999,32.964819999999996 L -91.186983,32.976194 L -91.182158,32.978639 L -91.17330799999999,32.986087999999995 L -91.168973,32.992132 L -91.166195,33.002238 L -91.166073,33.004106 L -91.166282,33.011331 L -91.162363,33.019684 L -91.15616,33.023579999999995 L -91.14975799999999,33.026312 L -91.14242399999999,33.027231 L -91.137439,33.028735999999995 L -91.129088,33.033553999999995 L -91.12565599999999,33.038275999999996 L -91.123441,33.046577 L -91.120379,33.05453 L -91.12029299999999,33.055921 L -91.121195,33.059166 L -91.124639,33.064127 L -91.149823,33.081603 L -91.16065599999999,33.085595999999995 L -91.16591799999999,33.086174 L -91.171514,33.087818 L -91.173546,33.089318 L -91.174723,33.09164 L -91.180836,33.098364 L -91.1863465782448,33.1006229834877 L -91.195953,33.104561 L -91.200167,33.10693 L -91.20112499999999,33.108185 L -91.20146199999999,33.109638 L -91.202089,33.121249 L -91.20178,33.125121 L -91.195296,33.134730999999995 L -91.193174,33.136734 L -91.188718,33.139811 L -91.183662,33.141691 L -91.169406,33.142638999999996 L -91.16165099999999,33.141781 L -91.160298,33.141216 L -91.153015,33.135093 L -91.151853,33.131802 L -91.150362,33.130694999999996 L -91.143334,33.129785 L -91.131659,33.129101 L -91.114087,33.129833999999995 L -91.104317,33.131598 L -91.093201,33.136725999999996 L -91.089862,33.139655 L -91.087589,33.145177 L -91.0869117647879,33.1487335707116 L -91.085562,33.155822 L -91.08488899999999,33.1618 L -91.084366,33.180856 L -91.086963,33.198509 L -91.08990899999999,33.210194 L -91.09171099999999,33.220813 L -91.085984,33.221644 L -91.082878,33.221621 L -91.079635,33.223225 L -91.07922699999999,33.223889 L -91.07922699999999,33.2265 L -91.07767299999999,33.227485 L -91.074103,33.226821 L -91.070697,33.227302 L -91.071079,33.230095999999996 L -91.068708,33.232935999999995 L -91.065629,33.232982 L -91.063912,33.237356 L -91.054126,33.246105 L -91.05040699999999,33.251202 L -91.047648,33.259989 L -91.045191,33.265404 L -91.04398499999999,33.269835 L -91.043624,33.274636 L -91.045141,33.279015 L -91.04814999999999,33.282796 L -91.052369,33.285415 L -91.05873,33.286901 L -91.06703499999999,33.28718 L -91.07256699999999,33.285885 L -91.07853,33.283305999999996 L -91.081244,33.28125 L -91.083694,33.278557 L -91.086137,33.273652 L -91.09034199999999,33.257325 L -91.091489,33.254838 L -91.094748,33.250499 L -91.096931,33.241628 L -91.099093,33.238172999999996 L -91.1001,33.238125 L -91.10614199999999,33.241799 L -91.11056099999999,33.24593 L -91.114325,33.252953 L -91.115184048026,33.2552449804476 L -91.117223,33.260684999999995 L -91.118208,33.262071 L -91.128078,33.268502 L -91.125528,33.274732 L -91.12553899999999,33.280255 L -91.140057,33.296617999999995 L -91.141615,33.299538999999996 L -91.1415885699783,33.3023290663642 L -91.141475,33.314318 L -91.143667,33.328398 L -91.1434008294615,33.3301967703273 L -91.14335299999999,33.33052 L -91.141893,33.332963 L -91.14178845675389,33.333361959631 L -91.140968,33.336493 L -91.142219,33.348988999999996 L -91.14179299999999,33.350076 L -91.140192,33.351452 L -91.1303188483801,33.357111847657 L -91.125108,33.360099 L -91.120409,33.363808999999996 L -91.106758,33.381141 L -91.101456,33.38719 L -91.090852,33.395781 L -91.08427585764059,33.4000857760094 L -91.0810374507895,33.402205653493695 L -91.075293,33.405966 L -91.07003408479049,33.4121383142545 L -91.062281,33.421237999999995 L -91.05917607179339,33.4268530396994 L -91.05815199999999,33.428705 L -91.057621,33.445341 L -91.0580133125203,33.4462148596964 L -91.059828,33.450257 L -91.064701,33.453775 L -91.067623,33.455104 L -91.07455499999999,33.455811 L -91.07781399999999,33.455648 L -91.081834,33.454188 L -91.08649799999999,33.451575999999996 L -91.091566,33.446318999999995 L -91.094279,33.442671 L -91.096723,33.437602999999996 L -91.09753099999999,33.433724999999995 L -91.09747399999999,33.431733 L -91.09533499999999,33.425684 L -91.09521099999999,33.417488 L -91.099277,33.408243999999996 L -91.10717,33.399077999999996 L -91.11376399999999,33.393124 L -91.123623,33.387526 L -91.14093799999999,33.380477 L -91.154017,33.378914 L -91.166304,33.379709 L -91.17196799999999,33.381029999999996 L -91.176942,33.382841 L -91.191127,33.389634 L -91.1930386834362,33.3909227138944 L -91.204758,33.398823 L -91.208113,33.402007 L -91.209032,33.403633 L -91.20922,33.40629 L -91.208702,33.408719 L -91.205272,33.414231 L -91.20258,33.416832 L -91.199354,33.418321 L -91.19197299999999,33.417728 L -91.184427,33.419576 L -91.179368,33.417151 L -91.17627999999999,33.416979 L -91.163387,33.422157 L -91.147663,33.427172 L -91.144877,33.427706 L -91.13915,33.426955 L -91.131885,33.430063 L -91.130561,33.4319 L -91.130552,33.433263 L -91.12858899999999,33.436284 L -91.1211,33.443563 L -91.118495,33.449116 L -91.117975,33.453807 L -91.11896443620039,33.4575629980587 L -91.11966699999999,33.460229999999996 L -91.125109,33.472842 L -91.136656,33.481322999999996 L -91.157319,33.492923 L -91.160142,33.494828999999996 L -91.164019,33.497448 L -91.167403,33.498304 L -91.172213,33.496691 L -91.175488,33.49077 L -91.177148,33.48617 L -91.17698399999999,33.478899 L -91.175635,33.471761 L -91.171799,33.462342 L -91.16936,33.452629 L -91.17729299999999,33.443638 L -91.181787,33.44078 L -91.186979,33.438592 L -91.19465799999999,33.436358 L -91.206807,33.433845999999996 L -91.210275,33.433796 L -91.21737399999999,33.434699 L -91.235181,33.438972 L -91.235928,33.440611 L -91.23431,33.4423 L -91.2336971298595,33.443499513856004 L -91.23342199999999,33.444038 L -91.232587,33.453958 L -91.231661,33.457100000000004 L -91.223338,33.462764 L -91.220192,33.463045 L -91.215508,33.46478 L -91.208535,33.468606 L -91.20675299999999,33.470307999999996 L -91.20566099999999,33.473552999999995 L -91.199593,33.483125 L -91.195634,33.488468 L -91.189375,33.493005 L -91.185637,33.496399 L -91.18307,33.498613 L -91.182901,33.502379 L -91.184612,33.507363999999995 L -91.187367,33.510552 L -91.215671,33.529423 L -91.219297,33.532364 L -91.226325,33.5412 L -91.229834,33.547047 L -91.232295,33.552788 L -91.232537,33.557454 L -91.23141799999999,33.560593 L -91.2308579778816,33.56137194507 L -91.228489,33.564667 L -91.224121,33.567369 L -91.22146599999999,33.568166 L -91.20315099999999,33.570758 L -91.198285,33.572061 L -91.188942,33.576225 L -91.181068,33.58152 L -91.17822,33.582606999999996 L -91.175979,33.582968 L -91.160755,33.581351999999995 L -91.157429,33.581372 L -91.152148,33.582721 L -91.138418,33.590896 L -91.13404299999999,33.594488999999996 L -91.13244999999999,33.596989 L -91.131588,33.59945 L -91.130445,33.606034 L -91.13090199999999,33.610918999999996 L -91.1329605860014,33.6159919651592 L -91.134389,33.619512 L -91.139209,33.625658 L -91.150499,33.633013 L -91.16421199999999,33.643277999999995 L -91.171168,33.647766 L -91.178311,33.651109 L -91.18545499999999,33.653604 L -91.21128399999999,33.658526 L -91.219048,33.661502999999996 L -91.223001,33.664794 L -91.226537,33.668665 L -91.228228,33.671326 L -91.22901499999999,33.677543 L -91.227857,33.683073 L -91.225279,33.687749 L -91.22485081812859,33.6882194635809 L -91.22057,33.692923 L -91.212077,33.698249 L -91.205377,33.700818999999996 L -91.200712,33.701535 L -91.190113,33.701859999999996 L -91.17573,33.703116 L -91.165846,33.705133 L -91.162464,33.70684 L -91.160866,33.707096 L -91.144188,33.689596 L -91.133416,33.67679 L -91.13045,33.674521999999996 L -91.10097999999999,33.660551 L -91.09403999999999,33.658350999999996 L -91.088202,33.657387 L -91.084126,33.657322 L -91.078507,33.658283 L -91.06711,33.662689 L -91.05918199999999,33.6664 L -91.050523,33.668064 L -91.04641199999999,33.668272 L -91.03684,33.671316 L -91.034565,33.673018 L -91.03380495550819,33.6742722569971 L -91.03146,33.678142 L -91.030332,33.681622 L -91.030402,33.687765999999996 L -91.033366,33.688773 L -91.03612,33.689113 L -91.03715,33.692907 L -91.039025,33.696594999999995 L -91.04126099999999,33.699933 L -91.04677799999999,33.706313 L -91.055562,33.712486 L -91.059891,33.714816 L -91.063752,33.715892 L -91.06828999999999,33.716477 L -91.075389,33.714403 L -91.089873,33.707364 L -91.101101,33.705007 L -91.107646,33.704679 L -91.117733,33.705342 L -91.12552699999999,33.70878 L -91.13233799999999,33.714245999999996 L -91.14473199999999,33.726803 L -91.145792,33.728924 L -91.14661799999999,33.732456 L -91.146523,33.736503 L -91.143287,33.747141 L -91.144539,33.749338 L -91.144571,33.751607 L -91.141553,33.755956999999995 L -91.140756,33.759735 L -91.14130399999999,33.760835 L -91.14363399999999,33.762094999999995 L -91.144812,33.763996 L -91.145112,33.76734 L -91.14201,33.77382 L -91.13986899999999,33.777117 L -91.137351,33.779923 L -91.133854,33.782814 L -91.13218499999999,33.78342 L -91.128222,33.783446999999995 L -91.123466,33.782106 L -91.117836,33.779026 L -91.11403215048959,33.7763521493035 L -91.111494,33.774567999999995 L -91.10731799999999,33.770618999999996 L -91.088996,33.775801 L -91.08551,33.77641 L -91.060524,33.77764 L -91.05388599999999,33.778701 L -91.026782,33.763642 L -91.023285,33.762991 L -91.01276999999999,33.764675 L -91.000106,33.769165 L -90.993842,33.773601 L -90.99122,33.776790999999996 L -90.98944399999999,33.780575999999996 L -90.988466,33.78453 L -90.9890693438216,33.7870549178418 L -90.989299,33.788016 L -90.99174699999999,33.792597 L -91.000107,33.799549 L -91.007767,33.802591 L -91.02009799999999,33.804446999999996 L -91.02254101166159,33.8051719607019 L -91.025173,33.805952999999995 L -91.042448,33.812855 L -91.046849,33.815365 L -91.049679,33.818729 L -91.052819,33.824180999999996 L -91.056692,33.828935 L -91.064977,33.837126 L -91.067511,33.840443 L -91.07119499999999,33.849539 L -91.073011,33.857448999999995 L -91.07279799999999,33.862396 L -91.070883,33.866714 L -91.061247,33.877505 L -91.055309,33.883035 L -91.0394007245812,33.8962635825537 L -91.03667399999999,33.898531 L -91.026382,33.90798 L -91.01748099999999,33.919083 L -91.010831,33.925551999999996 L -91.01003999999999,33.927003 L -91.0101898469778,33.9282691530609 L -91.010318,33.929352 L -91.01299399999999,33.932276 L -91.02009699999999,33.937127 L -91.035961,33.943757999999995 L -91.046725,33.947406 L -91.078496,33.95406 L -91.0790048351099,33.954252573959295 L -91.08409499999999,33.956179 L -91.08675799999999,33.95827 L -91.088696,33.961334 L -91.089787,33.966004 L -91.089756,33.969721 L -91.089119,33.972653 L -91.087921,33.975335 L -91.083187,33.979865 L -91.07925399999999,33.982101 L -91.075378,33.983585999999995 L -91.071203,33.984473 L -91.062264,33.985082999999996 L -91.048367,33.985078 L -91.042751,33.986810999999996 L -91.03958899999999,33.989297 L -91.033765,33.995323 L -91.01889,34.003150999999995 L -91.01361,33.994495 L -91.004981,33.977011 L -91.00298599999999,33.970901999999995 L -91.000108,33.966428 L -90.994856,33.963118 L -90.987653,33.960792999999995 L -90.983359,33.960186 L -90.97686399999999,33.960502999999996 L -90.970856,33.961867999999996 L -90.967632,33.963324 L -90.965187,33.965461 L -90.96372,33.967687999999995 L -90.96122199999999,33.976151 L -90.961548,33.979945 L -90.970947,33.991884999999996 L -90.97748899999999,33.996553999999996 L -90.979945,34.000105999999995 L -90.987948,34.019038 L -90.982742,34.020469 L -90.976918,34.021335 L -90.970726,34.02162 L -90.958456,34.020254 L -90.950311,34.017821999999995 L -90.942662,34.018049999999995 L -90.934896,34.019262 L -90.923745,34.023143 L -90.922017,34.023216 L -90.914642,34.021885 L -90.899467,34.023796 L -90.89242,34.02686 L -90.888956,34.029787999999996 L -90.887413,34.032505 L -90.886991,34.035094 L -90.887394,34.039845 L -90.88905799999999,34.046361999999995 L -90.888627,34.052419 L -90.88783699999999,34.055403 L -90.88635099999999,34.058564 L -90.882115,34.063902999999996 L -90.874541,34.072041 L -90.87194,34.076361999999996 L -90.87177887623109,34.0768360142606 L -90.870528,34.080515999999996 L -90.87046099999999,34.082739 L -90.871923,34.086652 L -90.876606,34.092911 L -90.878912,34.094573 L -90.882628,34.096615 L -90.88808499999999,34.097809999999996 L -90.893526,34.097795 L -90.90113,34.094667 L -90.91406599999999,34.092756 L -90.91839499999999,34.093053999999995 L -90.921273,34.093958 L -90.94632299999999,34.109373999999995 L -90.948514,34.111269 L -90.95500367987549,34.1189731025439 L -90.955974,34.120125 L -90.958467,34.125105 L -90.959317,34.13035 L -90.9543,34.138498 L -90.938064,34.148754 L -90.91001,34.165507999999996 L -90.903577,34.164332 L -90.894385,34.160953 L -90.883073,34.151502 L -90.876836,34.14813 L -90.86788,34.142146 L -90.86457999999999,34.140555 L -90.853471,34.137510999999996 L -90.847168,34.136884 L -90.83609899999999,34.137876 L -90.83028499999999,34.139813 L -90.82570799999999,34.142011 L -90.822593,34.144054 L -90.815878,34.149879 L -90.810884,34.155902999999995 L -90.807813,34.161474 L -90.807164,34.16746 L -90.808685,34.175878 L -90.8092482325233,34.176960879058804 L -90.81001599999999,34.178436999999995 L -90.81237399999999,34.180766999999996 L -90.816572,34.183023 L -90.82838799999999,34.184784 L -90.838205,34.183803999999995 L -90.84710799999999,34.186053 L -90.85560000000001,34.186879999999995 L -90.859087,34.186288 L -90.864566,34.183882 L -90.86965099999999,34.182964999999996 L -90.87383,34.18322 L -90.87747499999999,34.185632999999996 L -90.882701,34.184363999999995 L -90.887884,34.181979999999996 L -90.891871,34.184765999999996 L -90.9118,34.193897 L -90.91604799999999,34.196916 L -90.93267999999999,34.214824 L -90.93522,34.219049999999996 L -90.936988,34.227041 L -90.937152,34.23411 L -90.936404,34.236698 L -90.933511,34.240218 L -90.92901499999999,34.244541 L -90.923152,34.24653 L -90.912396,34.245931999999996 L -90.907082,34.244492 L -90.905934,34.243528999999995 L -90.904279,34.24096 L -90.900078,34.229621 L -90.898286,34.227253 L -90.89456,34.22438 L -90.87912,34.21545 L -90.867064,34.212140999999995 L -90.856708,34.211597999999995 L -90.852764,34.209403 L -90.847808,34.20653 L -90.844824,34.210999 L -90.842151,34.216879999999996 L -90.840009,34.223076999999996 L -90.83950899999999,34.226200999999996 L -90.84012799999999,34.230104 L -90.839981,34.236114 L -90.836972,34.250104 L -90.8335284493208,34.2632196660809 L -90.83240699999999,34.267491 L -90.830612,34.271245 L -90.828267,34.273649999999996 L -90.824478,34.27624 L -90.82091899999999,34.27784 L -90.812829,34.279438 L -90.802928,34.282465 L -90.797569,34.282402 L -90.7767231943719,34.280376159742296 L -90.772266,34.279942999999996 L -90.765165,34.280524 L -90.755271,34.286848 L -90.752681,34.289266 L -90.743082,34.302257 L -90.740889,34.306537999999996 L -90.74060999999999,34.313469 L -90.742694,34.320263 L -90.74471299999999,34.324872 L -90.748942,34.331044999999996 L -90.765174,34.342818 L -90.767108,34.345264 L -90.767732,34.346872 L -90.768445,34.353469 L -90.767061,34.360271 L -90.76576399999999,34.362109 L -90.762085,34.364754 L -90.756197,34.367256 L -90.750107,34.367919 L -90.741616,34.367225 L -90.7336653420393,34.3653024500294 L -90.729131,34.364205999999996 L -90.724909,34.363659 L -90.71301772823419,34.3637944126572 L -90.712088,34.363805 L -90.700147,34.365854999999996 L -90.690497,34.368606 L -90.678603,34.371122 L -90.676245,34.371111 L -90.676159,34.369558 L -90.68162,34.35291 L -90.69155099999999,34.338618 L -90.693686,34.329679999999996 L -90.693129,34.32257 L -90.690005,34.318584 L -90.686003,34.315771 L -90.678097,34.313030999999995 L -90.669343,34.31302 L -90.661395,34.315398 L -90.657488,34.322230999999995 L -90.657371,34.327287 L -90.660404,34.33576 L -90.66087440465779,34.336693015370294 L -90.666862,34.348569 L -90.666788,34.35582 L -90.655346,34.371846 L -90.658542,34.375704999999996 L -90.641398,34.383869 L -90.63494,34.386362999999996 L -90.631586,34.387192999999996 L -90.61847999999999,34.388767 L -90.61394399999999,34.390723 L -90.580677,34.410554 L -90.5801849857429,34.41097756891109 L -90.575336,34.415152 L -90.571145,34.420319 L -90.56984868416879,34.422435183704 L -90.56839699999999,34.424805 L -90.56650499999999,34.429528 L -90.565826,34.434379 L -90.5666737771211,34.437763344305395 L -90.56733,34.440383 L -90.573959,34.451875 L -90.576893,34.454350999999996 L -90.583717,34.458829 L -90.585477,34.461247 L -90.588346,34.470562 L -90.58992099999999,34.484792999999996 L -90.588942,34.491096999999996 L -90.587490456876,34.4965056046236 L -90.586525,34.500102999999996 L -90.58353,34.504084999999996 L -90.581062,34.512817999999996 L -90.5797559867619,34.5145861253569 L -90.578493,34.516296 L -90.569347,34.524867 L -90.55527599999999,34.531012 L -90.545728,34.537749999999996 L -90.543633,34.540378 L -90.541282,34.545331 L -90.540736,34.548085 L -90.54095099999999,34.550853 L -90.545891,34.563257 L -90.549244,34.568101 L -90.557666,34.576929 L -90.564866,34.582602 L -90.570133,34.587457 L -90.574787,34.595242999999996 L -90.581693,34.604227 L -90.58722399999999,34.615732 L -90.58825499999999,34.626616 L -90.5834403324521,34.641389257845596 L -90.58301999999999,34.642679 L -90.58308799999999,34.643609999999995 L -90.585031,34.647072 L -90.586336,34.651689 L -90.587323,34.665407 L -90.58853599999999,34.668645999999995 L -90.588419,34.670963 L -90.58200599999999,34.680234999999996 L -90.578745,34.683844 L -90.573106,34.686425 L -90.567334,34.693371 L -90.563391,34.695876 L -90.5556919806313,34.6979286751794 L -90.555627,34.697946 L -90.552317,34.697086999999996 L -90.54985599999999,34.695478 L -90.548071,34.693169 L -90.542761,34.688781 L -90.54007399999999,34.684981 L -90.538856,34.682463 L -90.538061,34.673232 L -90.53940899999999,34.670902 L -90.550158,34.663444999999996 L -90.55264199999999,34.659707 L -90.553962,34.655018 L -90.555104,34.646236 L -90.55412899999999,34.640871 L -90.551761,34.636483999999996 L -90.547614,34.631656 L -90.543696,34.629559 L -90.537165,34.627767 L -90.53218799999999,34.627486999999995 L -90.524481,34.628504 L -90.517168,34.630928 L -90.5081,34.636682 L -90.503061,34.640789999999996 L -90.496639,34.648117 L -90.48789,34.654880999999996 L -90.47971799999999,34.659934 L -90.469821,34.669436 L -90.46604099999999,34.674312 L -90.46369317848409,34.681418801128004 L -90.46281599999999,34.684073999999995 L -90.462552,34.687576 L -90.463734,34.691092999999995 L -90.467064,34.695643 L -90.46997982090849,34.6980649497622 L -90.47118499999999,34.699066 L -90.475194,34.700826 L -90.480041,34.701515 L -90.486966,34.701477 L -90.496552,34.700578 L -90.509847,34.698003 L -90.52208399999999,34.696605 L -90.52921099999999,34.696819 L -90.538974,34.698783 L -90.546053,34.702076 L -90.5555247323095,34.7112499429407 L -90.565646,34.721053 L -90.567482,34.723292 L -90.56808099999999,34.724802 L -90.56817199999999,34.727384 L -90.5680615163688,34.7281046330409 L -90.56724,34.733463 L -90.565437,34.736536 L -90.563544,34.738671 L -90.559895,34.740787999999995 L -90.556308,34.741541 L -90.550119,34.741952999999995 L -90.546425,34.743078 L -90.53880099999999,34.745642 L -90.53540799999999,34.750062 L -90.536667,34.754947 L -90.540634,34.760478 L -90.542631,34.764396 L -90.54622499999999,34.773443 L -90.547859,34.779194 L -90.54817,34.78189 L -90.547612,34.784589 L -90.544067,34.791159 L -90.540222,34.795767999999995 L -90.53650999999999,34.798572 L -90.53133,34.800584 L -90.522892,34.802265 L -90.5167816771734,34.8018940214458 L -90.51470599999999,34.801767999999996 L -90.512761,34.796488 L -90.50367899999999,34.780136 L -90.50152299999999,34.774795 L -90.50099399999999,34.771187 L -90.501325,34.769931 L -90.505494,34.764568 L -90.516522,34.758333 L -90.52243399999999,34.753952999999996 L -90.524852,34.750079 L -90.524354,34.742079 L -90.523929,34.738417 L -90.520181,34.731902 L -90.511364,34.727604 L -90.501667,34.724236 L -90.48886499999999,34.723731 L -90.479704,34.724793 L -90.46989699999999,34.72703 L -90.45795,34.732946 L -90.454968,34.735557 L -90.452479,34.739898 L -90.4518770228971,34.7421576309091 L -90.451257,34.744485 L -90.45116999999999,34.747786999999995 L -90.45303799999999,34.753352 L -90.458883,34.764267 L -90.470411,34.780877 L -90.47352699999999,34.788835 L -90.47458999999999,34.7932 L -90.473877,34.798398999999996 L -90.47228,34.802465 L -90.47054399999999,34.805036 L -90.465367,34.810592 L -90.459024,34.81444 L -90.456761,34.820395 L -90.456935,34.823383 L -90.46379499999999,34.834922999999996 L -90.474403,34.849495 L -90.481955,34.857805 L -90.483876,34.861333 L -90.485038,34.869251999999996 L -90.48455799999999,34.875096 L -90.483969,34.877176 L -90.479872,34.883264 L -90.475686,34.88631 L -90.46615399999999,34.890989 L -90.459819,34.891946 L -90.45391599999999,34.891121999999996 L -90.444806,34.887994 L -90.441254,34.886313 L -90.438313,34.884581 L -90.436561,34.882731 L -90.43009599999999,34.871212 L -90.42898,34.867168 L -90.429115,34.865086999999995 L -90.431722,34.858913 L -90.431741,34.855050999999996 L -90.43082799999999,34.848982 L -90.428754,34.8414 L -90.423879,34.834606 L -90.422355,34.833675 L -90.414864,34.831846 L -90.41066599999999,34.832028 L -90.4079908833418,34.832998481267495 L -90.40163299999999,34.835305 L -90.379837,34.845931 L -90.35217399999999,34.853196 L -90.348218,34.855112999999996 L -90.34038,34.860357 L -90.33577206438409,34.8558944521077 L -90.332298,34.85253 L -90.323067,34.846391 L -90.319198,34.844854 L -90.311312,34.844223 L -90.307384,34.846195 L -90.303944,34.850516999999996 L -90.302669,34.854366 L -90.302523,34.856471 L -90.303698,34.859704 L -90.3044193945795,34.8605888851081 L -90.313476,34.871697999999995 L -90.31000499999999,34.875097 L -90.301957,34.880053 L -90.279364,34.890077 L -90.250095,34.90732 L -90.248308,34.909739 L -90.246546,34.914168 L -90.244725,34.921031 L -90.24447599999999,34.937596 L -90.246116,34.944316 L -90.247832,34.947916 L -90.2495204334623,34.9504061356819 L -90.250056,34.951195999999996 L -90.253969,34.954988 L -90.25966299999999,34.957792999999995 L -90.27824,34.965077 L -90.282234,34.967661 L -90.287239,34.972531 L -90.293083,34.974574 L -90.29642199999999,34.976346 L -90.302471,34.982077 L -90.304425,34.984939 L -90.309297,34.995694 L -90.3026450463283,34.9956725996129 L -90.13745238930879,34.9951411487056 L -90.12760563119531,34.9951094701272 L -90.1269475389888,34.9951073529405 L -90.0963372057652,34.9950088746566 L -90.0607842992266,34.994894495332694 L -90.04303640730011,34.994837397557006 L -90.0313291971037,34.99479973361 L -90.0250722522122,34.9947796040286 L -90.0250168365057,34.9947794257475 L -90.00815475867739,34.9947251777759 L -90.008136877334,34.994725120248795 L -90.0025384419794,34.994707109196696 L -90.00226495154101,34.9947062293347 L -89.9899073593362,34.99466647300589 L -89.98990067128989,34.994666451489394 L -89.97219550889899,34.9946094911814 L -89.95589828023449,34.994557060419005 L -89.9367552242117,34.9944954741798 L -89.9367527187411,34.994495466119304 L -89.91887881498529,34.9944379629436 L -89.9014606033329,34.9943819258016 L -89.893449449911,34.99435615265389 L -89.893402,34.994355999999996 L -89.8837478802462,34.994264623953704 L -89.883365,34.994261 L -89.8783097856676,34.9942511438032 L -89.8617990449356,34.99421895266379 L -89.84848799999999,34.994192999999996 L -89.84838459511829,34.994193194001795 L -89.8377794635948,34.9942130906857 L -89.8307644094975,34.9942262518911 L -89.83068949042689,34.9942263924496 L -89.8131287302322,34.9942593388487 L -89.7953564909701,34.994292682011604 L -89.795187,34.994293 L -89.75961578200929,34.9948931585598 L -89.75961233055601,34.994893216792796 L -89.7419450298609,34.9951912999718 L -89.741785,34.995194 L -89.7243244282036,34.995211728650496 L -89.7066059367629,34.9952297191806 L -89.64428199999999,34.995293 L -89.6440499795058,34.9952920623604 L -89.61794057187709,34.9951865492017 L -89.59101607378369,34.995077742105 L -89.5825900861135,34.9950436910615 L -89.5822270839594,34.9950422240997 L -89.5717770727674,34.9949999935863 L -89.56505951050359,34.994972846619795 L -89.52874829939559,34.994826106003 L -89.511153,34.994755 L -89.51113322718871,34.9947545526308 L -89.49373899999999,34.994361 L -89.486897,34.993975 L -89.48446201429579,34.9939646399546 L -89.4410170689412,34.9937797963198 L -89.43495399999999,34.993753999999996 L -89.40572016978702,34.9938850355527 L -89.38112804033739,34.9939952654901 L -89.35268016441019,34.9941227781396 L -89.23319005545419,34.9946583717431 L -89.217433,34.994729 L -89.19828799999999,34.994484 L -89.1584880355985,34.9939483549327 L -89.15682699999999,34.993926 L -89.139136,34.994307 L -89.13899699999999,34.99433 L -89.02654,34.994956 L -89.0171270872889,34.9949454068841 L -88.9936842139341,34.99491902471289 L -88.93112498467029,34.9948486217263 L -88.925241,34.994842 L -88.8937681261162,34.995685948790005 L -88.886979,34.995868 L -88.8582329321065,34.9952417640877 L -88.85103699999999,34.995084999999996 L -88.8230487339323,34.9951575501037 L -88.78661199999999,34.995252 L -88.71968852525829,34.99541701881309 L -88.6844382883445,34.9955039382727 L -88.6058652359321,34.9956976824245 L -88.58498971194459,34.9957491569513 L -88.5638643532817,34.9958012475163 L -88.5316851494129,34.9958805944727 L -88.53104614590069,34.9958821701171 L -88.5284971515357,34.9958884553859 L -88.51421417673279,34.9959236741123 L -88.5142131311916,34.995923676690396 L -88.5054084601072,34.9959453871048 L -88.50483317952289,34.995946805622296 L -88.47883399999999,34.9960109139754 L -88.474158525998,34.996022442683 L -88.469877,34.996033 L -88.46980099999999,34.996052 L -88.4628193195682,34.9960174407092 L -88.38050799999999,34.99561 L -88.3635308623519,34.99558961029079 L -88.258111,34.995463 L -88.25382499999999,34.995553 L -88.2516572426499,34.9955562660915 L -88.2516091346036,34.9955563385744 L -88.20034100539779,34.9956335826447 L -88.200064,34.995633999999995 L -88.19881099999999,34.991192 L -88.187429,34.974909 L -88.17997299999999,34.967466 L -88.17610599999999,34.962519 L -88.172102,34.955213 L -88.161594,34.933456 L -88.154617,34.922391999999995 L -88.146335,34.914373999999995 L -88.139721,34.909631 L -88.136692,34.907592 L -88.13318600882819,34.9059779925659 L -88.12503799999999,34.902226999999996 L -88.099999,34.894095 L -88.097888,34.892202 L -88.104828239252,34.8343853294572 L -88.10755999999999,34.811628 L -88.116418,34.746303 L -88.11840699999999,34.724292 L -88.120809790864,34.708890862191595 L -88.1229228444128,34.6953468499391 L -88.1308067668013,34.6448133736411 L -88.13426299999999,34.622659999999996 L -88.1343641919509,34.621900492639696 L -88.138719,34.589214999999996 L -88.139246,34.587795 L -88.139988,34.581703 L -88.1525090963558,34.4907061779864 L -88.1560500936445,34.464972049690495 L -88.156292,34.463214 L -88.15655206473149,34.4609838238307 L -88.15675103972801,34.4592775205854 L -88.1586659845225,34.4428559772994 L -88.1594297785128,34.4363060881802 L -88.1613748286655,34.4196263774296 L -88.165634,34.383102 L -88.1656733734431,34.3827915774924 L -88.16591,34.380925999999995 L -88.173632,34.321054 L -88.175867,34.302171 L -88.176889,34.293858 L -88.17710617074539,34.292238747559196 L -88.1774959379743,34.289332593991105 L -88.186667,34.220952 L -88.18762,34.204778 L -88.19067799999999,34.190123 L -88.192128,34.175351 L -88.20019599999999,34.115947999999996 L -88.2037840638383,34.0865542422802 L -88.20600529627859,34.0683576964181 L -88.207229,34.058333 L -88.210741,34.029199 L -88.21174683554689,34.0217404155568 L -88.2132700197265,34.0104455295678 L -88.222135875909,33.9447024394569 L -88.226428,33.912875 L -88.226517,33.911665 L -88.226517,33.911550999999996 L -88.22893187253071,33.8942371038877 L -88.22924906832169,33.8919629072572 L -88.229252650117,33.891937226882 L -88.2294613585972,33.8904408510291 L -88.23098695974831,33.8795027582299 L -88.235492,33.847203 L -88.240054,33.810879 L -88.24159929706839,33.8029735909988 L -88.2416094387383,33.8029217083864 L -88.243025,33.79568 L -88.244142,33.781673 L -88.2460218415259,33.767286363158895 L -88.2489373465952,33.744973677721305 L -88.252257,33.719567999999995 L -88.25444499999999,33.698779 L -88.254622,33.69578 L -88.256131,33.68286 L -88.256343,33.682052999999996 L -88.262002140265,33.6354380745981 L -88.26237072685801,33.6324019885971 L -88.2623713027984,33.632397244516696 L -88.267005,33.594229 L -88.26714799999999,33.591989 L -88.26816,33.58504 L -88.269076,33.576929 L -88.269532,33.572894 L -88.27005,33.570819 L -88.270781740705,33.564923594639005 L -88.2713779363513,33.560120233305 L -88.27414078427691,33.537860834095305 L -88.274619,33.534008 L -88.276805,33.516463 L -88.27742099999999,33.512436 L -88.27834801921169,33.504739977004704 L -88.2801043139762,33.4901593893276 L -88.2859481129665,33.4416447406107 L -88.2910782508144,33.3990548370265 L -88.29301654948,33.3829632707304 L -88.2970970227493,33.349087580004394 L -88.30049884097339,33.32084601721 L -88.3005000457713,33.3208360150958 L -88.30274373083179,33.3022091607627 L -88.30441698708259,33.2883179507206 L -88.30809041634369,33.2578214996127 L -88.3114725832984,33.2297430797382 L -88.312535,33.220923 L -88.315235,33.203323 L -88.317135,33.184123 L -88.3218542065997,33.14616209746001 L -88.3222722892766,33.1427990754313 L -88.330934,33.073125 L -88.3310076496119,33.072489727510394 L -88.34043199999999,32.991199 L -88.3478500256084,32.929077584824 L -88.354292,32.87513 L -88.3666091107452,32.763433949980005 L -88.36818559513,32.7491378149249 L -88.368349,32.747656 L -88.3690552109757,32.74258399248949 L -88.37333799999999,32.711825 L -88.38298499999999,32.626954 L -88.383039,32.626678999999996 L -88.38537792631818,32.607159528893895 L -88.3855823489929,32.6054535228254 L -88.3861753483959,32.6005046560645 L -88.3888572465182,32.5781229194103 L -88.39996599999999,32.485414999999996 L -88.3999703119346,32.4853749259647 L -88.4033142007722,32.4542976645469 L -88.40378899999999,32.449885 L -88.40378899999999,32.44977 L -88.40391242456269,32.448781795875895 L -88.4039163853966,32.448750083286896 L -88.4100961455102,32.3992715654218 L -88.41250000000001,32.380024999999996 L -88.41381899999999,32.373922 L -88.4144532827107,32.3685012674077 L -88.41471435859509,32.3662700501098 L -88.4149186209757,32.36452437467909 L -88.421453,32.308679999999995 L -88.4240705677077,32.2862295148856 L -88.42794114332119,32.2530321691437 L -88.42827799999999,32.250143 L -88.43129401638389,32.2276546024792 L -88.4338373824385,32.2086904392936 L -88.43581075890519,32.1939763035621 L -88.43865,32.172806 L -88.43871,32.172078 L -88.4418791405619,32.146430371089295 L -88.4428468074689,32.1385991117127 L -88.443049750597,32.1369567074276 L -88.4534176891327,32.0530497191012 L -88.45388348887829,32.049280034926895 L -88.454959,32.040576 L -88.455039,32.039719 L -88.46866,31.933173 L -88.4688742551621,31.9303250695125 L -88.4688743843865,31.9303233518312 L -88.468879,31.930262 L -88.473227,31.893856 L -88.472642,31.875152999999997 L -88.47121399999999,31.851384999999997 L -88.47110599999999,31.850949 L -88.4698254016609,31.819300827588197 L -88.46905353307841,31.8002251898712 L -88.46866899999999,31.790722 L -88.46819722538001,31.7816613313433 L -88.46510699999999,31.722312 L -88.46442697928089,31.697951902948798 L -88.46442499999999,31.697881 L -88.4638529086848,31.688894069471097 L -88.4606299357415,31.6382646801284 L -88.459722,31.624001999999997 L -88.45947799999999,31.621651999999997 L -88.45777164245409,31.589586730776197 L -88.4563306535853,31.562508176143897 L -88.4536095981131,31.511375061341003 L -88.4535741066828,31.5107081188993 L -88.45329067959149,31.505382056955696 L -88.453013,31.500163999999998 L -88.45157499999999,31.481533 L -88.451045,31.459448 L -88.4495695963996,31.4358347375977 L -88.449569225455,31.435828800772597 L -88.44865999999999,31.421277 L -88.448686,31.420887999999998 L -88.44520899999999,31.355968999999998 L -88.445182,31.355855 L -88.44415645047549,31.3393230199194 L -88.44380823874289,31.333709805452198 L -88.4403875099455,31.2785672511538 L -88.43970863275949,31.267623670323697 L -88.4391512235642,31.258638167924197 L -88.43878,31.252654 L -88.43898,31.246896 L -88.438211,31.231251999999998 L -88.438104,31.230059999999998 L -88.43350769620758,31.1427912908627 L -88.432007,31.114297999999998 L -88.4304196826215,31.0853230573691 L -88.42580699999999,31.001123 L -88.42572899999999,31.000183 L -88.4256361537673,30.9983011286609 L -88.4220230007208,30.925067256218597 L -88.419562,30.875186 L -88.41863,30.866528 L -88.4184764744795,30.863275069407297 L -88.41825377027149,30.858556366425802 L -88.4181272847116,30.8558763641312 L -88.4148111125415,30.785612619929296 L -88.41245060127909,30.7355976173844 L -88.41226999999999,30.731771 L -88.41220899999999,30.730394999999998 L -88.41154999999999,30.712956 L -88.411339,30.706334 L -88.409571,30.668730999999998 L -88.40807,30.636969999999998 L -88.40806433481309,30.6369204575682 L -88.407462,30.631653 L -88.407484,30.622736 L -88.4060104917735,30.589761 L -88.404676680269,30.559912212208598 L -88.40418841075069,30.5489854409314 L -88.40401299999999,30.54506 L -88.4040045380663,30.5448844664734 L -88.403931,30.543359 L -88.40354699999999,30.5331 L -88.402283,30.510852 L -88.40196548524719,30.5046667163986 L -88.4004035205078,30.4742391699529 L -88.4004023553571,30.4742164724636 L -88.4003178648367,30.472570571522397 L -88.39958105438029,30.458217280556003 L -88.395023,30.369425 L -88.39723599999999,30.367689 L -88.399062,30.360744 L -88.397082,30.354785 L -88.39415,30.352493 L -88.390746,30.352075 L -88.39398,30.349307 L -88.401181,30.344382 L -88.409927,30.342115 L -88.40880899999999,30.349203 L -88.412374,30.358022 L -88.418554,30.357612 L -88.420548,30.353941 L -88.43091299999999,30.355560999999998 L -88.436618,30.357816999999997 L -88.44327299999999,30.355971999999998 L -88.4464506716358,30.357251090826797 L -88.446838,30.357407 L -88.44873899999999,30.3531 L -88.446495,30.347752999999997 L -88.446625,30.337671 L -88.45380999999999,30.329625999999998 L -88.471875,30.32002 L -88.48011699999999,30.318344999999997 L -88.504119,30.320072999999997 L -88.506226,30.322392999999998 L -88.506334,30.327398 L -88.5139233961846,30.3320155187343 L -88.5140289004294,30.3320797093254 L -88.521945,30.336896 L -88.522494,30.340092 L -88.52693599999999,30.342433999999997 L -88.536214,30.343299 L -88.5430995963863,30.343440788957004 L -88.54662750675121,30.343513436074698 L -88.550696,30.343597214934498 L -88.564687783629,30.3438853352796 L -88.579483,30.344189999999998 L -88.582177,30.356354 L -88.586356,30.358843 L -88.584454,30.364379999999997 L -88.586052,30.367518999999998 L -88.588194,30.368751 L -88.590514,30.365592999999997 L -88.59281399999999,30.36124 L -88.595559,30.359474 L -88.59943899999999,30.35951 L -88.60001,30.356575 L -88.605406,30.355290999999998 L -88.6069447673403,30.3544391370469 L -88.607225,30.354284 L -88.61075799999999,30.355064 L -88.61139899999999,30.353887 L -88.613006,30.353963999999998 L -88.611578,30.358354 L -88.612381,30.365053999999997 L -88.610953,30.371677 L -88.611131,30.37314 L -88.611408934753,30.373204573180196 L -88.612263,30.373403 L -88.61820499999999,30.372583 L -88.625503,30.3686 L -88.63146642123039,30.3643198734944 L -88.637697,30.359848 L -88.6453766032459,30.360509745852497 L -88.66382,30.362098999999997 L -88.6643858625917,30.3618695302381 L -88.66443023623529,30.361851535746897 L -88.6646058785009,30.3617803089342 L -88.6646214935596,30.361773976683498 L -88.66465682091139,30.3617596506631 L -88.6697165469578,30.3597078201515 L -88.679575,30.35571 L -88.69216399999999,30.347302 L -88.700587,30.343688999999998 L -88.71407699999999,30.342185999999998 L -88.728893,30.342671 L -88.746945,30.347621999999998 L -88.7488592402935,30.348994630022197 L -88.7490527901102,30.3491334173469 L -88.77174199999999,30.365402999999997 L -88.7843441162664,30.371567363746397 L -88.8080074747104,30.3831423679621 L -88.8104489204807,30.3843366086338 L -88.81161499999999,30.384907 L -88.81262199999999,30.386702999999997 L -88.80203499999999,30.384991999999997 L -88.8008993713624,30.384702363982896 L -88.79598899999999,30.38345 L -88.790523,30.384065 L -88.7900243557591,30.385642757934896 L -88.78981,30.386321 L -88.79394966600479,30.3916779871441 L -88.794088,30.391856999999998 L -88.79990867458321,30.391699353541398 L -88.801694,30.391651 L -88.810227,30.394697999999998 L -88.823724,30.402376 L -88.82417111678589,30.4025594286201 L -88.8279904609452,30.404126305666097 L -88.84132799999999,30.409598 L -88.84160445066809,30.4102964251719 L -88.845665,30.420555 L -88.85327,30.423014 L -88.8550555672792,30.425850505682195 L -88.8577763347166,30.4301726459825 L -88.85778599999999,30.430187999999998 L -88.85785737411129,30.4301591444396 L -88.8650279702007,30.427260172184198 L -88.8651674769563,30.4272037715434 L -88.865392,30.427113 L -88.87014599999999,30.424243999999998 L -88.87085959588819,30.419471170238197 L -88.871096,30.41789 L -88.869908,30.409077 L -88.8686292330705,30.408795398832098 L -88.8676879924732,30.4085881253678 L -88.85873699999999,30.406616999999997 L -88.85951899999999,30.396922999999997 L -88.857828,30.392898 L -88.856764,30.390687999999997 L -88.8569159903486,30.3902832109653 L -88.85774099999999,30.388085999999998 L -88.8654760880292,30.390505690510896 L -88.8668744471578,30.390943125263004 L -88.8674300433541,30.3911169268848 L -88.868482,30.391446 L -88.8830914961481,30.3919393285541 L -88.884829,30.391997999999997 L -88.8921243982953,30.3931202456448 L -88.8924485085598,30.393170103283598 L -88.89393,30.393397999999998 L -88.90081204986821,30.393495961636496 L -88.902129,30.3935147075905 L -88.9172960921799,30.3937306015755 L -88.92203099999999,30.393798 L -88.92700073705919,30.393464831072297 L -88.93429336583469,30.3929759365331 L -88.95993399999999,30.391257 L -88.96154299999999,30.387501999999998 L -88.96331599999999,30.387960999999997 L -88.9636311525467,30.3884364854735 L -88.96386269718609,30.388785827764 L -88.965431,30.391151999999998 L -88.971233,30.390798 L -88.9728057708046,30.390603314973198 L -88.998902,30.387373 L -89.0010189282735,30.386950998752198 L -89.001334,30.3868881904543 L -89.016334,30.383898 L -89.02693169802379,30.3816017741269 L -89.02792781822369,30.3813859426349 L -89.0438481125902,30.3779364584404 L -89.04871854227359,30.376881172035098 L -89.05420248491708,30.375692954465897 L -89.0569590512734,30.375095683344 L -89.062039,30.373994999999997 L -89.08513099999999,30.367421999999998 L -89.084295,30.361714 L -89.08785999999999,30.359662999999998 L -89.085229,30.353581 L -89.0873204783851,30.3518263995084 L -89.091425,30.348383 L -89.09244263902579,30.3503375896768 L -89.0965732621699,30.3582713197628 L -89.09880299999999,30.362554 L -89.1014243489219,30.3616203885673 L -89.12421691995868,30.353502657759798 L -89.1242629454475,30.3534862654657 L -89.1243361131973,30.3534602062688 L -89.1253276145815,30.353107076237198 L -89.140748,30.347614999999998 L -89.141,30.343667999999997 L -89.142485,30.343583 L -89.145735,30.344945 L -89.153881,30.342937 L -89.18683999999999,30.331197 L -89.19655313134609,30.3286821424704 L -89.22044199999999,30.322497 L -89.24,30.316025 L -89.245075,30.312797 L -89.245314,30.310957 L -89.249832,30.310667 L -89.25201,30.311754999999998 L -89.271833,30.305491 L -89.2792914293484,30.304207448863497 L -89.2851359584202,30.303201640323596 L -89.285744,30.303096999999998 L -89.291444,30.303296 L -89.2930400074627,30.305583610696498 L -89.294444,30.307596 L -89.2930427009818,30.309048573970696 L -89.290126,30.312071999999997 L -89.291844,30.328096 L -89.2883538809651,30.3325459017694 L -89.28784399999999,30.333195999999997 L -89.2850603623825,30.332657002652397 L -89.2823273363707,30.332127805259 L -89.281564,30.331979999999998 L -89.272775,30.334024 L -89.268734,30.340588 L -89.26906518038801,30.340955403242898 L -89.27023104272719,30.3422487817755 L -89.27206199999999,30.344279999999998 L -89.27981799999999,30.34979 L -89.284978,30.353845999999997 L -89.291314,30.361303999999997 L -89.29249899999999,30.365634999999997 L -89.29725599999999,30.367046 L -89.30605,30.365816 L -89.30866499999999,30.361508999999998 L -89.312219,30.360571 L -89.30968899999999,30.373396999999997 L -89.315067,30.375408 L -89.335942,30.374015999999997 L -89.340947,30.372896406886298 L -89.34886120316901,30.3711260397798 L -89.349447,30.370994999999997 L -89.353248,30.368795 L -89.3579905315615,30.363694541528197 L -89.3621296409916,30.3592430464807 L -89.36384799999999,30.357395 L -89.365285,30.353102 L -89.3601642160846,30.350580375798096 L -89.35368280788889,30.3473887402911 L -89.345934,30.343573 L -89.338847,30.342995 L -89.3354097438749,30.340212900930396 L -89.332546,30.337895 L -89.32242158451669,30.319435632920797 L -89.322345,30.319295999999998 L -89.32254499999999,30.314895999999997 L -89.3258751775438,30.3094964417613 L -89.3260036041186,30.3092882105902 L -89.32968825561188,30.3033139073986 L -89.32994599999999,30.302895999999997 L -89.34377804178921,30.2938304050436 L -89.344746,30.293196 L -89.3553530068196,30.2898909181649 L -89.3554309904552,30.2898666189161 L -89.35854599999999,30.288895999999998 L -89.3587095618304,30.2888051449352 L -89.3617501893466,30.287116142009896 L -89.36188451324578,30.2870415279846 L -89.365747,30.284896 L -89.36754670023389,30.2830050106238 L -89.3686444134483,30.281851616304298 L -89.3719308318901,30.2783984954778 L -89.3770906582278,30.2729769388186 L -89.37932219593701,30.270632207167598 L -89.379547,30.270395999999998 L -89.383747,30.267795999999997 L -89.3874022718841,30.2664123747111 L -89.38770663616289,30.266297164098397 L -89.3966710586695,30.2629038729634 L -89.39683794466279,30.262840701826498 L -89.4050019273148,30.2597504001435 L -89.4059354402093,30.2593970387276 L -89.419348,30.25432 L -89.424624,30.245390999999998 L -89.424493,30.239092 L -89.4237523818092,30.238672503992596 L -89.42173,30.237527 L -89.420136,30.234479999999998 L -89.420749,30.229429 L -89.43042799999999,30.223218 L -89.434753,30.218753 L -89.436835,30.213645 L -89.44039699999999,30.212925 L -89.44455099999999,30.208636 L -89.447465,30.205098 L -89.448765,30.202120999999998 L -89.44771,30.194224 L -89.444307,30.187779 L -89.455519,30.181124999999998 L -89.461275,30.174744999999998 L -89.463595,30.173942999999998 L -89.469792,30.176278 L -89.462919,30.178199 L -89.459829,30.182924 L -89.46078,30.189909999999998 L -89.468148,30.193813 L -89.475824,30.191561 L -89.48021399999999,30.193751 L -89.486657,30.191164999999998 L -89.490099,30.187676999999997 L -89.492391,30.18313 L -89.497346,30.181517999999997 L -89.503231,30.18299 L -89.51424999999999,30.184268999999997 L -89.517584,30.182577 L -89.522814,30.183014999999997 L -89.524504,30.180753 L -89.527952,30.188696999999998 L -89.530452,30.192197 L -89.533352,30.194796999999998 L -89.538652,30.195797 L -89.54145299999999,30.195397 L -89.546953,30.193096999999998 L -89.549053,30.191596999999998 L -89.55085299999999,30.189197 L -89.554653,30.185796999999997 L -89.562253,30.182396999999998 L -89.570154,30.180297 L -89.574454,30.181697 L -89.580754,30.186197 L -89.585754,30.192096 L -89.58735399999999,30.195196 L -89.588854,30.200295999999998 L -89.5923148031011,30.205397812032096 L -89.59564316988019,30.210304390414297 L -89.596655,30.211796 L -89.601255,30.216096 L -89.607655,30.217095999999998 L -89.610655,30.218096 L -89.612556,30.219496 L -89.615856,30.223194999999997 L -89.616956,30.225595 L -89.61705599999999,30.227494999999998 L -89.615856,30.235294999999997 L -89.6147608502879,30.2390671823416 L -89.61405599999999,30.241494999999997 L -89.614156,30.244595 L -89.61615599999999,30.247394999999997 L -89.6165074108941,30.247509094446098 L -89.62385599999999,30.249895 L -89.626922,30.251745 L -89.631789,30.256923999999998 L -89.63222499999999,30.260137 L -89.631215,30.261703999999998 L -89.63064899999999,30.262083999999998 L -89.62619699999999,30.262335999999998 L -89.625305,30.263531999999998 L -89.625892,30.265912999999998 L -89.62960799999999,30.267308999999997 L -89.630859,30.267328 L -89.632316,30.268604 L -89.632369,30.271511 L -89.63051999999999,30.276562 L -89.631411,30.279662 L -89.6325886870199,30.2806761403619 L -89.637647,30.285031999999998 L -89.638504,30.288121999999998 L -89.64344,30.287682 L -89.647178,30.289367 L -89.647399,30.291293999999997 L -89.645324,30.292555999999998 L -89.640434,30.295503 L -89.6416348790883,30.3033413107134 L -89.64164793613519,30.303426535938097 L -89.641705,30.303798999999998 L -89.640401,30.306755 L -89.639872,30.307281 L -89.634208,30.308256 L -89.631643,30.309331999999998 L -89.626221,30.314255 L -89.626606,30.315457 L -89.629877,30.321016999999998 L -89.630399,30.332932999999997 L -89.629727,30.339287 L -89.636299,30.34397 L -89.64519899999999,30.348125999999997 L -89.645617,30.351314 L -89.64670000000001,30.352500000000003 L -89.652693,30.355535999999997 L -89.657191,30.356514999999998 L -89.660274,30.363487 L -89.662204,30.371267 L -89.67013399999999,30.382429 L -89.67107216649849,30.3848733021368 L -89.67276199999999,30.389276 L -89.679153,30.399991 L -89.6815402880308,30.4030887339946 L -89.683686,30.405873 L -89.684118,30.412646 L -89.68231999999999,30.412990999999998 L -89.681165,30.411492 L -89.680134,30.4114 L -89.67851399999999,30.414012 L -89.680515,30.428924 L -89.681946,30.434072999999998 L -89.683521,30.434959 L -89.684816,30.439511 L -89.682829,30.445809999999998 L -89.68341,30.451793 L -89.6897794685397,30.4592779821573 L -89.690102,30.459657 L -89.6945614954128,30.462452504587098 L -89.6953416546353,30.4629415596221 L -89.695864,30.463269 L -89.69839589450059,30.4640565109095 L -89.701799,30.465114999999997 L -89.70553799999999,30.47235 L -89.70955099999999,30.477853 L -89.71016399999999,30.478308 L -89.712493,30.47751 L -89.715886,30.477797 L -89.719652,30.483165999999997 L -89.721181,30.488608 L -89.7214350091729,30.488851724502002 L -89.724614,30.491902 L -89.7246380002795,30.4919122546649 L -89.726154,30.492559999999997 L -89.73461499999999,30.494722999999997 L -89.742396,30.497315999999998 L -89.74281599999999,30.498704 L -89.74643499999999,30.502619 L -89.75293099999999,30.502492999999998 L -89.758133,30.505404 L -89.758575,30.505941999999997 L -89.758862,30.513061999999998 L -89.76057,30.515760999999998 L -89.76813299999999,30.51502 L -89.76999599999999,30.521895999999998 L -89.770744,30.527818999999997 L -89.771643,30.530248999999998 L -89.77535499999999,30.538847999999998 L -89.77956499999999,30.544345 L -89.78024599999999,30.544607 L -89.78399399999999,30.544075 L -89.78854199999999,30.544463999999998 L -89.791046,30.545046 L -89.793818,30.545935 L -89.79969299999999,30.547065 L -89.803919,30.549349 L -89.80298599999999,30.550946999999997 L -89.797981,30.549118 L -89.793989,30.548282999999998 L -89.79195999999999,30.548788 L -89.791664,30.551523999999997 L -89.79453199999999,30.556554 L -89.80278899999999,30.557903 L -89.803831,30.558888 L -89.80388699999999,30.560581 L -89.80283299999999,30.562879 L -89.80149399999999,30.563703 L -89.800277,30.563695 L -89.796697,30.561718 L -89.791254,30.561369 L -89.787719,30.566430999999998 L -89.78686499999999,30.569053 L -89.7886095247504,30.5698975563414 L -89.789604,30.570379 L -89.7907719014103,30.5697641093523 L -89.79139699999999,30.569435 L -89.79143499999999,30.565464 L -89.793308,30.565158999999998 L -89.79433499999999,30.565327999999997 L -89.79568499999999,30.565652999999998 L -89.793978,30.567231 L -89.794495,30.569653 L -89.79994699999999,30.569350999999997 L -89.803753,30.568147999999997 L -89.80618199999999,30.567542999999997 L -89.808027,30.567998 L -89.808184,30.568794999999998 L -89.806843,30.572039 L -89.80723078950129,30.5731656506665 L -89.8074224002749,30.5737223403271 L -89.80968399999999,30.580292999999998 L -89.81292499999999,30.581654999999998 L -89.813681983386,30.582716223863898 L -89.815122,30.584735 L -89.813735,30.586038 L -89.8120710339305,30.5854866759069 L -89.809739,30.584713999999998 L -89.807762,30.585825 L -89.807118,30.587336999999998 L -89.8095573359544,30.586943358028197 L -89.811431,30.586641 L -89.81210899999999,30.591472999999997 L -89.8124617126992,30.591487233565896 L -89.8140234198428,30.591550255571 L -89.816396,30.591645999999997 L -89.81852699999999,30.592688 L -89.81983799999999,30.59534 L -89.819696,30.596784999999997 L -89.81443,30.596504 L -89.8143239360782,30.5970719463987 L -89.8141897790341,30.5977903246064 L -89.81404099999999,30.598587 L -89.817202,30.600890999999997 L -89.819969,30.602081 L -89.822334,30.604642 L -89.818117,30.604954 L -89.81456299999999,30.606151999999998 L -89.81392,30.607720999999998 L -89.81537999999999,30.608566 L -89.81690499999999,30.60862 L -89.821286,30.607129999999998 L -89.823278,30.60823 L -89.822389,30.614462 L -89.82086799999999,30.618254 L -89.821424,30.619815 L -89.825271,30.618271999999997 L -89.828155,30.617931 L -89.82990199999999,30.616705999999997 L -89.83082499999999,30.617649 L -89.83052692075329,30.618950042613598 L -89.830337,30.619778999999998 L -89.829948,30.622221 L -89.82624799999999,30.621259 L -89.823261,30.622802999999998 L -89.8226517562371,30.6248276021069 L -89.82227999999999,30.626063 L -89.820571,30.628355 L -89.82006799999999,30.632807999999997 L -89.81808099999999,30.634019 L -89.81385,30.636795 L -89.813977,30.63818 L -89.815788,30.639215 L -89.820469,30.638261999999997 L -89.823448,30.639871 L -89.82341799999999,30.642840999999997 L -89.82058699999999,30.644758 L -89.82137999999999,30.646528 L -89.825744,30.645273 L -89.824986,30.649423 L -89.833261,30.657515999999998 L -89.836047,30.657297999999997 L -89.840988,30.658514999999998 L -89.851889,30.661199 L -89.852263,30.662934 L -89.85055,30.664780999999998 L -89.848879,30.665201999999997 L -89.84691699999999,30.663952 L -89.845642,30.663569 L -89.843355,30.663698999999998 L -89.8417869041958,30.665556526803 L -89.838804,30.669089999999997 L -89.83789399999999,30.672514 L -89.83886799999999,30.673731 L -89.840597,30.67288 L -89.84134999999999,30.671962999999998 L -89.842344,30.669724 L -89.84381599999999,30.668761 L -89.845807,30.668930999999997 L -89.847201,30.670037999999998 L -89.844965,30.674691 L -89.83679699999999,30.690572999999997 L -89.835478,30.691166 L -89.8357974621526,30.698409156751897 L -89.835848,30.699555 L -89.838065,30.704036 L -89.83931199999999,30.704143 L -89.84173,30.702713 L -89.843605,30.702510999999998 L -89.84592599999999,30.704157 L -89.8461928375923,30.7049993857529 L -89.846576,30.706208999999998 L -89.845801,30.707314 L -89.83625699999999,30.716185 L -89.83196099999999,30.715384 L -89.83005999999999,30.71631 L -89.82806099999999,30.725018 L -89.83306499999999,30.726758999999998 L -89.836331,30.727197 L -89.836945,30.728201 L -89.83686999999999,30.734661 L -89.83580066478609,30.7358542079603 L -89.835437,30.736259999999998 L -89.833818,30.736971999999998 L -89.82741399999999,30.736199 L -89.821535,30.736618 L -89.81747999999999,30.737305 L -89.816499,30.737945999999997 L -89.816075,30.739365999999997 L -89.81676399999999,30.740076 L -89.819548,30.740671 L -89.822969,30.740074999999997 L -89.826351,30.738364999999998 L -89.82775,30.738364999999998 L -89.82869699999999,30.739451 L -89.82510099999999,30.742079 L -89.825774,30.747304999999997 L -89.822459,30.754628 L -89.824227,30.755157999999998 L -89.82656999999999,30.753137 L -89.829349,30.751317999999998 L -89.83316699999999,30.753314 L -89.83264899999999,30.755993999999998 L -89.82688,30.756066999999998 L -89.826121,30.759013999999997 L -89.829314,30.760590999999998 L -89.8303205727095,30.76186597041 L -89.832408,30.764509999999998 L -89.8322358941349,30.7651225467069 L -89.8321274187491,30.7655086244292 L -89.831537,30.767609999999998 L -89.828756,30.768735999999997 L -89.82781899999999,30.771223 L -89.82765599999999,30.774815 L -89.830418,30.779842 L -89.82805499999999,30.783416 L -89.824395,30.779629 L -89.820087,30.782390999999997 L -89.819024,30.784371 L -89.82113,30.788608999999997 L -89.821486,30.791183 L -89.8212752774948,30.791875078816098 L -89.821078,30.792523 L -89.819164,30.795229 L -89.817559,30.796053999999998 L -89.816418,30.796053999999998 L -89.813946,30.793782 L -89.813535,30.792035 L -89.81260999999999,30.789876 L -89.812096,30.788437 L -89.81065699999999,30.788026 L -89.80676299999999,30.789068999999998 L -89.80510699999999,30.790595999999997 L -89.80469599999999,30.791624 L -89.804901,30.792548999999998 L -89.806237,30.793370999999997 L -89.807071,30.793908 L -89.808601,30.794912999999998 L -89.810863,30.797379 L -89.81147899999999,30.797995999999998 L -89.811171,30.798921 L -89.81065095991019,30.799388934905696 L -89.810143,30.799846 L -89.80817599999999,30.800562 L -89.804632,30.802511 L -89.804065,30.803247 L -89.80425199999999,30.806934 L -89.800422,30.810425 L -89.799027,30.811339 L -89.79742499999999,30.811453999999998 L -89.797156,30.811753 L -89.797809,30.813195999999998 L -89.799673,30.815171999999997 L -89.800049,30.819077999999998 L -89.798654,30.820854999999998 L -89.797491,30.821478 L -89.796634,30.821648 L -89.795497,30.820753999999997 L -89.79614699999999,30.818937 L -89.796184,30.818098 L -89.795327,30.817227 L -89.79452599999999,30.817404999999997 L -89.793959,30.817922 L -89.79348499999999,30.819657999999997 L -89.79276,30.820297 L -89.79174499999999,30.820387 L -89.785894,30.815962 L -89.782404,30.817974999999997 L -89.781168,30.820123 L -89.782202,30.82122 L -89.78452899999999,30.820902999999998 L -89.78638199999999,30.82124 L -89.787454,30.822587 L -89.787493,30.824192999999998 L -89.7856618889136,30.8258591649338 L -89.783985,30.827385 L -89.78225599999999,30.831260999999998 L -89.78235,30.832552 L -89.784092,30.832888999999998 L -89.78683699999999,30.830641999999997 L -89.78942599999999,30.83047 L -89.790432,30.830985 L -89.79080499999999,30.832130999999997 L -89.790121,30.837982999999998 L -89.78750000000001,30.844112 L -89.78936499999999,30.847064 L -89.791872,30.848692 L -89.79247,30.850386 L -89.791027,30.851533999999997 L -89.789509,30.851381999999997 L -89.78743999999999,30.84952 L -89.785977,30.849175 L -89.785603,30.847523 L -89.784717,30.84623 L -89.78264899999999,30.845264 L -89.7806,30.845508 L -89.780228,30.846235 L -89.780947,30.848542 L -89.783791,30.852131 L -89.784416,30.853744 L -89.78407299999999,30.855269999999997 L -89.783384,30.856022 L -89.781643,30.856613 L -89.77875499999999,30.855800000000002 L -89.774739,30.853254 L -89.772587,30.853659999999998 L -89.771722,30.854677 L -89.767955,30.863857999999997 L -89.767789,30.865577 L -89.768237,30.866391999999998 L -89.778005,30.873410999999997 L -89.77919399999999,30.875185 L -89.778583,30.878902999999998 L -89.77808610760741,30.8796400739157 L -89.77711,30.881088 L -89.775458,30.881497 L -89.770027,30.882254 L -89.77201099999999,30.89024 L -89.77355299999999,30.896862 L -89.773099,30.898338 L -89.771986,30.899127 L -89.770269,30.89939 L -89.765101,30.896918999999997 L -89.760701,30.896306 L -89.758719,30.897319 L -89.757024,30.898947 L -89.756671,30.901069 L -89.75980299999999,30.906215999999997 L -89.76159299999999,30.906591 L -89.763622,30.907732 L -89.764451,30.910276 L -89.764202,30.911906 L -89.7626,30.913736 L -89.75940299999999,30.915134 L -89.75741699999999,30.914993 L -89.754086,30.9128 L -89.750073,30.91293 L -89.746718,30.915805 L -89.744789,30.918933 L -89.74444799999999,30.920576999999998 L -89.745161,30.922416 L -89.74820799999999,30.923368999999997 L -89.75074099999999,30.923246 L -89.75281199999999,30.925413 L -89.752549,30.928157 L -89.750073,30.929814999999998 L -89.748851,30.932816 L -89.748897,30.933888 L -89.750073,30.935762999999998 L -89.75583499999999,30.939542999999997 L -89.756554,30.941948999999997 L -89.756333,30.943497999999998 L -89.751196,30.951438999999997 L -89.74359199999999,30.958482 L -89.743134,30.959992999999997 L -89.735686,30.966573 L -89.733933,30.966918999999997 L -89.731393,30.96613 L -89.729327,30.966241999999998 L -89.72804099999999,30.966517999999997 L -89.72707199999999,30.967395 L -89.727086,30.969707 L -89.728382,30.971141 L -89.736086,30.974446 L -89.737149,30.976080999999997 L -89.73688299999999,30.977121999999998 L -89.735912,30.977864999999998 L -89.732168,30.978088 L -89.73050099999999,30.979706999999998 L -89.72993,30.98209 L -89.72769799999999,30.993329 L -89.728563,30.994396 L -89.732035,30.994408999999997 L -89.73422699999999,30.995601999999998 L -89.73554,30.999715 L -89.73,30.999748999999998 L -89.72812599999999,31.000956 L -89.7281451296188,31.002299627985096 L -89.72814699999999,31.002430999999998 L -89.729616,31.003926999999997 L -89.73250399999999,31.004831 L -89.741821,31.003441 L -89.745215,31.002252 L -89.74722899999999,31.000183999999997 L -89.749189,30.999554999999997 L -89.751481,30.999689999999998 L -89.752133,31.000183 L -89.752642,31.001852999999997 L -89.79978278373939,31.002023716933596 L -89.816429,31.002084 L -89.82461699999999,31.00206 L -89.83554199999999,31.002059 L -89.83590796037879,31.002059274641898 L -89.85686199999999,31.002074999999998 L -89.8636983943507,31.002014733844398 L -89.892708,31.001759 L -89.897516,31.001913 L -89.923119,31.001445999999998 L -89.927161,31.001437 L -89.941012221834,31.001423343310098 L -89.972802,31.001392 L -89.9753988023263,31.0016884386217 L -89.97543,31.001692 L -90.005332,31.001364 L -90.022185,31.001302 L -90.0292018746201,31.0011956405525 L -90.029574,31.001189999999998 L -90.05070599999999,31.001215 L -90.0675448715494,31.0011785916291 L -90.0731210153755,31.0011665351019 L -90.0731269103186,31.001166522356097 L -90.0974700040835,31.0011138886398 L -90.128406,31.001047 L -90.131395,31.000923999999998 L -90.1484288842297,31.000976319505696 L -90.164278,31.001025 L -90.164676,31.00098 L -90.1873440248678,31.0009028693861 L -90.1943924283431,31.0008788863664 L -90.2595549256981,31.0006571633247 L -90.2950404148182,31.0005364197851 L -90.346007,31.000363 L -90.34723,31.000359 L -90.3472409612406,31.0003589881184 L -90.3556049999152,31.0003499218193 L -90.369371,31.000335 L -90.38053599999999,30.999872 L -90.422117,30.99981 L -90.42684899999999,30.999775999999997 L -90.43735099999999,30.99973 L -90.44172499999999,30.999729 L -90.44247899999999,30.999722 L -90.4566267908343,30.9997560101883 L -90.4568848974875,30.9997566306566 L -90.4569817623398,30.999756863512197 L -90.45698294025209,30.999756866343798 L -90.4633242254013,30.9997721102999 L -90.474094,30.999798 L -90.475928,30.99974 L -90.477284,30.999716999999997 L -90.48112823746679,30.9997272906729 L -90.48587599999999,30.99974 L -90.48674899999999,30.999692999999997 L -90.54761548218009,30.9997232645164 L -90.567195,30.999733 L -90.583518,30.999698 L -90.584448,30.999698 L -90.587373,30.999603999999998 L -90.58867599999999,30.99965 L -90.648721,30.999485999999997 L -90.64966099877469,30.9994951262017 L -90.65119299999999,30.999509999999997 L -90.66766823174801,30.999451442500003 L -90.734473,30.999214 L -90.734552,30.999222 L -90.7534178744156,30.999503161733198 L -90.758775,30.999582999999998 L -90.76933299999999,30.999374 L -90.775981,30.999491 L -90.77985799999999,30.999457 L -90.783745,30.999447 L -90.8258293654941,30.9993604066554 L -90.826027,30.99936 L -90.8349414503027,30.9993950334277 L -90.85255127820119,30.9994642393362 L -90.89473,30.99963 L -90.9702367367615,30.999321081116097 L -90.9802978056479,30.9992799185086 L -91.0421723672845,30.999026772612797 L -91.0602129522528,30.9989529636044 L -91.06827,30.99892 L -91.08081399999999,30.998908999999998 L -91.108114,30.998856999999997 L -91.108291,30.99888 L -91.17613975227569,30.9991437308313 L -91.176209,30.999143999999998 L -91.224068,30.999183 L -91.224839,30.999183 L -91.23153100075601,30.999272943754097 L -91.24649,30.999474 L -91.3481523174901,30.9991927700878 L -91.3482344274821,30.999192542945796 L -91.37489515433539,30.9991187909986 L -91.39651504144929,30.999058983597898 L -91.4146279968947,30.9990088774721 L -91.423621,30.998984 L -91.425749,30.999007 L -91.48731499963901,30.9990061406318 L -91.49739,30.999005999999998 L -91.50011599999999,30.998690999999997 L -91.5386610327368,30.999386809168797 L -91.538727,30.999388 L -91.625118,30.999167 L -91.63694199999999,30.999416 L -91.625118,31.005374 L -91.60649,31.011215999999997 L -91.590463,31.01727 L -91.578413,31.02403 L -91.57169499999999,31.029781999999997 L -91.564397,31.038964999999997 L -91.56123199999999,31.046225 L -91.56036499999999,31.049508 L -91.559907,31.054119 L -91.56128299999999,31.060906 L -91.56415,31.06683 L -91.56764799999999,31.070186 L -91.59469299999999,31.091444 L -91.609523,31.101557 L -91.614763,31.104357 L -91.61856999999999,31.107328 L -91.621535,31.110256999999997 L -91.62599399999999,31.116895999999997 L -91.626476,31.119124999999997 L -91.62570699999999,31.128763 L -91.625118,31.131878999999998 L -91.624217,31.133729 L -91.62167099999999,31.13687 L -91.604197,31.154545 L -91.59973199999999,31.159592 L -91.597062,31.163491999999998 L -91.59150199999999,31.173118 L -91.589046,31.178586 L -91.588695,31.181024999999998 L -91.588939,31.188958999999997 L -91.5894512930811,31.1911399311563 L -91.590051,31.193693 L -91.595029,31.201969 L -91.60161599999999,31.208572999999998 L -91.625119,31.226070999999997 L -91.644356,31.234413999999997 L -91.652019,31.242690999999997 L -91.654907,31.250175 L -91.65500899999999,31.251814999999997 z\" /></g></svg>"
      ],
      "text/plain": [
       "<shapely.geometry.polygon.Polygon at 0x25216c9a9a0>"
      ]
     },
     "execution_count": 34,
     "metadata": {},
     "output_type": "execute_result"
    }
   ],
   "source": [
    "# inspect the last part (of the first state)\n",
    "gdf.geometry[0][7]"
   ]
  },
  {
   "cell_type": "markdown",
   "metadata": {},
   "source": [
    "## Creating a GeoDataFrame\n",
    "\n",
    "If we don't have a ready-made GIS file, there are several ways we can construct a GeoDataFrame within Python."
   ]
  },
  {
   "cell_type": "markdown",
   "metadata": {},
   "source": [
    "### Constructing manually\n",
    "\n",
    "It's possible to construct the GeoDataFrame from a set of attribute data."
   ]
  },
  {
   "cell_type": "code",
   "execution_count": 35,
   "metadata": {},
   "outputs": [],
   "source": [
    "# first need to import geometry objects\n",
    "from shapely.geometry import Point, LineString, Polygon"
   ]
  },
  {
   "cell_type": "code",
   "execution_count": 36,
   "metadata": {
    "scrolled": true
   },
   "outputs": [
    {
     "name": "stdout",
     "output_type": "stream",
     "text": [
      "                  geometry  var1  var2\n",
      "0  POINT (1.00000 1.00000)     1     3\n",
      "1  POINT (2.00000 2.00000)     2     4\n"
     ]
    },
    {
     "data": {
      "text/plain": [
       "geopandas.geodataframe.GeoDataFrame"
      ]
     },
     "execution_count": 36,
     "metadata": {},
     "output_type": "execute_result"
    }
   ],
   "source": [
    "# create a test dataset manually\n",
    "test = gpd.GeoDataFrame({\n",
    "                         'geometry': [Point(1, 1), Point(2,2)],\n",
    "                         'var1': [1, 2],  # create a column labelled `var1`\n",
    "                         'var2': [3, 4]\n",
    "                        })\n",
    "\n",
    "print(test)\n",
    "type(test)"
   ]
  },
  {
   "cell_type": "markdown",
   "metadata": {},
   "source": [
    "This step has created a `GeoDataFrame` with two point locations and two other attribute columns."
   ]
  },
  {
   "cell_type": "code",
   "execution_count": 37,
   "metadata": {},
   "outputs": [
    {
     "data": {
      "text/plain": [
       "<AxesSubplot:>"
      ]
     },
     "execution_count": 37,
     "metadata": {},
     "output_type": "execute_result"
    },
    {
     "data": {
      "image/png": "[encoded data removed]",
      "text/plain": [
       "<Figure size 432x288 with 1 Axes>"
      ]
     },
     "metadata": {
      "needs_background": "light"
     },
     "output_type": "display_data"
    }
   ],
   "source": [
    "# show the points\n",
    "test.plot()"
   ]
  },
  {
   "cell_type": "markdown",
   "metadata": {},
   "source": [
    "Notice that I called the column **'geometry'**, but that can be changed."
   ]
  },
  {
   "cell_type": "code",
   "execution_count": 38,
   "metadata": {
    "scrolled": true
   },
   "outputs": [
    {
     "data": {
      "text/html": [
       "<div>\n",
       "<style scoped>\n",
       "    .dataframe tbody tr th:only-of-type {\n",
       "        vertical-align: middle;\n",
       "    }\n",
       "\n",
       "    .dataframe tbody tr th {\n",
       "        vertical-align: top;\n",
       "    }\n",
       "\n",
       "    .dataframe thead th {\n",
       "        text-align: right;\n",
       "    }\n",
       "</style>\n",
       "<table border=\"1\" class=\"dataframe\">\n",
       "  <thead>\n",
       "    <tr style=\"text-align: right;\">\n",
       "      <th></th>\n",
       "      <th>shape</th>\n",
       "      <th>var1</th>\n",
       "      <th>var2</th>\n",
       "    </tr>\n",
       "  </thead>\n",
       "  <tbody>\n",
       "    <tr>\n",
       "      <th>0</th>\n",
       "      <td>POINT (1.00000 1.00000)</td>\n",
       "      <td>1</td>\n",
       "      <td>3</td>\n",
       "    </tr>\n",
       "    <tr>\n",
       "      <th>1</th>\n",
       "      <td>POINT (2.00000 2.00000)</td>\n",
       "      <td>2</td>\n",
       "      <td>4</td>\n",
       "    </tr>\n",
       "  </tbody>\n",
       "</table>\n",
       "</div>"
      ],
      "text/plain": [
       "                     shape  var1  var2\n",
       "0  POINT (1.00000 1.00000)     1     3\n",
       "1  POINT (2.00000 2.00000)     2     4"
      ]
     },
     "execution_count": 38,
     "metadata": {},
     "output_type": "execute_result"
    }
   ],
   "source": [
    "# rename the geometry column to 'shape'\n",
    "test = test.rename(columns={'geometry': 'shape'}).set_geometry('shape')\n",
    "\n",
    "test"
   ]
  },
  {
   "cell_type": "code",
   "execution_count": 39,
   "metadata": {},
   "outputs": [
    {
     "data": {
      "text/plain": [
       "0    POINT (1.00000 1.00000)\n",
       "1    POINT (2.00000 2.00000)\n",
       "Name: shape, dtype: geometry"
      ]
     },
     "execution_count": 39,
     "metadata": {},
     "output_type": "execute_result"
    }
   ],
   "source": [
    "# retrieve the attribute for the GeoDataFrame\n",
    "test.geometry"
   ]
  },
  {
   "cell_type": "markdown",
   "metadata": {},
   "source": [
    "The `.geometry` attribute will always return the active column (regardless of what it is called), or we can check its actual name."
   ]
  },
  {
   "cell_type": "code",
   "execution_count": 40,
   "metadata": {
    "scrolled": true
   },
   "outputs": [
    {
     "data": {
      "text/plain": [
       "'shape'"
      ]
     },
     "execution_count": 40,
     "metadata": {},
     "output_type": "execute_result"
    }
   ],
   "source": [
    "# return the name of the column that holds the active geometries\n",
    "test.geometry.name"
   ]
  },
  {
   "cell_type": "markdown",
   "metadata": {},
   "source": [
    "Setting, resetting, renaming a geometry column can come in handy. Your GeoDataFrame could theoretically have two (or more) columns containing spatial information, but you could switch and set your choice with `.set_geometry`. You would still need to take care with correctly managing the objects and coordinate systems.\n",
    "\n",
    "And it's still a `GeoDataFrame` after all that switching around."
   ]
  },
  {
   "cell_type": "code",
   "execution_count": 41,
   "metadata": {},
   "outputs": [
    {
     "data": {
      "text/plain": [
       "geopandas.geodataframe.GeoDataFrame"
      ]
     },
     "execution_count": 41,
     "metadata": {},
     "output_type": "execute_result"
    }
   ],
   "source": [
    "type(test)"
   ]
  },
  {
   "cell_type": "markdown",
   "metadata": {},
   "source": [
    "**Side Track**\n",
    "\n",
    "The example above shows how it can be quite easy to construct geometries. Let's try a few others."
   ]
  },
  {
   "cell_type": "code",
   "execution_count": 42,
   "metadata": {
    "scrolled": false
   },
   "outputs": [
    {
     "name": "stdout",
     "output_type": "stream",
     "text": [
      "POLYGON ((0.5 1, 1 2, 0.75 3, 0.75 3.5, 0.5 4, 0.5 1))\n"
     ]
    },
    {
     "data": {
      "image/svg+xml": [
       "<svg xmlns=\"http://www.w3.org/2000/svg\" xmlns:xlink=\"http://www.w3.org/1999/xlink\" width=\"100.0\" height=\"100.0\" viewBox=\"0.38 0.88 0.7400000000000001 3.24\" preserveAspectRatio=\"xMinYMin meet\"><g transform=\"matrix(1,0,0,-1,0,5.0)\"><path fill-rule=\"evenodd\" fill=\"#66cc99\" stroke=\"#555555\" stroke-width=\"0.06480000000000001\" opacity=\"0.6\" d=\"M 0.5,1.0 L 1.0,2.0 L 0.75,3.0 L 0.75,3.5 L 0.5,4.0 L 0.5,1.0 z\" /></g></svg>"
      ],
      "text/plain": [
       "<shapely.geometry.polygon.Polygon at 0x25216ec30d0>"
      ]
     },
     "execution_count": 42,
     "metadata": {},
     "output_type": "execute_result"
    }
   ],
   "source": [
    "# Create a test poplygon\n",
    "poly = Polygon([(0.5, 1), (1, 2), (.75, 3), (.75, 3.5), (.5, 4)])\n",
    "\n",
    "# notice that `Polygon` automatically closes our set of vertices for us\n",
    "print(poly)\n",
    "poly"
   ]
  },
  {
   "cell_type": "code",
   "execution_count": 43,
   "metadata": {
    "scrolled": true
   },
   "outputs": [
    {
     "name": "stdout",
     "output_type": "stream",
     "text": [
      "LINESTRING (0.5 1, 1 2, 0.75 3, 0.75 3.5, 0.5 4)\n"
     ]
    },
    {
     "data": {
      "image/svg+xml": [
       "<svg xmlns=\"http://www.w3.org/2000/svg\" xmlns:xlink=\"http://www.w3.org/1999/xlink\" width=\"100.0\" height=\"100.0\" viewBox=\"0.38 0.88 0.7400000000000001 3.24\" preserveAspectRatio=\"xMinYMin meet\"><g transform=\"matrix(1,0,0,-1,0,5.0)\"><polyline fill=\"none\" stroke=\"#66cc99\" stroke-width=\"0.06480000000000001\" points=\"0.5,1.0 1.0,2.0 0.75,3.0 0.75,3.5 0.5,4.0\" opacity=\"0.8\" /></g></svg>"
      ],
      "text/plain": [
       "<shapely.geometry.linestring.LineString at 0x25216ecc4f0>"
      ]
     },
     "execution_count": 43,
     "metadata": {},
     "output_type": "execute_result"
    }
   ],
   "source": [
    "# Create a test line (or \"linestring\")\n",
    "# using the same set of coordates as above\n",
    "ln = LineString([(0.5, 1), (1, 2), (.75, 3), (.75, 3.5), (.5, 4)])\n",
    "\n",
    "# this time the points aren't closed\n",
    "print(ln)\n",
    "ln"
   ]
  },
  {
   "cell_type": "markdown",
   "metadata": {},
   "source": [
    "What about holes in a polygon?\n",
    "\n",
    "That's possible, but we'll need to define inner and outer *rings* in such a way that `shapely` understands the relationship between the shapes."
   ]
  },
  {
   "cell_type": "code",
   "execution_count": 44,
   "metadata": {},
   "outputs": [
    {
     "data": {
      "image/svg+xml": [
       "<svg xmlns=\"http://www.w3.org/2000/svg\" xmlns:xlink=\"http://www.w3.org/1999/xlink\" width=\"100.0\" height=\"100.0\" viewBox=\"-0.16 -0.16 4.32 4.32\" preserveAspectRatio=\"xMinYMin meet\"><g transform=\"matrix(1,0,0,-1,0,4.0)\"><path fill-rule=\"evenodd\" fill=\"#66cc99\" stroke=\"#555555\" stroke-width=\"0.0864\" opacity=\"0.6\" d=\"M 0.0,0.0 L 0.0,4.0 L 4.0,4.0 L 4.0,0.0 L 0.0,0.0 z M 1.0,1.0 L 3.0,1.0 L 2.0,3.0 L 1.0,1.0 z\" /></g></svg>"
      ],
      "text/plain": [
       "<shapely.geometry.polygon.Polygon at 0x25216ecccd0>"
      ]
     },
     "execution_count": 44,
     "metadata": {},
     "output_type": "execute_result"
    }
   ],
   "source": [
    "# polygon with a hole\n",
    "# define the rings\n",
    "out_ring = [(0, 0), (0, 4), (4, 4), (4, 0), (0, 0)]\n",
    "in_ring = [(1, 1), (3, 1), (2, 3), (1,1)]\n",
    "\n",
    "polygon = Polygon(out_ring, [in_ring])  # note `[]`\n",
    "\n",
    "polygon"
   ]
  },
  {
   "cell_type": "markdown",
   "metadata": {},
   "source": [
    "#### Try for yourself!\n",
    "\n",
    "Experiment with making a few of your own geometries for points, lines, and polygons. \n",
    "\n",
    "What happens when:\n",
    "* a `LineString` ends at the same point it started with?\n",
    "* a `Polygon` intersects itself (repeating a vertex)?\n",
    "\n",
    "Can you store different geometry types within the same GeoDataFrame?\n",
    "* Hint: construct something like `test` above, but don't use all `Point` elements."
   ]
  },
  {
   "cell_type": "code",
   "execution_count": 45,
   "metadata": {},
   "outputs": [],
   "source": [
    "# Test your code here...\n",
    "\n",
    "\n",
    "##"
   ]
  },
  {
   "cell_type": "markdown",
   "metadata": {},
   "source": [
    "### Constructing from a `pandas` DataFrame\n",
    "\n",
    "More commonly than manually creating data, we will need to create a **Geo**DataFrame from an existing *DataFrame* which might also contain geometry information. In the example below we are going to read in a `.csv` file which contains some coordinate locations and then we'll construct a GeoDataFrame.\n",
    "\n",
    "This is using an example data of populated places from [https://www.naturalearthdata.com/downloads/10m-cultural-vectors/10m-populated-places/](https://www.naturalearthdata.com/downloads/10m-cultural-vectors/10m-populated-places/) which I converted into a `.csv` file."
   ]
  },
  {
   "cell_type": "code",
   "execution_count": 48,
   "metadata": {},
   "outputs": [
    {
     "data": {
      "text/plain": [
       "pandas.core.frame.DataFrame"
      ]
     },
     "execution_count": 48,
     "metadata": {},
     "output_type": "execute_result"
    }
   ],
   "source": [
    "# read .csv file with pandas\n",
    "df = pd.read_csv('C:\\\\Users\\\\HP\\\\Documents\\\\GitHub\\\\GeoSpatial Analyis\\\\Week 1\\\\data\\\\ne_cities_10m.csv')\n",
    "\n",
    "# creates a non-spatial DataFrame\n",
    "type(df)"
   ]
  },
  {
   "cell_type": "code",
   "execution_count": 49,
   "metadata": {},
   "outputs": [
    {
     "data": {
      "text/plain": [
       "(7343, 38)"
      ]
     },
     "execution_count": 49,
     "metadata": {},
     "output_type": "execute_result"
    }
   ],
   "source": [
    "df.shape"
   ]
  },
  {
   "cell_type": "code",
   "execution_count": 50,
   "metadata": {
    "scrolled": true
   },
   "outputs": [
    {
     "data": {
      "text/html": [
       "<div>\n",
       "<style scoped>\n",
       "    .dataframe tbody tr th:only-of-type {\n",
       "        vertical-align: middle;\n",
       "    }\n",
       "\n",
       "    .dataframe tbody tr th {\n",
       "        vertical-align: top;\n",
       "    }\n",
       "\n",
       "    .dataframe thead th {\n",
       "        text-align: right;\n",
       "    }\n",
       "</style>\n",
       "<table border=\"1\" class=\"dataframe\">\n",
       "  <thead>\n",
       "    <tr style=\"text-align: right;\">\n",
       "      <th></th>\n",
       "      <th>scalerank</th>\n",
       "      <th>natscale</th>\n",
       "      <th>labelrank</th>\n",
       "      <th>featurecla</th>\n",
       "      <th>name</th>\n",
       "      <th>namepar</th>\n",
       "      <th>namealt</th>\n",
       "      <th>diffascii</th>\n",
       "      <th>nameascii</th>\n",
       "      <th>adm0cap</th>\n",
       "      <th>...</th>\n",
       "      <th>pop_other</th>\n",
       "      <th>rank_max</th>\n",
       "      <th>rank_min</th>\n",
       "      <th>geonameid</th>\n",
       "      <th>meganame</th>\n",
       "      <th>ls_name</th>\n",
       "      <th>ls_match</th>\n",
       "      <th>checkme</th>\n",
       "      <th>min_zoom</th>\n",
       "      <th>ne_id</th>\n",
       "    </tr>\n",
       "  </thead>\n",
       "  <tbody>\n",
       "    <tr>\n",
       "      <th>0</th>\n",
       "      <td>10</td>\n",
       "      <td>1</td>\n",
       "      <td>8</td>\n",
       "      <td>Admin-1 capital</td>\n",
       "      <td>Colonia del Sacramento</td>\n",
       "      <td>NaN</td>\n",
       "      <td>NaN</td>\n",
       "      <td>0</td>\n",
       "      <td>Colonia del Sacramento</td>\n",
       "      <td>0.0</td>\n",
       "      <td>...</td>\n",
       "      <td>0</td>\n",
       "      <td>7</td>\n",
       "      <td>7</td>\n",
       "      <td>3443013.0</td>\n",
       "      <td>NaN</td>\n",
       "      <td>NaN</td>\n",
       "      <td>0</td>\n",
       "      <td>0</td>\n",
       "      <td>9.0</td>\n",
       "      <td>1159112629</td>\n",
       "    </tr>\n",
       "    <tr>\n",
       "      <th>1</th>\n",
       "      <td>10</td>\n",
       "      <td>1</td>\n",
       "      <td>8</td>\n",
       "      <td>Admin-1 capital</td>\n",
       "      <td>Trinidad</td>\n",
       "      <td>NaN</td>\n",
       "      <td>NaN</td>\n",
       "      <td>0</td>\n",
       "      <td>Trinidad</td>\n",
       "      <td>0.0</td>\n",
       "      <td>...</td>\n",
       "      <td>0</td>\n",
       "      <td>7</td>\n",
       "      <td>7</td>\n",
       "      <td>3439749.0</td>\n",
       "      <td>NaN</td>\n",
       "      <td>NaN</td>\n",
       "      <td>0</td>\n",
       "      <td>0</td>\n",
       "      <td>9.0</td>\n",
       "      <td>1159112647</td>\n",
       "    </tr>\n",
       "    <tr>\n",
       "      <th>2</th>\n",
       "      <td>10</td>\n",
       "      <td>1</td>\n",
       "      <td>8</td>\n",
       "      <td>Admin-1 capital</td>\n",
       "      <td>Fray Bentos</td>\n",
       "      <td>NaN</td>\n",
       "      <td>NaN</td>\n",
       "      <td>0</td>\n",
       "      <td>Fray Bentos</td>\n",
       "      <td>0.0</td>\n",
       "      <td>...</td>\n",
       "      <td>0</td>\n",
       "      <td>7</td>\n",
       "      <td>7</td>\n",
       "      <td>3442568.0</td>\n",
       "      <td>NaN</td>\n",
       "      <td>NaN</td>\n",
       "      <td>0</td>\n",
       "      <td>0</td>\n",
       "      <td>9.0</td>\n",
       "      <td>1159112663</td>\n",
       "    </tr>\n",
       "    <tr>\n",
       "      <th>3</th>\n",
       "      <td>10</td>\n",
       "      <td>1</td>\n",
       "      <td>8</td>\n",
       "      <td>Admin-1 capital</td>\n",
       "      <td>Canelones</td>\n",
       "      <td>NaN</td>\n",
       "      <td>NaN</td>\n",
       "      <td>0</td>\n",
       "      <td>Canelones</td>\n",
       "      <td>0.0</td>\n",
       "      <td>...</td>\n",
       "      <td>0</td>\n",
       "      <td>6</td>\n",
       "      <td>6</td>\n",
       "      <td>3443413.0</td>\n",
       "      <td>NaN</td>\n",
       "      <td>NaN</td>\n",
       "      <td>0</td>\n",
       "      <td>0</td>\n",
       "      <td>9.0</td>\n",
       "      <td>1159112679</td>\n",
       "    </tr>\n",
       "    <tr>\n",
       "      <th>4</th>\n",
       "      <td>10</td>\n",
       "      <td>1</td>\n",
       "      <td>8</td>\n",
       "      <td>Admin-1 capital</td>\n",
       "      <td>Florida</td>\n",
       "      <td>NaN</td>\n",
       "      <td>NaN</td>\n",
       "      <td>0</td>\n",
       "      <td>Florida</td>\n",
       "      <td>0.0</td>\n",
       "      <td>...</td>\n",
       "      <td>0</td>\n",
       "      <td>7</td>\n",
       "      <td>7</td>\n",
       "      <td>3442585.0</td>\n",
       "      <td>NaN</td>\n",
       "      <td>NaN</td>\n",
       "      <td>0</td>\n",
       "      <td>0</td>\n",
       "      <td>7.0</td>\n",
       "      <td>1159112703</td>\n",
       "    </tr>\n",
       "  </tbody>\n",
       "</table>\n",
       "<p>5 rows × 38 columns</p>\n",
       "</div>"
      ],
      "text/plain": [
       "   scalerank  natscale  labelrank       featurecla                    name  \\\n",
       "0         10         1          8  Admin-1 capital  Colonia del Sacramento   \n",
       "1         10         1          8  Admin-1 capital                Trinidad   \n",
       "2         10         1          8  Admin-1 capital             Fray Bentos   \n",
       "3         10         1          8  Admin-1 capital               Canelones   \n",
       "4         10         1          8  Admin-1 capital                 Florida   \n",
       "\n",
       "  namepar namealt  diffascii               nameascii  adm0cap  ...  pop_other  \\\n",
       "0     NaN     NaN          0  Colonia del Sacramento      0.0  ...          0   \n",
       "1     NaN     NaN          0                Trinidad      0.0  ...          0   \n",
       "2     NaN     NaN          0             Fray Bentos      0.0  ...          0   \n",
       "3     NaN     NaN          0               Canelones      0.0  ...          0   \n",
       "4     NaN     NaN          0                 Florida      0.0  ...          0   \n",
       "\n",
       "  rank_max  rank_min  geonameid meganame ls_name ls_match checkme min_zoom  \\\n",
       "0        7         7  3443013.0      NaN     NaN        0       0      9.0   \n",
       "1        7         7  3439749.0      NaN     NaN        0       0      9.0   \n",
       "2        7         7  3442568.0      NaN     NaN        0       0      9.0   \n",
       "3        6         6  3443413.0      NaN     NaN        0       0      9.0   \n",
       "4        7         7  3442585.0      NaN     NaN        0       0      7.0   \n",
       "\n",
       "        ne_id  \n",
       "0  1159112629  \n",
       "1  1159112647  \n",
       "2  1159112663  \n",
       "3  1159112679  \n",
       "4  1159112703  \n",
       "\n",
       "[5 rows x 38 columns]"
      ]
     },
     "execution_count": 50,
     "metadata": {},
     "output_type": "execute_result"
    }
   ],
   "source": [
    "df.head()"
   ]
  },
  {
   "cell_type": "markdown",
   "metadata": {},
   "source": [
    "There are a lot of columns in this dataset. More than `pandas` shows by default. But I will tell you that there are two columns: `latitude` and `longitude` that you can use to create `Point` objects and convert the data into a GeoDataFrame."
   ]
  },
  {
   "cell_type": "code",
   "execution_count": 51,
   "metadata": {},
   "outputs": [],
   "source": [
    "# we can do the conversion in one step\n",
    "# pass the data frame along with a shapely object created from the coordinates\n",
    "cities = gpd.GeoDataFrame(df,\n",
    "                          geometry = gpd.points_from_xy(df.longitude, df.latitude))"
   ]
  },
  {
   "cell_type": "markdown",
   "metadata": {},
   "source": [
    "The result should be a new table:"
   ]
  },
  {
   "cell_type": "code",
   "execution_count": 52,
   "metadata": {},
   "outputs": [
    {
     "data": {
      "text/html": [
       "<div>\n",
       "<style scoped>\n",
       "    .dataframe tbody tr th:only-of-type {\n",
       "        vertical-align: middle;\n",
       "    }\n",
       "\n",
       "    .dataframe tbody tr th {\n",
       "        vertical-align: top;\n",
       "    }\n",
       "\n",
       "    .dataframe thead th {\n",
       "        text-align: right;\n",
       "    }\n",
       "</style>\n",
       "<table border=\"1\" class=\"dataframe\">\n",
       "  <thead>\n",
       "    <tr style=\"text-align: right;\">\n",
       "      <th></th>\n",
       "      <th>scalerank</th>\n",
       "      <th>natscale</th>\n",
       "      <th>labelrank</th>\n",
       "      <th>featurecla</th>\n",
       "      <th>name</th>\n",
       "      <th>namepar</th>\n",
       "      <th>namealt</th>\n",
       "      <th>diffascii</th>\n",
       "      <th>nameascii</th>\n",
       "      <th>adm0cap</th>\n",
       "      <th>...</th>\n",
       "      <th>rank_max</th>\n",
       "      <th>rank_min</th>\n",
       "      <th>geonameid</th>\n",
       "      <th>meganame</th>\n",
       "      <th>ls_name</th>\n",
       "      <th>ls_match</th>\n",
       "      <th>checkme</th>\n",
       "      <th>min_zoom</th>\n",
       "      <th>ne_id</th>\n",
       "      <th>geometry</th>\n",
       "    </tr>\n",
       "  </thead>\n",
       "  <tbody>\n",
       "    <tr>\n",
       "      <th>0</th>\n",
       "      <td>10</td>\n",
       "      <td>1</td>\n",
       "      <td>8</td>\n",
       "      <td>Admin-1 capital</td>\n",
       "      <td>Colonia del Sacramento</td>\n",
       "      <td>NaN</td>\n",
       "      <td>NaN</td>\n",
       "      <td>0</td>\n",
       "      <td>Colonia del Sacramento</td>\n",
       "      <td>0.0</td>\n",
       "      <td>...</td>\n",
       "      <td>7</td>\n",
       "      <td>7</td>\n",
       "      <td>3443013.0</td>\n",
       "      <td>NaN</td>\n",
       "      <td>NaN</td>\n",
       "      <td>0</td>\n",
       "      <td>0</td>\n",
       "      <td>9.0</td>\n",
       "      <td>1159112629</td>\n",
       "      <td>POINT (-57.84000 -34.48000)</td>\n",
       "    </tr>\n",
       "    <tr>\n",
       "      <th>1</th>\n",
       "      <td>10</td>\n",
       "      <td>1</td>\n",
       "      <td>8</td>\n",
       "      <td>Admin-1 capital</td>\n",
       "      <td>Trinidad</td>\n",
       "      <td>NaN</td>\n",
       "      <td>NaN</td>\n",
       "      <td>0</td>\n",
       "      <td>Trinidad</td>\n",
       "      <td>0.0</td>\n",
       "      <td>...</td>\n",
       "      <td>7</td>\n",
       "      <td>7</td>\n",
       "      <td>3439749.0</td>\n",
       "      <td>NaN</td>\n",
       "      <td>NaN</td>\n",
       "      <td>0</td>\n",
       "      <td>0</td>\n",
       "      <td>9.0</td>\n",
       "      <td>1159112647</td>\n",
       "      <td>POINT (-56.90100 -33.54400)</td>\n",
       "    </tr>\n",
       "    <tr>\n",
       "      <th>2</th>\n",
       "      <td>10</td>\n",
       "      <td>1</td>\n",
       "      <td>8</td>\n",
       "      <td>Admin-1 capital</td>\n",
       "      <td>Fray Bentos</td>\n",
       "      <td>NaN</td>\n",
       "      <td>NaN</td>\n",
       "      <td>0</td>\n",
       "      <td>Fray Bentos</td>\n",
       "      <td>0.0</td>\n",
       "      <td>...</td>\n",
       "      <td>7</td>\n",
       "      <td>7</td>\n",
       "      <td>3442568.0</td>\n",
       "      <td>NaN</td>\n",
       "      <td>NaN</td>\n",
       "      <td>0</td>\n",
       "      <td>0</td>\n",
       "      <td>9.0</td>\n",
       "      <td>1159112663</td>\n",
       "      <td>POINT (-58.30400 -33.13900)</td>\n",
       "    </tr>\n",
       "    <tr>\n",
       "      <th>3</th>\n",
       "      <td>10</td>\n",
       "      <td>1</td>\n",
       "      <td>8</td>\n",
       "      <td>Admin-1 capital</td>\n",
       "      <td>Canelones</td>\n",
       "      <td>NaN</td>\n",
       "      <td>NaN</td>\n",
       "      <td>0</td>\n",
       "      <td>Canelones</td>\n",
       "      <td>0.0</td>\n",
       "      <td>...</td>\n",
       "      <td>6</td>\n",
       "      <td>6</td>\n",
       "      <td>3443413.0</td>\n",
       "      <td>NaN</td>\n",
       "      <td>NaN</td>\n",
       "      <td>0</td>\n",
       "      <td>0</td>\n",
       "      <td>9.0</td>\n",
       "      <td>1159112679</td>\n",
       "      <td>POINT (-56.28400 -34.53800)</td>\n",
       "    </tr>\n",
       "    <tr>\n",
       "      <th>4</th>\n",
       "      <td>10</td>\n",
       "      <td>1</td>\n",
       "      <td>8</td>\n",
       "      <td>Admin-1 capital</td>\n",
       "      <td>Florida</td>\n",
       "      <td>NaN</td>\n",
       "      <td>NaN</td>\n",
       "      <td>0</td>\n",
       "      <td>Florida</td>\n",
       "      <td>0.0</td>\n",
       "      <td>...</td>\n",
       "      <td>7</td>\n",
       "      <td>7</td>\n",
       "      <td>3442585.0</td>\n",
       "      <td>NaN</td>\n",
       "      <td>NaN</td>\n",
       "      <td>0</td>\n",
       "      <td>0</td>\n",
       "      <td>7.0</td>\n",
       "      <td>1159112703</td>\n",
       "      <td>POINT (-56.21500 -34.09900)</td>\n",
       "    </tr>\n",
       "  </tbody>\n",
       "</table>\n",
       "<p>5 rows × 39 columns</p>\n",
       "</div>"
      ],
      "text/plain": [
       "   scalerank  natscale  labelrank       featurecla                    name  \\\n",
       "0         10         1          8  Admin-1 capital  Colonia del Sacramento   \n",
       "1         10         1          8  Admin-1 capital                Trinidad   \n",
       "2         10         1          8  Admin-1 capital             Fray Bentos   \n",
       "3         10         1          8  Admin-1 capital               Canelones   \n",
       "4         10         1          8  Admin-1 capital                 Florida   \n",
       "\n",
       "  namepar namealt  diffascii               nameascii  adm0cap  ...  rank_max  \\\n",
       "0     NaN     NaN          0  Colonia del Sacramento      0.0  ...         7   \n",
       "1     NaN     NaN          0                Trinidad      0.0  ...         7   \n",
       "2     NaN     NaN          0             Fray Bentos      0.0  ...         7   \n",
       "3     NaN     NaN          0               Canelones      0.0  ...         6   \n",
       "4     NaN     NaN          0                 Florida      0.0  ...         7   \n",
       "\n",
       "  rank_min  geonameid  meganame ls_name ls_match checkme min_zoom       ne_id  \\\n",
       "0        7  3443013.0       NaN     NaN        0       0      9.0  1159112629   \n",
       "1        7  3439749.0       NaN     NaN        0       0      9.0  1159112647   \n",
       "2        7  3442568.0       NaN     NaN        0       0      9.0  1159112663   \n",
       "3        6  3443413.0       NaN     NaN        0       0      9.0  1159112679   \n",
       "4        7  3442585.0       NaN     NaN        0       0      7.0  1159112703   \n",
       "\n",
       "                      geometry  \n",
       "0  POINT (-57.84000 -34.48000)  \n",
       "1  POINT (-56.90100 -33.54400)  \n",
       "2  POINT (-58.30400 -33.13900)  \n",
       "3  POINT (-56.28400 -34.53800)  \n",
       "4  POINT (-56.21500 -34.09900)  \n",
       "\n",
       "[5 rows x 39 columns]"
      ]
     },
     "execution_count": 52,
     "metadata": {},
     "output_type": "execute_result"
    }
   ],
   "source": [
    "cities.head()"
   ]
  },
  {
   "cell_type": "markdown",
   "metadata": {},
   "source": [
    "Notice that the number of columns has changed from the original DataFrame. There is one more column called `geometry` which we created."
   ]
  },
  {
   "cell_type": "code",
   "execution_count": 53,
   "metadata": {},
   "outputs": [
    {
     "data": {
      "text/plain": [
       "(7343, 39)"
      ]
     },
     "execution_count": 53,
     "metadata": {},
     "output_type": "execute_result"
    }
   ],
   "source": [
    "cities.shape"
   ]
  },
  {
   "cell_type": "markdown",
   "metadata": {},
   "source": [
    "The `geopandas.points_from_xy` is a convenient function to create a list of `shapely` Points. In fact, it is a wrapper for `[Point(x, y) for x, y in zip(df.longitude, df.latitude)]`.\n",
    "\n",
    "Pause for a moment. It's easy to get confused by what we mean by 'X' or 'Y' vs. 'Latitude' and 'Longitude'. Remember that lines of *Latitude* measure distance north and south of the equator... so they are 'Y' values. Line of *Longitude* measure distances east and west along the meridians... so they are 'X' values. Yes, technically they're degrees and angles, but we commonly refer to them as X and Y."
   ]
  },
  {
   "cell_type": "code",
   "execution_count": 54,
   "metadata": {},
   "outputs": [
    {
     "data": {
      "text/plain": [
       "[<shapely.geometry.point.Point at 0x25217252be0>,\n",
       " <shapely.geometry.point.Point at 0x25217252790>,\n",
       " <shapely.geometry.point.Point at 0x25216e85f10>,\n",
       " <shapely.geometry.point.Point at 0x25217252880>,\n",
       " <shapely.geometry.point.Point at 0x25216362340>,\n",
       " <shapely.geometry.point.Point at 0x25217252af0>,\n",
       " <shapely.geometry.point.Point at 0x25216e85eb0>,\n",
       " <shapely.geometry.point.Point at 0x25217252ca0>,\n",
       " <shapely.geometry.point.Point at 0x25217252c10>]"
      ]
     },
     "execution_count": 54,
     "metadata": {},
     "output_type": "execute_result"
    }
   ],
   "source": [
    "# another way to create a list of `shapely` points\n",
    "[Point(x, y) for x, y in zip(df.longitude, df.latitude)][0:9]"
   ]
  },
  {
   "cell_type": "markdown",
   "metadata": {},
   "source": [
    "## Saving or exporting data\n",
    "\n",
    "Once we've finished creating or manipulating a GeoDataFrame in our notebooks, we may want to save that as a new output file. Below we will look at some common output formats. These are useful for sharing data with other researchers who may be using a GIS software or maybe something like `R`.\n",
    "\n",
    "Note: you may need to adjust the file paths depending on how you are running this notebook."
   ]
  },
  {
   "cell_type": "code",
   "execution_count": 55,
   "metadata": {},
   "outputs": [],
   "source": [
    "# # save the cities as a shapefile\n",
    "# cities.to_file(\"./world_cities.shp\")"
   ]
  },
  {
   "cell_type": "code",
   "execution_count": 56,
   "metadata": {},
   "outputs": [],
   "source": [
    "# # save the cities as a GeoPackage\n",
    "# # a GPKG has a \"dataset\" and a \"layer\" name\n",
    "# cities.to_file(\"./world_cities.gpkg\", # path to file\n",
    "#                 layer='cities', \n",
    "#                 driver=\"GPKG\")"
   ]
  },
  {
   "cell_type": "markdown",
   "metadata": {},
   "source": [
    "To write to other formats, check the installed drivers for `fiona`:"
   ]
  },
  {
   "cell_type": "code",
   "execution_count": 57,
   "metadata": {
    "scrolled": true
   },
   "outputs": [
    {
     "data": {
      "text/plain": [
       "{'DXF': 'rw',\n",
       " 'CSV': 'raw',\n",
       " 'OpenFileGDB': 'r',\n",
       " 'ESRIJSON': 'r',\n",
       " 'ESRI Shapefile': 'raw',\n",
       " 'FlatGeobuf': 'rw',\n",
       " 'GeoJSON': 'raw',\n",
       " 'GeoJSONSeq': 'rw',\n",
       " 'GPKG': 'raw',\n",
       " 'GML': 'rw',\n",
       " 'OGR_GMT': 'rw',\n",
       " 'GPX': 'rw',\n",
       " 'Idrisi': 'r',\n",
       " 'MapInfo File': 'raw',\n",
       " 'DGN': 'raw',\n",
       " 'PCIDSK': 'raw',\n",
       " 'OGR_PDS': 'r',\n",
       " 'S57': 'r',\n",
       " 'SQLite': 'raw',\n",
       " 'TopoJSON': 'r'}"
      ]
     },
     "execution_count": 57,
     "metadata": {},
     "output_type": "execute_result"
    }
   ],
   "source": [
    "import fiona; fiona.supported_drivers"
   ]
  },
  {
   "cell_type": "markdown",
   "metadata": {},
   "source": [
    "Finished!"
   ]
  }
 ],
 "metadata": {
  "kernelspec": {
   "display_name": "Python 3",
   "language": "python",
   "name": "python3"
  },
  "language_info": {
   "codemirror_mode": {
    "name": "ipython",
    "version": 3
   },
   "file_extension": ".py",
   "mimetype": "text/x-python",
   "name": "python",
   "nbconvert_exporter": "python",
   "pygments_lexer": "ipython3",
   "version": "3.8.8"
  }
 },
 "nbformat": 4,
 "nbformat_minor": 4
}
