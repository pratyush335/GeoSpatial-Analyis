{
 "cells": [
  {
   "cell_type": "markdown",
   "metadata": {},
   "source": [
    "# 4: Point Data Analysis\n",
    "\n",
    "In the last practical we took some time diving into coordinate reference systems and transforming latitude and longitude coordinates into projected spatial reference systems. We also saw how the choice of CRS matters for the appearance of the map and possible size and shape distortions that are introduced.\n",
    "\n",
    "In this practical, we will return to projected coordinate systems again, but this time we will be exploring distance measurements. Along the way, we'll also see a few more tricks for accessing geometry coordinates, iterating over rows, and a few more projections\n",
    "\n",
    "Objectives:\n",
    "* understand the difference between great-circle, geodesic, and Euclidean distance measurements\n",
    "* implement a point-to-point distance calculation\n",
    "* identify nearest neighbours in spatial datasets\n"
   ]
  },
  {
   "cell_type": "markdown",
   "metadata": {},
   "source": [
    "## Distance calculations in GeoPandas\n",
    "\n",
    "As with many other things geometry-related, GeoPandas uses `shapely` to manage most distance calculations. One consequence of this is that `shapely` geometries assume a cartesian coordinate system, so we need to (again) be careful when we're working with a geographic coordinate system (i.e. latitude and longitude). We'll see how distance calculations work first with just simple geometries and then we'll return to GeoDataFrames and consider some options for measuring distances on the earth. "
   ]
  },
  {
   "cell_type": "code",
   "execution_count": null,
   "metadata": {},
   "outputs": [],
   "source": [
    "! pip install shapely geopandas"
   ]
  },
  {
   "cell_type": "code",
   "execution_count": null,
   "metadata": {},
   "outputs": [],
   "source": [
    "# load packages\n",
    "import math\n",
    "from shapely.geometry import Point, Polygon"
   ]
  },
  {
   "cell_type": "code",
   "execution_count": null,
   "metadata": {},
   "outputs": [],
   "source": [
    "# create some geometries\n",
    "pt1 = Point(1,1)\n",
    "pt2 = Point(6,3)"
   ]
  },
  {
   "cell_type": "code",
   "execution_count": null,
   "metadata": {},
   "outputs": [],
   "source": [
    "# calculate the distance between the points\n",
    "pt1.distance(pt2)"
   ]
  },
  {
   "cell_type": "code",
   "execution_count": null,
   "metadata": {},
   "outputs": [],
   "source": [
    "# which is what we expect...\n",
    "# notice how we can get the coordinates with `.x` and `.y`\n",
    "math.sqrt((pt2.y - pt1.y)**2 + (pt2.x - pt1.x)**2)"
   ]
  },
  {
   "cell_type": "code",
   "execution_count": null,
   "metadata": {},
   "outputs": [],
   "source": [
    "# distance also works with other geometries\n",
    "# remember how we created a shape with a list of vertices\n",
    "poly1 = Polygon([(3, 0), (5, 1), (5, 4), (3.5, 4)])"
   ]
  },
  {
   "cell_type": "code",
   "execution_count": null,
   "metadata": {},
   "outputs": [],
   "source": [
    "# distance calculation (point to polygon)\n",
    "pt1.distance(poly1)"
   ]
  },
  {
   "cell_type": "markdown",
   "metadata": {},
   "source": [
    "The distance calculation finds the minimum separating distance between the geometries, but where (on the polygon) is that closest point? It's not necessarily at a vertex. `shapely` can also find that location for us."
   ]
  },
  {
   "cell_type": "code",
   "execution_count": null,
   "metadata": {},
   "outputs": [],
   "source": [
    "from shapely.ops import nearest_points"
   ]
  },
  {
   "cell_type": "code",
   "execution_count": null,
   "metadata": {
    "scrolled": true
   },
   "outputs": [],
   "source": [
    "# find the nearest point. Not necessarily a vertex\n",
    "near_p = nearest_points(pt1, poly1)\n",
    "\n",
    "# we get a pair of points back (on the first and the second geometry)\n",
    "# notice how `.wkt` will print out the coordinates\n",
    "[o.wkt for o in near_p]"
   ]
  },
  {
   "cell_type": "code",
   "execution_count": null,
   "metadata": {},
   "outputs": [],
   "source": [
    "# confirm what we know about the distances\n",
    "# instead of measuring point to polygon, we measure point to near-point\n",
    "pt1.distance(near_p[1])\n",
    "\n",
    "# this should be the same answer we got above with `.distance`"
   ]
  },
  {
   "cell_type": "markdown",
   "metadata": {},
   "source": [
    "In the example above, we're measure from a point to a polygon. This works between two polygons, lines, and any combination. Notice that the second point (the near point on the square) is not a vertex."
   ]
  },
  {
   "cell_type": "markdown",
   "metadata": {},
   "source": [
    "There are many useful geometry methods built into `shapely`. This includes spatial relationships, calculating things like Voronois, and other features. Check the documentation here: [https://shapely.readthedocs.io/en/latest/manual.html](https://shapely.readthedocs.io/en/latest/manual.html)"
   ]
  },
  {
   "cell_type": "markdown",
   "metadata": {},
   "source": [
    "### Returning now to GeoPandas"
   ]
  },
  {
   "cell_type": "code",
   "execution_count": null,
   "metadata": {},
   "outputs": [],
   "source": [
    "# load packages\n",
    "import geopandas as gpd"
   ]
  },
  {
   "cell_type": "markdown",
   "metadata": {},
   "source": [
    "#### Global cities\n",
    "\n",
    "For this practical we'll now start working with some point locations of global cities. The long distances will help to show the potential scale of distortion between different distance measurements. Load the data from within GeoPandas and have a look at it."
   ]
  },
  {
   "cell_type": "code",
   "execution_count": null,
   "metadata": {},
   "outputs": [],
   "source": [
    "# load the data\n",
    "cities = gpd.read_file(gpd.datasets.get_path('naturalearth_cities'))\n",
    "\n",
    "cities.crs # note the projection"
   ]
  },
  {
   "cell_type": "code",
   "execution_count": null,
   "metadata": {},
   "outputs": [],
   "source": [
    "cities.head()"
   ]
  },
  {
   "cell_type": "code",
   "execution_count": null,
   "metadata": {
    "scrolled": true
   },
   "outputs": [],
   "source": [
    "cities.plot()"
   ]
  },
  {
   "cell_type": "markdown",
   "metadata": {},
   "source": [
    "## Implementing distance measures on the earth\n",
    "\n",
    "Let's jump in to see how some different approach work."
   ]
  },
  {
   "cell_type": "code",
   "execution_count": null,
   "metadata": {},
   "outputs": [],
   "source": [
    "# first extract two cities that we'll use for the calculations\n",
    "# I'm choosing two fairly distance cities to exaggerate the differences\n",
    "# note adding `.reset_index` to avoid issue later when working with the Series\n",
    "london = cities.loc[cities['name'] == 'London'].reset_index()\n",
    "singapore = cities.loc[cities['name'] == 'Singapore'].reset_index()"
   ]
  },
  {
   "cell_type": "code",
   "execution_count": null,
   "metadata": {},
   "outputs": [],
   "source": [
    "london"
   ]
  },
  {
   "cell_type": "code",
   "execution_count": null,
   "metadata": {},
   "outputs": [],
   "source": [
    "singapore"
   ]
  },
  {
   "cell_type": "markdown",
   "metadata": {},
   "source": [
    "### Euclidean distance\n",
    "\n",
    "The simplest formula for straight-line distance calculations in two dimension is with Euclidean distance: $d(p,q) = \\sqrt{(q_{1} - p_{1})^2 + (q_{2} - p_{2})^2}$. \n",
    "\n",
    "That's what we used before, and that's what `shapely` assumes, but we know this approach violates our assumptions of an ellipsoidal earth. Our best best is to find an appropriate projection for our area of interest, reproject our data, and then measure the distances.\n",
    "\n",
    "However, if we want to measure distances on a globe, we're better off using a geodesic or great-circle measurement."
   ]
  },
  {
   "cell_type": "code",
   "execution_count": null,
   "metadata": {
    "scrolled": false
   },
   "outputs": [],
   "source": [
    "# not the correct way to measure an accurate distance\n",
    "# we're still using a geographic coordinate system (WGS84)\n",
    "london.distance(singapore)"
   ]
  },
  {
   "cell_type": "markdown",
   "metadata": {},
   "source": [
    "### Great-circle distance\n",
    "\n",
    "The great-circle distance is between two points as measured along a spherical surface. These curved lines connecting to points are referred to as *geodesics* and are part of a circle, or *great-circle* on the sphere.\n",
    "\n",
    "If we were to use Euclidean distance on a sphere we wouldn't travel over the surface, but cut right through. In reality, when measuring short distances, violating that assumption won't introduce huge errors. There are other sources of error, too, like differences in elevation. If we were surveyors trying to plan a bridge, we would really want to be careful about these things.\n",
    "\n",
    "But all great-circle distances require an assumption of a spherical earth. That's a simplification, and we'll use a constant value for the radius of that earth sphere (another simplifying assumption)."
   ]
  },
  {
   "cell_type": "markdown",
   "metadata": {},
   "source": [
    "#### Haversine Formula\n",
    "\n",
    "One of the most common ways to implement a great-circle distance calculation is using the **haversine** formula. Given two point locations in latitude ($\\phi$) and longitude ($\\lambda$) expressed in radians, the difference can be expressed as the central angle between the two ($\\Delta\\sigma$).\n",
    "\n",
    "From there, the distance, $d$, of an arc along a sphere with radius $R$, becomes $d = R\\Delta\\sigma$. Calculating the central angle has typically used a haversine function ($hav(\\theta) = \\sin^2(\\frac{\\theta}{2})$), which is where the name for this approach comes from.\n",
    "\n",
    "You can read more about the maths here: [https://en.wikipedia.org/wiki/Haversine_formula](https://en.wikipedia.org/wiki/Haversine_formula)\n",
    "\n",
    "Simplified, we will work with: \n",
    "\n",
    "$a = hav(\\Delta\\phi) + \\cos(\\phi_1) * \\cos(\\phi_2) * hav(\\Delta\\lambda)$\n",
    "\n",
    "and\n",
    "\n",
    "$d = 2 * R * \\arctan({\\sqrt{a}, \\sqrt{1-a}})$\n"
   ]
  },
  {
   "cell_type": "code",
   "execution_count": null,
   "metadata": {},
   "outputs": [],
   "source": [
    "# implement a haversine function\n",
    "# use tuples of point coordinates in lon, lat\n",
    "def d_haversine(p1, p2):\n",
    "    # define a constant for the earth's radius\n",
    "    R = 6371  # kilometers, approximately\n",
    "    \n",
    "    lon1, lat1 = p1\n",
    "    lon2, lat2 = p2\n",
    "    \n",
    "    # note: convert to radians\n",
    "    phi1, phi2 = math.radians(lat1), math.radians(lat2)\n",
    "    delta_phi = math.radians(lat2 - lat1)\n",
    "    delta_lam = math.radians(lon2 - lon1)\n",
    "    \n",
    "    a = math.sin(delta_phi / 2)**2 + \\\n",
    "    math.cos(phi1) * math.cos(phi2) * \\\n",
    "    math.sin(delta_lam/2)**2\n",
    "    \n",
    "    # distance in km (because of R)\n",
    "    d = 2 * R * math.atan2(math.sqrt(a), math.sqrt(1-a))\n",
    "    \n",
    "    return d"
   ]
  },
  {
   "cell_type": "code",
   "execution_count": null,
   "metadata": {},
   "outputs": [],
   "source": [
    "# use the haversine distance function\n",
    "\n",
    "# create two pairs of coordinates\n",
    "# notice how we can access the geometry coordinates directly\n",
    "# we use `.values` to convert from pd.Series to an array of values\n",
    "\n",
    "pt1 = (london.geometry.x.values, london.geometry.y.values)\n",
    "pt2 = (singapore.geometry.x.values, singapore.geometry.y.values)\n",
    "\n",
    "# pass to the function\n",
    "d_haversine(pt1, pt2)\n",
    "# distance in kilometers"
   ]
  },
  {
   "cell_type": "markdown",
   "metadata": {},
   "source": [
    "#### Using `geopy` for calcluations\n",
    "\n",
    "There is another package within Python that can help us with these geodesic distance calculations: `geopy`. This package also implements a more sophisticated distance calculation that moves aways from the spherical assumption of the earth and allows for the \"flattening\".\n",
    "\n",
    "The documentation is here: [https://geopy.readthedocs.io/en/latest/#module-geopy.distance](https://geopy.readthedocs.io/en/latest/#module-geopy.distance)\n",
    "\n",
    "If you want to learn more about how to calculate a more accurate distance on the globe and not assume a sphere, Nathan Rooy has a nice example of Vincenty's formula here: [https://nathanrooy.github.io/posts/2016-12-18/vincenty-formula-with-python/](https://nathanrooy.github.io/posts/2016-12-18/vincenty-formula-with-python/).\n",
    "\n",
    "We will now test `geopy`'s distance functions on our cities."
   ]
  },
  {
   "cell_type": "code",
   "execution_count": null,
   "metadata": {},
   "outputs": [],
   "source": [
    "# import\n",
    "import geopy.distance"
   ]
  },
  {
   "cell_type": "code",
   "execution_count": null,
   "metadata": {},
   "outputs": [],
   "source": [
    "# Great-circle distance\n",
    "# points in lat, lon order\n",
    "pt1 = (london.geometry.y.values, london.geometry.x.values)\n",
    "pt2 = (singapore.geometry.y.values, singapore.geometry.x.values)\n",
    "\n",
    "geopy.distance.great_circle(pt1, pt2)"
   ]
  },
  {
   "cell_type": "code",
   "execution_count": null,
   "metadata": {},
   "outputs": [],
   "source": [
    "# Geodesic distance\n",
    "geopy.distance.geodesic(pt1, pt2)"
   ]
  },
  {
   "cell_type": "markdown",
   "metadata": {},
   "source": [
    "## Using an Azimuthal projection\n",
    "\n",
    "If we want to use a Euclidean distance formula, then our data need to be in planar coordinates, such as using a projected coordinate system (as we saw in the previous practical).\n",
    "\n",
    "One family of projections that we didn't explore much are *azimuthal equidistant* projections. As the name implies, these projections provide accurate distance measurements, but they have a unique feature. They are centred on a specific point location. The distances from that central point are the most accurate. The user can \"move\" and redefine that point to any location by reprojecting the data thereby ensuring an accurate distance observation. Measuring between two, non-central locations, however, could still introduce some errors.\n",
    "\n",
    "Azimuthal projections are particularly popular for data in polar regions."
   ]
  },
  {
   "cell_type": "markdown",
   "metadata": {},
   "source": [
    "### Example of an azimuthal projection\n",
    "\n",
    "Based on: \n",
    "\n",
    "In order to project our data, we first have to write out a custom projection string. This is sometimes referred to as a `proj` string and it is a slightly different from from what we have used before.\n",
    "\n",
    "This will define a custom version of a world azimuthal projection. The key input is the `lat_0` and `lon_0` parameters which specify the central location. We'll set these to be (approximately) London for this example."
   ]
  },
  {
   "cell_type": "code",
   "execution_count": null,
   "metadata": {},
   "outputs": [],
   "source": [
    "# define the projection string\n",
    "# notice that here we are using KM as units. We have that flexibility when we define a projection. \n",
    "# This could be m, too, if we wanted\n",
    "azprj_txt = '+proj=aeqd \\\n",
    "             +lat_0=51.50194 \\\n",
    "             +lon_0=-0.11867 \\\n",
    "             +x_0=0 +y_0=0 \\\n",
    "             +ellps=WGS84 \\\n",
    "             +datum=WGS84 \\\n",
    "             +units=km \\\n",
    "             +no_defs'"
   ]
  },
  {
   "cell_type": "code",
   "execution_count": null,
   "metadata": {
    "scrolled": true
   },
   "outputs": [],
   "source": [
    "# to get a sense of this projection, let's use it on the countries outlines\n",
    "countries = gpd.read_file(gpd.datasets.get_path('naturalearth_lowres'))\n",
    "\n",
    "countries.to_crs(azprj_txt, inplace=True)  # notice we can do this change 'in place'\n",
    "\n",
    "# visualise the results\n",
    "countries.plot()"
   ]
  },
  {
   "cell_type": "markdown",
   "metadata": {},
   "source": [
    "With this projection, the whole world is centred around London."
   ]
  },
  {
   "cell_type": "code",
   "execution_count": null,
   "metadata": {
    "scrolled": true
   },
   "outputs": [],
   "source": [
    "# let's now project our cities\n",
    "lond_prj = london.to_crs(azprj_txt)\n",
    "sing_prj = singapore.to_crs(azprj_txt)"
   ]
  },
  {
   "cell_type": "code",
   "execution_count": null,
   "metadata": {},
   "outputs": [],
   "source": [
    "# calculate the Euclidean distance\n",
    "# default result is in KM because of our custom projection\n",
    "lond_prj.distance(sing_prj)"
   ]
  },
  {
   "cell_type": "markdown",
   "metadata": {},
   "source": [
    "## Calculating multiple distances\n",
    "\n",
    "So far we've looked at simple pairwise distances between two objects (usually points). It's often the case that we need to calculate multiple dsitances. For that we'll need to be able to be more efficient than writing out each pair. \n",
    "\n",
    "This task also gives us an opportunity to see how to efficiently iterate over observations in a GeoDataFrame. We will be using `apply` here, though another option that works with a GeoDataFrame is `iterrows`."
   ]
  },
  {
   "cell_type": "code",
   "execution_count": null,
   "metadata": {},
   "outputs": [],
   "source": [
    "# define a helper function for distance\n",
    "# `geopy.distance.distance defaults to a geodesic distance\n",
    "def dist_pair(from_pt, to_pt):\n",
    "    # create coordinate pair suitable for geopy\n",
    "    from_pt = (from_pt.geometry.y, from_pt.geometry.x)\n",
    "    \n",
    "    d = geopy.distance.geodesic(from_pt, to_pt)\n",
    "    \n",
    "    return d"
   ]
  },
  {
   "cell_type": "code",
   "execution_count": null,
   "metadata": {
    "scrolled": false
   },
   "outputs": [],
   "source": [
    "# `apply` the function to each row of the cities table\n",
    "# remember that pt1 is a tuple of (lat, lon) for London created above\n",
    "# store this distance in a new column\n",
    "cities['lond_dist'] = cities.apply(dist_pair, to_pt=pt1, axis=1)"
   ]
  },
  {
   "cell_type": "code",
   "execution_count": null,
   "metadata": {},
   "outputs": [],
   "source": [
    "cities.head()"
   ]
  },
  {
   "cell_type": "code",
   "execution_count": null,
   "metadata": {},
   "outputs": [],
   "source": [
    "# sanity check... distance IS 0\n",
    "cities.loc[cities['name']=='London']"
   ]
  },
  {
   "cell_type": "markdown",
   "metadata": {},
   "source": [
    "**Note**: our \"helper\" function used methods from `geopy`. We could also write a helper function that implemented a Euclidean distance formula, used `shapely`'s `.distance`, or any of the other approaches we've looked at already."
   ]
  },
  {
   "cell_type": "markdown",
   "metadata": {},
   "source": [
    "## Nearest neighbour analysis\n",
    "\n",
    "A related question to calculating multiple distances, is, \"what is the next nearest city to each city?\" In other words, find the nearest neighbour of a feature given a set of options. We saw how to do this between one point and one polygon earlier using `.nearest_points`. \n",
    "\n",
    "The trick to doing this, however, is that the set of points you want to compare against need to be combined into one geometry set. We need to create a `MultiPoint` geometry, and we can do that using `.geometry.unary_union`. \n",
    "\n",
    "This time we'll also use `iterrows` to see how that can be used."
   ]
  },
  {
   "cell_type": "code",
   "execution_count": null,
   "metadata": {
    "scrolled": true
   },
   "outputs": [],
   "source": [
    "# add a new column to the end\n",
    "cities.insert(3, 'near_city', None)\n",
    "\n",
    "cities.head()"
   ]
  },
  {
   "cell_type": "code",
   "execution_count": null,
   "metadata": {},
   "outputs": [],
   "source": [
    "# loop over cities GeoDataFrame by row\n",
    "for index, row in cities.iterrows():\n",
    "    # extract a city\n",
    "    point = row.geometry\n",
    "    \n",
    "    # combine the remaining cities into one geometry\n",
    "    # note `drop` to not consider the index (i.e. London is always closest to London)\n",
    "    multipoint = cities.drop(index, axis=0).geometry.unary_union\n",
    "    \n",
    "    # check for nearest city\n",
    "    index_geom, nearest_geom = nearest_points(point, multipoint)\n",
    "    \n",
    "    # get the record of closest point\n",
    "    near_city = cities.loc[cities.geometry == nearest_geom]\n",
    "    \n",
    "    # update the name column with the returned values\n",
    "    cities.loc[index, 'near_city'] = near_city['name'].values[0]"
   ]
  },
  {
   "cell_type": "code",
   "execution_count": null,
   "metadata": {},
   "outputs": [],
   "source": [
    "# see the modified GeoDataFrame\n",
    "cities"
   ]
  },
  {
   "cell_type": "code",
   "execution_count": null,
   "metadata": {},
   "outputs": [],
   "source": [
    "# check the results for London\n",
    "cities.loc[cities['name']=='London']"
   ]
  },
  {
   "cell_type": "markdown",
   "metadata": {},
   "source": [
    "This practical has focused on distances that are straight lines or at least direct routes. That's one way to consider distance, but it's not the way. In geography we often use things like **network** distance, measured alone roads or other routes that take into consideration the turns. There's also more to understand to distance than just spacing. It's important to consider the **effort** to move in a certain path. This ideas leads to using types of \"friction surface\" or weighted distances that could consider the terrain (hilly, flat, swampy, etc.) or mode of transport (walking, bicycle, etc.).\n",
    "\n",
    "It's also worth noting that there are other implemented distance metrics. We could be using tools from within `scipy.spatial.distance` to work with the point coordinates. That certainly can give us a few more options, but always remember the issues related to the coordiante reference system if you want to do that."
   ]
  },
  {
   "cell_type": "markdown",
   "metadata": {},
   "source": [
    "Finished!"
   ]
  },
  {
   "cell_type": "code",
   "execution_count": null,
   "metadata": {},
   "outputs": [],
   "source": []
  }
 ],
 "metadata": {
  "kernelspec": {
   "display_name": "Python 3",
   "language": "python",
   "name": "python3"
  },
  "language_info": {
   "codemirror_mode": {
    "name": "ipython",
    "version": 3
   },
   "file_extension": ".py",
   "mimetype": "text/x-python",
   "name": "python",
   "nbconvert_exporter": "python",
   "pygments_lexer": "ipython3",
   "version": "3.6.3"
  }
 },
 "nbformat": 4,
 "nbformat_minor": 4
}
